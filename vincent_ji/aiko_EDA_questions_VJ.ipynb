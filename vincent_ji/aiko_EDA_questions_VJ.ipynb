{
 "cells": [
  {
   "cell_type": "code",
   "execution_count": 1,
   "metadata": {},
   "outputs": [],
   "source": [
    "# Load packages\n",
    "import pandas as pd\n",
    "import numpy as np\n",
    "import re\n",
    "import math\n",
    "from time import strptime  # format data columns\n",
    "import random  # used in subsampling\n",
    "import warnings\n",
    "import seaborn as sns\n",
    "from matplotlib import pyplot as plt\n",
    "from pandas.tseries.offsets import DateOffset\n",
    "\n",
    "warnings.filterwarnings(\"ignore\")  # ignore warnings throughout notebook\n",
    "pd.set_option(\"display.max_columns\", None)  # show all columns"
   ]
  },
  {
   "cell_type": "code",
   "execution_count": 2,
   "metadata": {},
   "outputs": [],
   "source": [
    "# Load Data\n",
    "file_path = \"./data/accepted_subsampled_5percent.csv\" #will be personalized\n",
    "df = pd.read_csv(file_path, sep=\",\")"
   ]
  },
  {
   "cell_type": "markdown",
   "metadata": {},
   "source": [
    "# Question Group: Warmup Questions\n",
    "- The dataset contains $2.2M+$ of approved loans and $20M+$ rejected \n",
    "loan applications"
   ]
  },
  {
   "cell_type": "markdown",
   "metadata": {},
   "source": [
    "### Question 1:\n",
    "\n",
    "Among all the  151 columns of the loan data set, which information is known at the time of loan issuance?"
   ]
  },
  {
   "cell_type": "code",
   "execution_count": null,
   "metadata": {},
   "outputs": [],
   "source": [
    "# We should create two variables containing a list of all varaibles known\n",
    "# and unknown at the time of the loan. Will need to separate for future\n",
    "# analyses or ML"
   ]
  },
  {
   "cell_type": "markdown",
   "metadata": {},
   "source": [
    "### Question 2:\n",
    "\n",
    "Which columns are related to borrowers's credit history and demographic information?"
   ]
  },
  {
   "cell_type": "markdown",
   "metadata": {},
   "source": [
    "### Question 3:\n",
    "\n",
    "Which columns store loan-specific information?"
   ]
  },
  {
   "cell_type": "markdown",
   "metadata": {},
   "source": [
    "### Question 4:\n",
    "\n",
    "How does the issued loans vary year after year?"
   ]
  },
  {
   "cell_type": "markdown",
   "metadata": {},
   "source": [
    "### Question 5:\n",
    "\n",
    "What are the purposes of applying Lending Club loans?"
   ]
  },
  {
   "cell_type": "markdown",
   "metadata": {},
   "source": [
    "### Question 6:\n",
    "\n",
    "Do you observe different loan grade patterns for different loan purposes?"
   ]
  },
  {
   "cell_type": "markdown",
   "metadata": {},
   "source": [
    "### Question 7:\n",
    "\n",
    "Do you observe different loan grade patterns in different years?"
   ]
  },
  {
   "cell_type": "markdown",
   "metadata": {},
   "source": [
    "### Question 8:\n",
    "\n",
    "How about loan counts stratified into years and loan purposes/loan grades?"
   ]
  },
  {
   "cell_type": "markdown",
   "metadata": {},
   "source": [
    "### Question 9:\n",
    "\n",
    "How are the loan amounts/funded amounts distributed?"
   ]
  },
  {
   "cell_type": "markdown",
   "metadata": {},
   "source": [
    "### Question 10:\n",
    "\n",
    "Are there variations across different loan purposes, loan grades, etc?"
   ]
  },
  {
   "cell_type": "markdown",
   "metadata": {},
   "source": [
    "### Question 11:\n",
    "\n",
    "Are loans with higher funded amounts harder to be paid-in-full?"
   ]
  },
  {
   "cell_type": "markdown",
   "metadata": {},
   "source": [
    "# Question Group: Interest Rates\n",
    "- For borrowers, the most important factor is interest rate charged."
   ]
  },
  {
   "cell_type": "markdown",
   "metadata": {},
   "source": [
    "### Question 12:\n",
    "\n",
    "Provide insights on the interest rates dependence on loan grade/subgrade and term (36 or 60 months)."
   ]
  },
  {
   "cell_type": "markdown",
   "metadata": {},
   "source": [
    "### Question 13:\n",
    "\n",
    "If the analysis is refined by separating loans with different start months (the year-month loan issuance date), report your finding."
   ]
  },
  {
   "cell_type": "markdown",
   "metadata": {},
   "source": [
    "### Question 14:\n",
    "\n",
    "Any rational explanation on why the interest rate should be grade/sub-grade dependent?"
   ]
  },
  {
   "cell_type": "markdown",
   "metadata": {},
   "source": [
    "### Question 15:\n",
    "\n",
    "Any rational explanation on the time series variations of interest rates?"
   ]
  },
  {
   "cell_type": "markdown",
   "metadata": {},
   "source": [
    "### Question 16:\n",
    "\n",
    "Any rational explanation why the interest rate rise w.r.t. loan term?"
   ]
  },
  {
   "cell_type": "markdown",
   "metadata": {},
   "source": [
    "# Question Group: Loan Status\n",
    " - For investors, it is crucial to know whether a loan is served to completion (loan_status 'Fully Paid')."
   ]
  },
  {
   "cell_type": "markdown",
   "metadata": {},
   "source": [
    "### Question 17:\n",
    "\n",
    "Please analyze the percentages of non-completed loans in each loan grade/subgrade (i.e. default, charged off) which go beyond delinquency."
   ]
  },
  {
   "cell_type": "markdown",
   "metadata": {},
   "source": [
    "### Question 18:\n",
    "\n",
    "Provide justification the introduction of loan grade/subgrade."
   ]
  },
  {
   "cell_type": "markdown",
   "metadata": {},
   "source": [
    "### Question 19:\n",
    "\n",
    "Provide justification on the rate hike on riskier loan grade/subgrade."
   ]
  },
  {
   "cell_type": "markdown",
   "metadata": {},
   "source": [
    "### Question 20:\n",
    "\n",
    "What happens to percentage rates of loans involving settlement?"
   ]
  },
  {
   "cell_type": "markdown",
   "metadata": {},
   "source": [
    "### Question 21:\n",
    "\n",
    "Make sure that your analysis takes into account of loan-term."
   ]
  },
  {
   "cell_type": "markdown",
   "metadata": {},
   "source": [
    "# Question Group: Amortization Process\n",
    " - For investors, the amortization process returns the partial principal and monthly interest in a single montly installment payment."
   ]
  },
  {
   "cell_type": "markdown",
   "metadata": {},
   "source": [
    "### Question 22:\n",
    "\n",
    "Because the borrower can pre-pay the principal at-will or go belly-up (delinquent or default) at any moment within the loan term, it may shorten the loan duration un-expectedly or cause losses to the investors."
   ]
  },
  {
   "cell_type": "markdown",
   "metadata": {},
   "source": [
    "### Question 23:\n",
    "\n",
    "Thus it is vital for the investors to know the general pattern of loan-prepayment or delinquency (early stage leading to default or eventual charged off)."
   ]
  },
  {
   "cell_type": "markdown",
   "metadata": {},
   "source": [
    "### Question 24:\n",
    "\n",
    "Please compute the actual durations of loans (last_payment_date - issuance_date):\n",
    " - analyze the pattern debtors terminate the loans before loan maturity (either 'fully paid', or stop paying henceforth).\n",
    " - Please include 'term', 'loan-grade/sub-grade' in your analysis."
   ]
  },
  {
   "cell_type": "markdown",
   "metadata": {},
   "source": [
    "### Question 25:\n",
    "\n",
    "Do you see major differences on the patterns with different loan-terms? What is the rational explanation for this difference?\n",
    " - Report the major characteristics of the patterns."
   ]
  },
  {
   "cell_type": "markdown",
   "metadata": {},
   "source": [
    "### Question 26:\n",
    "\n",
    "Do '60 months' (5 years) loans often get terminated at the end of the 5 years loan term? Why not?"
   ]
  },
  {
   "cell_type": "markdown",
   "metadata": {},
   "source": [
    "# Question Group: Profitability\n",
    "\n",
    "- For investors, the profitability of the loans is of their central \n",
    "concern."
   ]
  },
  {
   "cell_type": "markdown",
   "metadata": {},
   "source": [
    "### Question 27:\n",
    "\n",
    "For a given loan, the profit-and-loss (in percentages) can be computed as the (total_payment - principal)/principal."
   ]
  },
  {
   "cell_type": "code",
   "execution_count": 5,
   "metadata": {},
   "outputs": [],
   "source": [
    "# Clean up and add columns\n",
    "\n",
    "df_cleaned = df.copy()\n",
    "df_cleaned['term_year'] = np.where(df_cleaned['term']==' 36 months', 3,5)\n",
    "avg_term = sum(df_cleaned['term_year']*df_cleaned['funded_amnt'])/sum(df_cleaned['funded_amnt'])\n",
    "df_cleaned['loan_status'] = df_cleaned['loan_status'].str.replace('(', '').str.replace(')', '')\n",
    "\n",
    "# Create consolidated loan_status mapping\n",
    "loan_status = df['loan_status'].unique()\n",
    "loan_status_final = ['Fully Paid','Fully Paid','Charged Off','Charged Off','Late', 'Current', 'Late', 'Late']\n",
    "loan_status_map = pd.DataFrame(list(zip(loan_status, loan_status_final)), columns=['loan_status','loan_status_final'])\n",
    "\n",
    "# Merge in final loan_status mapping\n",
    "df_cleaned = pd.merge(df_cleaned, loan_status_map, on = 'loan_status', how='inner')\n",
    "\n",
    "# Re-formate issue and last payment dates to find prepayment flag\n",
    "df_cleaned['issue_date'] = pd.to_datetime(df_cleaned['issue_d'])\n",
    "df_cleaned['last_pymnt_date'] = pd.to_datetime(df_cleaned['last_pymnt_d'])\n",
    "df_cleaned['exp_last_pymnt_d'] = df_cleaned['issue_d'].str[0:3]+'-'+(df_cleaned['issue_d'].str[-4:].astype('int') + df_cleaned['term_year']).astype('str')\n",
    "df_cleaned['exp_last_pymnt_date'] = pd.to_datetime(df_cleaned['exp_last_pymnt_d'])\n",
    "df_cleaned['prepayment_flag'] = np.where((df_cleaned.loan_status_final == 'Fully Paid')&(df_cleaned.last_pymnt_date < df_cleaned.exp_last_pymnt_date), 1, 0)\n",
    "\n"
   ]
  },
  {
   "cell_type": "code",
   "execution_count": 8,
   "metadata": {},
   "outputs": [
    {
     "data": {
      "text/html": [
       "<div>\n",
       "<style scoped>\n",
       "    .dataframe tbody tr th:only-of-type {\n",
       "        vertical-align: middle;\n",
       "    }\n",
       "\n",
       "    .dataframe tbody tr th {\n",
       "        vertical-align: top;\n",
       "    }\n",
       "\n",
       "    .dataframe thead th {\n",
       "        text-align: right;\n",
       "    }\n",
       "</style>\n",
       "<table border=\"1\" class=\"dataframe\">\n",
       "  <thead>\n",
       "    <tr style=\"text-align: right;\">\n",
       "      <th></th>\n",
       "      <th>issue_d</th>\n",
       "      <th>loan_status</th>\n",
       "      <th>last_pymnt_d</th>\n",
       "      <th>last_pymnt_date</th>\n",
       "      <th>exp_last_pymnt_date</th>\n",
       "    </tr>\n",
       "  </thead>\n",
       "  <tbody>\n",
       "    <tr>\n",
       "      <td>51939</td>\n",
       "      <td>Jan-2018</td>\n",
       "      <td>Fully Paid</td>\n",
       "      <td>Dec-2018</td>\n",
       "      <td>2018-12-01</td>\n",
       "      <td>2021-01-01</td>\n",
       "    </tr>\n",
       "    <tr>\n",
       "      <td>27712</td>\n",
       "      <td>Aug-2015</td>\n",
       "      <td>Fully Paid</td>\n",
       "      <td>Dec-2017</td>\n",
       "      <td>2017-12-01</td>\n",
       "      <td>2018-08-01</td>\n",
       "    </tr>\n",
       "    <tr>\n",
       "      <td>5637</td>\n",
       "      <td>May-2013</td>\n",
       "      <td>Fully Paid</td>\n",
       "      <td>Sep-2014</td>\n",
       "      <td>2014-09-01</td>\n",
       "      <td>2016-05-01</td>\n",
       "    </tr>\n",
       "    <tr>\n",
       "      <td>47109</td>\n",
       "      <td>Apr-2017</td>\n",
       "      <td>Fully Paid</td>\n",
       "      <td>Jul-2018</td>\n",
       "      <td>2018-07-01</td>\n",
       "      <td>2020-04-01</td>\n",
       "    </tr>\n",
       "    <tr>\n",
       "      <td>39581</td>\n",
       "      <td>May-2016</td>\n",
       "      <td>Fully Paid</td>\n",
       "      <td>Feb-2019</td>\n",
       "      <td>2019-02-01</td>\n",
       "      <td>2019-05-01</td>\n",
       "    </tr>\n",
       "    <tr>\n",
       "      <td>13682</td>\n",
       "      <td>Jun-2014</td>\n",
       "      <td>Fully Paid</td>\n",
       "      <td>Oct-2015</td>\n",
       "      <td>2015-10-01</td>\n",
       "      <td>2017-06-01</td>\n",
       "    </tr>\n",
       "    <tr>\n",
       "      <td>41003</td>\n",
       "      <td>Jul-2016</td>\n",
       "      <td>Fully Paid</td>\n",
       "      <td>Sep-2017</td>\n",
       "      <td>2017-09-01</td>\n",
       "      <td>2019-07-01</td>\n",
       "    </tr>\n",
       "    <tr>\n",
       "      <td>49190</td>\n",
       "      <td>Jul-2017</td>\n",
       "      <td>Fully Paid</td>\n",
       "      <td>Nov-2018</td>\n",
       "      <td>2018-11-01</td>\n",
       "      <td>2022-07-01</td>\n",
       "    </tr>\n",
       "    <tr>\n",
       "      <td>20241</td>\n",
       "      <td>Jan-2015</td>\n",
       "      <td>Fully Paid</td>\n",
       "      <td>Oct-2016</td>\n",
       "      <td>2016-10-01</td>\n",
       "      <td>2018-01-01</td>\n",
       "    </tr>\n",
       "    <tr>\n",
       "      <td>10973</td>\n",
       "      <td>Feb-2014</td>\n",
       "      <td>Fully Paid</td>\n",
       "      <td>Feb-2015</td>\n",
       "      <td>2015-02-01</td>\n",
       "      <td>2017-02-01</td>\n",
       "    </tr>\n",
       "  </tbody>\n",
       "</table>\n",
       "</div>"
      ],
      "text/plain": [
       "        issue_d loan_status last_pymnt_d last_pymnt_date exp_last_pymnt_date\n",
       "51939  Jan-2018  Fully Paid     Dec-2018      2018-12-01          2021-01-01\n",
       "27712  Aug-2015  Fully Paid     Dec-2017      2017-12-01          2018-08-01\n",
       "5637   May-2013  Fully Paid     Sep-2014      2014-09-01          2016-05-01\n",
       "47109  Apr-2017  Fully Paid     Jul-2018      2018-07-01          2020-04-01\n",
       "39581  May-2016  Fully Paid     Feb-2019      2019-02-01          2019-05-01\n",
       "13682  Jun-2014  Fully Paid     Oct-2015      2015-10-01          2017-06-01\n",
       "41003  Jul-2016  Fully Paid     Sep-2017      2017-09-01          2019-07-01\n",
       "49190  Jul-2017  Fully Paid     Nov-2018      2018-11-01          2022-07-01\n",
       "20241  Jan-2015  Fully Paid     Oct-2016      2016-10-01          2018-01-01\n",
       "10973  Feb-2014  Fully Paid     Feb-2015      2015-02-01          2017-02-01"
      ]
     },
     "execution_count": 8,
     "metadata": {},
     "output_type": "execute_result"
    }
   ],
   "source": [
    "# Sanity Check\n",
    "df_cleaned.loc[df_cleaned.prepayment_flag == 1][['issue_d','loan_status','last_pymnt_d','last_pymnt_date','exp_last_pymnt_date']].sample(10)"
   ]
  },
  {
   "cell_type": "markdown",
   "metadata": {},
   "source": [
    "### Question 28:\n",
    "\n",
    "For those loans which are eventually 'Fully Paid', what are the average returns (or the distributions of returns) of different loan grades/terms?"
   ]
  },
  {
   "cell_type": "code",
   "execution_count": 9,
   "metadata": {},
   "outputs": [],
   "source": [
    "# Function to calculate annual return\n",
    "def return_cal(df, total_payment=\"total_pymnt\", funded_payment=\"funded_amnt\", term_in_year=\"term_year\"):\n",
    "    if term_in_year == \"avg_term\":\n",
    "        return 100*((df[total_payment]/df[funded_payment])**(1/df[term_in_year])-1)\n",
    "    else:\n",
    "        return 100*((df[total_payment]/df[funded_payment])**(1/avg_term)-1)"
   ]
  },
  {
   "cell_type": "code",
   "execution_count": 10,
   "metadata": {},
   "outputs": [
    {
     "data": {
      "text/html": [
       "<div>\n",
       "<style scoped>\n",
       "    .dataframe tbody tr th:only-of-type {\n",
       "        vertical-align: middle;\n",
       "    }\n",
       "\n",
       "    .dataframe tbody tr th {\n",
       "        vertical-align: top;\n",
       "    }\n",
       "\n",
       "    .dataframe thead th {\n",
       "        text-align: right;\n",
       "    }\n",
       "</style>\n",
       "<table border=\"1\" class=\"dataframe\">\n",
       "  <thead>\n",
       "    <tr style=\"text-align: right;\">\n",
       "      <th></th>\n",
       "      <th>grade</th>\n",
       "      <th>return_perc</th>\n",
       "    </tr>\n",
       "  </thead>\n",
       "  <tbody>\n",
       "    <tr>\n",
       "      <td>0</td>\n",
       "      <td>A</td>\n",
       "      <td>2.155852</td>\n",
       "    </tr>\n",
       "    <tr>\n",
       "      <td>1</td>\n",
       "      <td>B</td>\n",
       "      <td>3.261751</td>\n",
       "    </tr>\n",
       "    <tr>\n",
       "      <td>2</td>\n",
       "      <td>C</td>\n",
       "      <td>4.246818</td>\n",
       "    </tr>\n",
       "    <tr>\n",
       "      <td>3</td>\n",
       "      <td>D</td>\n",
       "      <td>5.287047</td>\n",
       "    </tr>\n",
       "    <tr>\n",
       "      <td>4</td>\n",
       "      <td>E</td>\n",
       "      <td>6.357632</td>\n",
       "    </tr>\n",
       "    <tr>\n",
       "      <td>5</td>\n",
       "      <td>F</td>\n",
       "      <td>7.354346</td>\n",
       "    </tr>\n",
       "    <tr>\n",
       "      <td>6</td>\n",
       "      <td>G</td>\n",
       "      <td>7.119898</td>\n",
       "    </tr>\n",
       "  </tbody>\n",
       "</table>\n",
       "</div>"
      ],
      "text/plain": [
       "  grade  return_perc\n",
       "0     A     2.155852\n",
       "1     B     3.261751\n",
       "2     C     4.246818\n",
       "3     D     5.287047\n",
       "4     E     6.357632\n",
       "5     F     7.354346\n",
       "6     G     7.119898"
      ]
     },
     "execution_count": 10,
     "metadata": {},
     "output_type": "execute_result"
    },
    {
     "data": {
      "image/png": "[encoded data removed]",
      "text/plain": [
       "<Figure size 432x288 with 1 Axes>"
      ]
     },
     "metadata": {
      "needs_background": "light"
     },
     "output_type": "display_data"
    }
   ],
   "source": [
    "# This is a simple average of all loans not asset weighted. \n",
    "df_fully_paid = df_cleaned[df_cleaned['loan_status'].str.contains('Fully Paid')]\n",
    "df_fully_paid['return_perc'] =  return_cal(df_fully_paid)\n",
    "return_grade = df_fully_paid.groupby('grade')[['return_perc']].mean().reset_index()\n",
    "\n",
    "grade_plot = sns.barplot(x=\"grade\", y=\"return_perc\", data=return_grade)\n",
    "grade_plot.set(title = 'Avg Annualized Return by Grade', xlabel = 'Grade', ylabel = 'Return in %' )\n",
    "\n",
    "return_grade"
   ]
  },
  {
   "cell_type": "code",
   "execution_count": 11,
   "metadata": {},
   "outputs": [
    {
     "data": {
      "text/html": [
       "<div>\n",
       "<style scoped>\n",
       "    .dataframe tbody tr th:only-of-type {\n",
       "        vertical-align: middle;\n",
       "    }\n",
       "\n",
       "    .dataframe tbody tr th {\n",
       "        vertical-align: top;\n",
       "    }\n",
       "\n",
       "    .dataframe thead th {\n",
       "        text-align: right;\n",
       "    }\n",
       "</style>\n",
       "<table border=\"1\" class=\"dataframe\">\n",
       "  <thead>\n",
       "    <tr style=\"text-align: right;\">\n",
       "      <th></th>\n",
       "      <th>grade</th>\n",
       "      <th>funded_amnt</th>\n",
       "      <th>total_pymnt</th>\n",
       "      <th>return_perc</th>\n",
       "    </tr>\n",
       "  </thead>\n",
       "  <tbody>\n",
       "    <tr>\n",
       "      <td>0</td>\n",
       "      <td>A</td>\n",
       "      <td>156680975.0</td>\n",
       "      <td>1.701844e+08</td>\n",
       "      <td>2.203863</td>\n",
       "    </tr>\n",
       "    <tr>\n",
       "      <td>1</td>\n",
       "      <td>B</td>\n",
       "      <td>222818950.0</td>\n",
       "      <td>2.526315e+08</td>\n",
       "      <td>3.366617</td>\n",
       "    </tr>\n",
       "    <tr>\n",
       "      <td>2</td>\n",
       "      <td>C</td>\n",
       "      <td>208655800.0</td>\n",
       "      <td>2.459196e+08</td>\n",
       "      <td>4.428123</td>\n",
       "    </tr>\n",
       "    <tr>\n",
       "      <td>3</td>\n",
       "      <td>D</td>\n",
       "      <td>105216975.0</td>\n",
       "      <td>1.290040e+08</td>\n",
       "      <td>5.521501</td>\n",
       "    </tr>\n",
       "    <tr>\n",
       "      <td>4</td>\n",
       "      <td>E</td>\n",
       "      <td>49402350.0</td>\n",
       "      <td>6.327334e+07</td>\n",
       "      <td>6.742991</td>\n",
       "    </tr>\n",
       "    <tr>\n",
       "      <td>5</td>\n",
       "      <td>F</td>\n",
       "      <td>15345400.0</td>\n",
       "      <td>2.022847e+07</td>\n",
       "      <td>7.556967</td>\n",
       "    </tr>\n",
       "    <tr>\n",
       "      <td>6</td>\n",
       "      <td>G</td>\n",
       "      <td>4878975.0</td>\n",
       "      <td>6.387143e+06</td>\n",
       "      <td>7.360790</td>\n",
       "    </tr>\n",
       "  </tbody>\n",
       "</table>\n",
       "</div>"
      ],
      "text/plain": [
       "  grade  funded_amnt   total_pymnt  return_perc\n",
       "0     A  156680975.0  1.701844e+08     2.203863\n",
       "1     B  222818950.0  2.526315e+08     3.366617\n",
       "2     C  208655800.0  2.459196e+08     4.428123\n",
       "3     D  105216975.0  1.290040e+08     5.521501\n",
       "4     E   49402350.0  6.327334e+07     6.742991\n",
       "5     F   15345400.0  2.022847e+07     7.556967\n",
       "6     G    4878975.0  6.387143e+06     7.360790"
      ]
     },
     "execution_count": 11,
     "metadata": {},
     "output_type": "execute_result"
    },
    {
     "data": {
      "image/png": "[encoded data removed]",
      "text/plain": [
       "<Figure size 432x288 with 1 Axes>"
      ]
     },
     "metadata": {
      "needs_background": "light"
     },
     "output_type": "display_data"
    }
   ],
   "source": [
    "# This is asset weighted return\n",
    "return_grade_wt = df_fully_paid.groupby('grade')[['funded_amnt','total_pymnt']].sum().reset_index()\n",
    "return_grade_wt['return_perc'] =  return_cal(return_grade_wt,\"total_pymnt\",'funded_amnt', avg_term)\n",
    "\n",
    "grade_wt_plot = sns.barplot(x=\"grade\", y=\"return_perc\", data=return_grade_wt)\n",
    "grade_wt_plot.set(title = 'Asset Weighted Avg Annualized Return by Grade', xlabel = 'Grade', ylabel = 'Return in %' )\n",
    "\n",
    "return_grade_wt"
   ]
  },
  {
   "cell_type": "markdown",
   "metadata": {},
   "source": [
    "### Question 29:\n",
    "\n",
    "For those loans wich are default or beyond, what are the average returns or return distributions?"
   ]
  },
  {
   "cell_type": "code",
   "execution_count": 12,
   "metadata": {},
   "outputs": [
    {
     "data": {
      "text/plain": [
       "[Text(0, 0.5, 'Return in %'),\n",
       " Text(0.5, 0, 'Grade'),\n",
       " Text(0.5, 1.0, 'Avg Annualized Return by Grade')]"
      ]
     },
     "execution_count": 12,
     "metadata": {},
     "output_type": "execute_result"
    },
    {
     "data": {
      "image/png": "[encoded data removed]",
      "text/plain": [
       "<Figure size 432x288 with 1 Axes>"
      ]
     },
     "metadata": {
      "needs_background": "light"
     },
     "output_type": "display_data"
    }
   ],
   "source": [
    "\n",
    "df_default = df_cleaned[df_cleaned['loan_status_final'].str.contains('Charged Off')]\n",
    "df_default['return_perc'] =  return_cal(df_default)\n",
    "return_grade_default = df_default.groupby('grade')[['return_perc']].mean().reset_index()\n",
    "default_plot = sns.barplot(x=\"grade\", y=\"return_perc\", data=return_grade_default)\n",
    "default_plot.set(title = 'Avg Annualized Return by Grade', xlabel = 'Grade', ylabel = 'Return in %' )"
   ]
  },
  {
   "cell_type": "markdown",
   "metadata": {},
   "source": [
    "### Question 30:\n",
    "\n",
    "What about all the loans which have been terminated ('fully paid', 'default', 'charged off')?"
   ]
  },
  {
   "cell_type": "code",
   "execution_count": 13,
   "metadata": {},
   "outputs": [
    {
     "data": {
      "image/png": "[encoded data removed]",
      "text/plain": [
       "<Figure size 432x288 with 1 Axes>"
      ]
     },
     "metadata": {
      "needs_background": "light"
     },
     "output_type": "display_data"
    },
    {
     "data": {
      "image/png": "[encoded data removed]",
      "text/plain": [
       "<Figure size 432x288 with 1 Axes>"
      ]
     },
     "metadata": {
      "needs_background": "light"
     },
     "output_type": "display_data"
    },
    {
     "data": {
      "image/png": "[encoded data removed]",
      "text/plain": [
       "<Figure size 432x288 with 1 Axes>"
      ]
     },
     "metadata": {
      "needs_background": "light"
     },
     "output_type": "display_data"
    }
   ],
   "source": [
    "# Total return comparison between 3 and 5 year for each loan status\n",
    "for status in df_cleaned['loan_status_final'].unique():\n",
    "    df_status = df_cleaned[df_cleaned['loan_status_final'].str.contains(status)]\n",
    "    df_term_comp = df_status.loc[df_status.loan_status_final!='Current'].groupby(['grade','term_year'])[['funded_amnt','total_pymnt']].sum().reset_index()\n",
    "    df_term_comp['return_perc'] = 100*(df_term_comp['total_pymnt']/df_term_comp['funded_amnt']-1)\n",
    "    #df_term_comp['return_perc'] =  return_cal(df_term_comp)\n",
    "    try:\n",
    "        df_term_comp_graph = pd.pivot_table(df_term_comp, index = 'grade',values = 'return_perc', columns = 'term_year').fillna(0)\n",
    "        df_term_comp_graph.plot(kind=\"bar\")\n",
    "        plt.title('3yr vs. 5yr Return for Loan Status - ' + status)\n",
    "        plt.ylabel('return in %')\n",
    "    except:\n",
    "        continue"
   ]
  },
  {
   "cell_type": "code",
   "execution_count": 17,
   "metadata": {},
   "outputs": [
    {
     "data": {
      "text/html": [
       "<div>\n",
       "<style scoped>\n",
       "    .dataframe tbody tr th:only-of-type {\n",
       "        vertical-align: middle;\n",
       "    }\n",
       "\n",
       "    .dataframe tbody tr th {\n",
       "        vertical-align: top;\n",
       "    }\n",
       "\n",
       "    .dataframe thead th {\n",
       "        text-align: right;\n",
       "    }\n",
       "</style>\n",
       "<table border=\"1\" class=\"dataframe\">\n",
       "  <thead>\n",
       "    <tr style=\"text-align: right;\">\n",
       "      <th></th>\n",
       "      <th>purpose</th>\n",
       "      <th>share_all</th>\n",
       "      <th>share_big_loss</th>\n",
       "    </tr>\n",
       "  </thead>\n",
       "  <tbody>\n",
       "    <tr>\n",
       "      <td>0</td>\n",
       "      <td>debt_consolidation</td>\n",
       "      <td>0.562614</td>\n",
       "      <td>0.609216</td>\n",
       "    </tr>\n",
       "    <tr>\n",
       "      <td>1</td>\n",
       "      <td>credit_card</td>\n",
       "      <td>0.229323</td>\n",
       "      <td>0.185202</td>\n",
       "    </tr>\n",
       "    <tr>\n",
       "      <td>2</td>\n",
       "      <td>home_improvement</td>\n",
       "      <td>0.066394</td>\n",
       "      <td>0.059459</td>\n",
       "    </tr>\n",
       "    <tr>\n",
       "      <td>3</td>\n",
       "      <td>other</td>\n",
       "      <td>0.062538</td>\n",
       "      <td>0.062118</td>\n",
       "    </tr>\n",
       "    <tr>\n",
       "      <td>4</td>\n",
       "      <td>major_purchase</td>\n",
       "      <td>0.022884</td>\n",
       "      <td>0.021090</td>\n",
       "    </tr>\n",
       "    <tr>\n",
       "      <td>5</td>\n",
       "      <td>medical</td>\n",
       "      <td>0.011781</td>\n",
       "      <td>0.013824</td>\n",
       "    </tr>\n",
       "    <tr>\n",
       "      <td>6</td>\n",
       "      <td>small_business</td>\n",
       "      <td>0.011549</td>\n",
       "      <td>0.018520</td>\n",
       "    </tr>\n",
       "    <tr>\n",
       "      <td>7</td>\n",
       "      <td>car</td>\n",
       "      <td>0.010469</td>\n",
       "      <td>0.008330</td>\n",
       "    </tr>\n",
       "    <tr>\n",
       "      <td>8</td>\n",
       "      <td>moving</td>\n",
       "      <td>0.007185</td>\n",
       "      <td>0.008241</td>\n",
       "    </tr>\n",
       "    <tr>\n",
       "      <td>9</td>\n",
       "      <td>vacation</td>\n",
       "      <td>0.006792</td>\n",
       "      <td>0.005671</td>\n",
       "    </tr>\n",
       "    <tr>\n",
       "      <td>10</td>\n",
       "      <td>house</td>\n",
       "      <td>0.006435</td>\n",
       "      <td>0.005848</td>\n",
       "    </tr>\n",
       "    <tr>\n",
       "      <td>11</td>\n",
       "      <td>wedding</td>\n",
       "      <td>0.001205</td>\n",
       "      <td>0.001595</td>\n",
       "    </tr>\n",
       "    <tr>\n",
       "      <td>12</td>\n",
       "      <td>renewable_energy</td>\n",
       "      <td>0.000536</td>\n",
       "      <td>0.000620</td>\n",
       "    </tr>\n",
       "    <tr>\n",
       "      <td>13</td>\n",
       "      <td>educational</td>\n",
       "      <td>0.000295</td>\n",
       "      <td>0.000266</td>\n",
       "    </tr>\n",
       "  </tbody>\n",
       "</table>\n",
       "</div>"
      ],
      "text/plain": [
       "               purpose  share_all  share_big_loss\n",
       "0   debt_consolidation   0.562614        0.609216\n",
       "1          credit_card   0.229323        0.185202\n",
       "2     home_improvement   0.066394        0.059459\n",
       "3                other   0.062538        0.062118\n",
       "4       major_purchase   0.022884        0.021090\n",
       "5              medical   0.011781        0.013824\n",
       "6       small_business   0.011549        0.018520\n",
       "7                  car   0.010469        0.008330\n",
       "8               moving   0.007185        0.008241\n",
       "9             vacation   0.006792        0.005671\n",
       "10               house   0.006435        0.005848\n",
       "11             wedding   0.001205        0.001595\n",
       "12    renewable_energy   0.000536        0.000620\n",
       "13         educational   0.000295        0.000266"
      ]
     },
     "execution_count": 17,
     "metadata": {},
     "output_type": "execute_result"
    }
   ],
   "source": [
    "# Percentage of purpose for all loans vs. big loss loans (>20% loss)\n",
    "\n",
    "df_large_loss = df_cleaned.loc[(df_cleaned.loan_status_final != 'Current') & (df_cleaned.total_pymnt/df_cleaned.funded_amnt < 0.8)]\n",
    "df_large_loss_share = pd.DataFrame(df_large_loss['purpose'].value_counts(normalize=True)).reset_index().rename(columns = {\"index\":\"purpose\",\"purpose\":\"share\"})\n",
    "\n",
    "# Share of loan by purpose\n",
    "all_share = pd.DataFrame(df_cleaned['purpose'].value_counts(normalize=True)).reset_index().rename(columns = {\"index\":\"purpose\",\"purpose\":\"share\"})\n",
    "\n",
    "pd.merge(all_share,df_large_loss_share,on='purpose',how='inner',suffixes=('_all','_big_loss'))"
   ]
  },
  {
   "cell_type": "code",
   "execution_count": 18,
   "metadata": {},
   "outputs": [
    {
     "data": {
      "text/html": [
       "<div>\n",
       "<style scoped>\n",
       "    .dataframe tbody tr th:only-of-type {\n",
       "        vertical-align: middle;\n",
       "    }\n",
       "\n",
       "    .dataframe tbody tr th {\n",
       "        vertical-align: top;\n",
       "    }\n",
       "\n",
       "    .dataframe thead th {\n",
       "        text-align: right;\n",
       "    }\n",
       "</style>\n",
       "<table border=\"1\" class=\"dataframe\">\n",
       "  <thead>\n",
       "    <tr style=\"text-align: right;\">\n",
       "      <th></th>\n",
       "      <th>funded_amnt</th>\n",
       "      <th>total_pymnt</th>\n",
       "      <th>loss_percentage</th>\n",
       "    </tr>\n",
       "    <tr>\n",
       "      <th>grade</th>\n",
       "      <th></th>\n",
       "      <th></th>\n",
       "      <th></th>\n",
       "    </tr>\n",
       "  </thead>\n",
       "  <tbody>\n",
       "    <tr>\n",
       "      <td>A</td>\n",
       "      <td>8030150.0</td>\n",
       "      <td>3.430475e+06</td>\n",
       "      <td>57.280064</td>\n",
       "    </tr>\n",
       "    <tr>\n",
       "      <td>B</td>\n",
       "      <td>29559325.0</td>\n",
       "      <td>1.309083e+07</td>\n",
       "      <td>55.713371</td>\n",
       "    </tr>\n",
       "    <tr>\n",
       "      <td>C</td>\n",
       "      <td>56368925.0</td>\n",
       "      <td>2.431380e+07</td>\n",
       "      <td>56.866658</td>\n",
       "    </tr>\n",
       "    <tr>\n",
       "      <td>D</td>\n",
       "      <td>41120100.0</td>\n",
       "      <td>1.748790e+07</td>\n",
       "      <td>57.471159</td>\n",
       "    </tr>\n",
       "    <tr>\n",
       "      <td>E</td>\n",
       "      <td>27062350.0</td>\n",
       "      <td>1.151861e+07</td>\n",
       "      <td>57.436762</td>\n",
       "    </tr>\n",
       "    <tr>\n",
       "      <td>F</td>\n",
       "      <td>12447425.0</td>\n",
       "      <td>5.277142e+06</td>\n",
       "      <td>57.604545</td>\n",
       "    </tr>\n",
       "    <tr>\n",
       "      <td>G</td>\n",
       "      <td>3895125.0</td>\n",
       "      <td>1.613319e+06</td>\n",
       "      <td>58.581076</td>\n",
       "    </tr>\n",
       "  </tbody>\n",
       "</table>\n",
       "</div>"
      ],
      "text/plain": [
       "       funded_amnt   total_pymnt  loss_percentage\n",
       "grade                                            \n",
       "A        8030150.0  3.430475e+06        57.280064\n",
       "B       29559325.0  1.309083e+07        55.713371\n",
       "C       56368925.0  2.431380e+07        56.866658\n",
       "D       41120100.0  1.748790e+07        57.471159\n",
       "E       27062350.0  1.151861e+07        57.436762\n",
       "F       12447425.0  5.277142e+06        57.604545\n",
       "G        3895125.0  1.613319e+06        58.581076"
      ]
     },
     "execution_count": 18,
     "metadata": {},
     "output_type": "execute_result"
    }
   ],
   "source": [
    "# Among the loans that had >20% loss, the percentage loss is similar across grades. \n",
    "df_large_loss_grade = df_large_loss.groupby(['grade'])['funded_amnt','total_pymnt'].sum()\n",
    "df_large_loss_grade['loss_percentage'] = 100*(1-df_large_loss_grade.total_pymnt/df_large_loss_grade.funded_amnt)\n",
    "df_large_loss_grade"
   ]
  },
  {
   "cell_type": "markdown",
   "metadata": {},
   "source": [
    "### Question 31:\n",
    "\n",
    "What about the loans which end up in loan settlement negotiations?"
   ]
  },
  {
   "cell_type": "markdown",
   "metadata": {},
   "source": [
    "### Question 32:\n",
    "\n",
    "Any variation of patterns for different loan purposes?"
   ]
  },
  {
   "cell_type": "code",
   "execution_count": 19,
   "metadata": {},
   "outputs": [
    {
     "data": {
      "text/plain": [
       "debt_consolidation    63037\n",
       "credit_card           25694\n",
       "home_improvement       7439\n",
       "other                  7007\n",
       "major_purchase         2564\n",
       "medical                1320\n",
       "small_business         1294\n",
       "car                    1173\n",
       "moving                  805\n",
       "vacation                761\n",
       "house                   721\n",
       "wedding                 135\n",
       "renewable_energy         60\n",
       "educational              33\n",
       "Name: purpose, dtype: int64"
      ]
     },
     "execution_count": 19,
     "metadata": {},
     "output_type": "execute_result"
    }
   ],
   "source": [
    "df_cleaned['purpose'].value_counts()"
   ]
  },
  {
   "cell_type": "code",
   "execution_count": 20,
   "metadata": {},
   "outputs": [
    {
     "data": {
      "text/plain": [
       "Text(0.5, 0, 'Total Return not Annualized (%)')"
      ]
     },
     "execution_count": 20,
     "metadata": {},
     "output_type": "execute_result"
    },
    {
     "data": {
      "image/png": "[encoded data removed]",
      "text/plain": [
       "<Figure size 432x288 with 1 Axes>"
      ]
     },
     "metadata": {
      "needs_background": "light"
     },
     "output_type": "display_data"
    }
   ],
   "source": [
    "# Return by purpose (not annualized) - very few education and wedding data points\n",
    "purpose_comp = df_cleaned.loc[df_cleaned.loan_status_final != 'Current'].groupby(['purpose'])[['funded_amnt','total_pymnt']].sum().reset_index()\n",
    "purpose_comp['return']= 100*(purpose_comp['total_pymnt']/purpose_comp['funded_amnt']-1)\n",
    "purpose_comp[['purpose','return']].sort_values('return').set_index('purpose').plot.barh()\n",
    "plt.xlabel(\"Total Return not Annualized (%)\")"
   ]
  },
  {
   "cell_type": "code",
   "execution_count": 21,
   "metadata": {},
   "outputs": [
    {
     "data": {
      "text/plain": [
       "Text(0.5, 0, 'Total Return not Annualized (%)')"
      ]
     },
     "execution_count": 21,
     "metadata": {},
     "output_type": "execute_result"
    },
    {
     "data": {
      "image/png": "[encoded data removed]",
      "text/plain": [
       "<Figure size 432x288 with 1 Axes>"
      ]
     },
     "metadata": {
      "needs_background": "light"
     },
     "output_type": "display_data"
    }
   ],
   "source": [
    "# Return by grade (not annualized)\n",
    "grade_comp = df_cleaned.loc[df_cleaned.loan_status_final != 'Current'].groupby(['grade'])[['funded_amnt','total_pymnt']].sum().reset_index()\n",
    "grade_comp['return']= 100*(purpose_comp['total_pymnt']/purpose_comp['funded_amnt']-1)\n",
    "grade_comp[['grade','return']].sort_values('return').set_index('grade').plot.barh()\n",
    "plt.xlabel(\"Total Return not Annualized (%)\")"
   ]
  },
  {
   "cell_type": "code",
   "execution_count": 22,
   "metadata": {},
   "outputs": [
    {
     "data": {
      "image/png": "[encoded data removed]",
      "text/plain": [
       "<Figure size 432x288 with 1 Axes>"
      ]
     },
     "metadata": {
      "needs_background": "light"
     },
     "output_type": "display_data"
    },
    {
     "data": {
      "image/png": "[encoded data removed]",
      "text/plain": [
       "<Figure size 432x288 with 1 Axes>"
      ]
     },
     "metadata": {
      "needs_background": "light"
     },
     "output_type": "display_data"
    },
    {
     "data": {
      "image/png": "[encoded data removed]",
      "text/plain": [
       "<Figure size 432x288 with 1 Axes>"
      ]
     },
     "metadata": {
      "needs_background": "light"
     },
     "output_type": "display_data"
    },
    {
     "data": {
      "image/png": "[encoded data removed]",
      "text/plain": [
       "<Figure size 432x288 with 1 Axes>"
      ]
     },
     "metadata": {
      "needs_background": "light"
     },
     "output_type": "display_data"
    },
    {
     "data": {
      "image/png": "[encoded data removed]",
      "text/plain": [
       "<Figure size 432x288 with 1 Axes>"
      ]
     },
     "metadata": {
      "needs_background": "light"
     },
     "output_type": "display_data"
    },
    {
     "data": {
      "image/png": "[encoded data removed]",
      "text/plain": [
       "<Figure size 432x288 with 1 Axes>"
      ]
     },
     "metadata": {
      "needs_background": "light"
     },
     "output_type": "display_data"
    },
    {
     "data": {
      "image/png": "[encoded data removed]",
      "text/plain": [
       "<Figure size 432x288 with 1 Axes>"
      ]
     },
     "metadata": {
      "needs_background": "light"
     },
     "output_type": "display_data"
    },
    {
     "data": {
      "image/png": "[encoded data removed]",
      "text/plain": [
       "<Figure size 432x288 with 1 Axes>"
      ]
     },
     "metadata": {
      "needs_background": "light"
     },
     "output_type": "display_data"
    },
    {
     "data": {
      "image/png": "[encoded data removed]",
      "text/plain": [
       "<Figure size 432x288 with 1 Axes>"
      ]
     },
     "metadata": {
      "needs_background": "light"
     },
     "output_type": "display_data"
    },
    {
     "data": {
      "image/png": "[encoded data removed]",
      "text/plain": [
       "<Figure size 432x288 with 1 Axes>"
      ]
     },
     "metadata": {
      "needs_background": "light"
     },
     "output_type": "display_data"
    },
    {
     "data": {
      "image/png": "[encoded data removed]",
      "text/plain": [
       "<Figure size 432x288 with 1 Axes>"
      ]
     },
     "metadata": {
      "needs_background": "light"
     },
     "output_type": "display_data"
    },
    {
     "data": {
      "image/png": "[encoded data removed]",
      "text/plain": [
       "<Figure size 432x288 with 1 Axes>"
      ]
     },
     "metadata": {
      "needs_background": "light"
     },
     "output_type": "display_data"
    },
    {
     "data": {
      "image/png": "[encoded data removed]",
      "text/plain": [
       "<Figure size 432x288 with 1 Axes>"
      ]
     },
     "metadata": {
      "needs_background": "light"
     },
     "output_type": "display_data"
    },
    {
     "data": {
      "image/png": "[encoded data removed]",
      "text/plain": [
       "<Figure size 432x288 with 1 Axes>"
      ]
     },
     "metadata": {
      "needs_background": "light"
     },
     "output_type": "display_data"
    }
   ],
   "source": [
    "# Purpose by loan grade - excluding currently open loan\n",
    "purpose_grade_comp = df_cleaned.loc[df_cleaned.loan_status_final != 'Current'].groupby(['grade','purpose','term_year'])[['funded_amnt','total_pymnt']].sum().reset_index()\n",
    "purpose_grade_comp['return'] = return_cal(purpose_grade_comp)\n",
    "\n",
    "for purpose in purpose_grade_comp['purpose'].unique():\n",
    "    df_purpose = purpose_grade_comp.loc[purpose_grade_comp.purpose == purpose][['grade','term_year','return']]\n",
    "    df_purpose_pivot = pd.pivot_table(df_purpose, index='grade',values='return',columns='term_year')\n",
    "    df_purpose_pivot.plot(kind='bar')\n",
    "    plt.title('3yr vs. 5yr Loan Total Return for ' + purpose)\n",
    "    plt.ylabel('return in %')\n"
   ]
  },
  {
   "cell_type": "markdown",
   "metadata": {},
   "source": [
    "### Question 33:\n",
    "\n",
    "What happens if the issuance years are included in your analysis?"
   ]
  },
  {
   "cell_type": "code",
   "execution_count": null,
   "metadata": {},
   "outputs": [],
   "source": [
    "Add % of over time"
   ]
  },
  {
   "cell_type": "markdown",
   "metadata": {},
   "source": [
    "### Question 34:\n",
    "\n",
    "Is there any pattern between loan duration vs return rate?"
   ]
  },
  {
   "cell_type": "code",
   "execution_count": 23,
   "metadata": {},
   "outputs": [
    {
     "data": {
      "text/html": [
       "<div>\n",
       "<style scoped>\n",
       "    .dataframe tbody tr th:only-of-type {\n",
       "        vertical-align: middle;\n",
       "    }\n",
       "\n",
       "    .dataframe tbody tr th {\n",
       "        vertical-align: top;\n",
       "    }\n",
       "\n",
       "    .dataframe thead th {\n",
       "        text-align: right;\n",
       "    }\n",
       "</style>\n",
       "<table border=\"1\" class=\"dataframe\">\n",
       "  <thead>\n",
       "    <tr style=\"text-align: right;\">\n",
       "      <th></th>\n",
       "      <th>funded_amnt</th>\n",
       "      <th>total_pymnt</th>\n",
       "      <th>return_pct</th>\n",
       "    </tr>\n",
       "    <tr>\n",
       "      <th>term</th>\n",
       "      <th></th>\n",
       "      <th></th>\n",
       "      <th></th>\n",
       "    </tr>\n",
       "  </thead>\n",
       "  <tbody>\n",
       "    <tr>\n",
       "      <td>36 months</td>\n",
       "      <td>650615475.0</td>\n",
       "      <td>6.756394e+08</td>\n",
       "      <td>3.846198</td>\n",
       "    </tr>\n",
       "    <tr>\n",
       "      <td>60 months</td>\n",
       "      <td>331597350.0</td>\n",
       "      <td>3.286257e+08</td>\n",
       "      <td>-0.896156</td>\n",
       "    </tr>\n",
       "  </tbody>\n",
       "</table>\n",
       "</div>"
      ],
      "text/plain": [
       "            funded_amnt   total_pymnt  return_pct\n",
       "term                                             \n",
       " 36 months  650615475.0  6.756394e+08    3.846198\n",
       " 60 months  331597350.0  3.286257e+08   -0.896156"
      ]
     },
     "execution_count": 23,
     "metadata": {},
     "output_type": "execute_result"
    }
   ],
   "source": [
    "# 36 month loans makes more money\n",
    "df_term = df_cleaned.loc[df_cleaned.loan_status_final != 'Current'].groupby(['term'])[['funded_amnt','total_pymnt']].sum()\n",
    "df_term['return_pct'] = 100*(df_term[\"total_pymnt\"]/df_term[\"funded_amnt\"]-1)\n",
    "df_term"
   ]
  },
  {
   "cell_type": "code",
   "execution_count": 24,
   "metadata": {},
   "outputs": [
    {
     "data": {
      "text/plain": [
       "Text(0, 0.5, 'return in %')"
      ]
     },
     "execution_count": 24,
     "metadata": {},
     "output_type": "execute_result"
    },
    {
     "data": {
      "image/png": "[encoded data removed]",
      "text/plain": [
       "<Figure size 432x288 with 1 Axes>"
      ]
     },
     "metadata": {
      "needs_background": "light"
     },
     "output_type": "display_data"
    }
   ],
   "source": [
    "# This is total return\n",
    "term_comp = df_cleaned.loc[df_cleaned.loan_status_final != 'Current'].groupby(['grade','term_year'])[['funded_amnt','total_pymnt']].sum().reset_index()\n",
    "term_comp['return_perc'] =  100*(term_comp['total_pymnt']/term_comp['funded_amnt']-1)\n",
    "term_comp_graph = pd.pivot_table(term_comp, index = 'grade',values = 'return_perc', columns = 'term_year')\n",
    "term_comp_graph.plot(kind=\"bar\")\n",
    "\n",
    "plt.title('Total Return 3yr vs. 5yr')\n",
    "plt.ylabel('return in %')\n"
   ]
  },
  {
   "cell_type": "markdown",
   "metadata": {},
   "source": [
    "# Question Group: Survival Analysis on Survival Probabilities\n",
    "\n",
    "- In the context of Lending Club Loans, a loan starts to default  121\n",
    "121 days after it fails to make the payment on time."
   ]
  },
  {
   "cell_type": "markdown",
   "metadata": {},
   "source": [
    "### Question 35:\n",
    "\n",
    "For loans which are eventually paid in full, analyze the probabilities of survival at different time durations (known as survival plot). How are these probabilities of 'survival' related to the loan grade/subgrade or the FICO scores of the borrowers? To visualize, you want to plot the so-called survival curve."
   ]
  },
  {
   "cell_type": "markdown",
   "metadata": {},
   "source": [
    "### Question 36:\n",
    "\n",
    "For loans which are eventually defaulted, analyze the probabilities of survival at different time durations and find out its relationship with loan grade/subgrade, FICO scores or the other credit related attributes."
   ]
  },
  {
   "cell_type": "markdown",
   "metadata": {},
   "source": [
    "### Question 37:\n",
    "\n",
    "Lumping defaulted loans and completed loans together, a loan either pre-pays early , defaults or completes at maturity. Perform survival analysis and study what features affect the patterns."
   ]
  },
  {
   "cell_type": "markdown",
   "metadata": {},
   "source": [
    "### Question 38:\n",
    "\n",
    "You can either compute from the raw data from scratch, or use R-package like survminer to assist your analysis."
   ]
  },
  {
   "cell_type": "markdown",
   "metadata": {},
   "source": [
    "### Question 39:\n",
    "\n",
    "In survival analysis jargon, the dual cause of the early termination of the loan (either early prepayment or default) is usually known as competing events/competing risks, or mixture cure model."
   ]
  },
  {
   "cell_type": "markdown",
   "metadata": {},
   "source": [
    "# Question Group: Data Analytics\n",
    "- A good investor may want to avoid these types of loans\n",
    "- The insights might be used in ML task to single out these bad loans"
   ]
  },
  {
   "cell_type": "markdown",
   "metadata": {},
   "source": [
    "### Question 40: \n",
    "\n",
    "What types of loans tend to prepay and terminate within 3 months of the loan issuance?"
   ]
  },
  {
   "cell_type": "code",
   "execution_count": 25,
   "metadata": {},
   "outputs": [
    {
     "data": {
      "text/plain": [
       "1    0.792752\n",
       "0    0.207248\n",
       "Name: prepayment_flag, dtype: float64"
      ]
     },
     "execution_count": 25,
     "metadata": {},
     "output_type": "execute_result"
    }
   ],
   "source": [
    "#~80% of fully paid loans are repaid\n",
    "df_cleaned.loc[df_cleaned.loan_status_final=='Fully Paid']['prepayment_flag'].value_counts(normalize=True)"
   ]
  },
  {
   "cell_type": "code",
   "execution_count": 27,
   "metadata": {},
   "outputs": [],
   "source": [
    "# Share of loan by purpose\n",
    "all_share = pd.DataFrame(df_cleaned['purpose'].value_counts(normalize=True)).reset_index().rename(columns = {\"index\":\"purpose\",\"purpose\":\"share\"})\n",
    "\n",
    "# Share of loan by purpose for prepaid loan only\n",
    "prepayment_share = pd.DataFrame(df_cleaned.loc[df_cleaned['prepayment_flag']==1]['purpose'].value_counts(normalize=True)).reset_index().rename(columns = {\"index\":\"purpose\",\"purpose\":\"share\"})\n",
    "\n",
    "# Prepayment within three months\n",
    "df_prepaym_threeM = df_cleaned.loc[(df_cleaned.prepayment_flag==1)&(df_cleaned['issue_date']+DateOffset(months=3)>=df_cleaned.last_pymnt_date)]\n",
    "df_prepaym_threeM = pd.DataFrame(df_prepaym_threeM['purpose'].value_counts(normalize=True)).reset_index().rename(columns = {\"index\":\"purpose\",\"purpose\":\"share_prepayment_threeM\"})\n",
    "\n",
    "                                                                                          "
   ]
  },
  {
   "cell_type": "code",
   "execution_count": 28,
   "metadata": {},
   "outputs": [
    {
     "data": {
      "text/html": [
       "<div>\n",
       "<style scoped>\n",
       "    .dataframe tbody tr th:only-of-type {\n",
       "        vertical-align: middle;\n",
       "    }\n",
       "\n",
       "    .dataframe tbody tr th {\n",
       "        vertical-align: top;\n",
       "    }\n",
       "\n",
       "    .dataframe thead th {\n",
       "        text-align: right;\n",
       "    }\n",
       "</style>\n",
       "<table border=\"1\" class=\"dataframe\">\n",
       "  <thead>\n",
       "    <tr style=\"text-align: right;\">\n",
       "      <th></th>\n",
       "      <th>purpose</th>\n",
       "      <th>share_all</th>\n",
       "      <th>share_prepayment</th>\n",
       "      <th>share_prepayment_threeM</th>\n",
       "    </tr>\n",
       "  </thead>\n",
       "  <tbody>\n",
       "    <tr>\n",
       "      <td>0</td>\n",
       "      <td>debt_consolidation</td>\n",
       "      <td>0.562614</td>\n",
       "      <td>0.580734</td>\n",
       "      <td>0.535773</td>\n",
       "    </tr>\n",
       "    <tr>\n",
       "      <td>1</td>\n",
       "      <td>credit_card</td>\n",
       "      <td>0.229323</td>\n",
       "      <td>0.216740</td>\n",
       "      <td>0.159053</td>\n",
       "    </tr>\n",
       "    <tr>\n",
       "      <td>2</td>\n",
       "      <td>home_improvement</td>\n",
       "      <td>0.066394</td>\n",
       "      <td>0.067416</td>\n",
       "      <td>0.080352</td>\n",
       "    </tr>\n",
       "    <tr>\n",
       "      <td>3</td>\n",
       "      <td>other</td>\n",
       "      <td>0.062538</td>\n",
       "      <td>0.058157</td>\n",
       "      <td>0.096313</td>\n",
       "    </tr>\n",
       "    <tr>\n",
       "      <td>4</td>\n",
       "      <td>major_purchase</td>\n",
       "      <td>0.022884</td>\n",
       "      <td>0.023007</td>\n",
       "      <td>0.038525</td>\n",
       "    </tr>\n",
       "    <tr>\n",
       "      <td>5</td>\n",
       "      <td>medical</td>\n",
       "      <td>0.011781</td>\n",
       "      <td>0.011143</td>\n",
       "      <td>0.018712</td>\n",
       "    </tr>\n",
       "    <tr>\n",
       "      <td>6</td>\n",
       "      <td>small_business</td>\n",
       "      <td>0.011549</td>\n",
       "      <td>0.009166</td>\n",
       "      <td>0.012658</td>\n",
       "    </tr>\n",
       "    <tr>\n",
       "      <td>7</td>\n",
       "      <td>car</td>\n",
       "      <td>0.010469</td>\n",
       "      <td>0.010980</td>\n",
       "      <td>0.015410</td>\n",
       "    </tr>\n",
       "    <tr>\n",
       "      <td>8</td>\n",
       "      <td>moving</td>\n",
       "      <td>0.007185</td>\n",
       "      <td>0.006863</td>\n",
       "      <td>0.011833</td>\n",
       "    </tr>\n",
       "    <tr>\n",
       "      <td>9</td>\n",
       "      <td>vacation</td>\n",
       "      <td>0.006792</td>\n",
       "      <td>0.007165</td>\n",
       "      <td>0.010457</td>\n",
       "    </tr>\n",
       "    <tr>\n",
       "      <td>10</td>\n",
       "      <td>house</td>\n",
       "      <td>0.006435</td>\n",
       "      <td>0.006281</td>\n",
       "      <td>0.018162</td>\n",
       "    </tr>\n",
       "    <tr>\n",
       "      <td>11</td>\n",
       "      <td>wedding</td>\n",
       "      <td>0.001205</td>\n",
       "      <td>0.001559</td>\n",
       "      <td>0.001651</td>\n",
       "    </tr>\n",
       "    <tr>\n",
       "      <td>12</td>\n",
       "      <td>renewable_energy</td>\n",
       "      <td>0.000536</td>\n",
       "      <td>0.000442</td>\n",
       "      <td>0.000826</td>\n",
       "    </tr>\n",
       "    <tr>\n",
       "      <td>13</td>\n",
       "      <td>educational</td>\n",
       "      <td>0.000295</td>\n",
       "      <td>0.000349</td>\n",
       "      <td>0.000275</td>\n",
       "    </tr>\n",
       "  </tbody>\n",
       "</table>\n",
       "</div>"
      ],
      "text/plain": [
       "               purpose  share_all  share_prepayment  share_prepayment_threeM\n",
       "0   debt_consolidation   0.562614          0.580734                 0.535773\n",
       "1          credit_card   0.229323          0.216740                 0.159053\n",
       "2     home_improvement   0.066394          0.067416                 0.080352\n",
       "3                other   0.062538          0.058157                 0.096313\n",
       "4       major_purchase   0.022884          0.023007                 0.038525\n",
       "5              medical   0.011781          0.011143                 0.018712\n",
       "6       small_business   0.011549          0.009166                 0.012658\n",
       "7                  car   0.010469          0.010980                 0.015410\n",
       "8               moving   0.007185          0.006863                 0.011833\n",
       "9             vacation   0.006792          0.007165                 0.010457\n",
       "10               house   0.006435          0.006281                 0.018162\n",
       "11             wedding   0.001205          0.001559                 0.001651\n",
       "12    renewable_energy   0.000536          0.000442                 0.000826\n",
       "13         educational   0.000295          0.000349                 0.000275"
      ]
     },
     "execution_count": 28,
     "metadata": {},
     "output_type": "execute_result"
    }
   ],
   "source": [
    "# Other, home improvement, and major purchase are more likely to prepay within three months\n",
    "prepayment_comp = pd.merge(all_share, prepayment_share, how='left', on=\"purpose\", suffixes=('_all','_prepayment')).merge(df_prepaym_threeM)\n",
    "prepayment_comp"
   ]
  },
  {
   "cell_type": "markdown",
   "metadata": {},
   "source": [
    "### Question 41:\n",
    "\n",
    "What types of loans tend to default (or go into charged off) within a short duration after issuance?"
   ]
  },
  {
   "cell_type": "code",
   "execution_count": 29,
   "metadata": {},
   "outputs": [
    {
     "data": {
      "text/plain": [
       "<seaborn.axisgrid.FacetGrid at 0x1a1d436b10>"
      ]
     },
     "execution_count": 29,
     "metadata": {},
     "output_type": "execute_result"
    },
    {
     "data": {
      "image/png": "[encoded data removed]",
      "text/plain": [
       "<Figure size 890x720 with 1 Axes>"
      ]
     },
     "metadata": {
      "needs_background": "light"
     },
     "output_type": "display_data"
    }
   ],
   "source": [
    "# default within three months - by loan count\n",
    "df_default_threeM = df_cleaned.loc[(df_cleaned.loan_status_final==\"Charged Off\")&(df_cleaned['issue_date']+DateOffset(months=3)>=df_cleaned.last_pymnt_date)]\n",
    "df_default_threeM = pd.DataFrame(df_default_threeM['purpose'].value_counts(normalize=True)).reset_index().rename(columns = {\"index\":\"purpose\",\"purpose\":\"share_default_threeM\"})\n",
    "prepayment_default_comp = pd.merge(prepayment_comp,df_default_threeM)\n",
    "prepayment_default_comp = prepayment_default_comp.drop(\"share_prepayment\",axis=1)\n",
    "prepayment_default_comp = prepayment_default_comp.melt('purpose', var_name='type', value_name='share')\n",
    "\n",
    "defaul_prepayment_comp = sns.catplot(kind =\"bar\", x='share', y=\"purpose\", hue=\"type\",data=prepayment_default_comp, orient = 'horizontal', height=10)\n",
    "defaul_prepayment_comp.set(title = 'Share of Loans by Purpose', xlabel = 'Share of Loans (%)', ylabel = 'Purpose' )\n"
   ]
  },
  {
   "cell_type": "markdown",
   "metadata": {},
   "source": [
    "### Question 42:\n",
    "\n",
    "Does default rate (including those get charged off or into settlement) holds constant across different time (year-months)?"
   ]
  },
  {
   "cell_type": "code",
   "execution_count": 38,
   "metadata": {
    "scrolled": true
   },
   "outputs": [
    {
     "data": {
      "text/plain": [
       "[Text(0, 0.5, 'Percentage of Loan in Default'),\n",
       " Text(0.5, 0, 'Loan Issued Date'),\n",
       " Text(0.5, 1.0, 'Percentage of default by issue_year')]"
      ]
     },
     "execution_count": 38,
     "metadata": {},
     "output_type": "execute_result"
    },
    {
     "data": {
      "image/png": "[encoded data removed]",
      "text/plain": [
       "<Figure size 432x288 with 1 Axes>"
      ]
     },
     "metadata": {
      "needs_background": "light"
     },
     "output_type": "display_data"
    }
   ],
   "source": [
    "# Aggregated by issue period\n",
    "# issue_year - percentage of loan issued in given year defaulted\n",
    "issue_period = 'issue_year'\n",
    "df_issue = df_cleaned[df_cleaned['loan_status_final']!='Current'] \n",
    "df_default_TS = df_default.groupby(issue_period)[[issue_period]].count().rename(columns={issue_period:'loan_default_count'}).reset_index()\n",
    "df_issue_TS = df_issue.groupby(issue_period)[[issue_period]].count().rename(columns={issue_period:'loan_issue_count'}).reset_index()\n",
    "df_issue_default = pd.merge(df_issue_TS,df_default_TS)\n",
    "df_issue_default[\"perc_default\"] = 100*df_issue_default['loan_default_count']/df_issue_default['loan_issue_count']\n",
    "\n",
    "# Percentage of loan defaulted was high but it might have been caused by fewer loans issued\n",
    "# Percentage of default reached recent high in 2016 before the scandal then has come down. \n",
    "default_perc_issueD_plot = sns.lineplot(x=issue_period,y='perc_default',data=df_issue_default,)\n",
    "default_perc_issueD_plot.set(title=\"Percentage of default by \"+issue_period, xlabel='Loan Issued Date', ylabel='Percentage of Loan in Default')"
   ]
  },
  {
   "cell_type": "markdown",
   "metadata": {},
   "source": [
    "### Question 43:\n",
    "\n",
    "If not, what are the external driving forces which cause the default rate to rise or fall?"
   ]
  },
  {
   "cell_type": "markdown",
   "metadata": {},
   "source": [
    "### Question 44:\n",
    "\n",
    "Can you provide data and statistical evidence for your analysis?"
   ]
  },
  {
   "cell_type": "markdown",
   "metadata": {},
   "source": [
    "# Question Group: Mini-Project\n",
    "\n",
    "As a data scientist at **Lending Club**, provide strong evidence to educate the lenders why diversification is important.\n",
    "\n",
    "- For simplicity, compare the investment returns of three types of loan portfolios\n",
    "    - 20 equal-dollar investments in 20 grade A loans. \n",
    "    - 100 equal-dollar investments in 100 grade A loans.\n",
    "    - 20 equal-dollar investments in $5+5+5+5$ loans in grade $A, B, C, D$, respectively, $5$\n",
    "in each grade\n",
    "    - 100 equal-dollar investments in $25+25+25+25$ loans in grade $A, B, C, D$, respectively,\n",
    " $25$ loans in each grade.\n",
    "    - Or you can invest 1% (of the loan amount) and diversify into many loans\n",
    "\n",
    "- Simulate uncertainty by randomly drawing from grade A, B, C, D loan buckets\n",
    "    - Because loans often terminate prematurely, in order for the comparison to\n",
    "be objective, you will need to annualize the returns by first computing the average\n",
    "duration of your loan portfolios.\n",
    "    - To be more accurate, you can take 'issuance date' into account and offer\n",
    "simulation during different years (or year-months).\n",
    "    - Due to the stochastic nature of the problem at hand, you should analyze\n",
    "the mean annualized returns, risks of each type of portfolios, probability of loss, etc.\n",
    "\n",
    "- Alternatively, as a data scientist at a start-up investing firm, provide a business report\n",
    "whether loan-investing buying **Lending Club** loans is an attractive option, \n",
    "compared to short-term treasury/corporate funds?\n",
    "\n"
   ]
  }
 ],
 "metadata": {
  "kernelspec": {
   "display_name": "Python 3",
   "language": "python",
   "name": "python3"
  },
  "language_info": {
   "codemirror_mode": {
    "name": "ipython",
    "version": 3
   },
   "file_extension": ".py",
   "mimetype": "text/x-python",
   "name": "python",
   "nbconvert_exporter": "python",
   "pygments_lexer": "ipython3",
   "version": "3.7.4"
  }
 },
 "nbformat": 4,
 "nbformat_minor": 2
}
