{
 "cells": [
  {
   "cell_type": "markdown",
   "metadata": {},
   "source": [
    "# Loan Club: Machine Learning Capstone Notebook"
   ]
  },
  {
   "cell_type": "code",
   "execution_count": 1,
   "metadata": {},
   "outputs": [],
   "source": [
    "# Load packages\n",
    "import pandas as pd\n",
    "import numpy as np\n",
    "import re\n",
    "from time import strptime  # format data columns\n",
    "import warnings\n",
    "import math\n",
    "\n",
    "from matplotlib import pyplot as plt\n",
    "import matplotlib.ticker as ticker\n",
    "\n",
    "%matplotlib inline\n",
    "import seaborn as sns\n",
    "import plotly.express as px\n",
    "\n",
    "warnings.filterwarnings(\"ignore\")  # ignore warnings throughout notebook\n",
    "pd.set_option(\"display.max_columns\", None)  # show all columns"
   ]
  },
  {
   "cell_type": "code",
   "execution_count": 2,
   "metadata": {},
   "outputs": [],
   "source": [
    "# Load Data\n",
    "filepath = \"./data/accepted_subsampled_5percent.csv\" #will be personalized\n",
    "df = pd.read_csv(filepath, sep=\",\")\n",
    "\n",
    "df_cleaned = df.copy() #work from second copy"
   ]
  },
  {
   "cell_type": "code",
   "execution_count": 3,
   "metadata": {},
   "outputs": [],
   "source": [
    "# Features known to investors based on LC website\n",
    "known_vars = ['acc_now_delinq',             # accounts now deliquent\n",
    "              'collections_12_mths_ex_med', # collections excluding medical\n",
    "              'fico_range_high',            # credit score range\n",
    "              'fico_range_low',             # creit score range\n",
    "              'delinq_2yrs',                # delinquencies in last two years\n",
    "              'delinq_amnt',                # delinquency amount\n",
    "              'earliest_cr_line',           # earliest credit line\n",
    "              'home_ownership',             # home ownership\n",
    "              'dti',                        # debt2income ratio\n",
    "              'annual_inc',                 # annual income\n",
    "              'initial_list_status',        # initial listing status\n",
    "              'inq_last_6mths',             # credit inquires in last 6mo\n",
    "              'int_rate',                   # interest rate\n",
    "              'verification_status_joint',  # is this a joint app\n",
    "              'emp_length',                 # length of employment (yr)\n",
    "              'loan_amnt',                  # loan amount\n",
    "              'id',                         # loan id\n",
    "              'purpose',                    # purpose of the loan\n",
    "              'term',                       # loan term (3 or 5yr)\n",
    "              'addr_state',                 # borrower location state\n",
    "              'installment',                # montly payment\n",
    "              'mths_since_last_delinq',     # mo since last delinquency\n",
    "              'mths_since_last_major_derog',# mo since last maj. derogatory\n",
    "              'mths_since_last_record',     # mo since last public record\n",
    "              'open_acc',                   # open credit line\n",
    "              'pub_rec',                    # public records on file\n",
    "              'revol_util',                 # revolving balance utilization (%)\n",
    "              'revol_bal',                  # revolving credit balance ($)\n",
    "              'tot_coll_amt',               # total collection amount ever\n",
    "              'total_acc',                  # total credit lines\n",
    "              'tot_cur_bal',                # total current balance\n",
    "              'verification_status',        # verified income (Y/N I think)\n",
    "              'grade'                       # loan grade\n",
    "             ]\n",
    "\n",
    "# Sanity check, print variable if not found within original dataframe\n",
    "# [ print(var) for var in known_vars if (var not in df.columns)]\n"
   ]
  },
  {
   "cell_type": "markdown",
   "metadata": {},
   "source": [
    "### Impute Missing Data of Known Variables"
   ]
  },
  {
   "cell_type": "code",
   "execution_count": 4,
   "metadata": {},
   "outputs": [
    {
     "data": {
      "text/plain": [
       "verification_status_joint      0.949313\n",
       "mths_since_last_record         0.838543\n",
       "mths_since_last_major_derog    0.744395\n",
       "mths_since_last_delinq         0.513786\n",
       "emp_length                     0.063868\n",
       "tot_cur_bal                    0.033430\n",
       "tot_coll_amt                   0.033430\n",
       "revol_util                     0.001006\n",
       "dti                            0.000829\n",
       "collections_12_mths_ex_med     0.000476\n",
       "open_acc                       0.000185\n",
       "pub_rec                        0.000185\n",
       "total_acc                      0.000185\n",
       "inq_last_6mths                 0.000185\n",
       "earliest_cr_line               0.000185\n",
       "delinq_amnt                    0.000185\n",
       "delinq_2yrs                    0.000185\n",
       "acc_now_delinq                 0.000185\n",
       "dtype: float64"
      ]
     },
     "execution_count": 4,
     "metadata": {},
     "output_type": "execute_result"
    }
   ],
   "source": [
    "#Assess missingness of known variables\n",
    "missingness = df_cleaned[known_vars].isnull().mean().T\n",
    "missingness = missingness.loc[missingness>0].sort_values(ascending=False)\n",
    "missingness\n"
   ]
  },
  {
   "cell_type": "code",
   "execution_count": 5,
   "metadata": {},
   "outputs": [
    {
     "data": {
      "text/plain": [
       "[None, None, None, None]"
      ]
     },
     "execution_count": 5,
     "metadata": {},
     "output_type": "execute_result"
    }
   ],
   "source": [
    "# Drop features missing > 50% \n",
    "feat_wManyMissing = missingness.index[np.where(missingness > .5)].to_list()\n",
    "df_cleaned[known_vars].drop(df_cleaned[feat_wManyMissing], axis=1, inplace=True)\n",
    "[known_vars.remove(var) for var in feat_wManyMissing] #remove features from known_var list\n"
   ]
  },
  {
   "cell_type": "code",
   "execution_count": 6,
   "metadata": {},
   "outputs": [
    {
     "data": {
      "text/plain": [
       "[None, None, None, None, None, None, None, None, None, None, None]"
      ]
     },
     "execution_count": 6,
     "metadata": {},
     "output_type": "execute_result"
    }
   ],
   "source": [
    "# Replace NA's of numeric 'known_var' features with mean value\n",
    "numeric_var = ['tot_cur_bal',\n",
    "               'tot_coll_amt',\n",
    "               'revol_util',\n",
    "               'collections_12_mths_ex_med',\n",
    "               'open_acc',\n",
    "               'pub_rec',\n",
    "               'total_acc',\n",
    "               'inq_last_6mths',\n",
    "               'delinq_amnt',\n",
    "               'delinq_2yrs',\n",
    "               'dti' ]\n",
    "\n",
    "# List comprehension through numerica variables\n",
    "[df_cleaned[var].fillna(df[var].mean(), inplace=True) for var in numeric_var]\n"
   ]
  },
  {
   "cell_type": "code",
   "execution_count": 7,
   "metadata": {},
   "outputs": [
    {
     "data": {
      "text/plain": [
       "[None, None, None, None]"
      ]
     },
     "execution_count": 7,
     "metadata": {},
     "output_type": "execute_result"
    }
   ],
   "source": [
    "# Helper function to replace missing character strings with randomly selected value\n",
    "def fillna_random(var):\n",
    "    #find index of missing values\n",
    "    miss_idx = df_cleaned.loc[ df_cleaned[var].isnull()].index.tolist()\n",
    "    \n",
    "    #find new values to replace NaN values\n",
    "    new_val = df_cleaned[var].loc[~df_cleaned.index.isin(miss_idx)].sample(len(miss_idx)).values.tolist()\n",
    "\n",
    "    #replace values\n",
    "    df_cleaned[var][miss_idx] = new_val\n",
    "\n",
    "# ==================================================\n",
    "# Replace NA's of character 'known_var' features with random\n",
    "non_numeric_var = ['emp_length', 'earliest_cr_line', 'acc_now_delinq', 'delinq_2yrs'] #list of non-numeric variables\n",
    "[fillna_random(var) for var in non_numeric_var]\n"
   ]
  },
  {
   "cell_type": "code",
   "execution_count": 8,
   "metadata": {
    "collapsed": true
   },
   "outputs": [
    {
     "data": {
      "text/plain": [
       "acc_now_delinq                0\n",
       "collections_12_mths_ex_med    0\n",
       "fico_range_high               0\n",
       "fico_range_low                0\n",
       "delinq_2yrs                   0\n",
       "delinq_amnt                   0\n",
       "earliest_cr_line              0\n",
       "home_ownership                0\n",
       "dti                           0\n",
       "annual_inc                    0\n",
       "initial_list_status           0\n",
       "inq_last_6mths                0\n",
       "int_rate                      0\n",
       "emp_length                    0\n",
       "loan_amnt                     0\n",
       "id                            0\n",
       "purpose                       0\n",
       "term                          0\n",
       "addr_state                    0\n",
       "installment                   0\n",
       "open_acc                      0\n",
       "pub_rec                       0\n",
       "revol_util                    0\n",
       "revol_bal                     0\n",
       "tot_coll_amt                  0\n",
       "total_acc                     0\n",
       "tot_cur_bal                   0\n",
       "verification_status           0\n",
       "grade                         0\n",
       "dtype: int64"
      ]
     },
     "execution_count": 8,
     "metadata": {},
     "output_type": "execute_result"
    }
   ],
   "source": [
    "#Sanity check that no more missing values\n",
    "df_cleaned[known_vars].isnull().sum()\n"
   ]
  },
  {
   "cell_type": "markdown",
   "metadata": {},
   "source": [
    "### Feature Engineering"
   ]
  },
  {
   "cell_type": "code",
   "execution_count": 10,
   "metadata": {},
   "outputs": [],
   "source": [
    "# Simplify loan status (non-FullyPaid or ChargedOff loans will be converted to NAN)\n",
    "df_cleaned['loan_status'] = df_cleaned['loan_status'].map({'Fully Paid':'Fully Paid',\n",
    "                                                           'Charged Off':'Charged Off',\n",
    "                                                           'Does not meet the credit policy. Status:Fully Paid': 'Fully Paid',\n",
    "                                                           'Does not meet the credit policy. Status:Charged Off': 'Charged Off'})\n",
    "\n",
    "# Remove non-completed loans\n",
    "df_cleaned.drop(df_cleaned.loc[df_cleaned['loan_status'].isnull()].index.tolist(), axis=0, inplace=True)\n",
    "\n",
    "# Simplify home ownership\n",
    "df_cleaned['home_ownership'] = df_cleaned['home_ownership'].map({'MORTGAGE':'mortgage',\n",
    "                                                                 'OWN':'own',\n",
    "                                                                 'RENT':'rent'})\n",
    "\n",
    "# Remove 25 observations without houses\n",
    "df_cleaned.drop(df_cleaned.loc[df_cleaned['home_ownership'].isnull()].index.tolist(), axis=0, inplace=True)\n",
    "\n",
    "\n",
    "# Reformat date features and calculate features related to prepayment  \n",
    "df_cleaned['term_year'] = np.where(df_cleaned['term']==' 36 months', 3,5)\n",
    "df_cleaned['earliest_cr_line'] =  pd.to_datetime(df_cleaned['earliest_cr_line'])\n",
    "df_cleaned['issue_date'] =  pd.to_datetime(df_cleaned['issue_d'])\n",
    "df_cleaned['last_pymnt_date'] = pd.to_datetime(df_cleaned['last_pymnt_d'])\n",
    "df_cleaned['exp_last_pymnt_date'] = pd.to_datetime(df_cleaned['issue_d'].str[0:3]\n",
    "                                                   +'-'\n",
    "                                                   + (df_cleaned['issue_d'].str[-4:].astype('int')\n",
    "                                                   + df_cleaned['term_year']).astype('str'))\n",
    "\n",
    "# Calculate credit history ( in months )\n",
    "date_ofloan = df_cleaned['issue_date'].dt.to_period('M').astype(int)\n",
    "date_credline = df_cleaned['earliest_cr_line'].dt.to_period('M').astype(int)\n",
    "df_cleaned['credit_hist_mths'] = date_ofloan - date_credline\n",
    "\n",
    "# Log-transform skewed continuous features\n",
    "df_cleaned['delinq_amnt_log'] = df_cleaned['delinq_amnt'].add(1).apply(np.log)\n",
    "df_cleaned['annual_inc_log'] = df_cleaned['annual_inc'].add(1).apply(np.log)\n",
    "df_cleaned['dti_log'] = df_cleaned['dti'].add(1).apply(np.log)\n",
    "df_cleaned['funded_amnt_log'] = df_cleaned['funded_amnt'].add(1).apply(np.log)\n",
    "df_cleaned['tot_coll_amt_log'] = df_cleaned['tot_coll_amt'].add(1).apply(np.log)\n",
    "df_cleaned['tot_cur_bal_log'] = df_cleaned['tot_cur_bal'].add(1).apply(np.log)\n",
    "df_cleaned['total_acc_log'] = df_cleaned['total_acc'].add(1).apply(np.log)\n",
    "df_cleaned['revol_bal_log'] = df_cleaned['revol_bal'].add(1).apply(np.log)\n",
    "df_cleaned['installment_log'] = df_cleaned['installment'].add(1).apply(np.log)\n",
    "df_cleaned['open_acc_log'] = df_cleaned['open_acc'].add(1).apply(np.log)\n",
    "\n",
    "# Simplify loan purpose - debt consolidation, credit card, and other\n",
    "df_cleaned['purpose'] = df_cleaned['purpose'].map({'debt_consolidation':'debt_consolidation',\n",
    "                                                   'credit_card':'credit_card'})\n",
    "df_cleaned['purpose'].fillna('other',inplace=True)\n",
    "\n",
    "# Convert loan grade to ordinal feature\n",
    "df_cleaned['grade'] = df_cleaned['grade'].map({'A':1,\n",
    "                                               'B':2,\n",
    "                                               'C':3,\n",
    "                                               'D':4,\n",
    "                                               'E':5,\n",
    "                                               'F':6,\n",
    "                                               'G':7})\n",
    "\n",
    "# Simplify employment length to four categories\n",
    "df_cleaned['emp_length'] = df_cleaned['emp_length'].map({'< 1 year':0.5,\n",
    "                                                         '1 year':1,\n",
    "                                                         '2 years':2,\n",
    "                                                         '3 years':3,\n",
    "                                                         '4 years':4,\n",
    "                                                         '5 years':5,\n",
    "                                                         '6 years':6,\n",
    "                                                         '7 years':7,\n",
    "                                                         '8 years':8,\n",
    "                                                         '9 years':9,\n",
    "                                                         '10+ years':10})\n",
    "\n",
    "# Create new binary features\n",
    "df_cleaned['has_pub_rec'] = np.where(df_cleaned['pub_rec']>0,1,0) #0-=no public record\n",
    "df_cleaned['has_paid_early'] = np.where((df_cleaned.loan_status=='Fully Paid')&(df_cleaned.last_pymnt_date < df_cleaned.exp_last_pymnt_date), 1, 0)\n",
    "df_cleaned['has_36mo_loan'] = np.where(df_cleaned['term'].str.contains('36'),1,0) #0=60mo loan\n",
    "df_cleaned['has_delinq_now'] = np.where(df_cleaned['acc_now_delinq']>0, 1, 0)\n",
    "df_cleaned['has_delinq_past2yrs'] = np.where(df_cleaned['delinq_2yrs']>0, 1, 0) #0=no delinq within 2yrs\n",
    "df_cleaned['has_whole_liststatus'] = np.where(df_cleaned['initial_list_status']=='w', 1, 0) #0=f\n",
    "df_cleaned['has_fullypaid'] = np.where(df_cleaned['loan_status']=='Fully Paid', 1, 0) #0=charged off\n"
   ]
  },
  {
   "cell_type": "code",
   "execution_count": 221,
   "metadata": {},
   "outputs": [],
   "source": [
    "# Create response variable based on \n",
    "threshold = 10 #goal of loans is loss of <10%\n",
    "df_cleaned[\"roi_perc\"] = df_cleaned[\"total_pymnt\"].div(df_cleaned[\"funded_amnt\"]).sub(1).mul(100)\n",
    "df_cleaned['roi_response'] = np.where(df_cleaned['roi_perc'] > threshold, 1, 0) #84% of all loans > -20% ROI\n",
    "\n",
    "df_cleaned['roi_response_5'] = np.where(df_cleaned['roi_perc'] > 5, 1, 0)\n",
    "df_cleaned['roi_response_neg_20'] = np.where(df_cleaned['roi_perc'] > -20, 1, 0)\n",
    "df_cleaned['roi_response_charged_off'] = np.where(df_cleaned['loan_status'] == \"Charged Off\", 0, 1)\n",
    "\n",
    "df_cleaned['credit_hist_mths'] = np.where(df_cleaned['credit_hist_mths'] < 0, 0, df_cleaned['credit_hist_mths'])"
   ]
  },
  {
   "cell_type": "code",
   "execution_count": 222,
   "metadata": {},
   "outputs": [],
   "source": [
    "# Isolate list of predictor variables to be used for ML\n",
    "predictor_vars = ['annual_inc_log',\n",
    "                  'credit_hist_mths',\n",
    "                  'delinq_amnt_log',\n",
    "                  'dti_log',\n",
    "                  'emp_length',\n",
    "                  'fico_range_high',\n",
    "                  'funded_amnt_log',\n",
    "                  'grade',\n",
    "                  'has_36mo_loan',\n",
    "                  'has_delinq_now',\n",
    "                  'has_delinq_past2yrs',\n",
    "                  'has_fullypaid',\n",
    "                  'has_paid_early',\n",
    "                  'has_pub_rec',\n",
    "                  'has_whole_liststatus',\n",
    "                  'home_ownership',\n",
    "                  'inq_last_6mths',\n",
    "                  'installment_log',\n",
    "                  'int_rate',\n",
    "                  'open_acc_log',\n",
    "                  'purpose',\n",
    "                  'revol_bal_log',\n",
    "                  'revol_util',\n",
    "                  'tot_coll_amt_log',\n",
    "                  'tot_cur_bal_log',\n",
    "                  'total_acc_log',\n",
    "                  'verification_status']\n",
    "\n",
    "response_var = 'roi_response'\n",
    "response_var_5 = 'roi_response_5'\n",
    "response_var_neg_20 = 'roi_response_neg_20'\n",
    "response_var_charged_off = 'roi_response_charged_off'\n"
   ]
  },
  {
   "cell_type": "markdown",
   "metadata": {},
   "source": [
    "# Machine Learning"
   ]
  },
  {
   "cell_type": "markdown",
   "metadata": {},
   "source": [
    "### Logistic Regression\n",
    "- Goal is to build classifier that predicts if loan results in desirable outcome\n",
    "- Should also report feature importance"
   ]
  },
  {
   "cell_type": "code",
   "execution_count": 13,
   "metadata": {},
   "outputs": [],
   "source": [
    "# Dummify categorical features\n",
    "home_ownership_dummy = pd.get_dummies(df_cleaned['home_ownership'],\n",
    "                                      prefix=\"home_ownership\",drop_first=True)\n",
    "\n",
    "purpose_dummy = pd.get_dummies(df_cleaned['purpose'],\n",
    "                               prefix=\"purpose\",drop_first=True)\n",
    "\n",
    "verification_status_dummy = pd.get_dummies(df_cleaned['verification_status'],\n",
    "                               prefix=\"verification_status\",drop_first=True)\n"
   ]
  },
  {
   "cell_type": "code",
   "execution_count": 14,
   "metadata": {},
   "outputs": [],
   "source": [
    "# List of numeric features in the final dataframe\n",
    "numeric_vars = ['annual_inc_log',\n",
    "                'credit_hist_mths',\n",
    "                'delinq_amnt_log',\n",
    "                'dti_log',\n",
    "                'emp_length',\n",
    "                'fico_range_high',\n",
    "                'funded_amnt_log',\n",
    "                'grade',\n",
    "                'has_36mo_loan',\n",
    "                'has_delinq_now',\n",
    "                'has_delinq_past2yrs',\n",
    "                'has_pub_rec',\n",
    "                'has_whole_liststatus',\n",
    "                'inq_last_6mths',\n",
    "                'installment_log',\n",
    "                'int_rate',\n",
    "                'open_acc_log',\n",
    "                'revol_bal_log',\n",
    "                'revol_util',\n",
    "                'tot_coll_amt_log',\n",
    "                'tot_cur_bal_log',\n",
    "                'total_acc_log']"
   ]
  },
  {
   "cell_type": "code",
   "execution_count": 15,
   "metadata": {},
   "outputs": [],
   "source": [
    "# final dataframe for model consumption\n",
    "\n",
    "df_feature_final = pd.concat([df_cleaned[numeric_vars],\n",
    "                      home_ownership_dummy,\n",
    "                      purpose_dummy,\n",
    "                      verification_status_dummy],axis=1)\n"
   ]
  },
  {
   "cell_type": "code",
   "execution_count": 16,
   "metadata": {},
   "outputs": [
    {
     "data": {
      "text/html": [
       "<div>\n",
       "<style scoped>\n",
       "    .dataframe tbody tr th:only-of-type {\n",
       "        vertical-align: middle;\n",
       "    }\n",
       "\n",
       "    .dataframe tbody tr th {\n",
       "        vertical-align: top;\n",
       "    }\n",
       "\n",
       "    .dataframe thead th {\n",
       "        text-align: right;\n",
       "    }\n",
       "</style>\n",
       "<table border=\"1\" class=\"dataframe\">\n",
       "  <thead>\n",
       "    <tr style=\"text-align: right;\">\n",
       "      <th></th>\n",
       "      <th>annual_inc_log</th>\n",
       "      <th>credit_hist_mths</th>\n",
       "      <th>delinq_amnt_log</th>\n",
       "      <th>dti_log</th>\n",
       "      <th>emp_length</th>\n",
       "      <th>fico_range_high</th>\n",
       "      <th>funded_amnt_log</th>\n",
       "      <th>grade</th>\n",
       "      <th>has_36mo_loan</th>\n",
       "      <th>has_delinq_now</th>\n",
       "      <th>has_delinq_past2yrs</th>\n",
       "      <th>has_pub_rec</th>\n",
       "      <th>has_whole_liststatus</th>\n",
       "      <th>inq_last_6mths</th>\n",
       "      <th>installment_log</th>\n",
       "      <th>int_rate</th>\n",
       "      <th>open_acc_log</th>\n",
       "      <th>revol_bal_log</th>\n",
       "      <th>revol_util</th>\n",
       "      <th>tot_coll_amt_log</th>\n",
       "      <th>tot_cur_bal_log</th>\n",
       "      <th>total_acc_log</th>\n",
       "      <th>home_ownership_own</th>\n",
       "      <th>home_ownership_rent</th>\n",
       "      <th>purpose_debt_consolidation</th>\n",
       "      <th>purpose_other</th>\n",
       "      <th>verification_status_Source Verified</th>\n",
       "      <th>verification_status_Verified</th>\n",
       "    </tr>\n",
       "  </thead>\n",
       "  <tbody>\n",
       "    <tr>\n",
       "      <td>33775</td>\n",
       "      <td>0.003234</td>\n",
       "      <td>0.183631</td>\n",
       "      <td>-0.058612</td>\n",
       "      <td>0.871572</td>\n",
       "      <td>1.095149</td>\n",
       "      <td>2.307627</td>\n",
       "      <td>-0.212143</td>\n",
       "      <td>-1.342987</td>\n",
       "      <td>0.558221</td>\n",
       "      <td>-0.068969</td>\n",
       "      <td>-0.490903</td>\n",
       "      <td>-0.454488</td>\n",
       "      <td>-1.177565</td>\n",
       "      <td>-0.680439</td>\n",
       "      <td>-0.232232</td>\n",
       "      <td>-1.329533</td>\n",
       "      <td>0.777898</td>\n",
       "      <td>-0.634918</td>\n",
       "      <td>-1.691579</td>\n",
       "      <td>-0.487797</td>\n",
       "      <td>0.783494</td>\n",
       "      <td>0.592790</td>\n",
       "      <td>-0.348734</td>\n",
       "      <td>-0.815368</td>\n",
       "      <td>0.856201</td>\n",
       "      <td>-0.506651</td>\n",
       "      <td>-0.792002</td>\n",
       "      <td>-0.667150</td>\n",
       "    </tr>\n",
       "    <tr>\n",
       "      <td>41997</td>\n",
       "      <td>0.448524</td>\n",
       "      <td>-0.820966</td>\n",
       "      <td>-0.058612</td>\n",
       "      <td>0.931330</td>\n",
       "      <td>-1.524543</td>\n",
       "      <td>0.115395</td>\n",
       "      <td>1.567819</td>\n",
       "      <td>0.968740</td>\n",
       "      <td>-1.791407</td>\n",
       "      <td>-0.068969</td>\n",
       "      <td>-0.490903</td>\n",
       "      <td>-0.454488</td>\n",
       "      <td>-1.177565</td>\n",
       "      <td>-0.680439</td>\n",
       "      <td>1.360063</td>\n",
       "      <td>1.002273</td>\n",
       "      <td>0.100205</td>\n",
       "      <td>0.773695</td>\n",
       "      <td>0.579526</td>\n",
       "      <td>-0.487797</td>\n",
       "      <td>1.085135</td>\n",
       "      <td>-0.764489</td>\n",
       "      <td>-0.348734</td>\n",
       "      <td>-0.815368</td>\n",
       "      <td>0.856201</td>\n",
       "      <td>-0.506651</td>\n",
       "      <td>1.262622</td>\n",
       "      <td>-0.667150</td>\n",
       "    </tr>\n",
       "    <tr>\n",
       "      <td>2413</td>\n",
       "      <td>-0.459321</td>\n",
       "      <td>-0.765768</td>\n",
       "      <td>-0.058612</td>\n",
       "      <td>0.152116</td>\n",
       "      <td>1.095149</td>\n",
       "      <td>-0.510956</td>\n",
       "      <td>0.819848</td>\n",
       "      <td>0.198164</td>\n",
       "      <td>0.558221</td>\n",
       "      <td>-0.068969</td>\n",
       "      <td>-0.490903</td>\n",
       "      <td>-0.454488</td>\n",
       "      <td>-1.177565</td>\n",
       "      <td>0.341920</td>\n",
       "      <td>1.057392</td>\n",
       "      <td>0.579265</td>\n",
       "      <td>-0.577489</td>\n",
       "      <td>0.214238</td>\n",
       "      <td>1.438313</td>\n",
       "      <td>1.734238</td>\n",
       "      <td>0.496076</td>\n",
       "      <td>-0.764489</td>\n",
       "      <td>-0.348734</td>\n",
       "      <td>-0.815368</td>\n",
       "      <td>-1.167951</td>\n",
       "      <td>-0.506651</td>\n",
       "      <td>-0.792002</td>\n",
       "      <td>1.498914</td>\n",
       "    </tr>\n",
       "    <tr>\n",
       "      <td>86</td>\n",
       "      <td>-1.022803</td>\n",
       "      <td>-2.024275</td>\n",
       "      <td>-0.058612</td>\n",
       "      <td>-4.555191</td>\n",
       "      <td>-1.524543</td>\n",
       "      <td>-0.197780</td>\n",
       "      <td>-0.334475</td>\n",
       "      <td>1.739315</td>\n",
       "      <td>0.558221</td>\n",
       "      <td>-0.068969</td>\n",
       "      <td>-0.490903</td>\n",
       "      <td>-0.454488</td>\n",
       "      <td>-1.177565</td>\n",
       "      <td>7.498433</td>\n",
       "      <td>-0.192256</td>\n",
       "      <td>0.307782</td>\n",
       "      <td>-0.854951</td>\n",
       "      <td>-3.436411</td>\n",
       "      <td>-2.061956</td>\n",
       "      <td>1.734238</td>\n",
       "      <td>0.496076</td>\n",
       "      <td>-2.186921</td>\n",
       "      <td>-0.348734</td>\n",
       "      <td>-0.815368</td>\n",
       "      <td>-1.167951</td>\n",
       "      <td>1.973745</td>\n",
       "      <td>-0.792002</td>\n",
       "      <td>-0.667150</td>\n",
       "    </tr>\n",
       "    <tr>\n",
       "      <td>55480</td>\n",
       "      <td>-1.422386</td>\n",
       "      <td>-1.693089</td>\n",
       "      <td>-0.058612</td>\n",
       "      <td>-0.956221</td>\n",
       "      <td>-0.835151</td>\n",
       "      <td>-1.137308</td>\n",
       "      <td>-1.703582</td>\n",
       "      <td>0.968740</td>\n",
       "      <td>0.558221</td>\n",
       "      <td>-0.068969</td>\n",
       "      <td>-0.490903</td>\n",
       "      <td>-0.454488</td>\n",
       "      <td>0.849210</td>\n",
       "      <td>-0.680439</td>\n",
       "      <td>-1.526684</td>\n",
       "      <td>1.427386</td>\n",
       "      <td>-1.169511</td>\n",
       "      <td>-0.868114</td>\n",
       "      <td>0.542895</td>\n",
       "      <td>-0.487797</td>\n",
       "      <td>-1.832837</td>\n",
       "      <td>-2.460945</td>\n",
       "      <td>-0.348734</td>\n",
       "      <td>1.226440</td>\n",
       "      <td>-1.167951</td>\n",
       "      <td>1.973745</td>\n",
       "      <td>-0.792002</td>\n",
       "      <td>1.498914</td>\n",
       "    </tr>\n",
       "    <tr>\n",
       "      <td>56214</td>\n",
       "      <td>1.067893</td>\n",
       "      <td>-0.136515</td>\n",
       "      <td>-0.058612</td>\n",
       "      <td>-3.467230</td>\n",
       "      <td>-1.386665</td>\n",
       "      <td>0.741747</td>\n",
       "      <td>-1.061500</td>\n",
       "      <td>-1.342987</td>\n",
       "      <td>0.558221</td>\n",
       "      <td>-0.068969</td>\n",
       "      <td>-0.490903</td>\n",
       "      <td>-0.454488</td>\n",
       "      <td>0.849210</td>\n",
       "      <td>0.341920</td>\n",
       "      <td>-1.116306</td>\n",
       "      <td>-1.203262</td>\n",
       "      <td>-1.532645</td>\n",
       "      <td>-0.555367</td>\n",
       "      <td>-1.634598</td>\n",
       "      <td>-0.487797</td>\n",
       "      <td>-2.161968</td>\n",
       "      <td>-0.306568</td>\n",
       "      <td>2.867518</td>\n",
       "      <td>-0.815368</td>\n",
       "      <td>-1.167951</td>\n",
       "      <td>-0.506651</td>\n",
       "      <td>-0.792002</td>\n",
       "      <td>1.498914</td>\n",
       "    </tr>\n",
       "    <tr>\n",
       "      <td>39490</td>\n",
       "      <td>0.131922</td>\n",
       "      <td>-1.593733</td>\n",
       "      <td>-0.058612</td>\n",
       "      <td>0.158935</td>\n",
       "      <td>-1.110908</td>\n",
       "      <td>-0.824132</td>\n",
       "      <td>-1.934435</td>\n",
       "      <td>2.509891</td>\n",
       "      <td>0.558221</td>\n",
       "      <td>-0.068969</td>\n",
       "      <td>-0.490903</td>\n",
       "      <td>-0.454488</td>\n",
       "      <td>0.849210</td>\n",
       "      <td>-0.680439</td>\n",
       "      <td>-1.728897</td>\n",
       "      <td>1.848289</td>\n",
       "      <td>-1.169511</td>\n",
       "      <td>-1.623969</td>\n",
       "      <td>-0.218210</td>\n",
       "      <td>-0.487797</td>\n",
       "      <td>-1.324957</td>\n",
       "      <td>-2.186921</td>\n",
       "      <td>2.867518</td>\n",
       "      <td>-0.815368</td>\n",
       "      <td>-1.167951</td>\n",
       "      <td>1.973745</td>\n",
       "      <td>-0.792002</td>\n",
       "      <td>1.498914</td>\n",
       "    </tr>\n",
       "    <tr>\n",
       "      <td>28516</td>\n",
       "      <td>0.916797</td>\n",
       "      <td>0.989517</td>\n",
       "      <td>-0.058612</td>\n",
       "      <td>0.714620</td>\n",
       "      <td>1.095149</td>\n",
       "      <td>-0.510956</td>\n",
       "      <td>1.567819</td>\n",
       "      <td>-0.572411</td>\n",
       "      <td>0.558221</td>\n",
       "      <td>-0.068969</td>\n",
       "      <td>2.037061</td>\n",
       "      <td>-0.454488</td>\n",
       "      <td>0.849210</td>\n",
       "      <td>-0.680439</td>\n",
       "      <td>1.721638</td>\n",
       "      <td>-0.677132</td>\n",
       "      <td>-1.169511</td>\n",
       "      <td>0.863804</td>\n",
       "      <td>0.595806</td>\n",
       "      <td>-0.487797</td>\n",
       "      <td>-0.042978</td>\n",
       "      <td>-0.411829</td>\n",
       "      <td>-0.348734</td>\n",
       "      <td>1.226440</td>\n",
       "      <td>-1.167951</td>\n",
       "      <td>-0.506651</td>\n",
       "      <td>1.262622</td>\n",
       "      <td>-0.667150</td>\n",
       "    </tr>\n",
       "    <tr>\n",
       "      <td>29231</td>\n",
       "      <td>0.385371</td>\n",
       "      <td>1.265505</td>\n",
       "      <td>-0.058612</td>\n",
       "      <td>0.744325</td>\n",
       "      <td>1.095149</td>\n",
       "      <td>-0.824132</td>\n",
       "      <td>1.089738</td>\n",
       "      <td>1.739315</td>\n",
       "      <td>-1.791407</td>\n",
       "      <td>-0.068969</td>\n",
       "      <td>-0.490903</td>\n",
       "      <td>2.200280</td>\n",
       "      <td>-1.177565</td>\n",
       "      <td>1.364279</td>\n",
       "      <td>0.970655</td>\n",
       "      <td>1.780945</td>\n",
       "      <td>2.096187</td>\n",
       "      <td>0.142173</td>\n",
       "      <td>-0.869423</td>\n",
       "      <td>-0.487797</td>\n",
       "      <td>-0.218620</td>\n",
       "      <td>1.947932</td>\n",
       "      <td>2.867518</td>\n",
       "      <td>-0.815368</td>\n",
       "      <td>0.856201</td>\n",
       "      <td>-0.506651</td>\n",
       "      <td>-0.792002</td>\n",
       "      <td>1.498914</td>\n",
       "    </tr>\n",
       "    <tr>\n",
       "      <td>52171</td>\n",
       "      <td>-0.635318</td>\n",
       "      <td>-1.207350</td>\n",
       "      <td>-0.058612</td>\n",
       "      <td>-0.641452</td>\n",
       "      <td>-1.524543</td>\n",
       "      <td>-0.667544</td>\n",
       "      <td>-0.529175</td>\n",
       "      <td>-0.572411</td>\n",
       "      <td>0.558221</td>\n",
       "      <td>-0.068969</td>\n",
       "      <td>-0.490903</td>\n",
       "      <td>-0.454488</td>\n",
       "      <td>0.849210</td>\n",
       "      <td>0.341920</td>\n",
       "      <td>-0.477260</td>\n",
       "      <td>-0.466681</td>\n",
       "      <td>-0.104768</td>\n",
       "      <td>-0.068093</td>\n",
       "      <td>-0.368803</td>\n",
       "      <td>-0.487797</td>\n",
       "      <td>-0.824743</td>\n",
       "      <td>-1.038514</td>\n",
       "      <td>-0.348734</td>\n",
       "      <td>1.226440</td>\n",
       "      <td>0.856201</td>\n",
       "      <td>-0.506651</td>\n",
       "      <td>1.262622</td>\n",
       "      <td>-0.667150</td>\n",
       "    </tr>\n",
       "  </tbody>\n",
       "</table>\n",
       "</div>"
      ],
      "text/plain": [
       "       annual_inc_log  credit_hist_mths  delinq_amnt_log   dti_log  \\\n",
       "33775        0.003234          0.183631        -0.058612  0.871572   \n",
       "41997        0.448524         -0.820966        -0.058612  0.931330   \n",
       "2413        -0.459321         -0.765768        -0.058612  0.152116   \n",
       "86          -1.022803         -2.024275        -0.058612 -4.555191   \n",
       "55480       -1.422386         -1.693089        -0.058612 -0.956221   \n",
       "56214        1.067893         -0.136515        -0.058612 -3.467230   \n",
       "39490        0.131922         -1.593733        -0.058612  0.158935   \n",
       "28516        0.916797          0.989517        -0.058612  0.714620   \n",
       "29231        0.385371          1.265505        -0.058612  0.744325   \n",
       "52171       -0.635318         -1.207350        -0.058612 -0.641452   \n",
       "\n",
       "       emp_length  fico_range_high  funded_amnt_log     grade  has_36mo_loan  \\\n",
       "33775    1.095149         2.307627        -0.212143 -1.342987       0.558221   \n",
       "41997   -1.524543         0.115395         1.567819  0.968740      -1.791407   \n",
       "2413     1.095149        -0.510956         0.819848  0.198164       0.558221   \n",
       "86      -1.524543        -0.197780        -0.334475  1.739315       0.558221   \n",
       "55480   -0.835151        -1.137308        -1.703582  0.968740       0.558221   \n",
       "56214   -1.386665         0.741747        -1.061500 -1.342987       0.558221   \n",
       "39490   -1.110908        -0.824132        -1.934435  2.509891       0.558221   \n",
       "28516    1.095149        -0.510956         1.567819 -0.572411       0.558221   \n",
       "29231    1.095149        -0.824132         1.089738  1.739315      -1.791407   \n",
       "52171   -1.524543        -0.667544        -0.529175 -0.572411       0.558221   \n",
       "\n",
       "       has_delinq_now  has_delinq_past2yrs  has_pub_rec  has_whole_liststatus  \\\n",
       "33775       -0.068969            -0.490903    -0.454488             -1.177565   \n",
       "41997       -0.068969            -0.490903    -0.454488             -1.177565   \n",
       "2413        -0.068969            -0.490903    -0.454488             -1.177565   \n",
       "86          -0.068969            -0.490903    -0.454488             -1.177565   \n",
       "55480       -0.068969            -0.490903    -0.454488              0.849210   \n",
       "56214       -0.068969            -0.490903    -0.454488              0.849210   \n",
       "39490       -0.068969            -0.490903    -0.454488              0.849210   \n",
       "28516       -0.068969             2.037061    -0.454488              0.849210   \n",
       "29231       -0.068969            -0.490903     2.200280             -1.177565   \n",
       "52171       -0.068969            -0.490903    -0.454488              0.849210   \n",
       "\n",
       "       inq_last_6mths  installment_log  int_rate  open_acc_log  revol_bal_log  \\\n",
       "33775       -0.680439        -0.232232 -1.329533      0.777898      -0.634918   \n",
       "41997       -0.680439         1.360063  1.002273      0.100205       0.773695   \n",
       "2413         0.341920         1.057392  0.579265     -0.577489       0.214238   \n",
       "86           7.498433        -0.192256  0.307782     -0.854951      -3.436411   \n",
       "55480       -0.680439        -1.526684  1.427386     -1.169511      -0.868114   \n",
       "56214        0.341920        -1.116306 -1.203262     -1.532645      -0.555367   \n",
       "39490       -0.680439        -1.728897  1.848289     -1.169511      -1.623969   \n",
       "28516       -0.680439         1.721638 -0.677132     -1.169511       0.863804   \n",
       "29231        1.364279         0.970655  1.780945      2.096187       0.142173   \n",
       "52171        0.341920        -0.477260 -0.466681     -0.104768      -0.068093   \n",
       "\n",
       "       revol_util  tot_coll_amt_log  tot_cur_bal_log  total_acc_log  \\\n",
       "33775   -1.691579         -0.487797         0.783494       0.592790   \n",
       "41997    0.579526         -0.487797         1.085135      -0.764489   \n",
       "2413     1.438313          1.734238         0.496076      -0.764489   \n",
       "86      -2.061956          1.734238         0.496076      -2.186921   \n",
       "55480    0.542895         -0.487797        -1.832837      -2.460945   \n",
       "56214   -1.634598         -0.487797        -2.161968      -0.306568   \n",
       "39490   -0.218210         -0.487797        -1.324957      -2.186921   \n",
       "28516    0.595806         -0.487797        -0.042978      -0.411829   \n",
       "29231   -0.869423         -0.487797        -0.218620       1.947932   \n",
       "52171   -0.368803         -0.487797        -0.824743      -1.038514   \n",
       "\n",
       "       home_ownership_own  home_ownership_rent  purpose_debt_consolidation  \\\n",
       "33775           -0.348734            -0.815368                    0.856201   \n",
       "41997           -0.348734            -0.815368                    0.856201   \n",
       "2413            -0.348734            -0.815368                   -1.167951   \n",
       "86              -0.348734            -0.815368                   -1.167951   \n",
       "55480           -0.348734             1.226440                   -1.167951   \n",
       "56214            2.867518            -0.815368                   -1.167951   \n",
       "39490            2.867518            -0.815368                   -1.167951   \n",
       "28516           -0.348734             1.226440                   -1.167951   \n",
       "29231            2.867518            -0.815368                    0.856201   \n",
       "52171           -0.348734             1.226440                    0.856201   \n",
       "\n",
       "       purpose_other  verification_status_Source Verified  \\\n",
       "33775      -0.506651                            -0.792002   \n",
       "41997      -0.506651                             1.262622   \n",
       "2413       -0.506651                            -0.792002   \n",
       "86          1.973745                            -0.792002   \n",
       "55480       1.973745                            -0.792002   \n",
       "56214      -0.506651                            -0.792002   \n",
       "39490       1.973745                            -0.792002   \n",
       "28516      -0.506651                             1.262622   \n",
       "29231      -0.506651                            -0.792002   \n",
       "52171      -0.506651                             1.262622   \n",
       "\n",
       "       verification_status_Verified  \n",
       "33775                     -0.667150  \n",
       "41997                     -0.667150  \n",
       "2413                       1.498914  \n",
       "86                        -0.667150  \n",
       "55480                      1.498914  \n",
       "56214                      1.498914  \n",
       "39490                      1.498914  \n",
       "28516                     -0.667150  \n",
       "29231                      1.498914  \n",
       "52171                     -0.667150  "
      ]
     },
     "execution_count": 16,
     "metadata": {},
     "output_type": "execute_result"
    }
   ],
   "source": [
    "# standardize final dataframe\n",
    "from sklearn.preprocessing import StandardScaler\n",
    "scaler = StandardScaler()\n",
    "scaler.fit(df_feature_final)\n",
    "df_feature_final_scaled = pd.DataFrame(scaler.transform(df_feature_final))\n",
    "df_feature_final_scaled.columns = df_feature_final.columns\n",
    "df_feature_final_scaled.sample(10)"
   ]
  },
  {
   "cell_type": "code",
   "execution_count": 226,
   "metadata": {},
   "outputs": [],
   "source": [
    "# Need to reset index because feature index changed\n",
    "class_response_neg_20 = df_cleaned[response_var_neg_20].reset_index().drop('index',axis=1)\n",
    "class_response_charged_off = df_cleaned[response_var_charged_off].reset_index().drop('index',axis=1)"
   ]
  },
  {
   "cell_type": "markdown",
   "metadata": {},
   "source": [
    "### Logistic Regression"
   ]
  },
  {
   "cell_type": "code",
   "execution_count": 18,
   "metadata": {},
   "outputs": [],
   "source": [
    "from sklearn.linear_model import LogisticRegression\n",
    "from sklearn.model_selection import GridSearchCV\n",
    "from sklearn.metrics import confusion_matrix \n",
    "from sklearn.feature_selection import SelectFromModel\n",
    "import statsmodels.api as sm"
   ]
  },
  {
   "cell_type": "markdown",
   "metadata": {},
   "source": [
    "### Model based on -20% threshold"
   ]
  },
  {
   "cell_type": "code",
   "execution_count": 20,
   "metadata": {},
   "outputs": [],
   "source": [
    "def con_mtx(con_matrix):\n",
    "    tn, fp, fn, tp = con_matrix.ravel()\n",
    "\n",
    "    #Calculate metrics\n",
    "    acc_ = (tp + tn) / (tp + tn + fn + fp) #accuracy\n",
    "    err_rate = (fp + fn) / (tp + tn + fn + fp) #error rate\n",
    "    sens_ = tp / (tp + fn) #sensitivity\n",
    "    sp_ = tn / (tn + fp) #specificity\n",
    "    pcs = tp / (tp + fp) #false positive rate \n",
    "    rcl = tp / (tp + fn)\n",
    "    #Print results\n",
    "    print(\"Accuracy  : \", acc_)\n",
    "    print(\"Error rate  : \", err_rate)\n",
    "    print(\"Sensitivity  : \", sens_)\n",
    "    print(\"Specificity  : \", sp_)\n",
    "    print(\"precision  : \", pcs)\n",
    "    print(\"recall  : \", rcl)"
   ]
  },
  {
   "cell_type": "code",
   "execution_count": 21,
   "metadata": {},
   "outputs": [
    {
     "name": "stdout",
     "output_type": "stream",
     "text": [
      "Optimization terminated successfully.\n",
      "         Current function value: 0.671437\n",
      "         Iterations 5\n",
      "                            Logit Regression Results                           \n",
      "===============================================================================\n",
      "Dep. Variable:     roi_response_neg_20   No. Observations:                67805\n",
      "Model:                           Logit   Df Residuals:                    67777\n",
      "Method:                            MLE   Df Model:                           27\n",
      "Date:                 Tue, 24 Mar 2020   Pseudo R-squ.:                 -0.5175\n",
      "Time:                         19:40:05   Log-Likelihood:                -45527.\n",
      "converged:                        True   LL-Null:                       -30002.\n",
      "Covariance Type:             nonrobust   LLR p-value:                     1.000\n",
      "=======================================================================================================\n",
      "                                          coef    std err          z      P>|z|      [0.025      0.975]\n",
      "-------------------------------------------------------------------------------------------------------\n",
      "annual_inc_log                          0.0399      0.011      3.643      0.000       0.018       0.061\n",
      "credit_hist_mths                       -0.0124      0.009     -1.411      0.158      -0.030       0.005\n",
      "delinq_amnt_log                         0.0078      0.010      0.764      0.445      -0.012       0.028\n",
      "dti_log                                -0.0872      0.010     -8.802      0.000      -0.107      -0.068\n",
      "emp_length                              0.0155      0.008      1.896      0.058      -0.001       0.032\n",
      "fico_range_high                         0.0632      0.011      5.577      0.000       0.041       0.085\n",
      "funded_amnt_log                         0.5571      0.366      1.523      0.128      -0.160       1.274\n",
      "grade                                  -0.0420      0.026     -1.617      0.106      -0.093       0.009\n",
      "has_36mo_loan                           0.2899      0.084      3.450      0.001       0.125       0.455\n",
      "has_delinq_now                          0.0002      0.010      0.020      0.984      -0.020       0.020\n",
      "has_delinq_past2yrs                    -0.0073      0.008     -0.863      0.388      -0.024       0.009\n",
      "has_pub_rec                            -0.0126      0.009     -1.473      0.141      -0.029       0.004\n",
      "has_whole_liststatus                   -0.0566      0.008     -6.899      0.000      -0.073      -0.040\n",
      "inq_last_6mths                         -0.0391      0.008     -4.675      0.000      -0.056      -0.023\n",
      "installment_log                        -0.6091      0.346     -1.760      0.078      -1.287       0.069\n",
      "int_rate                               -0.1293      0.048     -2.687      0.007      -0.224      -0.035\n",
      "open_acc_log                           -0.0603      0.013     -4.735      0.000      -0.085      -0.035\n",
      "revol_bal_log                           0.0265      0.011      2.395      0.017       0.005       0.048\n",
      "revol_util                              0.0223      0.012      1.894      0.058      -0.001       0.045\n",
      "tot_coll_amt_log                        0.0002      0.008      0.027      0.978      -0.016       0.016\n",
      "tot_cur_bal_log                         0.0483      0.012      4.138      0.000       0.025       0.071\n",
      "total_acc_log                           0.0723      0.012      5.820      0.000       0.048       0.097\n",
      "home_ownership_own                     -0.0118      0.009     -1.380      0.168      -0.029       0.005\n",
      "home_ownership_rent                    -0.0613      0.010     -6.019      0.000      -0.081      -0.041\n",
      "purpose_debt_consolidation             -0.0081      0.010     -0.815      0.415      -0.028       0.011\n",
      "purpose_other                          -0.0355      0.011     -3.362      0.001      -0.056      -0.015\n",
      "verification_status_Source Verified    -0.0310      0.009     -3.266      0.001      -0.050      -0.012\n",
      "verification_status_Verified           -0.0284      0.010     -2.922      0.003      -0.047      -0.009\n",
      "=======================================================================================================\n"
     ]
    }
   ],
   "source": [
    "# Quick Glance of the Data\n",
    "result_neg_20 = sm.Logit(class_response_neg_20,\n",
    "                         df_feature_final_scaled).fit()\n",
    "\n",
    "print(result_neg_20.summary())"
   ]
  },
  {
   "cell_type": "code",
   "execution_count": 398,
   "metadata": {},
   "outputs": [],
   "source": [
    "plt.rcParams['figure.figsize'] = (10,5)\n",
    "y_min, y_max = -1.5,1.5"
   ]
  },
  {
   "cell_type": "code",
   "execution_count": 400,
   "metadata": {},
   "outputs": [],
   "source": [
    "table_neg_20 = pd.DataFrame(result_neg_20.summary().tables[1].data[1:])\n",
    "table_neg_20.columns = ['name','coef','std err','t value','p value','2.5% confidence','97.5% confidence']\n",
    "table_neg_20 = table_neg_20.astype({'name':str,'coef':float,'std err':float, 't value':float, 'p value':float, '2.5% confidence':float, '97.5% confidence':float})\n",
    "slope_table_neg_20 = table_neg_20[['name', 'coef', '2.5% confidence', '97.5% confidence']].iloc[1:]"
   ]
  },
  {
   "cell_type": "code",
   "execution_count": 401,
   "metadata": {},
   "outputs": [
    {
     "data": {
      "text/plain": [
       "<matplotlib.legend.Legend at 0x1a30379c10>"
      ]
     },
     "execution_count": 401,
     "metadata": {},
     "output_type": "execute_result"
    },
    {
     "data": {
      "image/png": "[encoded data removed]",
      "text/plain": [
       "<Figure size 720x360 with 1 Axes>"
      ]
     },
     "metadata": {
      "needs_background": "light"
     },
     "output_type": "display_data"
    }
   ],
   "source": [
    "slope_table_neg_20['y_min'] = slope_table_neg_20['2.5% confidence'].map(lambda t:(t-y_min)/(y_max-y_min))\n",
    "slope_table_neg_20['y_max'] = slope_table_neg_20['97.5% confidence'].map(lambda t:(t-y_min)/(y_max-y_min))\n",
    "x = range(1,28)\n",
    "plt.scatter(x, slope_table_neg_20['coef'], label='slope', c='b')\n",
    "plt.axhline(0,linestyle='--', c='r')\n",
    "\n",
    "for i in x:\n",
    "    plt.axvline(i, ymin=slope_table_neg_20['y_min'][i], ymax=slope_table_neg_20['y_max'][i], marker='+', alpha=0.3)\n",
    "plt.xticks(x,slope_table_neg_20.name,rotation='vertical')\n",
    "plt.ylim((y_min, y_max))\n",
    "plt.title('slopes and their CIs')\n",
    "plt.legend(loc=4)"
   ]
  },
  {
   "cell_type": "code",
   "execution_count": 146,
   "metadata": {},
   "outputs": [
    {
     "name": "stdout",
     "output_type": "stream",
     "text": [
      "CPU times: user 2 µs, sys: 0 ns, total: 2 µs\n",
      "Wall time: 4.77 µs\n"
     ]
    }
   ],
   "source": [
    "# Train logistic model using class_weight balanced and f1 score (maximizing precision)\n",
    "lr_neg_20 = LogisticRegression(n_jobs=-1, \n",
    "                               solver='liblinear', \n",
    "                               class_weight=\"balanced\", \n",
    "                               #penalty='l2'\n",
    "                              )\n",
    "\n",
    "c_param_neg_20 = {'C':np.logspace(-4,4,10),'penalty':['l1','l2']} #,\n",
    "gs_lr_neg_20 = GridSearchCV(lr_neg_20, c_param_neg_20, cv=3, scoring='f1')\n",
    "gs_lr_neg_20.fit(df_feature_final_scaled, class_response_neg_20)\n",
    "\n",
    "%time"
   ]
  },
  {
   "cell_type": "code",
   "execution_count": 147,
   "metadata": {},
   "outputs": [
    {
     "name": "stdout",
     "output_type": "stream",
     "text": [
      "{'C': 0.005994842503189409, 'penalty': 'l2'}\n",
      "con_mtx:\n",
      "[[ 7099  3865]\n",
      " [19107 37734]]\n",
      "Accuracy  :  0.661204925890421\n",
      "Error rate  :  0.33879507410957893\n",
      "Sensitivity  :  0.6638517971182774\n",
      "Specificity  :  0.6474826705581904\n",
      "precision  :  0.9070891127190558\n",
      "recall  :  0.6638517971182774\n"
     ]
    }
   ],
   "source": [
    "# # CV results\n",
    "print(gs_lr_neg_20.best_params_)\n",
    "\n",
    "con_matrix_neg_20 = confusion_matrix(class_response_neg_20, \n",
    "                                     gs_lr_neg_20.best_estimator_.predict(df_feature_final_scaled))\n",
    "\n",
    "print(\"con_mtx:\")\n",
    "\n",
    "print(con_matrix_neg_20)\n",
    "\n",
    "con_mtx(con_matrix_neg_20)"
   ]
  },
  {
   "cell_type": "markdown",
   "metadata": {},
   "source": [
    "**Feature Selection**"
   ]
  },
  {
   "cell_type": "code",
   "execution_count": 150,
   "metadata": {},
   "outputs": [
    {
     "data": {
      "text/plain": [
       "{'dti_log',\n",
       " 'fico_range_high',\n",
       " 'funded_amnt_log',\n",
       " 'grade',\n",
       " 'has_36mo_loan',\n",
       " 'has_whole_liststatus',\n",
       " 'home_ownership_rent',\n",
       " 'int_rate',\n",
       " 'open_acc_log',\n",
       " 'tot_cur_bal_log',\n",
       " 'total_acc_log'}"
      ]
     },
     "execution_count": 150,
     "metadata": {},
     "output_type": "execute_result"
    }
   ],
   "source": [
    "sel_neg_20 = SelectFromModel(LogisticRegression(C=gs_lr_neg_20.best_params_[\"C\"], \n",
    "                                                penalty= gs_lr_neg_20.best_params_[\"penalty\"],\n",
    "                                                solver='liblinear'))\n",
    "\n",
    "sel_neg_20.fit(df_feature_final_scaled, \n",
    "               class_response_neg_20)\n",
    "\n",
    "# 11 Features selected\n",
    "selected_feat_neg_20 = df_feature_final_scaled.columns[(sel_neg_20.get_support())]\n",
    "set(np.array(selected_feat_neg_20))"
   ]
  },
  {
   "cell_type": "code",
   "execution_count": 151,
   "metadata": {},
   "outputs": [
    {
     "data": {
      "text/plain": [
       "{'annual_inc_log',\n",
       " 'credit_hist_mths',\n",
       " 'delinq_amnt_log',\n",
       " 'emp_length',\n",
       " 'has_delinq_now',\n",
       " 'has_delinq_past2yrs',\n",
       " 'has_pub_rec',\n",
       " 'home_ownership_own',\n",
       " 'inq_last_6mths',\n",
       " 'installment_log',\n",
       " 'purpose_debt_consolidation',\n",
       " 'purpose_other',\n",
       " 'revol_bal_log',\n",
       " 'revol_util',\n",
       " 'tot_coll_amt_log',\n",
       " 'verification_status_Source Verified',\n",
       " 'verification_status_Verified'}"
      ]
     },
     "execution_count": 151,
     "metadata": {},
     "output_type": "execute_result"
    }
   ],
   "source": [
    "# Features dropped\n",
    "set(df_feature_final_scaled.columns)-set(selected_feat_neg_20)"
   ]
  },
  {
   "cell_type": "markdown",
   "metadata": {},
   "source": [
    "**Train Test Using Only 11 features  - generates similar results**"
   ]
  },
  {
   "cell_type": "code",
   "execution_count": 152,
   "metadata": {},
   "outputs": [],
   "source": [
    "from sklearn.model_selection import train_test_split"
   ]
  },
  {
   "cell_type": "code",
   "execution_count": 172,
   "metadata": {},
   "outputs": [
    {
     "data": {
      "text/plain": [
       "LogisticRegression(C=0.005994842503189409, class_weight='balanced', dual=False,\n",
       "                   fit_intercept=True, intercept_scaling=1, l1_ratio=None,\n",
       "                   max_iter=100, multi_class='auto', n_jobs=-1, penalty='l2',\n",
       "                   random_state=None, solver='liblinear', tol=0.0001, verbose=0,\n",
       "                   warm_start=False)"
      ]
     },
     "execution_count": 172,
     "metadata": {},
     "output_type": "execute_result"
    }
   ],
   "source": [
    "X_train_neg_20, X_test_neg_20, y_train_neg_20, y_test_neg_20 = train_test_split(\n",
    "                                                    df_feature_final_scaled[selected_feat_neg_20], \n",
    "                                                    class_response_neg_20, \n",
    "                                                    test_size=0.2)\n",
    "\n",
    "lr_train_neg_20 = LogisticRegression(C=gs_lr_neg_20.best_params_[\"C\"],\n",
    "                                     penalty= gs_lr_neg_20.best_params_[\"penalty\"],\n",
    "                                     n_jobs=-1, \n",
    "                                     class_weight=\"balanced\", \n",
    "                                     solver='liblinear')\n",
    "\n",
    "lr_train_neg_20.fit(X_train_neg_20,y_train_neg_20)"
   ]
  },
  {
   "cell_type": "code",
   "execution_count": 173,
   "metadata": {},
   "outputs": [
    {
     "name": "stdout",
     "output_type": "stream",
     "text": [
      "Accuracy  :  0.6606076248064302\n",
      "Error rate  :  0.3393923751935698\n",
      "Sensitivity  :  0.6644893111638955\n",
      "Specificity  :  0.6404968094804011\n",
      "precision  :  0.9054483337329178\n",
      "recall  :  0.6644893111638955\n"
     ]
    }
   ],
   "source": [
    "# Train Scores\n",
    "con_mtx(confusion_matrix(y_train_neg_20, \n",
    "                 lr_train_neg_20.predict(X_train_neg_20)))\n"
   ]
  },
  {
   "cell_type": "code",
   "execution_count": 174,
   "metadata": {},
   "outputs": [
    {
     "name": "stdout",
     "output_type": "stream",
     "text": [
      "Accuracy  :  0.6597596047489124\n",
      "Error rate  :  0.3402403952510877\n",
      "Sensitivity  :  0.6658753187373604\n",
      "Specificity  :  0.6279707495429616\n",
      "precision  :  0.9029450339811613\n",
      "recall  :  0.6658753187373604\n"
     ]
    }
   ],
   "source": [
    "# Test Scores\n",
    "con_mtx(confusion_matrix(y_test_neg_20, \n",
    "                 lr_train_neg_20.predict(X_test_neg_20)))\n"
   ]
  },
  {
   "cell_type": "code",
   "execution_count": 175,
   "metadata": {},
   "outputs": [
    {
     "name": "stdout",
     "output_type": "stream",
     "text": [
      "Accuracy  :  0.6604380207949266\n",
      "Error rate  :  0.33956197920507336\n",
      "Sensitivity  :  0.6647666297215038\n",
      "Specificity  :  0.6379970813571689\n",
      "precision  :  0.9049455155071249\n",
      "recall  :  0.6647666297215038\n"
     ]
    }
   ],
   "source": [
    "# All Sample Scores\n",
    "con_mtx(confusion_matrix(class_response_neg_20, \n",
    "                         lr_train_neg_20.predict(df_feature_final_scaled[selected_feat_neg_20]))\n",
    ")"
   ]
  },
  {
   "cell_type": "code",
   "execution_count": 404,
   "metadata": {},
   "outputs": [
    {
     "data": {
      "text/plain": [
       "array([[ 6995,  3969],\n",
       "       [19055, 37786]])"
      ]
     },
     "execution_count": 404,
     "metadata": {},
     "output_type": "execute_result"
    }
   ],
   "source": [
    "confusion_matrix(class_response_neg_20, \n",
    "                         lr_train_neg_20.predict(df_feature_final_scaled[selected_feat_neg_20]))"
   ]
  },
  {
   "cell_type": "markdown",
   "metadata": {},
   "source": [
    "### Model predicting default/charged off"
   ]
  },
  {
   "cell_type": "code",
   "execution_count": 223,
   "metadata": {},
   "outputs": [
    {
     "name": "stdout",
     "output_type": "stream",
     "text": [
      "Optimization terminated successfully.\n",
      "         Current function value: 0.662439\n",
      "         Iterations 5\n",
      "                              Logit Regression Results                              \n",
      "====================================================================================\n",
      "Dep. Variable:     roi_response_charged_off   No. Observations:                67805\n",
      "Model:                                Logit   Df Residuals:                    67777\n",
      "Method:                                 MLE   Df Model:                           27\n",
      "Date:                      Tue, 24 Mar 2020   Pseudo R-squ.:                 -0.3216\n",
      "Time:                              23:56:11   Log-Likelihood:                -44917.\n",
      "converged:                             True   LL-Null:                       -33987.\n",
      "Covariance Type:                  nonrobust   LLR p-value:                     1.000\n",
      "=======================================================================================================\n",
      "                                          coef    std err          z      P>|z|      [0.025      0.975]\n",
      "-------------------------------------------------------------------------------------------------------\n",
      "annual_inc_log                         -0.0577      0.011     -5.187      0.000      -0.080      -0.036\n",
      "credit_hist_mths                        0.0174      0.009      1.966      0.049    5.54e-05       0.035\n",
      "delinq_amnt_log                        -0.0093      0.010     -0.900      0.368      -0.030       0.011\n",
      "dti_log                                 0.0982      0.010      9.791      0.000       0.079       0.118\n",
      "emp_length                             -0.0087      0.008     -1.056      0.291      -0.025       0.007\n",
      "fico_range_high                        -0.0766      0.011     -6.676      0.000      -0.099      -0.054\n",
      "funded_amnt_log                        -0.8757      0.376     -2.330      0.020      -1.613      -0.139\n",
      "grade                                   0.1838      0.026      6.985      0.000       0.132       0.235\n",
      "has_36mo_loan                          -0.3830      0.086     -4.433      0.000      -0.552      -0.214\n",
      "has_delinq_now                         -0.0013      0.010     -0.123      0.902      -0.022       0.019\n",
      "has_delinq_past2yrs                     0.0106      0.009      1.246      0.213      -0.006       0.027\n",
      "has_pub_rec                             0.0162      0.009      1.881      0.060      -0.001       0.033\n",
      "has_whole_liststatus                    0.0311      0.008      3.764      0.000       0.015       0.047\n",
      "inq_last_6mths                          0.0503      0.008      5.934      0.000       0.034       0.067\n",
      "installment_log                         0.9220      0.356      2.593      0.010       0.225       1.619\n",
      "int_rate                               -0.0014      0.049     -0.028      0.978      -0.098       0.095\n",
      "open_acc_log                            0.0923      0.013      7.184      0.000       0.067       0.117\n",
      "revol_bal_log                          -0.0502      0.011     -4.488      0.000      -0.072      -0.028\n",
      "revol_util                              0.0144      0.012      1.213      0.225      -0.009       0.038\n",
      "tot_coll_amt_log                        0.0036      0.008      0.434      0.665      -0.013       0.020\n",
      "tot_cur_bal_log                        -0.0712      0.012     -6.035      0.000      -0.094      -0.048\n",
      "total_acc_log                          -0.0762      0.013     -6.077      0.000      -0.101      -0.052\n",
      "home_ownership_own                      0.0137      0.009      1.583      0.113      -0.003       0.031\n",
      "home_ownership_rent                     0.0719      0.010      6.998      0.000       0.052       0.092\n",
      "purpose_debt_consolidation              0.0054      0.010      0.539      0.590      -0.014       0.025\n",
      "purpose_other                           0.0355      0.011      3.335      0.001       0.015       0.056\n",
      "verification_status_Source Verified     0.0409      0.010      4.279      0.000       0.022       0.060\n",
      "verification_status_Verified            0.0416      0.010      4.241      0.000       0.022       0.061\n",
      "=======================================================================================================\n"
     ]
    }
   ],
   "source": [
    "# Quick Glance of the Data\n",
    "result_charged_off = sm.Logit(class_response_charged_off,\n",
    "                         df_feature_final_scaled).fit()\n",
    "\n",
    "print(result_charged_off.summary())"
   ]
  },
  {
   "cell_type": "code",
   "execution_count": 235,
   "metadata": {},
   "outputs": [
    {
     "name": "stdout",
     "output_type": "stream",
     "text": [
      "CPU times: user 3 µs, sys: 1 µs, total: 4 µs\n",
      "Wall time: 30.3 µs\n"
     ]
    }
   ],
   "source": [
    "# Train logistic model using class_weight balanced and f1 score (maximizing precision)\n",
    "\n",
    "lr_charged_off = LogisticRegression(n_jobs=-1, \n",
    "                               solver='liblinear', \n",
    "                               class_weight=\"balanced\", \n",
    "                               penalty='l2'\n",
    "                              )\n",
    "\n",
    "c_param_charged_off = {'C':np.logspace(-4,4,10),'penalty':['l1','l2']} #\n",
    "gs_lr_charged_off = GridSearchCV(lr_charged_off, c_param_charged_off, cv=5, scoring='f1')\n",
    "gs_lr_charged_off.fit(df_feature_final_scaled, class_response_charged_off)\n",
    "\n",
    "%time"
   ]
  },
  {
   "cell_type": "code",
   "execution_count": 236,
   "metadata": {},
   "outputs": [
    {
     "name": "stdout",
     "output_type": "stream",
     "text": [
      "{'C': 0.005994842503189409, 'penalty': 'l2'}\n",
      "confusion_matrix:\n",
      "[[ 8882  4720]\n",
      " [18421 35782]]\n",
      "Accuracy  :  0.6587124843300641\n",
      "Error rate  :  0.34128751566993587\n",
      "Sensitivity  :  0.6601479622899101\n",
      "Specificity  :  0.6529922070283781\n",
      "precision  :  0.8834625450595033\n",
      "recall  :  0.6601479622899101\n"
     ]
    }
   ],
   "source": [
    "# CV results\n",
    "print(gs_lr_charged_off.best_params_)\n",
    "\n",
    "con_matrix_charged_off = confusion_matrix(class_response_charged_off, \n",
    "                                          gs_lr_charged_off.best_estimator_.predict(df_feature_final_scaled))\n",
    "\n",
    "print(\"confusion_matrix:\")\n",
    "\n",
    "print(con_matrix_charged_off)\n",
    "\n",
    "con_mtx(con_matrix_charged_off)"
   ]
  },
  {
   "cell_type": "markdown",
   "metadata": {},
   "source": [
    "**Feature Selection**"
   ]
  },
  {
   "cell_type": "code",
   "execution_count": 252,
   "metadata": {},
   "outputs": [
    {
     "data": {
      "text/plain": [
       "{'annual_inc_log',\n",
       " 'dti_log',\n",
       " 'fico_range_high',\n",
       " 'funded_amnt_log',\n",
       " 'grade',\n",
       " 'has_36mo_loan',\n",
       " 'home_ownership_rent',\n",
       " 'int_rate',\n",
       " 'open_acc_log',\n",
       " 'revol_bal_log',\n",
       " 'tot_cur_bal_log',\n",
       " 'total_acc_log'}"
      ]
     },
     "execution_count": 252,
     "metadata": {},
     "output_type": "execute_result"
    }
   ],
   "source": [
    "sel_charged_off = SelectFromModel(LogisticRegression(C=gs_lr_charged_off.best_params_[\"C\"], \n",
    "                                                     penalty= gs_lr_charged_off.best_params_[\"penalty\"],\n",
    "                                                     solver='liblinear'))\n",
    "\n",
    "sel_charged_off.fit(df_feature_final_scaled, class_response_charged_off)\n",
    "\n",
    "# 11 Features selected\n",
    "selected_feat_charged_off = df_feature_final_scaled.columns[(sel_charged_off.get_support())]\n",
    "set(np.array(selected_feat_charged_off))\n"
   ]
  },
  {
   "cell_type": "code",
   "execution_count": 246,
   "metadata": {},
   "outputs": [
    {
     "data": {
      "text/plain": [
       "{'annual_inc_log',\n",
       " 'credit_hist_mths',\n",
       " 'delinq_amnt_log',\n",
       " 'emp_length',\n",
       " 'has_delinq_now',\n",
       " 'has_delinq_past2yrs',\n",
       " 'has_pub_rec',\n",
       " 'home_ownership_own',\n",
       " 'inq_last_6mths',\n",
       " 'installment_log',\n",
       " 'purpose_debt_consolidation',\n",
       " 'purpose_other',\n",
       " 'revol_bal_log',\n",
       " 'revol_util',\n",
       " 'tot_coll_amt_log',\n",
       " 'verification_status_Source Verified',\n",
       " 'verification_status_Verified'}"
      ]
     },
     "execution_count": 246,
     "metadata": {},
     "output_type": "execute_result"
    }
   ],
   "source": [
    "# Features dropped\n",
    "set(df_feature_final_scaled.columns)-set(selected_feat_neg_20)\n",
    "\n"
   ]
  },
  {
   "cell_type": "markdown",
   "metadata": {},
   "source": [
    "**Train Test Using Only 12 features  - generates similar results as GridSearchCV**"
   ]
  },
  {
   "cell_type": "code",
   "execution_count": 247,
   "metadata": {},
   "outputs": [
    {
     "data": {
      "text/plain": [
       "LogisticRegression(C=0.005994842503189409, class_weight='balanced', dual=False,\n",
       "                   fit_intercept=True, intercept_scaling=1, l1_ratio=None,\n",
       "                   max_iter=100, multi_class='auto', n_jobs=-1, penalty='l2',\n",
       "                   random_state=None, solver='liblinear', tol=0.0001, verbose=0,\n",
       "                   warm_start=False)"
      ]
     },
     "execution_count": 247,
     "metadata": {},
     "output_type": "execute_result"
    }
   ],
   "source": [
    "X_train_charged_off, X_test_charged_off, y_train_charged_off, y_test_charged_off = train_test_split(\n",
    "                                                    df_feature_final_scaled[selected_feat_charged_off], \n",
    "                                                    class_response_charged_off, \n",
    "                                                    test_size=0.2)\n",
    "\n",
    "lr_train_charged_off = LogisticRegression(C=gs_lr_charged_off.best_params_[\"C\"],\n",
    "                                          penalty= gs_lr_charged_off.best_params_[\"penalty\"],\n",
    "                                          n_jobs=-1, \n",
    "                                          class_weight=\"balanced\", \n",
    "                                          solver='liblinear',)\n",
    "\n",
    "lr_train_charged_off.fit(X_train_charged_off, y_train_charged_off)"
   ]
  },
  {
   "cell_type": "code",
   "execution_count": 248,
   "metadata": {},
   "outputs": [
    {
     "name": "stdout",
     "output_type": "stream",
     "text": [
      "Accuracy  :  0.6579529533220264\n",
      "Error rate  :  0.3420470466779736\n",
      "Sensitivity  :  0.6612479852636426\n",
      "Specificity  :  0.6447198076567413\n",
      "precision  :  0.882002457002457\n",
      "recall  :  0.6612479852636426\n"
     ]
    }
   ],
   "source": [
    "# Train Scores\n",
    "con_mtx(confusion_matrix(y_train_charged_off, \n",
    "                 lr_train_charged_off.predict(X_train_charged_off)))"
   ]
  },
  {
   "cell_type": "code",
   "execution_count": 249,
   "metadata": {},
   "outputs": [
    {
     "name": "stdout",
     "output_type": "stream",
     "text": [
      "Accuracy  :  0.6587272325049776\n",
      "Error rate  :  0.3412727674950225\n",
      "Sensitivity  :  0.6642532256567344\n",
      "Specificity  :  0.6373744619799139\n",
      "precision  :  0.8762091343210481\n",
      "recall  :  0.6642532256567344\n"
     ]
    }
   ],
   "source": [
    "# Test Scores\n",
    "con_mtx(confusion_matrix(y_test_charged_off, \n",
    "                         lr_train_charged_off.predict(X_test_charged_off)))\n"
   ]
  },
  {
   "cell_type": "code",
   "execution_count": 411,
   "metadata": {},
   "outputs": [
    {
     "name": "stdout",
     "output_type": "stream",
     "text": [
      "Accuracy  :  0.6581078091586167\n",
      "Error rate  :  0.3418921908413834\n",
      "Sensitivity  :  0.6618452853163109\n",
      "Specificity  :  0.6432142332009999\n",
      "precision  :  0.8808407199155351\n",
      "recall  :  0.6618452853163109\n"
     ]
    }
   ],
   "source": [
    "# All Sample Scores\n",
    "con_mtx(confusion_matrix(class_response_charged_off, \n",
    "                         lr_train_charged_off.predict(df_feature_final_scaled[selected_feat_charged_off]))\n",
    ")"
   ]
  },
  {
   "cell_type": "code",
   "execution_count": null,
   "metadata": {},
   "outputs": [],
   "source": []
  }
 ],
 "metadata": {
  "kernelspec": {
   "display_name": "Python 3",
   "language": "python",
   "name": "python3"
  },
  "language_info": {
   "codemirror_mode": {
    "name": "ipython",
    "version": 3
   },
   "file_extension": ".py",
   "mimetype": "text/x-python",
   "name": "python",
   "nbconvert_exporter": "python",
   "pygments_lexer": "ipython3",
   "version": "3.7.4"
  }
 },
 "nbformat": 4,
 "nbformat_minor": 2
}
