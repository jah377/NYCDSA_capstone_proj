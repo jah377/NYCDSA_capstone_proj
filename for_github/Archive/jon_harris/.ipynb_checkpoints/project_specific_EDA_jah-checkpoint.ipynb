{
 "cells": [
  {
   "cell_type": "markdown",
   "metadata": {},
   "source": [
    "# Presentation EDA"
   ]
  },
  {
   "cell_type": "markdown",
   "metadata": {},
   "source": [
    "## Project Idea 3\n",
    "\n",
    "**Classification problem:**\n",
    "- Predict 'good' and 'bad' loans\n",
    "    - Ex: Bad = -30% of principal\n",
    "    - Ex: Good = loans whose expected performance (annualzied return) that are above grade dependent thresholds\n",
    "- ML must consider loan size\n",
    "\n",
    "\n",
    "*EDA must provide information relative to good/bad loans or loan trends*"
   ]
  },
  {
   "cell_type": "markdown",
   "metadata": {},
   "source": [
    "### TIER ONE QUESTIONS:\n",
    "Questions that describe Lending Club business\n",
    "\n",
    "\n",
    "**Question 1:**\n",
    "    - How many loans were issued each year?\n",
    "**Question 2:**\n",
    "    - What are the reasons (purpose) for the loans?\n",
    "**Question 3:**\n",
    "    - What is the distribution of loan grades (evaluation of borrower)?\n",
    "**Question 4:**\n",
    "    - How have loan grades varied throughout the years? \n",
    "**Question 5:**\n",
    "    - What is the distribution of loan amounts?\n",
    "        - per purpose?\n",
    "        - per loan grade? \n",
    "**Question 6:**\n",
    "    - How many 3 and 5yr loans were issued?\n",
    "        - per purpose?\n",
    "        - per loan grade?\n"
   ]
  },
  {
   "cell_type": "markdown",
   "metadata": {},
   "source": [
    "### TIER TWO QUESTIONS:\n",
    "Questions that describe the loans themselves\n",
    "    - Ex: Interest stratification, ROI, payment patterns\n",
    "\n"
   ]
  },
  {
   "cell_type": "markdown",
   "metadata": {},
   "source": [
    "### TIER THREE QUESTIONS:\n",
    "Questions that provide EDA specific to how we define good/bad loans\n",
    "\n"
   ]
  },
  {
   "cell_type": "code",
   "execution_count": null,
   "metadata": {},
   "outputs": [],
   "source": []
  }
 ],
 "metadata": {
  "kernelspec": {
   "display_name": "Python 3",
   "language": "python",
   "name": "python3"
  },
  "language_info": {
   "codemirror_mode": {
    "name": "ipython",
    "version": 3
   },
   "file_extension": ".py",
   "mimetype": "text/x-python",
   "name": "python",
   "nbconvert_exporter": "python",
   "pygments_lexer": "ipython3",
   "version": "3.7.4"
  }
 },
 "nbformat": 4,
 "nbformat_minor": 2
}
