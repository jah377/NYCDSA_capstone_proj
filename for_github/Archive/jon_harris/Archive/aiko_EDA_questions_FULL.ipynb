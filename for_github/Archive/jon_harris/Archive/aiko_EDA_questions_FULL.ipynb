{
 "cells": [
  {
   "cell_type": "code",
   "execution_count": 1,
   "metadata": {},
   "outputs": [],
   "source": [
    "# Load packages\n",
    "import pandas as pd\n",
    "import numpy as np\n",
    "import re\n",
    "from time import strptime  # format data columns\n",
    "import random  # used in subsampling\n",
    "import warnings\n",
    "\n",
    "from matplotlib import pyplot as plt\n",
    "import matplotlib.ticker as ticker\n",
    "%matplotlib inline\n",
    "import seaborn as sns\n",
    "\n",
    "warnings.filterwarnings(\"ignore\")  # ignore warnings throughout notebook\n",
    "pd.set_option(\"display.max_columns\", None)  # show all columns\n"
   ]
  },
  {
   "cell_type": "code",
   "execution_count": 2,
   "metadata": {},
   "outputs": [],
   "source": [
    "# Load Data\n",
    "filepath = \"../data/accepted_subsampled_5percent.csv\" #will be personalized\n",
    "df = pd.read_csv(filepath, sep=\",\")\n",
    "df2 = df.copy()"
   ]
  },
  {
   "cell_type": "markdown",
   "metadata": {},
   "source": [
    "# Data Engineering"
   ]
  },
  {
   "cell_type": "code",
   "execution_count": null,
   "metadata": {},
   "outputs": [],
   "source": [
    "#Helper Function - Find all indexes for a list of values\n",
    "import operator\n",
    "from functools import reduce\n",
    "\n",
    "def return_idx(col_name, val):\n",
    "    '''\n",
    "    Purpose: Return all column indices corresponding to list of values\n",
    "    Input: \n",
    "        col_name = df column to be searched\n",
    "        val = list of values\n",
    "    Output:\n",
    "        list of indices matching a list of values\n",
    "    '''\n",
    "    if isinstance(val, str): #function must handle single str value\n",
    "        idx_list = df[col_name].loc[ df[col_name] == val].index.tolist()\n",
    "    else: #if list of str values\n",
    "        nest_list = [df[col_name].loc[ df[col_name] == v].index.tolist() for v in val]\n",
    "        idx_list = reduce(operator.add,nest_list) #reduce inner lists to single list\n",
    "    \n",
    "    return idx_list"
   ]
  },
  {
   "cell_type": "markdown",
   "metadata": {},
   "source": [
    "### Consolidate Loan Status\n",
    "- Old Status\n",
    "    - 'Fully Paid'\n",
    "    - 'Charged Off'\n",
    "    - 'Does not meet the credit policy. Status:Fully Paid'\n",
    "    - 'Does not meet the credit policy. Status:Charged Off'\n",
    "    - 'Late (31-120 days)'\n",
    "    - 'Late (16-30 days)'\n",
    "    - 'In Grace Period'\n",
    "- New Status\n",
    "    - 'Fully Paid'\n",
    "    - 'Charged Off'\n",
    "    - 'Late'\n",
    "    - 'Current'"
   ]
  },
  {
   "cell_type": "code",
   "execution_count": null,
   "metadata": {},
   "outputs": [],
   "source": [
    "#Determine corresponding indices\n",
    "idx_credpol_FP = return_idx('loan_status', 'Does not meet the credit policy. Status:Fully Paid')\n",
    "idx_credpol_CO = return_idx('loan_status', 'Does not meet the credit policy. Status:Charged Off')\n",
    "idx_late = return_idx('loan_status', ['Late (31-120 days)','Late (16-30 days)', 'In Grace Period'])\n",
    "\n",
    "#Replace loan statuses\n",
    "df.loan_status.iloc[idx_credpol_FP] = 'Fully Paid'\n",
    "df.loan_status.iloc[idx_credpol_CO] = 'Charged Off'\n",
    "df.loan_status.iloc[idx_late] = 'Late'\n",
    "\n",
    "# df.loan_status.unique() #sanity check that statuses were consolidated\n"
   ]
  },
  {
   "cell_type": "markdown",
   "metadata": {},
   "source": [
    "# Question Group: Warmup Questions\n",
    "- The dataset contains $2.2M+$ of approved loans and $20M+$ rejected \n",
    "loan applications\n",
    "\n",
    "**JON HARRIS**"
   ]
  },
  {
   "cell_type": "markdown",
   "metadata": {},
   "source": [
    "### Question 1:\n",
    "\n",
    "Among all the  151 columns of the loan data set, which information is known at the time of loan issuance?"
   ]
  },
  {
   "cell_type": "code",
   "execution_count": null,
   "metadata": {},
   "outputs": [],
   "source": [
    "# Import google sheet notes (saved as CSV from online)\n",
    "filename = 'Capstone Project - Lending Club (Team TARP) - Accepted Loans Features.csv'\n",
    "detail_df = pd.read_csv(filename, sep=',')\n",
    "\n",
    "#Isolate features known at time of loan application\n",
    "features = detail_df.iloc[:,2] #list of features\n",
    "decision = detail_df.iloc[:,4].apply(str.lower) #are features known at time of loan app? (Y, N, Maybe, ?)\n",
    "known_vars = features[(decision == 'y') | (decision == 'm')].values.tolist() #include yes and maybe's\n"
   ]
  },
  {
   "cell_type": "markdown",
   "metadata": {},
   "source": [
    "### Question 2:\n",
    "\n",
    "Which columns are related to borrowers's credit history and demographic information?"
   ]
  },
  {
   "cell_type": "markdown",
   "metadata": {},
   "source": [
    "### Question 3:\n",
    "\n",
    "Which columns store loan-specific information?"
   ]
  },
  {
   "cell_type": "markdown",
   "metadata": {},
   "source": [
    "### Question 4:\n",
    "\n",
    "How does the issued loans vary year after year?"
   ]
  },
  {
   "cell_type": "code",
   "execution_count": null,
   "metadata": {},
   "outputs": [],
   "source": [
    "## NOTE: Count of subsampled data (5%)\n",
    "\n",
    "#Table\n",
    "ans_q4 = df.groupby('issue_year')['issue_year'].count()\n",
    "print(ans_q4)\n",
    "\n",
    "#Plot\n",
    "plt.figure(figsize=(10,6))\n",
    "q4 = sns.countplot(x=df.issue_year, \n",
    "                   data=df, \n",
    "                   color=\"skyblue\")\n",
    "q4.set_yscale('log')\n",
    "sns.set(style = 'whitegrid', \n",
    "        rc={\"font.size\":20,\n",
    "            \"axes.titlesize\":20,\n",
    "            \"axes.labelsize\":20})\n",
    "plt.title('Issued Loans Per Year')\n",
    "plt.ylabel('N (log)')\n",
    "plt.xlabel('Year')\n",
    "plt.show(q4)\n"
   ]
  },
  {
   "cell_type": "markdown",
   "metadata": {},
   "source": [
    "### Question 5:\n",
    "\n",
    "What are the purposes of applying Lending Club loans?"
   ]
  },
  {
   "cell_type": "code",
   "execution_count": null,
   "metadata": {
    "scrolled": false
   },
   "outputs": [],
   "source": [
    "#Table\n",
    "ans_q5 = pd.DataFrame(df.groupby('purpose')['id'].count()).reset_index() #convert groupby series to DF\n",
    "ans_q5.columns = ['purpose','n'] #rename df\n",
    "ans_q5['perc'] = ans_q5['n'].div(df.shape[0]*0.01) #calculate percentage\n",
    "ans_q5.sort_values(by='perc', ascending=False, inplace=True) #sort DF percentage\n",
    "print(ans_q5)\n",
    "\n",
    "#Plot By Count\n",
    "plt.figure(figsize=(10,6))\n",
    "q5_count = sns.barplot(x=ans_q5.n,\n",
    "                       y=ans_q5.purpose,\n",
    "                       data=ans_q5,\n",
    "                       color=\"skyblue\")\n",
    "sns.set(style = 'whitegrid', \n",
    "        rc={\"font.size\":20,\n",
    "            \"axes.titlesize\":20,\n",
    "            \"axes.labelsize\":20})\n",
    "q5_count.set_xscale('log')\n",
    "plt.title('Purpose of Approved Loans')\n",
    "plt.xlabel('N (log)')\n",
    "plt.ylabel('Purpose')\n",
    "plt.show(q5_count)\n",
    "\n",
    "#Plot By Percentage\n",
    "plt.figure(figsize=(10,6))\n",
    "q5_perc = sns.barplot(x=ans_q5.perc,\n",
    "                 y=ans_q5.purpose,\n",
    "                 data=ans_q5,\n",
    "                 color=\"skyblue\")\n",
    "sns.set(style = 'whitegrid', \n",
    "        rc={\"font.size\":20,\n",
    "            \"axes.titlesize\":20,\n",
    "            \"axes.labelsize\":20})\n",
    "plt.title('Purpose of Approved Loans')\n",
    "plt.xlabel('Percent (%)')\n",
    "plt.ylabel('Purpose')\n",
    "plt.show(q5_perc)\n"
   ]
  },
  {
   "cell_type": "markdown",
   "metadata": {},
   "source": [
    "### Question 6:\n",
    "\n",
    "Do you observe different loan grade patterns for different loan purposes?"
   ]
  },
  {
   "cell_type": "code",
   "execution_count": null,
   "metadata": {},
   "outputs": [],
   "source": [
    "#Helper Function - Count based on two conditions\n",
    "\n",
    "def count_n(feature1, feature2, for_plot):\n",
    "    '''\n",
    "    Purpose: Return number of loans corresponding to two conditions (A and B)\n",
    "        Ex: number of Grade A loans in year 2018\n",
    "    Input: \n",
    "        feature1\n",
    "        feature2\n",
    "        for_plot = True or False\n",
    "            Ploting results requires different output format\n",
    "    Output:\n",
    "        if for_plot=T -> df arranged for plot\n",
    "        if for_plot=F -> df arranged for table\n",
    "    '''\n",
    "    \n",
    "    #Create sorted list of unique categorical values per feature\n",
    "    uniq_feat1 = sorted(set(df[feature1])) #sorted() returns list\n",
    "    uniq_feat2 = sorted(set(df[feature2]))\n",
    "      \n",
    "    #Create inner function that would calculate the count per conditional statement\n",
    "    def subfunc(feature1, val1, feature2, val2, for_plot):\n",
    "        '''\n",
    "        Input: \n",
    "            feat1 = 1st feature of condition A\n",
    "            val1 = 1st value of A for conditional statement\n",
    "            feat2 = 2nd feature of condition A\n",
    "            val2 = 2nd value of A for conditional statement\n",
    "        '''\n",
    "        n = df[ (df[feature1]==val1) & (df[feature2]==val2) ]['issue_year'].count()\n",
    "        if for_plot:           \n",
    "            return [val1, val2, n]\n",
    "        else:\n",
    "            return n\n",
    "    \n",
    "    #Run subfunction to determine count per conditional statements\n",
    "    store = [ subfunc(feature1, val1, feature2, val2, for_plot) for val1 in uniq_feat1 for val2 in uniq_feat2 ]\n",
    "    \n",
    "    #Format output\n",
    "    if for_plot:\n",
    "        df_count = pd.DataFrame(store, columns=[feature1, feature2,'count'])\n",
    "    else:\n",
    "        #Convert list to matrix\n",
    "        mat_count = np.matrix(store).reshape(len(uniq_feat1), len(uniq_feat2))\n",
    "\n",
    "        #Convert matrix to dataframe (with column and row names)\n",
    "        df_count = pd.DataFrame(data=mat_count, columns=uniq_feat2, index=uniq_feat1)\n",
    "        \n",
    "    return df_count"
   ]
  },
  {
   "cell_type": "code",
   "execution_count": null,
   "metadata": {},
   "outputs": [],
   "source": [
    "#Helper Function\n",
    "def norm_by(table, by_row):\n",
    "    '''\n",
    "    Purpose: Normalize matrix table for heatmap\n",
    "    Input: \n",
    "        table (ex: ans6_table)\n",
    "        by_row = True (normalize by row) or False (normalize by column)\n",
    "    Output:\n",
    "        table\n",
    "    '''\n",
    "    if by_row:\n",
    "        nrow = table.shape[0]\n",
    "        for rowz in range(nrow):\n",
    "            table.iloc[rowz,:] = round(table.iloc[rowz,:] / table.iloc[rowz,:].sum() * 100, 1)\n",
    "    else:\n",
    "        for colm in range(table.shape[1]):\n",
    "            table.iloc[:, colm] = round(table.iloc[:,colm] / table.iloc[:, colm].sum() * 100, 1)\n",
    "            \n",
    "    return table"
   ]
  },
  {
   "cell_type": "code",
   "execution_count": null,
   "metadata": {},
   "outputs": [],
   "source": [
    "#Table (N)\n",
    "ans6_cnt_df = count_n('purpose','grade', False)\n",
    "ans6_cnt_df['SUM'] = ans6_cnt_df.sum(axis=1)\n",
    "ans6_cnt_df.sort_values(by='SUM', ascending=False, inplace=True) #sort DF percentage\n",
    "print(ans6_cnt_df)\n",
    "\n",
    "#Table (normalized by loan purpose)\n",
    "ans6_normbypurpose_df = count_n('purpose','grade', False)\n",
    "ans6_normbypurpose_df = norm_by(ans6_normbypurpose_df, True)\n",
    "ans6_normbypurpose_df['SUM'] = round(ans6_normbypurpose_df.sum(axis=1))\n",
    "# print(ans6_normbypurpose_df)\n",
    "\n",
    "# #Table (normalized by loan grade)\n",
    "ans6_normbygrade_df = count_n('grade','purpose', False)\n",
    "ans6_normbygrade_df = norm_by(ans6_normbygrade_df, True)\n",
    "ans6_normbygrade_df['SUM'] = round(ans6_normbygrade_df.sum(axis=1))\n",
    "# print(ans6_normbygrade_df)"
   ]
  },
  {
   "cell_type": "code",
   "execution_count": null,
   "metadata": {
    "scrolled": false
   },
   "outputs": [],
   "source": [
    "#Heatmap [normalized by loan purpose]\n",
    "data = ans6_normbypurpose_df.to_numpy() #must convert dataframe to matrix\n",
    "\n",
    "plt.figure(figsize=(10,6))\n",
    "q6_bypurpose = sns.heatmap(data, \n",
    "                           annot=True,\n",
    "                           annot_kws={\"size\": 12},\n",
    "                           fmt='.1f', \n",
    "                           vmax=40, \n",
    "                           cmap=\"YlGnBu\", \n",
    "                           xticklabels = ans6_normbypurpose_df.columns, \n",
    "                           yticklabels = ans6_normbypurpose_df.index)\n",
    "sns.set(rc={\"font.size\":20,\n",
    "            \"axes.titlesize\":20,\n",
    "            \"axes.labelsize\":20})\n",
    "plt.title('Loan Grade Percentage Per Loan Purpose')\n",
    "plt.xlabel('Grade')\n",
    "plt.ylabel('Purpose')\n",
    "plt.show(q6_bypurpose)"
   ]
  },
  {
   "cell_type": "code",
   "execution_count": null,
   "metadata": {},
   "outputs": [],
   "source": [
    "#Heatmap [normalized by loan grade]\n",
    "data2 = ans6_normbygrade_df.to_numpy().T #must convert dataframe to matrix\n",
    "\n",
    "plt.figure(figsize=(16,6))\n",
    "q6_bygrade = sns.heatmap(data2, \n",
    "                           annot=True,\n",
    "                           annot_kws={\"size\": 16},\n",
    "                           fmt='.1f', \n",
    "                           vmax=80, \n",
    "                           cmap=\"YlGnBu\",\n",
    "                           xticklabels = ans6_normbygrade_df.index, \n",
    "                           yticklabels = ans6_normbygrade_df.columns)\n",
    "sns.set(rc={\"font.size\":20,\n",
    "            \"axes.titlesize\":20,\n",
    "            \"axes.labelsize\":20})\n",
    "plt.title('Loan Grade Percentage Per Loan Purpose')\n",
    "plt.xlabel('Purpose')\n",
    "plt.ylabel('Grade')\n",
    "plt.show(q6_bygrade)"
   ]
  },
  {
   "cell_type": "markdown",
   "metadata": {},
   "source": [
    "### Question 7:\n",
    "\n",
    "Do you observe different loan grade patterns in different years?"
   ]
  },
  {
   "cell_type": "code",
   "execution_count": null,
   "metadata": {},
   "outputs": [],
   "source": [
    "#Table (N)\n",
    "ans7_cnt_df = count_n('purpose','grade', False)\n",
    "ans7_cnt_df['SUM'] = ans7_cnt_df.sum(axis=1)\n",
    "ans7_cnt_df.sort_values(by='SUM', ascending=False, inplace=True) #sort DF percentage\n",
    "print(ans7_cnt_df)\n",
    "\n",
    "#Table (normalized by loan year)\n",
    "ans7_normbyyear_df = count_n('issue_year','grade', False)\n",
    "ans7_normbyyear_df = norm_by(ans7_normbyyear_df, True)\n",
    "ans7_normbyyear_df['SUM'] = round(ans7_normbyyear_df.sum(axis=1))\n",
    "print(ans7_normbyyear_df)\n"
   ]
  },
  {
   "cell_type": "code",
   "execution_count": null,
   "metadata": {
    "scrolled": false
   },
   "outputs": [],
   "source": [
    "#PLOT\n",
    "ans7_df = count_n('issue_year','grade', True)\n",
    "plt.figure(figsize=(10,6))\n",
    "q7 = sns.lineplot(data=ans7_df,\n",
    "                  x='issue_year',\n",
    "                  y='count',\n",
    "                  hue='grade',\n",
    "                  lw=3,\n",
    "                  palette = 'bright')\n",
    "sns.set(style = 'whitegrid', rc={\"font.size\":20, \"axes.titlesize\":20, \"axes.labelsize\":20})\n",
    "plt.xlim(2007, 2018)\n",
    "plt.legend(bbox_to_anchor=(1, 1), loc=2)\n",
    "plt.title('Number of Loans Per Year By Grade')\n",
    "plt.xlabel('Year')\n",
    "plt.ylabel('N')\n",
    "plt.show(q7)\n"
   ]
  },
  {
   "cell_type": "code",
   "execution_count": null,
   "metadata": {
    "scrolled": false
   },
   "outputs": [],
   "source": [
    "#Heatmap [normalized by loan year]\n",
    "data3 = ans7_normbyyear_df.to_numpy() #must convert dataframe to matrix\n",
    "\n",
    "plt.figure(figsize=(10,6))\n",
    "q7_byyear = sns.heatmap(data3, \n",
    "                           annot=True,\n",
    "                           annot_kws={\"size\": 12},\n",
    "                           fmt='.1f', \n",
    "                           vmax=40, \n",
    "                           cmap=\"YlGnBu\", \n",
    "                           xticklabels = ans7_normbyyear_df.columns, \n",
    "                           yticklabels = ans7_normbyyear_df.index)\n",
    "q7_byyear.set_yticklabels(q7_byyear.get_yticklabels(), rotation=0)\n",
    "sns.set(rc={\"font.size\":20,\n",
    "            \"axes.titlesize\":20,\n",
    "            \"axes.labelsize\":20})\n",
    "plt.title('Loan Grade Percentage Per Issuance Year')\n",
    "plt.xlabel('Grade')\n",
    "plt.ylabel('Year')\n",
    "plt.show(q7_byyear)"
   ]
  },
  {
   "cell_type": "markdown",
   "metadata": {},
   "source": [
    "### Question 8:\n",
    "\n",
    "How about loan counts stratified into years and loan purposes/loan grades?"
   ]
  },
  {
   "cell_type": "markdown",
   "metadata": {},
   "source": [
    "### Question 9:\n",
    "\n",
    "How are the loan amounts/funded amounts distributed?"
   ]
  },
  {
   "cell_type": "code",
   "execution_count": null,
   "metadata": {},
   "outputs": [],
   "source": [
    "#Loan amount == amount funded, only need one plot\n",
    "plt.figure(figsize=(10,6))\n",
    "my_order = df.groupby('grade')['loan_amnt'].median().sort_values(ascending=True).index\n",
    "q9 = sns.distplot(df['loan_amnt'],\n",
    "                  bins = 8,\n",
    "                  hist = True, \n",
    "                  kde = False, \n",
    "                  color=\"skyblue\")\n",
    "sns.set(style = 'whitegrid', rc={\"font.size\":20, \"axes.titlesize\":20, \"axes.labelsize\":20})\n",
    "plt.title('Loan Amount Histogram')\n",
    "plt.xlabel('Loan Amount ($)')\n",
    "plt.ylabel('N')\n",
    "plt.show(q9)\n"
   ]
  },
  {
   "cell_type": "markdown",
   "metadata": {},
   "source": [
    "### Question 10:\n",
    "\n",
    "Are there variations across different loan purposes, loan grades, etc?"
   ]
  },
  {
   "cell_type": "code",
   "execution_count": null,
   "metadata": {},
   "outputs": [],
   "source": [
    "#Loan Amount Per Loan Grade\n",
    "print(df.groupby('grade')['loan_amnt'].agg(['count', 'median']).sort_values('median'))\n",
    "\n",
    "plt.figure(figsize=(10,6))\n",
    "my_order = df.groupby('grade')['loan_amnt'].median().sort_values(ascending=True).index\n",
    "q10_grade = sns.boxplot(x=\"loan_amnt\", \n",
    "                  y=\"grade\",\n",
    "                  data=df,\n",
    "                  whis=\"range\",\n",
    "                  order=my_order,\n",
    "                  color=\"skyblue\",\n",
    "                  saturation=10)\n",
    "sns.set(style = 'whitegrid', rc={\"font.size\":20, \"axes.titlesize\":20, \"axes.labelsize\":20})\n",
    "plt.title('Total Loan Amount By Loan Grade')\n",
    "plt.xlabel('Loan Amount ($)')\n",
    "plt.ylabel('Loan Grade')\n",
    "plt.show(q10_grade)"
   ]
  },
  {
   "cell_type": "code",
   "execution_count": null,
   "metadata": {
    "scrolled": false
   },
   "outputs": [],
   "source": [
    "#Loan Amount Per Loan Purpose\n",
    "print(df.groupby('purpose')['loan_amnt'].agg(['count', 'median']).sort_values('median'))\n",
    "\n",
    "plt.figure(figsize=(10,6))\n",
    "my_order = df.groupby('purpose')['loan_amnt'].median().sort_values(ascending=True).index\n",
    "q10_purpose = sns.boxplot(x=\"loan_amnt\", \n",
    "                  y=\"purpose\",\n",
    "                  data=df,\n",
    "                  whis=\"range\",\n",
    "                  order=my_order,\n",
    "                  color=\"skyblue\",\n",
    "                  saturation=10)\n",
    "sns.set(style = 'whitegrid', rc={\"font.size\":20, \"axes.titlesize\":20, \"axes.labelsize\":20})\n",
    "plt.title('Total Loan Amount By Purpose of the Loan')\n",
    "plt.xlabel('Loan Amount ($)')\n",
    "plt.ylabel('Loan Purpose')\n",
    "plt.show(q10_purpose)"
   ]
  },
  {
   "cell_type": "markdown",
   "metadata": {},
   "source": [
    "### Question 11:\n",
    "\n",
    "Are loans with higher funded amounts harder to be paid-in-full?"
   ]
  },
  {
   "cell_type": "code",
   "execution_count": null,
   "metadata": {},
   "outputs": [],
   "source": [
    "#Histogram Plot of Loan Amount\n",
    "df2 = df.loc[ df.loan_status!='Current'] #not interested in ongoing loans\n",
    "print(df2.groupby('loan_status')['loan_amnt'].agg(['count', 'median']).sort_values('median'))\n",
    "\n",
    "plt.figure(figsize=(10,6))\n",
    "my_order = df2.groupby('loan_status')['loan_amnt'].median().sort_values(ascending=True).index\n",
    "q11_tot = sns.boxplot(y=\"loan_amnt\", \n",
    "                  x=\"loan_status\",\n",
    "                  data=df2,\n",
    "                  whis=\"range\",\n",
    "                  order=my_order,\n",
    "                  color=\"skyblue\",\n",
    "                  saturation=10)\n",
    "sns.set(style = 'whitegrid', rc={\"font.size\":20, \"axes.titlesize\":20, \"axes.labelsize\":20})\n",
    "plt.title('Total Loan Amount By Loan Status')\n",
    "plt.ylabel('Loan Amount ($)')\n",
    "plt.xlabel('Loan Status')\n",
    "plt.show(q11_tot)\n",
    "\n",
    "\n",
    "## fully paid vs charged\n",
    "## late vs current"
   ]
  },
  {
   "cell_type": "code",
   "execution_count": null,
   "metadata": {
    "scrolled": false
   },
   "outputs": [],
   "source": [
    "#Histogram Plot of Installment\n",
    "print(df2.groupby('loan_status')['installment'].agg(['count', 'median']).sort_values('median'))\n",
    "\n",
    "plt.figure(figsize=(10,6))\n",
    "my_order = df2.groupby('loan_status')['installment'].median().sort_values(ascending=True).index\n",
    "q11_install = sns.boxplot(y=\"installment\", \n",
    "                  x=\"loan_status\",\n",
    "                  data=df2,\n",
    "                  whis=\"range\",\n",
    "                  order=my_order,\n",
    "                  color=\"skyblue\",\n",
    "                  saturation=10)\n",
    "sns.set(style = 'whitegrid', rc={\"font.size\":20, \"axes.titlesize\":20, \"axes.labelsize\":20})\n",
    "plt.title('Installment Payment By Loan Status')\n",
    "plt.ylabel('Installment ($)')\n",
    "plt.xlabel('Loan Status')\n",
    "plt.show(q11_install)"
   ]
  },
  {
   "cell_type": "markdown",
   "metadata": {},
   "source": [
    "# Question Group: Interest Rates\n",
    "- For borrowers, the most important factor is interest rate charged.\n",
    "\n",
    "**JOE LU**"
   ]
  },
  {
   "cell_type": "markdown",
   "metadata": {},
   "source": [
    "### Question 12:\n",
    "\n",
    "Provide insights on the interest rates dependence on loan grade/subgrade and term (36 or 60 months)."
   ]
  },
  {
   "cell_type": "markdown",
   "metadata": {},
   "source": [
    "### Question 13:\n",
    "\n",
    "If the analysis is refined by separating loans with different start months (the year-month loan issuance date), report your finding."
   ]
  },
  {
   "cell_type": "markdown",
   "metadata": {},
   "source": [
    "### Question 14:\n",
    "\n",
    "Any rational explanation on why the interest rate should be grade/sub-grade dependent?"
   ]
  },
  {
   "cell_type": "markdown",
   "metadata": {},
   "source": [
    "### Question 15:\n",
    "\n",
    "Any rational explanation on the time series variations of interest rates?"
   ]
  },
  {
   "cell_type": "markdown",
   "metadata": {},
   "source": [
    "### Question 16:\n",
    "\n",
    "Any rational explanation why the interest rate rise w.r.t. loan term?"
   ]
  },
  {
   "cell_type": "markdown",
   "metadata": {},
   "source": [
    "# Question Group: Loan Status\n",
    " - For investors, it is crucial to know whether a loan is served to completion (loan_status 'Fully Paid')\n",
    " \n",
    " **JOE LU**"
   ]
  },
  {
   "cell_type": "markdown",
   "metadata": {},
   "source": [
    "### Question 17:\n",
    "\n",
    "Please analyze the percentages of non-completed loans in each loan grade/subgrade (i.e. default, charged off) which go beyond delinquency."
   ]
  },
  {
   "cell_type": "markdown",
   "metadata": {},
   "source": [
    "### Question 18:\n",
    "\n",
    "Provide justification the introduction of loan grade/subgrade."
   ]
  },
  {
   "cell_type": "markdown",
   "metadata": {},
   "source": [
    "### Question 19:\n",
    "\n",
    "Provide justification on the rate hike on riskier loan grade/subgrade."
   ]
  },
  {
   "cell_type": "markdown",
   "metadata": {},
   "source": [
    "### Question 20:\n",
    "\n",
    "What happens to percentage rates of loans involving settlement?"
   ]
  },
  {
   "cell_type": "markdown",
   "metadata": {},
   "source": [
    "### Question 21:\n",
    "\n",
    "Make sure that your analysis takes into account of loan-term."
   ]
  },
  {
   "cell_type": "markdown",
   "metadata": {},
   "source": [
    "# Question Group: Amortization Process\n",
    " - For investors, the amortization process returns the partial principal and monthly interest in a single montly installment payment\n",
    " \n",
    "**JAMIE ANDERSON**"
   ]
  },
  {
   "cell_type": "markdown",
   "metadata": {},
   "source": [
    "### Question 22:\n",
    "\n",
    "Because the borrower can pre-pay the principal at-will or go belly-up (delinquent or default) at any moment within the loan term, it may shorten the loan duration un-expectedly or cause losses to the investors."
   ]
  },
  {
   "cell_type": "markdown",
   "metadata": {},
   "source": [
    "### Question 23:\n",
    "\n",
    "Thus it is vital for the investors to know the general pattern of loan-prepayment or delinquency (early stage leading to default or eventual charged off)."
   ]
  },
  {
   "cell_type": "markdown",
   "metadata": {},
   "source": [
    "### Question 24:\n",
    "\n",
    "Please compute the actual durations of loans (last_payment_date - issuance_date):\n",
    " - analyze the pattern debtors terminate the loans before loan maturity (either 'fully paid', or stop paying henceforth).\n",
    " - Please include 'term', 'loan-grade/sub-grade' in your analysis."
   ]
  },
  {
   "cell_type": "markdown",
   "metadata": {},
   "source": [
    "### Question 25:\n",
    "\n",
    "Do you see major differences on the patterns with different loan-terms? What is the rational explanation for this difference?\n",
    " - Report the major characteristics of the patterns."
   ]
  },
  {
   "cell_type": "markdown",
   "metadata": {},
   "source": [
    "### Question 26:\n",
    "\n",
    "Do '60 months' (5 years) loans often get terminated at the end of the 5 years loan term? Why not?"
   ]
  },
  {
   "cell_type": "markdown",
   "metadata": {},
   "source": [
    "# Question Group: Profitability\n",
    "\n",
    "- For investors, the profitability of the loans is of their central \n",
    "concern.\n",
    "\n",
    "**VINCENT JI**"
   ]
  },
  {
   "cell_type": "markdown",
   "metadata": {},
   "source": [
    "### Question 27:\n",
    "\n",
    "For a given loan, the profit-and-loss (in percentages) can be computed as the (total_payment - principal)/principal."
   ]
  },
  {
   "cell_type": "code",
   "execution_count": 3,
   "metadata": {},
   "outputs": [
    {
     "ename": "ModuleNotFoundError",
     "evalue": "No module named 'numpy.core._multiarray_umath'",
     "output_type": "error",
     "traceback": [
      "\u001b[0;31m---------------------------------------------------------------------------\u001b[0m",
      "\u001b[0;31mModuleNotFoundError\u001b[0m                       Traceback (most recent call last)",
      "\u001b[0;31mModuleNotFoundError\u001b[0m: No module named 'numpy.core._multiarray_umath'"
     ]
    },
    {
     "data": {
      "text/html": [
       "<div>\n",
       "<style scoped>\n",
       "    .dataframe tbody tr th:only-of-type {\n",
       "        vertical-align: middle;\n",
       "    }\n",
       "\n",
       "    .dataframe tbody tr th {\n",
       "        vertical-align: top;\n",
       "    }\n",
       "\n",
       "    .dataframe thead th {\n",
       "        text-align: right;\n",
       "    }\n",
       "</style>\n",
       "<table border=\"1\" class=\"dataframe\">\n",
       "  <thead>\n",
       "    <tr style=\"text-align: right;\">\n",
       "      <th></th>\n",
       "      <th>issue_d</th>\n",
       "      <th>loan_status</th>\n",
       "      <th>last_pymnt_d</th>\n",
       "      <th>last_pymnt_date</th>\n",
       "      <th>exp_last_pymnt_date</th>\n",
       "    </tr>\n",
       "  </thead>\n",
       "  <tbody>\n",
       "    <tr>\n",
       "      <td>5402</td>\n",
       "      <td>Apr-2013</td>\n",
       "      <td>Fully Paid</td>\n",
       "      <td>Sep-2014</td>\n",
       "      <td>2014-09-01</td>\n",
       "      <td>2016-04-01</td>\n",
       "    </tr>\n",
       "    <tr>\n",
       "      <td>15866</td>\n",
       "      <td>Sep-2014</td>\n",
       "      <td>Fully Paid</td>\n",
       "      <td>Dec-2015</td>\n",
       "      <td>2015-12-01</td>\n",
       "      <td>2017-09-01</td>\n",
       "    </tr>\n",
       "    <tr>\n",
       "      <td>32805</td>\n",
       "      <td>Dec-2015</td>\n",
       "      <td>Fully Paid</td>\n",
       "      <td>Dec-2017</td>\n",
       "      <td>2017-12-01</td>\n",
       "      <td>2018-12-01</td>\n",
       "    </tr>\n",
       "    <tr>\n",
       "      <td>14562</td>\n",
       "      <td>Jul-2014</td>\n",
       "      <td>Fully Paid</td>\n",
       "      <td>Feb-2017</td>\n",
       "      <td>2017-02-01</td>\n",
       "      <td>2019-07-01</td>\n",
       "    </tr>\n",
       "    <tr>\n",
       "      <td>50786</td>\n",
       "      <td>Oct-2017</td>\n",
       "      <td>Fully Paid</td>\n",
       "      <td>Nov-2018</td>\n",
       "      <td>2018-11-01</td>\n",
       "      <td>2020-10-01</td>\n",
       "    </tr>\n",
       "    <tr>\n",
       "      <td>43414</td>\n",
       "      <td>Oct-2016</td>\n",
       "      <td>Fully Paid</td>\n",
       "      <td>Jun-2018</td>\n",
       "      <td>2018-06-01</td>\n",
       "      <td>2019-10-01</td>\n",
       "    </tr>\n",
       "    <tr>\n",
       "      <td>46592</td>\n",
       "      <td>Mar-2017</td>\n",
       "      <td>Fully Paid</td>\n",
       "      <td>May-2018</td>\n",
       "      <td>2018-05-01</td>\n",
       "      <td>2020-03-01</td>\n",
       "    </tr>\n",
       "    <tr>\n",
       "      <td>25619</td>\n",
       "      <td>Jul-2015</td>\n",
       "      <td>Fully Paid</td>\n",
       "      <td>Mar-2018</td>\n",
       "      <td>2018-03-01</td>\n",
       "      <td>2018-07-01</td>\n",
       "    </tr>\n",
       "    <tr>\n",
       "      <td>6116</td>\n",
       "      <td>Jun-2013</td>\n",
       "      <td>Fully Paid</td>\n",
       "      <td>May-2014</td>\n",
       "      <td>2014-05-01</td>\n",
       "      <td>2016-06-01</td>\n",
       "    </tr>\n",
       "    <tr>\n",
       "      <td>11474</td>\n",
       "      <td>Mar-2014</td>\n",
       "      <td>Fully Paid</td>\n",
       "      <td>Jun-2016</td>\n",
       "      <td>2016-06-01</td>\n",
       "      <td>2017-03-01</td>\n",
       "    </tr>\n",
       "  </tbody>\n",
       "</table>\n",
       "</div>"
      ],
      "text/plain": [
       "        issue_d loan_status last_pymnt_d last_pymnt_date exp_last_pymnt_date\n",
       "5402   Apr-2013  Fully Paid     Sep-2014      2014-09-01          2016-04-01\n",
       "15866  Sep-2014  Fully Paid     Dec-2015      2015-12-01          2017-09-01\n",
       "32805  Dec-2015  Fully Paid     Dec-2017      2017-12-01          2018-12-01\n",
       "14562  Jul-2014  Fully Paid     Feb-2017      2017-02-01          2019-07-01\n",
       "50786  Oct-2017  Fully Paid     Nov-2018      2018-11-01          2020-10-01\n",
       "43414  Oct-2016  Fully Paid     Jun-2018      2018-06-01          2019-10-01\n",
       "46592  Mar-2017  Fully Paid     May-2018      2018-05-01          2020-03-01\n",
       "25619  Jul-2015  Fully Paid     Mar-2018      2018-03-01          2018-07-01\n",
       "6116   Jun-2013  Fully Paid     May-2014      2014-05-01          2016-06-01\n",
       "11474  Mar-2014  Fully Paid     Jun-2016      2016-06-01          2017-03-01"
      ]
     },
     "execution_count": 3,
     "metadata": {},
     "output_type": "execute_result"
    }
   ],
   "source": [
    "# Clean up and add columns\n",
    "df_cleaned = df2.copy()\n",
    "df_cleaned['term_year'] = np.where(df_cleaned['term']==' 36 months', 3,5)\n",
    "avg_term = sum(df_cleaned['term_year']*df_cleaned['funded_amnt'])/sum(df_cleaned['funded_amnt'])\n",
    "df_cleaned['loan_status'] = df_cleaned['loan_status'].str.replace('(', '').str.replace(')', '')\n",
    "\n",
    "# Create consolidated loan_status mapping\n",
    "loan_status = df['loan_status'].unique()\n",
    "loan_status_final = ['Fully Paid','Fully Paid','Charged Off','Charged Off','Late', 'Current', 'Late', 'Late']\n",
    "loan_status_map = pd.DataFrame(list(zip(loan_status, loan_status_final)), columns=['loan_status','loan_status_final'])\n",
    "\n",
    "# Merge in final loan_status mapping\n",
    "df_cleaned = pd.merge(df_cleaned, loan_status_map, on = 'loan_status', how='inner')\n",
    "\n",
    "# Re-formate issue and last payment dates to find prepayment flag\n",
    "df_cleaned['issue_date'] = pd.to_datetime(df_cleaned['issue_d'])\n",
    "df_cleaned['last_pymnt_date'] = pd.to_datetime(df_cleaned['last_pymnt_d'])\n",
    "df_cleaned['exp_last_pymnt_d'] = df_cleaned['issue_d'].str[0:3]+'-'+(df_cleaned['issue_d'].str[-4:].astype('int') + df_cleaned['term_year']).astype('str')\n",
    "df_cleaned['exp_last_pymnt_date'] = pd.to_datetime(df_cleaned['exp_last_pymnt_d'])\n",
    "df_cleaned['prepayment_flag'] = np.where((df_cleaned.loan_status_final == 'Fully Paid')&(df_cleaned.last_pymnt_date < df_cleaned.exp_last_pymnt_date), 1, 0)\n",
    "\n",
    "# Sanity Check\n",
    "df_cleaned.loc[df_cleaned.prepayment_flag == 1][['issue_d','loan_status','last_pymnt_d','last_pymnt_date','exp_last_pymnt_date']].sample(10)\n"
   ]
  },
  {
   "cell_type": "markdown",
   "metadata": {},
   "source": [
    "### Question 28:\n",
    "\n",
    "For those loans which are eventually 'Fully Paid', what are the average returns (or the distributions of returns) of different loan grades/terms?"
   ]
  },
  {
   "cell_type": "code",
   "execution_count": 4,
   "metadata": {},
   "outputs": [],
   "source": [
    "# Function to calculate annual return\n",
    "def return_cal(df, total_payment=\"total_pymnt\", funded_payment=\"funded_amnt\", term_in_year=\"term_year\"):\n",
    "    if term_in_year == \"avg_term\":\n",
    "        return 100*((df[total_payment]/df[funded_payment])**(1/df[term_in_year])-1)\n",
    "    else:\n",
    "        return 100*((df[total_payment]/df[funded_payment])**(1/avg_term)-1)"
   ]
  },
  {
   "cell_type": "code",
   "execution_count": 5,
   "metadata": {},
   "outputs": [
    {
     "data": {
      "text/html": [
       "<div>\n",
       "<style scoped>\n",
       "    .dataframe tbody tr th:only-of-type {\n",
       "        vertical-align: middle;\n",
       "    }\n",
       "\n",
       "    .dataframe tbody tr th {\n",
       "        vertical-align: top;\n",
       "    }\n",
       "\n",
       "    .dataframe thead th {\n",
       "        text-align: right;\n",
       "    }\n",
       "</style>\n",
       "<table border=\"1\" class=\"dataframe\">\n",
       "  <thead>\n",
       "    <tr style=\"text-align: right;\">\n",
       "      <th></th>\n",
       "      <th>grade</th>\n",
       "      <th>return_perc</th>\n",
       "    </tr>\n",
       "  </thead>\n",
       "  <tbody>\n",
       "    <tr>\n",
       "      <td>0</td>\n",
       "      <td>A</td>\n",
       "      <td>2.155852</td>\n",
       "    </tr>\n",
       "    <tr>\n",
       "      <td>1</td>\n",
       "      <td>B</td>\n",
       "      <td>3.261751</td>\n",
       "    </tr>\n",
       "    <tr>\n",
       "      <td>2</td>\n",
       "      <td>C</td>\n",
       "      <td>4.246818</td>\n",
       "    </tr>\n",
       "    <tr>\n",
       "      <td>3</td>\n",
       "      <td>D</td>\n",
       "      <td>5.287047</td>\n",
       "    </tr>\n",
       "    <tr>\n",
       "      <td>4</td>\n",
       "      <td>E</td>\n",
       "      <td>6.357632</td>\n",
       "    </tr>\n",
       "    <tr>\n",
       "      <td>5</td>\n",
       "      <td>F</td>\n",
       "      <td>7.354346</td>\n",
       "    </tr>\n",
       "    <tr>\n",
       "      <td>6</td>\n",
       "      <td>G</td>\n",
       "      <td>7.119898</td>\n",
       "    </tr>\n",
       "  </tbody>\n",
       "</table>\n",
       "</div>"
      ],
      "text/plain": [
       "  grade  return_perc\n",
       "0     A     2.155852\n",
       "1     B     3.261751\n",
       "2     C     4.246818\n",
       "3     D     5.287047\n",
       "4     E     6.357632\n",
       "5     F     7.354346\n",
       "6     G     7.119898"
      ]
     },
     "execution_count": 5,
     "metadata": {},
     "output_type": "execute_result"
    },
    {
     "data": {
      "image/png": "[encoded data removed]",
      "text/plain": [
       "<Figure size 432x288 with 1 Axes>"
      ]
     },
     "metadata": {
      "needs_background": "light"
     },
     "output_type": "display_data"
    }
   ],
   "source": [
    "# This is a simple average of all loans not asset weighted. \n",
    "df_fully_paid = df_cleaned[df_cleaned['loan_status'].str.contains('Fully Paid')]\n",
    "df_fully_paid['return_perc'] =  return_cal(df_fully_paid)\n",
    "return_grade = df_fully_paid.groupby('grade')[['return_perc']].mean().reset_index()\n",
    "\n",
    "grade_plot = sns.barplot(x=\"grade\", y=\"return_perc\", data=return_grade)\n",
    "grade_plot.set(title = 'Avg Annualized Return by Grade', xlabel = 'Grade', ylabel = 'Return in %' )\n",
    "\n",
    "return_grade"
   ]
  },
  {
   "cell_type": "code",
   "execution_count": 6,
   "metadata": {},
   "outputs": [
    {
     "data": {
      "text/html": [
       "<div>\n",
       "<style scoped>\n",
       "    .dataframe tbody tr th:only-of-type {\n",
       "        vertical-align: middle;\n",
       "    }\n",
       "\n",
       "    .dataframe tbody tr th {\n",
       "        vertical-align: top;\n",
       "    }\n",
       "\n",
       "    .dataframe thead th {\n",
       "        text-align: right;\n",
       "    }\n",
       "</style>\n",
       "<table border=\"1\" class=\"dataframe\">\n",
       "  <thead>\n",
       "    <tr style=\"text-align: right;\">\n",
       "      <th></th>\n",
       "      <th>grade</th>\n",
       "      <th>funded_amnt</th>\n",
       "      <th>total_pymnt</th>\n",
       "      <th>return_perc</th>\n",
       "    </tr>\n",
       "  </thead>\n",
       "  <tbody>\n",
       "    <tr>\n",
       "      <td>0</td>\n",
       "      <td>A</td>\n",
       "      <td>156680975.0</td>\n",
       "      <td>1.701844e+08</td>\n",
       "      <td>2.203863</td>\n",
       "    </tr>\n",
       "    <tr>\n",
       "      <td>1</td>\n",
       "      <td>B</td>\n",
       "      <td>222818950.0</td>\n",
       "      <td>2.526315e+08</td>\n",
       "      <td>3.366617</td>\n",
       "    </tr>\n",
       "    <tr>\n",
       "      <td>2</td>\n",
       "      <td>C</td>\n",
       "      <td>208655800.0</td>\n",
       "      <td>2.459196e+08</td>\n",
       "      <td>4.428123</td>\n",
       "    </tr>\n",
       "    <tr>\n",
       "      <td>3</td>\n",
       "      <td>D</td>\n",
       "      <td>105216975.0</td>\n",
       "      <td>1.290040e+08</td>\n",
       "      <td>5.521501</td>\n",
       "    </tr>\n",
       "    <tr>\n",
       "      <td>4</td>\n",
       "      <td>E</td>\n",
       "      <td>49402350.0</td>\n",
       "      <td>6.327334e+07</td>\n",
       "      <td>6.742991</td>\n",
       "    </tr>\n",
       "    <tr>\n",
       "      <td>5</td>\n",
       "      <td>F</td>\n",
       "      <td>15345400.0</td>\n",
       "      <td>2.022847e+07</td>\n",
       "      <td>7.556967</td>\n",
       "    </tr>\n",
       "    <tr>\n",
       "      <td>6</td>\n",
       "      <td>G</td>\n",
       "      <td>4878975.0</td>\n",
       "      <td>6.387143e+06</td>\n",
       "      <td>7.360790</td>\n",
       "    </tr>\n",
       "  </tbody>\n",
       "</table>\n",
       "</div>"
      ],
      "text/plain": [
       "  grade  funded_amnt   total_pymnt  return_perc\n",
       "0     A  156680975.0  1.701844e+08     2.203863\n",
       "1     B  222818950.0  2.526315e+08     3.366617\n",
       "2     C  208655800.0  2.459196e+08     4.428123\n",
       "3     D  105216975.0  1.290040e+08     5.521501\n",
       "4     E   49402350.0  6.327334e+07     6.742991\n",
       "5     F   15345400.0  2.022847e+07     7.556967\n",
       "6     G    4878975.0  6.387143e+06     7.360790"
      ]
     },
     "execution_count": 6,
     "metadata": {},
     "output_type": "execute_result"
    },
    {
     "data": {
      "image/png": "[encoded data removed]",
      "text/plain": [
       "<Figure size 432x288 with 1 Axes>"
      ]
     },
     "metadata": {
      "needs_background": "light"
     },
     "output_type": "display_data"
    }
   ],
   "source": [
    "# This is asset weighted return\n",
    "return_grade_wt = df_fully_paid.groupby('grade')[['funded_amnt','total_pymnt']].sum().reset_index()\n",
    "return_grade_wt['return_perc'] =  return_cal(return_grade_wt,\"total_pymnt\",'funded_amnt', avg_term)\n",
    "\n",
    "grade_wt_plot = sns.barplot(x=\"grade\", y=\"return_perc\", data=return_grade_wt)\n",
    "grade_wt_plot.set(title = 'Asset Weighted Avg Annualized Return by Grade', xlabel = 'Grade', ylabel = 'Return in %' )\n",
    "\n",
    "return_grade_wt"
   ]
  },
  {
   "cell_type": "markdown",
   "metadata": {},
   "source": [
    "### Question 29:\n",
    "\n",
    "For those loans wich are default or beyond, what are the average returns or return distributions?"
   ]
  },
  {
   "cell_type": "code",
   "execution_count": 7,
   "metadata": {
    "scrolled": false
   },
   "outputs": [
    {
     "data": {
      "text/plain": [
       "[Text(0, 0.5, 'Return in %'),\n",
       " Text(0.5, 0, 'Grade'),\n",
       " Text(0.5, 1.0, 'Avg Annualized Return by Grade')]"
      ]
     },
     "execution_count": 7,
     "metadata": {},
     "output_type": "execute_result"
    },
    {
     "data": {
      "image/png": "[encoded data removed]",
      "text/plain": [
       "<Figure size 432x288 with 1 Axes>"
      ]
     },
     "metadata": {
      "needs_background": "light"
     },
     "output_type": "display_data"
    }
   ],
   "source": [
    "df_default = df_cleaned[df_cleaned['loan_status_final'].str.contains('Charged Off')]\n",
    "df_default['return_perc'] =  return_cal(df_default)\n",
    "return_grade_default = df_default.groupby('grade')[['return_perc']].mean().reset_index()\n",
    "default_plot = sns.barplot(x=\"grade\", y=\"return_perc\", data=return_grade_default)\n",
    "default_plot.set(title = 'Avg Annualized Return by Grade', xlabel = 'Grade', ylabel = 'Return in %' )"
   ]
  },
  {
   "cell_type": "markdown",
   "metadata": {},
   "source": [
    "### Question 30:\n",
    "\n",
    "What about all the loans which have been terminated ('fully paid', 'default', 'charged off')?"
   ]
  },
  {
   "cell_type": "code",
   "execution_count": null,
   "metadata": {},
   "outputs": [],
   "source": [
    "# Total return comparison between 3 and 5 year for each loan status\n",
    "for status in df_cleaned['loan_status_final'].unique():\n",
    "    df_status = df_cleaned[df_cleaned['loan_status_final'].str.contains(status)]\n",
    "    df_term_comp = df_status.loc[df_status.loan_status_final!='Current'].groupby(['grade','term_year'])[['funded_amnt','total_pymnt']].sum().reset_index()\n",
    "    df_term_comp['return_perc'] = 100*(df_term_comp['total_pymnt']/df_term_comp['funded_amnt']-1)\n",
    "    #df_term_comp['return_perc'] =  return_cal(df_term_comp)\n",
    "    try:\n",
    "        df_term_comp_graph = pd.pivot_table(df_term_comp, index = 'grade',values = 'return_perc', columns = 'term_year').fillna(0)\n",
    "        df_term_comp_graph.plot(kind=\"bar\")\n",
    "        plt.title('3yr vs. 5yr Return for Loan Status - ' + status)\n",
    "        plt.ylabel('return in %')\n",
    "    except:\n",
    "        continue"
   ]
  },
  {
   "cell_type": "markdown",
   "metadata": {},
   "source": [
    "### Question 31:\n",
    "\n",
    "What about the loans which end up in loan settlement negotiations?"
   ]
  },
  {
   "cell_type": "code",
   "execution_count": null,
   "metadata": {},
   "outputs": [],
   "source": []
  },
  {
   "cell_type": "markdown",
   "metadata": {},
   "source": [
    "### Question 32:\n",
    "\n",
    "Any variation of patterns for different loan purposes?"
   ]
  },
  {
   "cell_type": "code",
   "execution_count": null,
   "metadata": {},
   "outputs": [],
   "source": []
  },
  {
   "cell_type": "markdown",
   "metadata": {},
   "source": [
    "### Question 33:\n",
    "\n",
    "What happens if the issuance years are included in your analysis?\n",
    "\n",
    "**REMOVE**"
   ]
  },
  {
   "cell_type": "code",
   "execution_count": null,
   "metadata": {},
   "outputs": [],
   "source": []
  },
  {
   "cell_type": "markdown",
   "metadata": {},
   "source": [
    "### Question 34:\n",
    "\n",
    "Is there any pattern between loan duration vs return rate?"
   ]
  },
  {
   "cell_type": "code",
   "execution_count": null,
   "metadata": {},
   "outputs": [],
   "source": []
  },
  {
   "cell_type": "markdown",
   "metadata": {},
   "source": [
    "# Question Group: Data Analytics\n",
    "- A good investor may want to avoid these types of loans\n",
    "- The insights might be used in ML task to single out these bad loans\n",
    "\n",
    "**JON HARRIS & JOE LU**"
   ]
  },
  {
   "cell_type": "markdown",
   "metadata": {},
   "source": [
    "### Question 40: \n",
    "\n",
    "What types of loans tend to prepay and terminate within 3 months of the loan issuance?"
   ]
  },
  {
   "cell_type": "markdown",
   "metadata": {},
   "source": [
    "### Question 41:\n",
    "\n",
    "What types of loans tend to default (or go into charged off) within a short duration after issuance?"
   ]
  },
  {
   "cell_type": "markdown",
   "metadata": {},
   "source": [
    "### Question 42:\n",
    "\n",
    "Does default rate (including those get charged off or into settlement) holds constant across different time (year-months)?"
   ]
  },
  {
   "cell_type": "markdown",
   "metadata": {},
   "source": [
    "### Question 43:\n",
    "\n",
    "If not, what are the external driving forces which cause the default rate to rise or fall?"
   ]
  },
  {
   "cell_type": "markdown",
   "metadata": {},
   "source": [
    "### Question 44:\n",
    "\n",
    "Can you provide data and statistical evidence for your analysis?"
   ]
  },
  {
   "cell_type": "markdown",
   "metadata": {},
   "source": [
    "# Question Group: Mini-Project\n",
    "\n",
    "As a data scientist at **Lending Club**, provide strong evidence to educate the lenders why diversification is important.\n",
    "\n",
    "- For simplicity, compare the investment returns of three types of loan portfolios\n",
    "    - 20 equal-dollar investments in 20 grade A loans. \n",
    "    - 100 equal-dollar investments in 100 grade A loans.\n",
    "    - 20 equal-dollar investments in $5+5+5+5$ loans in grade $A, B, C, D$, respectively, $5$\n",
    "in each grade\n",
    "    - 100 equal-dollar investments in $25+25+25+25$ loans in grade $A, B, C, D$, respectively,\n",
    " $25$ loans in each grade.\n",
    "    - Or you can invest 1% (of the loan amount) and diversify into many loans\n",
    "\n",
    "- Simulate uncertainty by randomly drawing from grade A, B, C, D loan buckets\n",
    "    - Because loans often terminate prematurely, in order for the comparison to\n",
    "be objective, you will need to annualize the returns by first computing the average\n",
    "duration of your loan portfolios.\n",
    "    - To be more accurate, you can take 'issuance date' into account and offer\n",
    "simulation during different years (or year-months).\n",
    "    - Due to the stochastic nature of the problem at hand, you should analyze\n",
    "the mean annualized returns, risks of each type of portfolios, probability of loss, etc.\n",
    "\n",
    "- Alternatively, as a data scientist at a start-up investing firm, provide a business report\n",
    "whether loan-investing buying **Lending Club** loans is an attractive option, \n",
    "compared to short-term treasury/corporate funds?\n",
    "\n"
   ]
  },
  {
   "cell_type": "code",
   "execution_count": null,
   "metadata": {},
   "outputs": [],
   "source": []
  },
  {
   "cell_type": "code",
   "execution_count": null,
   "metadata": {},
   "outputs": [],
   "source": []
  },
  {
   "cell_type": "code",
   "execution_count": null,
   "metadata": {},
   "outputs": [],
   "source": []
  },
  {
   "cell_type": "code",
   "execution_count": null,
   "metadata": {},
   "outputs": [],
   "source": []
  },
  {
   "cell_type": "code",
   "execution_count": null,
   "metadata": {},
   "outputs": [],
   "source": []
  },
  {
   "cell_type": "code",
   "execution_count": null,
   "metadata": {},
   "outputs": [],
   "source": []
  },
  {
   "cell_type": "code",
   "execution_count": null,
   "metadata": {},
   "outputs": [],
   "source": []
  },
  {
   "cell_type": "code",
   "execution_count": null,
   "metadata": {},
   "outputs": [],
   "source": []
  },
  {
   "cell_type": "code",
   "execution_count": null,
   "metadata": {},
   "outputs": [],
   "source": []
  },
  {
   "cell_type": "code",
   "execution_count": null,
   "metadata": {},
   "outputs": [],
   "source": []
  },
  {
   "cell_type": "code",
   "execution_count": null,
   "metadata": {},
   "outputs": [],
   "source": []
  },
  {
   "cell_type": "code",
   "execution_count": null,
   "metadata": {},
   "outputs": [],
   "source": []
  },
  {
   "cell_type": "code",
   "execution_count": null,
   "metadata": {},
   "outputs": [],
   "source": []
  },
  {
   "cell_type": "markdown",
   "metadata": {},
   "source": [
    "# Question Group: Survival Analysis on Survival Probabilities\n",
    "\n",
    "- In the context of Lending Club Loans, a loan starts to default  121\n",
    "121 days after it fails to make the payment on time."
   ]
  },
  {
   "cell_type": "markdown",
   "metadata": {},
   "source": [
    "### Question 35:\n",
    "\n",
    "For loans which are eventually paid in full, analyze the probabilities of survival at different time durations (known as survival plot). How are these probabilities of 'survival' related to the loan grade/subgrade or the FICO scores of the borrowers? To visualize, you want to plot the so-called survival curve."
   ]
  },
  {
   "cell_type": "markdown",
   "metadata": {},
   "source": [
    "### Question 36:\n",
    "\n",
    "For loans which are eventually defaulted, analyze the probabilities of survival at different time durations and find out its relationship with loan grade/subgrade, FICO scores or the other credit related attributes."
   ]
  },
  {
   "cell_type": "markdown",
   "metadata": {},
   "source": [
    "### Question 37:\n",
    "\n",
    "Lumping defaulted loans and completed loans together, a loan either pre-pays early , defaults or completes at maturity. Perform survival analysis and study what features affect the patterns."
   ]
  },
  {
   "cell_type": "markdown",
   "metadata": {},
   "source": [
    "### Question 38:\n",
    "\n",
    "You can either compute from the raw data from scratch, or use R-package like survminer to assist your analysis."
   ]
  },
  {
   "cell_type": "markdown",
   "metadata": {},
   "source": [
    "### Question 39:\n",
    "\n",
    "In survival analysis jargon, the dual cause of the early termination of the loan (either early prepayment or default) is usually known as competing events/competing risks, or mixture cure model."
   ]
  }
 ],
 "metadata": {
  "kernelspec": {
   "display_name": "Python 3",
   "language": "python",
   "name": "python3"
  },
  "language_info": {
   "codemirror_mode": {
    "name": "ipython",
    "version": 3
   },
   "file_extension": ".py",
   "mimetype": "text/x-python",
   "name": "python",
   "nbconvert_exporter": "python",
   "pygments_lexer": "ipython3",
   "version": "3.7.4"
  }
 },
 "nbformat": 4,
 "nbformat_minor": 2
}
