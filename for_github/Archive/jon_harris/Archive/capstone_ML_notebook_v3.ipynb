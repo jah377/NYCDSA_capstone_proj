{
 "cells": [
  {
   "cell_type": "markdown",
   "metadata": {},
   "source": [
    "# Loan Club: Machine Learning Capstone Notebook"
   ]
  },
  {
   "cell_type": "code",
   "execution_count": 1,
   "metadata": {},
   "outputs": [],
   "source": [
    "# Load packages\n",
    "import pandas as pd\n",
    "import numpy as np\n",
    "import re\n",
    "from time import strptime  # format data columns\n",
    "import warnings\n",
    "import math\n",
    "\n",
    "from matplotlib import pyplot as plt\n",
    "import matplotlib.ticker as ticker\n",
    "%matplotlib inline\n",
    "import seaborn as sns\n",
    "\n",
    "warnings.filterwarnings(\"ignore\")  # ignore warnings throughout notebook\n",
    "pd.set_option(\"display.max_columns\", None)  # show all columns"
   ]
  },
  {
   "cell_type": "code",
   "execution_count": 2,
   "metadata": {},
   "outputs": [],
   "source": [
    "# Load Data\n",
    "filepath = \"../data/accepted_subsampled_5percent.csv\" #will be personalized\n",
    "df = pd.read_csv(filepath, sep=\",\")\n",
    "\n",
    "df_cleaned = df.copy() #work from second copy"
   ]
  },
  {
   "cell_type": "code",
   "execution_count": 3,
   "metadata": {},
   "outputs": [],
   "source": [
    "# Features known to investors based on LC website\n",
    "known_vars = ['acc_now_delinq',             # accounts now deliquent\n",
    "              'collections_12_mths_ex_med', # collections excluding medical\n",
    "              'fico_range_high',            # credit score range\n",
    "              'fico_range_low',             # creit score range\n",
    "              'delinq_2yrs',                # delinquencies in last two years\n",
    "              'delinq_amnt',                # delinquency amount\n",
    "              'earliest_cr_line',           # earliest credit line\n",
    "              'home_ownership',             # home ownership\n",
    "              'dti',                        # debt2income ratio\n",
    "              'annual_inc',                 # annual income\n",
    "              'initial_list_status',        # initial listing status\n",
    "              'inq_last_6mths',             # credit inquires in last 6mo\n",
    "              'int_rate',                   # interest rate\n",
    "              'verification_status_joint',  # is this a joint app\n",
    "              'emp_length',                 # length of employment (yr)\n",
    "              'loan_amnt',                  # loan amount\n",
    "              'id',                         # loan id\n",
    "              'purpose',                    # purpose of the loan\n",
    "              'term',                       # loan term (3 or 5yr)\n",
    "              'addr_state',                 # borrower location state\n",
    "              'installment',                # montly payment\n",
    "              'mths_since_last_delinq',     # mo since last delinquency\n",
    "              'mths_since_last_major_derog',# mo since last maj. derogatory\n",
    "              'mths_since_last_record',     # mo since last public record\n",
    "              'open_acc',                   # open credit line\n",
    "              'pub_rec',                    # public records on file\n",
    "              'revol_util',                 # revolving balance utilization (%)\n",
    "              'revol_bal',                  # revolving credit balance ($)\n",
    "              'tot_coll_amt',               # total collection amount ever\n",
    "              'total_acc',                  # total credit lines\n",
    "              'tot_cur_bal',                # total current balance\n",
    "              'verification_status',        # verified income (Y/N I think)\n",
    "              'grade'                       # loan grade\n",
    "             ]\n",
    "\n",
    "# Sanity check, print variable if not found within original dataframe\n",
    "# [ print(var) for var in known_vars if (var not in df.columns)]\n"
   ]
  },
  {
   "cell_type": "markdown",
   "metadata": {},
   "source": [
    "### Impute Missing Data of Known Variables"
   ]
  },
  {
   "cell_type": "code",
   "execution_count": 4,
   "metadata": {},
   "outputs": [
    {
     "data": {
      "text/plain": [
       "verification_status_joint      0.949313\n",
       "mths_since_last_record         0.838543\n",
       "mths_since_last_major_derog    0.744395\n",
       "mths_since_last_delinq         0.513786\n",
       "emp_length                     0.063868\n",
       "tot_cur_bal                    0.033430\n",
       "tot_coll_amt                   0.033430\n",
       "revol_util                     0.001006\n",
       "dti                            0.000829\n",
       "collections_12_mths_ex_med     0.000476\n",
       "open_acc                       0.000185\n",
       "pub_rec                        0.000185\n",
       "total_acc                      0.000185\n",
       "inq_last_6mths                 0.000185\n",
       "earliest_cr_line               0.000185\n",
       "delinq_amnt                    0.000185\n",
       "delinq_2yrs                    0.000185\n",
       "acc_now_delinq                 0.000185\n",
       "dtype: float64"
      ]
     },
     "execution_count": 4,
     "metadata": {},
     "output_type": "execute_result"
    }
   ],
   "source": [
    "#Assess missingness of known variables\n",
    "missingness = df_cleaned[known_vars].isnull().mean().T\n",
    "missingness = missingness.loc[missingness>0].sort_values(ascending=False)\n",
    "missingness\n"
   ]
  },
  {
   "cell_type": "code",
   "execution_count": 5,
   "metadata": {},
   "outputs": [
    {
     "data": {
      "text/plain": [
       "[None, None, None, None]"
      ]
     },
     "execution_count": 5,
     "metadata": {},
     "output_type": "execute_result"
    }
   ],
   "source": [
    "# Drop features missing > 50% \n",
    "feat_wManyMissing = missingness.index[np.where(missingness > .5)].to_list()\n",
    "df_cleaned[known_vars].drop(df_cleaned[feat_wManyMissing], axis=1, inplace=True)\n",
    "[known_vars.remove(var) for var in feat_wManyMissing] #remove features from known_var list\n"
   ]
  },
  {
   "cell_type": "code",
   "execution_count": 6,
   "metadata": {},
   "outputs": [
    {
     "data": {
      "text/plain": [
       "[None, None, None, None, None, None, None, None, None, None, None]"
      ]
     },
     "execution_count": 6,
     "metadata": {},
     "output_type": "execute_result"
    }
   ],
   "source": [
    "# Replace NA's of numeric 'known_var' features with mean value\n",
    "numeric_var = ['tot_cur_bal',\n",
    "               'tot_coll_amt',\n",
    "               'revol_util',\n",
    "               'collections_12_mths_ex_med',\n",
    "               'open_acc',\n",
    "               'pub_rec',\n",
    "               'total_acc',\n",
    "               'inq_last_6mths',\n",
    "               'delinq_amnt',\n",
    "               'delinq_2yrs',\n",
    "               'dti' ]\n",
    "\n",
    "# List comprehension through numerica variables\n",
    "[df_cleaned[var].fillna(df[var].mean(), inplace=True) for var in numeric_var]\n"
   ]
  },
  {
   "cell_type": "code",
   "execution_count": 7,
   "metadata": {},
   "outputs": [
    {
     "data": {
      "text/plain": [
       "[None, None, None, None]"
      ]
     },
     "execution_count": 7,
     "metadata": {},
     "output_type": "execute_result"
    }
   ],
   "source": [
    "# Helper function to replace missing character strings with randomly selected value\n",
    "def fillna_random(var):\n",
    "    #find index of missing values\n",
    "    miss_idx = df_cleaned.loc[ df_cleaned[var].isnull()].index.tolist()\n",
    "    \n",
    "    #find new values to replace NaN values\n",
    "    new_val = df_cleaned[var].loc[~df_cleaned.index.isin(miss_idx)].sample(len(miss_idx)).values.tolist()\n",
    "\n",
    "    #replace values\n",
    "    df_cleaned[var][miss_idx] = new_val\n",
    "\n",
    "# ==================================================\n",
    "# Replace NA's of character 'known_var' features with random\n",
    "non_numeric_var = ['emp_length', 'earliest_cr_line', 'acc_now_delinq', 'delinq_2yrs'] #list of non-numeric variables\n",
    "[fillna_random(var) for var in non_numeric_var]\n"
   ]
  },
  {
   "cell_type": "code",
   "execution_count": 8,
   "metadata": {
    "scrolled": false
   },
   "outputs": [
    {
     "data": {
      "text/plain": [
       "acc_now_delinq                0\n",
       "collections_12_mths_ex_med    0\n",
       "fico_range_high               0\n",
       "fico_range_low                0\n",
       "delinq_2yrs                   0\n",
       "delinq_amnt                   0\n",
       "earliest_cr_line              0\n",
       "home_ownership                0\n",
       "dti                           0\n",
       "annual_inc                    0\n",
       "initial_list_status           0\n",
       "inq_last_6mths                0\n",
       "int_rate                      0\n",
       "emp_length                    0\n",
       "loan_amnt                     0\n",
       "id                            0\n",
       "purpose                       0\n",
       "term                          0\n",
       "addr_state                    0\n",
       "installment                   0\n",
       "open_acc                      0\n",
       "pub_rec                       0\n",
       "revol_util                    0\n",
       "revol_bal                     0\n",
       "tot_coll_amt                  0\n",
       "total_acc                     0\n",
       "tot_cur_bal                   0\n",
       "verification_status           0\n",
       "grade                         0\n",
       "dtype: int64"
      ]
     },
     "execution_count": 8,
     "metadata": {},
     "output_type": "execute_result"
    }
   ],
   "source": [
    "#Sanity check that no more missing values\n",
    "df_cleaned[known_vars].isnull().sum()\n"
   ]
  },
  {
   "cell_type": "markdown",
   "metadata": {},
   "source": [
    "### Feature Engineering"
   ]
  },
  {
   "cell_type": "code",
   "execution_count": 9,
   "metadata": {},
   "outputs": [],
   "source": [
    "# Simplify loan status (non-FullyPaid or ChargedOff loans will be converted to NAN)\n",
    "df_cleaned['loan_status'] = df_cleaned['loan_status'].map({'Fully Paid':'Fully Paid',\n",
    "                                                           'Charged Off':'Charged Off',\n",
    "                                                           'Does not meet the credit policy. Status:Fully Paid': 'Fully Paid',\n",
    "                                                           'Does not meet the credit policy. Status:Charged Off': 'Charged Off'})\n",
    "\n",
    "# Remove non-completed loans\n",
    "df_cleaned.drop(df_cleaned.loc[df_cleaned['loan_status'].isnull()].index.tolist(), axis=0, inplace=True)\n",
    "\n",
    "# Simplify home ownership\n",
    "df_cleaned['home_ownership'] = df_cleaned['home_ownership'].map({'MORTGAGE':'mortgage',\n",
    "                                                                 'OWN':'own',\n",
    "                                                                 'RENT':'rent'})\n",
    "\n",
    "# Remove 25 observations without houses\n",
    "df_cleaned.drop(df_cleaned.loc[df_cleaned['home_ownership'].isnull()].index.tolist(), axis=0, inplace=True)\n",
    "\n",
    "\n",
    "# Reformat date features and calculate features related to prepayment  \n",
    "df_cleaned['term_year'] = np.where(df_cleaned['term']==' 36 months', 3,5)\n",
    "df_cleaned['earliest_cr_line'] =  pd.to_datetime(df_cleaned['earliest_cr_line'])\n",
    "df_cleaned['issue_date'] =  pd.to_datetime(df_cleaned['issue_d'])\n",
    "df_cleaned['last_pymnt_date'] = pd.to_datetime(df_cleaned['last_pymnt_d'])\n",
    "df_cleaned['exp_last_pymnt_date'] = pd.to_datetime(df_cleaned['issue_d'].str[0:3]\n",
    "                                                   +'-'\n",
    "                                                   + (df_cleaned['issue_d'].str[-4:].astype('int')\n",
    "                                                   + df_cleaned['term_year']).astype('str'))\n",
    "\n",
    "# Calculate credit history ( in months )\n",
    "date_ofloan = df_cleaned['issue_date'].dt.to_period('M').astype(int)\n",
    "date_credline = df_cleaned['earliest_cr_line'].dt.to_period('M').astype(int)\n",
    "df_cleaned['credit_hist_mths'] = date_ofloan - date_credline\n",
    "df_cleaned['credit_hist_mths'] = np.where(df_cleaned['credit_hist_mths'] < 0, 0, df_cleaned['credit_hist_mths'])\n",
    "\n",
    "# Log-transform skewed continuous features\n",
    "df_cleaned['delinq_amnt_log'] = df_cleaned['delinq_amnt'].add(1).apply(np.log)\n",
    "df_cleaned['annual_inc_log'] = df_cleaned['annual_inc'].add(1).apply(np.log)\n",
    "df_cleaned['dti_log'] = df_cleaned['dti'].add(1).apply(np.log)\n",
    "df_cleaned['funded_amnt_log'] = df_cleaned['funded_amnt'].add(1).apply(np.log)\n",
    "df_cleaned['tot_coll_amt_log'] = df_cleaned['tot_coll_amt'].add(1).apply(np.log)\n",
    "df_cleaned['tot_cur_bal_log'] = df_cleaned['tot_cur_bal'].add(1).apply(np.log)\n",
    "df_cleaned['total_acc_log'] = df_cleaned['total_acc'].add(1).apply(np.log)\n",
    "df_cleaned['revol_bal_log'] = df_cleaned['revol_bal'].add(1).apply(np.log)\n",
    "df_cleaned['installment_log'] = df_cleaned['installment'].add(1).apply(np.log)\n",
    "df_cleaned['open_acc_log'] = df_cleaned['open_acc'].add(1).apply(np.log)\n",
    "\n",
    "# Simplify loan purpose - debt consolidation, credit card, and other\n",
    "df_cleaned['purpose'] = df_cleaned['purpose'].map({'debt_consolidation':'debt_consolidation',\n",
    "                                                   'credit_card':'credit_card'})\n",
    "df_cleaned['purpose'].fillna('other',inplace=True)\n",
    "\n",
    "# Convert loan grade to ordinal feature\n",
    "df_cleaned['grade'] = df_cleaned['grade'].map({'A':1,\n",
    "                                               'B':2,\n",
    "                                               'C':3,\n",
    "                                               'D':4,\n",
    "                                               'E':5,\n",
    "                                               'F':6,\n",
    "                                               'G':7})\n",
    "\n",
    "# Simplify employment length to four categories\n",
    "df_cleaned['emp_length'] = df_cleaned['emp_length'].map({'< 1 year':0.5,\n",
    "                                                         '1 year':1,\n",
    "                                                         '2 years':2,\n",
    "                                                         '3 years':3,\n",
    "                                                         '4 years':4,\n",
    "                                                         '5 years':5,\n",
    "                                                         '6 years':6,\n",
    "                                                         '7 years':7,\n",
    "                                                         '8 years':8,\n",
    "                                                         '9 years':9,\n",
    "                                                         '10+ years':10})\n",
    "\n",
    "# Create new binary features\n",
    "df_cleaned['has_pub_rec'] = np.where(df_cleaned['pub_rec']>0,1,0) #0-=no public record\n",
    "df_cleaned['has_paid_early'] = np.where((df_cleaned.loan_status=='Fully Paid')&(df_cleaned.last_pymnt_date < df_cleaned.exp_last_pymnt_date), 1, 0)\n",
    "df_cleaned['has_36mo_loan'] = np.where(df_cleaned['term'].str.contains('36'),1,0) #0=60mo loan\n",
    "df_cleaned['has_delinq_now'] = np.where(df_cleaned['acc_now_delinq']>0, 1, 0)\n",
    "df_cleaned['has_delinq_past2yrs'] = np.where(df_cleaned['delinq_2yrs']>0, 1, 0) #0=no delinq within 2yrs\n",
    "df_cleaned['has_whole_liststatus'] = np.where(df_cleaned['initial_list_status']=='w', 1, 0) #0=f\n",
    "df_cleaned['has_fullypaid'] = np.where(df_cleaned['loan_status']=='Fully Paid', 1, 0) #0=charged off\n"
   ]
  },
  {
   "cell_type": "code",
   "execution_count": 10,
   "metadata": {},
   "outputs": [
    {
     "name": "stdout",
     "output_type": "stream",
     "text": [
      "Fraction of loans above threadhold: 0.838\n"
     ]
    }
   ],
   "source": [
    "# Create response variable based on \n",
    "threshold = -20 #goal % return\n",
    "df_cleaned[\"roi_perc\"] = df_cleaned[\"total_pymnt\"].div(df_cleaned[\"funded_amnt\"]).sub(1).mul(100)\n",
    "df_cleaned['roi_response'] = np.where(df_cleaned['roi_perc'] > threshold, 1, 0)\n",
    "\n",
    "print('Fraction of loans above threadhold: %.3f' % df_cleaned['roi_response'].mean())\n",
    "\n",
    "# ==================================================================\n",
    "# Majority class [1] = ROI >-20% (IDEAL)\n",
    "# Minority class [0] = ROI <-20% (BAD)"
   ]
  },
  {
   "cell_type": "code",
   "execution_count": 11,
   "metadata": {},
   "outputs": [],
   "source": [
    "# Isolate list of predictor variables to be used for ML\n",
    "predictor_vars = ['annual_inc_log',\n",
    "                  'credit_hist_mths',\n",
    "                  'delinq_amnt_log',\n",
    "                  'dti_log',\n",
    "                  'emp_length',\n",
    "                  'fico_range_high',\n",
    "                  'funded_amnt_log',\n",
    "                  'grade',\n",
    "                  'has_36mo_loan',\n",
    "                  'has_delinq_now',\n",
    "                  'has_delinq_past2yrs',\n",
    "                  'has_pub_rec',\n",
    "                  'has_whole_liststatus',\n",
    "                  'home_ownership',\n",
    "                  'inq_last_6mths',\n",
    "                  'installment_log',\n",
    "                  'int_rate',\n",
    "                  'open_acc_log',\n",
    "                  'purpose',\n",
    "                  'revol_bal_log',\n",
    "                  'revol_util',\n",
    "                  'tot_coll_amt_log',\n",
    "                  'tot_cur_bal_log',\n",
    "                  'total_acc_log',\n",
    "                  'verification_status']\n",
    "\n",
    "response_var = 'roi_response'\n"
   ]
  },
  {
   "cell_type": "markdown",
   "metadata": {},
   "source": [
    "# Machine Learning"
   ]
  },
  {
   "cell_type": "markdown",
   "metadata": {},
   "source": [
    "### Logistic Regression\n",
    "- Goal is to build classifier that predicts if loan results in desirable outcome\n",
    "- Should also report feature importance"
   ]
  },
  {
   "cell_type": "code",
   "execution_count": 12,
   "metadata": {},
   "outputs": [],
   "source": [
    "# Dummify categorical features\n",
    "home_ownership_dummy = pd.get_dummies(df_cleaned['home_ownership'],\n",
    "                                      prefix=\"home_ownership\").drop('home_ownership_mortgage',axis=1)\n",
    "\n",
    "purpose_dummy = pd.get_dummies(df_cleaned['purpose'],\n",
    "                               prefix=\"purpose\").drop('purpose_debt_consolidation',axis=1)\n",
    "\n",
    "verification_status_dummy = pd.get_dummies(df_cleaned['verification_status'],\n",
    "                               prefix=\"verification_status\").drop('verification_status_Source Verified',axis=1)\n"
   ]
  },
  {
   "cell_type": "code",
   "execution_count": 13,
   "metadata": {},
   "outputs": [],
   "source": [
    "# List of numeric features in the final dataframe\n",
    "numeric_vars = ['annual_inc_log',\n",
    "                'credit_hist_mths',\n",
    "                'delinq_amnt_log',\n",
    "                'dti_log',\n",
    "                'emp_length',\n",
    "                'fico_range_high',\n",
    "                'funded_amnt_log',\n",
    "                'grade',\n",
    "                'has_36mo_loan',\n",
    "                'has_delinq_now',\n",
    "                'has_delinq_past2yrs',\n",
    "                'has_pub_rec',\n",
    "                'has_whole_liststatus',\n",
    "                'inq_last_6mths',\n",
    "                'installment_log',\n",
    "                'int_rate',\n",
    "                'open_acc_log',\n",
    "                'revol_bal_log',\n",
    "                'revol_util',\n",
    "                'tot_coll_amt_log',\n",
    "                'tot_cur_bal_log',\n",
    "                'total_acc_log']\n"
   ]
  },
  {
   "cell_type": "code",
   "execution_count": 14,
   "metadata": {},
   "outputs": [],
   "source": [
    "# final dataframe for model consumption\n",
    "df_feature_final = pd.concat([df_cleaned[numeric_vars],\n",
    "                      home_ownership_dummy,\n",
    "                      purpose_dummy,\n",
    "                      verification_status_dummy],axis=1)"
   ]
  },
  {
   "cell_type": "markdown",
   "metadata": {},
   "source": [
    "### Tree-Based Model\n",
    "- Goal is to build classifier that predicts if loan results in desirable outcome\n",
    "- Should also report feature importance\n",
    "\n",
    "- Initially explored Random Forest algorithm but switched to XGboost due to time constraint\n"
   ]
  },
  {
   "cell_type": "code",
   "execution_count": 48,
   "metadata": {},
   "outputs": [],
   "source": [
    "import xgboost as xgb\n",
    "from sklearn.model_selection import train_test_split\n",
    "from sklearn.model_selection import GridSearchCV\n",
    "from sklearn.metrics import precision_recall_curve, average_precision_score, precision_score, auc, recall_score, roc_auc_score\n",
    "from sklearn.metrics import confusion_matrix, classification_report, recall_score, roc_auc_score"
   ]
  },
  {
   "cell_type": "markdown",
   "metadata": {},
   "source": [
    "#### Naive XGBoost Model - Imbalanced Data (83.8% ROI>-20%)\n",
    "\n",
    "*Goal is to minimize false positives* - Maximixe precision\n",
    "- Majority class [1] = ROI >-20% (IDEAL)\n",
    "- Minority class [0] = ROI <-20% (BAD)\n"
   ]
  },
  {
   "cell_type": "code",
   "execution_count": 16,
   "metadata": {},
   "outputs": [
    {
     "name": "stdout",
     "output_type": "stream",
     "text": [
      "\n",
      "Training ROC-AUC score is: 0.514\n",
      "Test ROC-AUC score is: 0.508\n",
      "Test Area Under P-R Curve: 0.920\n",
      "\n",
      "Confusion Matrix:\n",
      " [[   46  2141]\n",
      " [   51 11323]]\n",
      "\n",
      "2141 of 2187 [97.9%]loans ROI<-20% were incorrectly labeled as ROI>-20%\n"
     ]
    },
    {
     "data": {
      "text/plain": [
       "Text(0.5, 1.0, 'Binary Precision-Recall curve: AP=0.84')"
      ]
     },
     "execution_count": 16,
     "metadata": {},
     "output_type": "execute_result"
    },
    {
     "data": {
      "image/png": "[encoded data removed]",
      "text/plain": [
       "<Figure size 432x288 with 1 Axes>"
      ]
     },
     "metadata": {
      "needs_background": "light"
     },
     "output_type": "display_data"
    }
   ],
   "source": [
    "#Create test-train split of data\n",
    "x = df_feature_final\n",
    "y = df_cleaned[response_var] #labels\n",
    "x_train, x_test, y_train, y_test = train_test_split(x, y, test_size=0.2, random_state=0)\n",
    "\n",
    "#Create random forest object\n",
    "naive_model = xgb.XGBClassifier(objective = 'binary:logistic')\n",
    "\n",
    "#Fit model with data\n",
    "naive_model.fit(x_train, y_train)\n",
    "\n",
    "# ==================== Print Results ====================\n",
    "model = naive_model\n",
    "train_score = roc_auc_score(y_train, model.predict(x_train))\n",
    "print('\\nTraining ROC-AUC score is: %.3f' % train_score)\n",
    "test_score = roc_auc_score(y_test, model.predict(x_test))\n",
    "print('Test ROC-AUC score is: %.3f' % test_score)\n",
    "precision, recall, _ = precision_recall_curve(y_test, model.predict(x_test))\n",
    "print('Test Area Under P-R Curve: %.3f\\n' % auc(recall, precision))\n",
    "cm = confusion_matrix(y_test, model.predict(x_test))\n",
    "print('Confusion Matrix:\\n', cm)\n",
    "print('\\n{0} of {1} [{2}%]loans ROI<-20% were incorrectly labeled as ROI>-20%'.format(cm[0,1], \n",
    "                                                                                    cm[0,0]+cm[0,1], \n",
    "                                                                                    round(100*cm[0,1]/(cm[0,0]+cm[0,1]),2)))\n",
    "\n",
    "# ==================== P-R Curve Plot ====================\n",
    "average_precision = average_precision_score(y_test, model.predict(x_test))\n",
    "plt.plot(recall, precision)\n",
    "plt.xlabel('Recall (True Positive) ')\n",
    "plt.ylabel('Precision (Proportion Correct)')\n",
    "plt.ylim([0.0, 1.05])\n",
    "plt.xlim([0.0, 1.0])\n",
    "plt.title('Binary Precision-Recall curve: '\n",
    "                   'AP={0:0.2f}'.format(average_precision))"
   ]
  },
  {
   "cell_type": "markdown",
   "metadata": {},
   "source": [
    "#### Naive XGBoost Model - using scale_pos_weight parameter"
   ]
  },
  {
   "cell_type": "code",
   "execution_count": 17,
   "metadata": {},
   "outputs": [
    {
     "name": "stdout",
     "output_type": "stream",
     "text": [
      "\n",
      "Training ROC-AUC score is: 0.670\n",
      "Test ROC-AUC score is: 0.653\n",
      "Test Area Under P-R Curve: 0.925\n",
      "\n",
      "Confusion Matrix:\n",
      " [[1467  720]\n",
      " [4153 7221]]\n",
      "\n",
      "720 of 2187 [32.92%]loans ROI<-20% were incorrectly labeled as ROI>-20%\n"
     ]
    },
    {
     "data": {
      "text/plain": [
       "Text(0.5, 1.0, 'Binary Precision-Recall curve: AP=0.88')"
      ]
     },
     "execution_count": 17,
     "metadata": {},
     "output_type": "execute_result"
    },
    {
     "data": {
      "image/png": "[encoded data removed]",
      "text/plain": [
       "<Figure size 432x288 with 1 Axes>"
      ]
     },
     "metadata": {
      "needs_background": "light"
     },
     "output_type": "display_data"
    }
   ],
   "source": [
    "#Create random forest object\n",
    "#scale_pos_weight = sum(negative) / sum(positive)\n",
    "naive_model = xgb.XGBClassifier(objective = 'binary:logistic', \n",
    "                                scale_pos_weight=(len(y)-y.sum())/y.sum(), #84% of ROI >-20% [1]\n",
    "                                eval_matrix = 'aucpr') #PR AUC - goal to minimze False positives \n",
    "\n",
    "#Fit model with data\n",
    "naive_model.fit(x_train, y_train)\n",
    "\n",
    "# ==================== Print Results ====================\n",
    "model = naive_model\n",
    "train_score = roc_auc_score(y_train, model.predict(x_train))\n",
    "print('\\nTraining ROC-AUC score is: %.3f' % train_score)\n",
    "test_score = roc_auc_score(y_test, model.predict(x_test))\n",
    "print('Test ROC-AUC score is: %.3f' % test_score)\n",
    "precision, recall, _ = precision_recall_curve(y_test, model.predict(x_test))\n",
    "print('Test Area Under P-R Curve: %.3f\\n' % auc(recall, precision))\n",
    "cm = confusion_matrix(y_test, model.predict(x_test))\n",
    "print('Confusion Matrix:\\n', cm)\n",
    "print('\\n{0} of {1} [{2}%]loans ROI<-20% were incorrectly labeled as ROI>-20%'.format(cm[0,1], \n",
    "                                                                                    cm[0,0]+cm[0,1],                                            round(100*cm[0,1]/(cm[0,0]+cm[0,1]),2)))\n",
    "\n",
    "# ==================== P-R Curve Plot ====================\n",
    "y_pred = model.predict(x_test)\n",
    "average_precision = average_precision_score(y_test, y_pred)\n",
    "precision, recall, _ = precision_recall_curve(y_test, y_pred)\n",
    "plt.plot(recall, precision)\n",
    "plt.xlabel('Recall (True Positive) ')\n",
    "plt.ylabel('Precision (Proportion Correct)')\n",
    "plt.ylim([0.0, 1.05])\n",
    "plt.xlim([0.0, 1.0])\n",
    "plt.title('Binary Precision-Recall curve: '\n",
    "                   'AP={0:0.2f}'.format(average_precision))"
   ]
  },
  {
   "cell_type": "code",
   "execution_count": 98,
   "metadata": {},
   "outputs": [
    {
     "name": "stdout",
     "output_type": "stream",
     "text": [
      "    weight    auc_PR  accuracy    recall  precision  false_discovery_rate  \\\n",
      "16    0.17  0.884048  0.600619  0.575611   0.917461              0.082539   \n",
      "17    0.18  0.882902  0.618243  0.603042   0.911980              0.088020   \n",
      "18    0.19  0.882646  0.636015  0.629418   0.908503              0.091497   \n",
      "14    0.15  0.882585  0.557112  0.514243   0.924013              0.075987   \n",
      "15    0.16  0.882253  0.576432  0.542905   0.918899              0.081101   \n",
      "\n",
      "    false_pos_rate  error_rate  n_true_pos  n_false_pos  \n",
      "16        0.269319    0.399381      6547.0        589.0  \n",
      "17        0.302698    0.381757      6859.0        662.0  \n",
      "18        0.329675    0.363985      7159.0        721.0  \n",
      "14        0.219936    0.442888      5849.0        481.0  \n",
      "15        0.249200    0.423568      6175.0        545.0  \n",
      "CPU times: user 2min 57s, sys: 1.67 s, total: 2min 59s\n",
      "Wall time: 3min 1s\n"
     ]
    },
    {
     "data": {
      "text/plain": [
       "Text(0.5, 1.0, 'Binary Precision-Recall curve: AP=0.84')"
      ]
     },
     "execution_count": 98,
     "metadata": {},
     "output_type": "execute_result"
    },
    {
     "data": {
      "image/png": "[encoded data removed]",
      "text/plain": [
       "<Figure size 432x288 with 1 Axes>"
      ]
     },
     "metadata": {
      "needs_background": "light"
     },
     "output_type": "display_data"
    }
   ],
   "source": [
    "%%time\n",
    "#TUNE SCALE_POS_WEIGHT VALUE\n",
    "\n",
    "x = df_feature_final\n",
    "y = df_cleaned[response_var] #labels\n",
    "x_train, x_test, y_train, y_test = train_test_split(x, y, test_size=0.2, random_state=0)\n",
    "\n",
    "store = pd.DataFrame([], columns=['weight',\n",
    "                                  'auc_PR',\n",
    "                                  'accuracy',\n",
    "                                  'recall',\n",
    "                                  'precision',\n",
    "                                  'false_discovery_rate',\n",
    "                                  'false_pos_rate',\n",
    "                                  'error_rate',\n",
    "                                  'n_true_pos',\n",
    "                                  'n_false_pos'])\n",
    "\n",
    "weights = [i/100 for i in range(1,20)]\n",
    "for weight in weights:\n",
    "    #Create random forest object\n",
    "    #scale_pos_weight = sum(negative) / sum(positive)\n",
    "    naive_model = xgb.XGBClassifier(objective = 'binary:logistic', \n",
    "                                    scale_pos_weight = weight,\n",
    "                                    eval_matrix = 'aucpr',\n",
    "                                    seed = 0) #PR AUC - goal to minimze False positives \n",
    "\n",
    "    #Fit model with data\n",
    "    naive_model.fit(x_train, y_train)\n",
    "    \n",
    "    #Analyze\n",
    "    tn, fp, fn, tp = confusion_matrix(y_test, naive_model.predict(x_test)).ravel()\n",
    "    \n",
    "    store = store.append({'weight':weight,\n",
    "                          'auc_PR': average_precision_score(y_test, naive_model.predict(x_test)),\n",
    "                          'accuracy': (tp + tn) / (tp + tn + fn + fp),\n",
    "                          'recall': tp / (tp + fn),\n",
    "                          'precision': tp/(tp+fp),\n",
    "                          'false_discovery_rate': fp/(fp+tp),\n",
    "                          'false_pos_rate': fp / (tn + fp),\n",
    "                          'error_rate': (fp + fn) / (tp + tn + fn + fp),\n",
    "                          'n_true_pos':tp, \n",
    "                          'n_false_pos':fp}, ignore_index = True)\n",
    "\n",
    "store = store.sort_values(by='auc_PR',ascending=False)\n",
    "print(store.head())\n",
    "                     \n",
    "# ==================== P-R Curve Plot ====================\n",
    "model = xgb.XGBClassifier(objective = 'binary:logistic',\n",
    "                          scale_pos_weight=store.weight[0],\n",
    "                          eval_matrix = 'aucpr')\n",
    "model.fit(x_train, y_train)\n",
    "y_pred = model.predict(x_test)\n",
    "auc_PR = average_precision_score(y_test, y_pred)\n",
    "precision, recall, _ = precision_recall_curve(y_test, y_pred)\n",
    "plt.plot(recall, precision)\n",
    "plt.xlabel('Recall (True Positive) ')\n",
    "plt.ylabel('Precision (Proportion Correct)')\n",
    "plt.ylim([0.0, 1.05])\n",
    "plt.xlim([0.0, 1.0])\n",
    "plt.title('Binary Precision-Recall curve: '\n",
    "                   'auc_PR={0:0.2f}'.format(auc_PR))\n"
   ]
  },
  {
   "cell_type": "code",
   "execution_count": 102,
   "metadata": {},
   "outputs": [
    {
     "data": {
      "text/plain": [
       "28"
      ]
     },
     "execution_count": 102,
     "metadata": {},
     "output_type": "execute_result"
    }
   ],
   "source": [
    "len(list(range(100,1500,50)))"
   ]
  },
  {
   "cell_type": "code",
   "execution_count": 99,
   "metadata": {},
   "outputs": [
    {
     "name": "stdout",
     "output_type": "stream",
     "text": [
      "   n_estimators    auc_PR  accuracy    recall  precision  \\\n",
      "1         500.0  0.885053  0.623774  0.607966   0.914925   \n",
      "2        1000.0  0.884560  0.638375  0.630033   0.911473   \n",
      "0         100.0  0.884048  0.600619  0.575611   0.917461   \n",
      "3        1500.0  0.882872  0.648920  0.647969   0.906854   \n",
      "\n",
      "   false_discovery_rate  false_pos_rate  error_rate  n_true_pos  n_false_pos  \n",
      "1              0.085075        0.294010    0.376226      6915.0        643.0  \n",
      "2              0.088527        0.318244    0.361625      7166.0        696.0  \n",
      "0              0.082539        0.269319    0.399381      6547.0        589.0  \n",
      "3              0.093146        0.346136    0.351080      7370.0        757.0  \n",
      "CPU times: user 4min 35s, sys: 1.74 s, total: 4min 37s\n",
      "Wall time: 4min 39s\n"
     ]
    },
    {
     "data": {
      "text/plain": [
       "Text(0.5, 1.0, 'Binary Precision-Recall curve: auc_PR=0.88')"
      ]
     },
     "execution_count": 99,
     "metadata": {},
     "output_type": "execute_result"
    },
    {
     "data": {
      "image/png": "[encoded data removed]",
      "text/plain": [
       "<Figure size 432x288 with 1 Axes>"
      ]
     },
     "metadata": {
      "needs_background": "light"
     },
     "output_type": "display_data"
    }
   ],
   "source": [
    "%%time\n",
    "#TUNE n_estimators\n",
    "x = df_feature_final\n",
    "y = df_cleaned[response_var] #labels\n",
    "x_train, x_test, y_train, y_test = train_test_split(x, y, test_size=0.2, random_state=0)\n",
    "\n",
    "store = pd.DataFrame([], columns=['n_estimators',\n",
    "                                  'auc_PR',\n",
    "                                  'accuracy',\n",
    "                                  'recall',\n",
    "                                  'precision',\n",
    "                                  'false_discovery_rate',\n",
    "                                  'false_pos_rate',\n",
    "                                  'error_rate',\n",
    "                                  'n_true_pos',\n",
    "                                  'n_false_pos'])\n",
    "n_estim = [100, 500, 1000, 1500]\n",
    "for n in n_estim:\n",
    "    #Create random forest object\n",
    "    #scale_pos_weight = sum(negative) / sum(positive)\n",
    "    naive_model = xgb.XGBClassifier(objective = 'binary:logistic', \n",
    "                                    scale_pos_weight = 0.17, \n",
    "                                    n_estimators = n\n",
    "                                    eval_matrix = 'aucpr',\n",
    "                                    seed = 0) #PR AUC - goal to minimze False positives \n",
    "\n",
    "    #Fit model with data\n",
    "    naive_model.fit(x_train, y_train)\n",
    "    \n",
    "    #Analyze\n",
    "    tn, fp, fn, tp = confusion_matrix(y_test, naive_model.predict(x_test)).ravel()\n",
    "    \n",
    "    store = store.append({'n_estimators':n,\n",
    "                          'auc_PR': average_precision_score(y_test, naive_model.predict(x_test)),\n",
    "                          'accuracy': (tp + tn) / (tp + tn + fn + fp),\n",
    "                          'recall': tp / (tp + fn),\n",
    "                          'precision': tp/(tp+fp),\n",
    "                          'false_discovery_rate': fp/(fp+tp),\n",
    "                          'false_pos_rate': fp / (tn + fp),\n",
    "                          'error_rate': (fp + fn) / (tp + tn + fn + fp),\n",
    "                          'n_true_pos':tp, \n",
    "                          'n_false_pos':fp}, ignore_index = True)\n",
    "\n",
    "store = store.sort_values(by='auc_PR',ascending=False)\n",
    "print(store.head())\n",
    "\n",
    "# ==================== P-R Curve Plot ====================\n",
    "model = xgb.XGBClassifier(objective = 'binary:logistic',\n",
    "                          scale_pos_weight=0.17,\n",
    "                          eval_matrix = 'aucpr')\n",
    "model.fit(x_train, y_train)\n",
    "y_pred = model.predict(x_test)\n",
    "auc_PR = average_precision_score(y_test, y_pred)\n",
    "precision, recall, _ = precision_recall_curve(y_test, y_pred)\n",
    "plt.plot(recall, precision)\n",
    "plt.xlabel('Recall (True Positive) ')\n",
    "plt.ylabel('Precision (Proportion Correct)')\n",
    "plt.ylim([0.0, 1.05])\n",
    "plt.xlim([0.0, 1.0])\n",
    "plt.title('Binary Precision-Recall curve: '\n",
    "                   'auc_PR={0:0.2f}'.format(auc_PR))"
   ]
  },
  {
   "cell_type": "markdown",
   "metadata": {},
   "source": [
    "**Tuning Hyperparameters**\n",
    "- max_depth = depth of trees (3-10)\n",
    "- min_child_weight = similar to min_child_leaf for RandomForest\n",
    "- gamma = min. loss reduction required for split\n",
    "- subsample = frac of observations randomly sampled for tree (0.5-1)\n",
    "- colsample_bytree = number of features sampled for each tree\n",
    "- learning rate = typically between 0.01-0.2"
   ]
  },
  {
   "cell_type": "code",
   "execution_count": 18,
   "metadata": {},
   "outputs": [
    {
     "name": "stdout",
     "output_type": "stream",
     "text": [
      "{'max_depth': 1, 'min_child_weight': 5}\n",
      "0.923036486287583\n",
      "\n",
      "Training ROC-AUC score is: 0.665\n",
      "Test ROC-AUC score is: 0.651\n",
      "Test Area Under P-R Curve: 0.925\n",
      "\n",
      "Confusion Matrix:\n",
      " [[1471  716]\n",
      " [4211 7163]]\n",
      "\n",
      "716 of 2187 [32.74%]loans ROI<-20% were incorrectly labeled as ROI>-20%\n",
      "CPU times: user 1min 30s, sys: 676 ms, total: 1min 30s\n",
      "Wall time: 26min 53s\n"
     ]
    },
    {
     "data": {
      "text/plain": [
       "Text(0.5, 1.0, 'Binary Precision-Recall curve: AP=0.88')"
      ]
     },
     "execution_count": 18,
     "metadata": {},
     "output_type": "execute_result"
    },
    {
     "data": {
      "image/png": "[encoded data removed]",
      "text/plain": [
       "<Figure size 432x288 with 1 Axes>"
      ]
     },
     "metadata": {
      "needs_background": "light"
     },
     "output_type": "display_data"
    }
   ],
   "source": [
    "%%time \n",
    "\n",
    "#Tune max_depth and min_child_weight\n",
    "param_test1 = {'max_depth':range(1,5,1),        #typically between 3-10\n",
    "               'min_child_weight':range(1,6,1)}  #small number selected because of \n",
    "\n",
    "gsearch1 = GridSearchCV(estimator = xgb.XGBClassifier(learning_rate = 0.1,\n",
    "                                                      n_estimators = 1000,\n",
    "                                                      max_depth = 3,\n",
    "                                                      min_child_weight = 1,\n",
    "                                                      gamma = 0,\n",
    "                                                      subsample = 1,\n",
    "                                                      colsample_bytree = 1,\n",
    "                                                      objective = 'binary:logistic',\n",
    "                                                      seed = 0,\n",
    "                                                      early_stopping_rounds = 5,\n",
    "                                                      scale_pos_weight=(len(y)-y.sum())/y.sum()), \n",
    "                        param_grid = param_test1, \n",
    "                        scoring = 'average_precision',\n",
    "                        n_jobs = -1,\n",
    "                        iid = False, #returns avg score across folds\n",
    "                        cv = 5)\n",
    "\n",
    "gsearch1.fit(x_train,y_train)\n",
    "print(gsearch1.best_params_) #best parameters from CV\n",
    "print(gsearch1.best_score_)  #best score from CV\n",
    "\n",
    "# Enter tuned parameters into new model\n",
    "xgb1 = xgb.XGBClassifier(learning_rate = 0.1,\n",
    "                         n_estimators = 1000,\n",
    "                         max_depth = gsearch1.best_params_['max_depth'],\n",
    "                         min_child_weight = gsearch1.best_params_['min_child_weight'],\n",
    "                         gamma = 0,\n",
    "                         subsample = 1,\n",
    "                         colsample_bytree = 1,\n",
    "                         objective = 'binary:logistic',\n",
    "                         seed = 0,\n",
    "                         early_stopping_rounds = 5,\n",
    "                         n_jobs = -1,\n",
    "                         eval_matrix = 'aucpr',\n",
    "                         scale_pos_weight=(len(y)-y.sum())/y.sum())\n",
    "\n",
    "# modelfit(xgb1, train, train_X)\n",
    "xgb1.fit(x_train, y_train)\n",
    "\n",
    "# ==================== Print Results ====================\n",
    "model = xgb1\n",
    "train_score = roc_auc_score(y_train, model.predict(x_train))\n",
    "print('\\nTraining ROC-AUC score is: %.3f' % train_score)\n",
    "test_score = roc_auc_score(y_test, model.predict(x_test))\n",
    "print('Test ROC-AUC score is: %.3f' % test_score)\n",
    "precision, recall, _ = precision_recall_curve(y_test, model.predict(x_test))\n",
    "print('Test Area Under P-R Curve: %.3f\\n' % auc(recall, precision))\n",
    "cm = confusion_matrix(y_test, model.predict(x_test))\n",
    "print('Confusion Matrix:\\n', cm)\n",
    "print('\\n{0} of {1} [{2}%]loans ROI<-20% were incorrectly labeled as ROI>-20%\\n\\n'.format(cm[0,1],\n",
    "                                                                                          cm[0,0]+cm[0,1],\n",
    "                                                                                          round(100*cm[0,1]/(cm[0,0]+cm[0,1]),2)))\n",
    "\n",
    "# ==================== P-R Curve Plot ====================\n",
    "average_precision = average_precision_score(y_test, model.predict(x_test))\n",
    "plt.plot(recall, precision)\n",
    "plt.xlabel('Recall (True Positive) ')\n",
    "plt.ylabel('Precision (Proportion Correct)')\n",
    "plt.ylim([0.0, 1.05])\n",
    "plt.xlim([0.0, 1.0])\n",
    "plt.title('Binary Precision-Recall curve: '\n",
    "                   'AP={0:0.2f}'.format(average_precision))"
   ]
  },
  {
   "cell_type": "code",
   "execution_count": 19,
   "metadata": {},
   "outputs": [
    {
     "name": "stdout",
     "output_type": "stream",
     "text": [
      "{'gamma': 0.0}\n",
      "0.923036486287583\n",
      "\n",
      "Training ROC-AUC score is: 0.665\n",
      "Test ROC-AUC score is: 0.651\n",
      "Test Area Under P-R Curve: 0.925\n",
      "\n",
      "Confusion Matrix:\n",
      " [[1471  716]\n",
      " [4211 7163]]\n",
      "\n",
      "716 of 2187 [32.74%]loans ROI<-20% were incorrectly labeled as ROI>-20%\n",
      "CPU times: user 1min 30s, sys: 473 ms, total: 1min 30s\n",
      "Wall time: 5min 55s\n"
     ]
    },
    {
     "data": {
      "text/plain": [
       "Text(0.5, 1.0, 'Binary Precision-Recall curve: AP=0.88')"
      ]
     },
     "execution_count": 19,
     "metadata": {},
     "output_type": "execute_result"
    },
    {
     "data": {
      "image/png": "[encoded data removed]",
      "text/plain": [
       "<Figure size 432x288 with 1 Axes>"
      ]
     },
     "metadata": {
      "needs_background": "light"
     },
     "output_type": "display_data"
    }
   ],
   "source": [
    "%%time \n",
    "\n",
    "#Tune gamma parameter\n",
    "param_test2 = {'gamma':[i/10 for i in range(0,5)]}  #small number selected because of \n",
    "\n",
    "gsearch2 = GridSearchCV(estimator = xgb.XGBClassifier(learning_rate = 0.1,\n",
    "                                                      n_estimators = 1000,\n",
    "                                                      max_depth = gsearch1.best_params_['max_depth'],\n",
    "                                                      min_child_weight = gsearch1.best_params_['min_child_weight'],\n",
    "                                                      gamma = 0,\n",
    "                                                      subsample = 1,\n",
    "                                                      colsample_bytree = 1,\n",
    "                                                      objective = 'binary:logistic',\n",
    "                                                      seed = 0,\n",
    "                                                      early_stopping_rounds = 5, \n",
    "                                                      scale_pos_weight=(len(y)-y.sum())/y.sum()), \n",
    "                        param_grid = param_test2, \n",
    "                        scoring = 'average_precision',\n",
    "                        n_jobs = -1,\n",
    "                        iid = False, #returns avg score across folds\n",
    "                        cv = 5)\n",
    "\n",
    "gsearch2.fit(x_train,y_train)\n",
    "\n",
    "print(gsearch2.best_params_)\n",
    "print(gsearch2.best_score_)\n",
    "\n",
    "# Enter tuned parameters into new model\n",
    "xgb2 = xgb.XGBClassifier(learning_rate = 0.1,\n",
    "                         n_estimators = 1000,\n",
    "                         max_depth = gsearch1.best_params_['max_depth'],\n",
    "                         min_child_weight = gsearch1.best_params_['min_child_weight'],\n",
    "                         gamma = gsearch2.best_params_['gamma'],\n",
    "                         subsample = 1,\n",
    "                         colsample_bytree = 1,\n",
    "                         objective = 'binary:logistic',\n",
    "                         seed = 0,\n",
    "                         early_stopping_rounds = 5,\n",
    "                         n_jobs = -1,\n",
    "                         eval_matrix = 'aucpr',\n",
    "                         scale_pos_weight=(len(y)-y.sum())/y.sum()) \n",
    "\n",
    "# modelfit(xgb1, train, train_X)\n",
    "xgb2.fit(x_train, y_train)\n",
    "\n",
    "# ==================== Print Results ====================\n",
    "model = xgb2\n",
    "train_score = roc_auc_score(y_train, model.predict(x_train))\n",
    "print('\\nTraining ROC-AUC score is: %.3f' % train_score)\n",
    "test_score = roc_auc_score(y_test, model.predict(x_test))\n",
    "print('Test ROC-AUC score is: %.3f' % test_score)\n",
    "precision, recall, _ = precision_recall_curve(y_test, model.predict(x_test))\n",
    "print('Test Area Under P-R Curve: %.3f\\n' % auc(recall, precision))\n",
    "cm = confusion_matrix(y_test, model.predict(x_test))\n",
    "print('Confusion Matrix:\\n', cm)\n",
    "print('\\n{0} of {1} [{2}%]loans ROI<-20% were incorrectly labeled as ROI>-20%\\n\\n'.format(cm[0,1], \n",
    "                                                                                    cm[0,0]+cm[0,1], \n",
    "                                                                                    round(100*cm[0,1]/(cm[0,0]+cm[0,1]),2))\n",
    "\n",
    "# ==================== P-R Curve Plot ====================\n",
    "average_precision = average_precision_score(y_test, model.predict(x_test))\n",
    "plt.plot(recall, precision)\n",
    "plt.xlabel('Recall (True Positive) ')\n",
    "plt.ylabel('Precision (Proportion Correct)')\n",
    "plt.ylim([0.0, 1.05])\n",
    "plt.xlim([0.0, 1.0])\n",
    "plt.title('Binary Precision-Recall curve: '\n",
    "                   'AP={0:0.2f}'.format(average_precision))"
   ]
  },
  {
   "cell_type": "code",
   "execution_count": 20,
   "metadata": {},
   "outputs": [
    {
     "name": "stdout",
     "output_type": "stream",
     "text": [
      "{'colsample_bytree': 0.7, 'subsample': 0.6}\n",
      "0.923101647253287\n",
      "\n",
      "Training ROC-AUC score is: 0.666\n",
      "Test ROC-AUC score is: 0.653\n",
      "Test Area Under P-R Curve: 0.925\n",
      "\n",
      "Confusion Matrix:\n",
      " [[1470  717]\n",
      " [4162 7212]]\n",
      "\n",
      "717 of 2187 [32.78%]loans ROI<-20% were incorrectly labeled as ROI>-20%\n",
      "CPU times: user 1min 19s, sys: 648 ms, total: 1min 20s\n",
      "Wall time: 40min 33s\n"
     ]
    },
    {
     "data": {
      "text/plain": [
       "Text(0.5, 1.0, 'Binary Precision-Recall curve: AP=0.88')"
      ]
     },
     "execution_count": 20,
     "metadata": {},
     "output_type": "execute_result"
    },
    {
     "data": {
      "image/png": "[encoded data removed]",
      "text/plain": [
       "<Figure size 432x288 with 1 Axes>"
      ]
     },
     "metadata": {
      "needs_background": "light"
     },
     "output_type": "display_data"
    }
   ],
   "source": [
    "%%time \n",
    "\n",
    "#Tune subsample and colsample_bytree parameters\n",
    "param_test3 = {'subsample':[i/10 for i in range(1,10)],\n",
    "               'colsample_bytree':[i/10 for i in range(5,15)]}\n",
    "\n",
    "gsearch3 = GridSearchCV(estimator = xgb.XGBClassifier(learning_rate = 0.1,\n",
    "                                                      n_estimators = 1000,\n",
    "                                                      max_depth = gsearch1.best_params_['max_depth'],\n",
    "                                                      min_child_weight = gsearch1.best_params_['min_child_weight'],\n",
    "                                                      gamma = gsearch2.best_params_['gamma'],\n",
    "                                                      subsample = 1,\n",
    "                                                      colsample_bytree = 1,\n",
    "                                                      objective = 'binary:logistic',\n",
    "                                                      seed = 0,\n",
    "                                                      early_stopping_rounds = 5,\n",
    "                                                      scale_pos_weight=(len(y)-y.sum())/y.sum()), \n",
    "                        param_grid = param_test3, \n",
    "                        scoring = 'average_precision',\n",
    "                        n_jobs = -1,\n",
    "                        iid = False, #returns avg score across folds\n",
    "                        cv = 5)\n",
    "\n",
    "gsearch3.fit(x_train,y_train)\n",
    "\n",
    "print(gsearch3.best_params_)\n",
    "print(gsearch3.best_score_)\n",
    "\n",
    "# Enter tuned parameters into new model\n",
    "xgb3 = xgb.XGBClassifier(learning_rate = 0.1,\n",
    "                         n_estimators = 1000,\n",
    "                         max_depth = gsearch1.best_params_['max_depth'],\n",
    "                         min_child_weight = gsearch1.best_params_['min_child_weight'],\n",
    "                         gamma = gsearch2.best_params_['gamma'],\n",
    "                         subsample = gsearch3.best_params_['subsample'],\n",
    "                         colsample_bytree = gsearch3.best_params_['colsample_bytree'],\n",
    "                         objective = 'binary:logistic',\n",
    "                         seed = 0,\n",
    "                         early_stopping_rounds = 5,\n",
    "                         n_jobs = -1,\n",
    "                         eval_matrix = 'aucpr',\n",
    "                         scale_pos_weight=(len(y)-y.sum())/y.sum()) \n",
    "\n",
    "# modelfit(xgb1, train, train_X)\n",
    "xgb3.fit(x_train, y_train)\n",
    "\n",
    "# ==================== Print Results ====================\n",
    "model = xgb3\n",
    "train_score = roc_auc_score(y_train, model.predict(x_train))\n",
    "print('\\nTraining ROC-AUC score is: %.3f' % train_score)\n",
    "test_score = roc_auc_score(y_test, model.predict(x_test))\n",
    "print('Test ROC-AUC score is: %.3f' % test_score)\n",
    "precision, recall, _ = precision_recall_curve(y_test, model.predict(x_test))\n",
    "print('Test Area Under P-R Curve: %.3f\\n' % auc(recall, precision))\n",
    "cm = confusion_matrix(y_test, model.predict(x_test))\n",
    "print('Confusion Matrix:\\n', cm)\n",
    "print('\\n{0} of {1} [{2}%]loans ROI<-20% were incorrectly labeled as ROI>-20%\\n\\n'.format(cm[0,1], \n",
    "                                                                                    cm[0,0]+cm[0,1], \n",
    "                                                                                    round(100*cm[0,1]/(cm[0,0]+cm[0,1]),2)))\n",
    "\n",
    "# ==================== P-R Curve Plot ====================\n",
    "average_precision = average_precision_score(y_test, model.predict(x_test))\n",
    "plt.plot(recall, precision)\n",
    "plt.xlabel('Recall (True Positive) ')\n",
    "plt.ylabel('Precision (Proportion Correct)')\n",
    "plt.ylim([0.0, 1.05])\n",
    "plt.xlim([0.0, 1.0])\n",
    "plt.title('Binary Precision-Recall curve: '\n",
    "                   'AP={0:0.2f}'.format(average_precision))"
   ]
  },
  {
   "cell_type": "code",
   "execution_count": 21,
   "metadata": {},
   "outputs": [
    {
     "name": "stdout",
     "output_type": "stream",
     "text": [
      "{'learning_rate': 0.025}\n",
      "0.922440389448602\n",
      "\n",
      "Training ROC-AUC score is: 0.659\n",
      "Test ROC-AUC score is: 0.650\n",
      "Test Area Under P-R Curve: 0.924\n",
      "\n",
      "Confusion Matrix:\n",
      " [[1487  700]\n",
      " [4312 7062]]\n",
      "\n",
      "700 of 2187 [32.01%]loans ROI<-20% were incorrectly labeled as ROI>-20%\n",
      "CPU times: user 1min 16s, sys: 161 ms, total: 1min 16s\n",
      "Wall time: 5min 5s\n"
     ]
    },
    {
     "data": {
      "text/plain": [
       "Text(0.5, 1.0, 'Binary Precision-Recall curve: AP=0.88')"
      ]
     },
     "execution_count": 21,
     "metadata": {},
     "output_type": "execute_result"
    },
    {
     "data": {
      "image/png": "[encoded data removed]",
      "text/plain": [
       "<Figure size 432x288 with 1 Axes>"
      ]
     },
     "metadata": {
      "needs_background": "light"
     },
     "output_type": "display_data"
    }
   ],
   "source": [
    "%%time \n",
    "\n",
    "#Tune learning rate parameter\n",
    "param_test4 = {'learning_rate':[i/1000 for i in range(5,30,5)]}\n",
    "\n",
    "gsearch4 = GridSearchCV(estimator = xgb.XGBClassifier(learning_rate = 0.1,\n",
    "                                                      n_estimators = 1000,\n",
    "                                                      max_depth = gsearch1.best_params_['max_depth'],\n",
    "                                                      min_child_weight = gsearch1.best_params_['min_child_weight'],\n",
    "                                                      gamma = gsearch2.best_params_['gamma'],\n",
    "                                                      subsample = gsearch3.best_params_['subsample'],\n",
    "                                                      colsample_bytree = gsearch3.best_params_['colsample_bytree'],\n",
    "                                                      objective = 'binary:logistic',\n",
    "                                                      seed = 0,\n",
    "                                                      early_stopping_rounds = 5,\n",
    "                                                      scale_pos_weight=(len(y)-y.sum())/y.sum()), \n",
    "                        param_grid = param_test4, \n",
    "                        scoring = 'average_precision',\n",
    "                        n_jobs = -1,\n",
    "                        iid = False, #returns avg score across folds\n",
    "                        cv = 5)\n",
    "\n",
    "gsearch4.fit(x_train,y_train)\n",
    "\n",
    "print(gsearch4.best_params_)\n",
    "print(gsearch4.best_score_)\n",
    "\n",
    "# Enter tuned parameters into new model\n",
    "xgb4 = xgb.XGBClassifier(learning_rate = gsearch4.best_params_['learning_rate'],\n",
    "                         n_estimators = 1000,\n",
    "                         max_depth = gsearch1.best_params_['max_depth'],\n",
    "                         min_child_weight = gsearch1.best_params_['min_child_weight'],\n",
    "                         gamma = gsearch2.best_params_['gamma'],\n",
    "                         subsample = gsearch3.best_params_['subsample'],\n",
    "                         colsample_bytree = gsearch3.best_params_['colsample_bytree'],\n",
    "                         objective = 'binary:logistic',\n",
    "                         seed = 0,\n",
    "                         early_stopping_rounds = 5,\n",
    "                         n_jobs = -1,\n",
    "                         eval_matrix = 'aucpr',\n",
    "                         scale_pos_weight=(len(y)-y.sum())/y.sum()) \n",
    "\n",
    "# modelfit(xgb1, train, train_X)\n",
    "xgb4.fit(x_train, y_train) #final model\n",
    "\n",
    "# ==================== Print Results ====================\n",
    "model = xgb4\n",
    "train_score = roc_auc_score(y_train, model.predict(x_train))\n",
    "print('\\nTraining ROC-AUC score is: %.3f' % train_score)\n",
    "test_score = roc_auc_score(y_test, model.predict(x_test))\n",
    "print('Test ROC-AUC score is: %.3f' % test_score)\n",
    "precision, recall, _ = precision_recall_curve(y_test, model.predict(x_test))\n",
    "print('Test Area Under P-R Curve: %.3f\\n' % auc(recall, precision))\n",
    "cm = confusion_matrix(y_test, model.predict(x_test))\n",
    "print('Confusion Matrix:\\n', cm)\n",
    "print('\\n{0} of {1} [{2}%]loans ROI<-20% were incorrectly labeled as ROI>-20%\\n\\n'.format(cm[0,1], \n",
    "                                                                                    cm[0,0]+cm[0,1], \n",
    "                                                                                    round(100*cm[0,1]/(cm[0,0]+cm[0,1]),2)))\n",
    "\n",
    "# ==================== P-R Curve Plot ====================\n",
    "average_precision = average_precision_score(y_test, model.predict(x_test))\n",
    "plt.plot(recall, precision)\n",
    "plt.xlabel('Recall (True Positive) ')\n",
    "plt.ylabel('Precision (Proportion Correct)')\n",
    "plt.ylim([0.0, 1.05])\n",
    "plt.xlim([0.0, 1.0])\n",
    "plt.title('Binary Precision-Recall curve: '\n",
    "                   'AP={0:0.2f}'.format(average_precision))"
   ]
  },
  {
   "cell_type": "code",
   "execution_count": 23,
   "metadata": {},
   "outputs": [],
   "source": [
    "# %%time \n",
    "\n",
    "# #Tune n_estimators parameter\n",
    "# param_test5 = {'n_estimators':range(100,1500,50)}\n",
    "\n",
    "# gsearch5 = GridSearchCV(estimator = xgb.XGBClassifier(learning_rate = gsearch4.best_params_['learning_rate'],\n",
    "#                                                       n_estimators = 1000,\n",
    "#                                                       max_depth = gsearch1.best_params_['max_depth'],\n",
    "#                                                       min_child_weight = gsearch1.best_params_['min_child_weight'],\n",
    "#                                                       gamma = gsearch2.best_params_['gamma'],\n",
    "#                                                       subsample = gsearch3.best_params_['subsample'],\n",
    "#                                                       colsample_bytree = gsearch3.best_params_['colsample_bytree'],\n",
    "#                                                       objective = 'binary:logistic',\n",
    "#                                                       seed = 0,\n",
    "#                                                       early_stopping_rounds = 5,\n",
    "#                                                       scale_pos_weight=(len(y)-y.sum())/y.sum()), \n",
    "#                         param_grid = param_test4, \n",
    "#                         scoring = 'average_precision',\n",
    "#                         n_jobs = -1,\n",
    "#                         iid = False, #returns avg score across folds\n",
    "#                         cv = 3)\n",
    "\n",
    "# gsearch5.fit(x_train,y_train)\n",
    "\n",
    "# print(gsearch5.best_params_)\n",
    "# print(gsearch5.best_score_)\n",
    "\n",
    "# # Enter tuned parameters into new model\n",
    "# xgb5 = xgb.XGBClassifier(learning_rate = gsearch4.best_params_['learning_rate'],\n",
    "#                          n_estimators = gsearch5.best_params_['n_estimators'],\n",
    "#                          max_depth = gsearch1.best_params_['max_depth'],\n",
    "#                          min_child_weight = gsearch1.best_params_['min_child_weight'],\n",
    "#                          gamma = gsearch2.best_params_['gamma'],\n",
    "#                          subsample = gsearch3.best_params_['subsample'],\n",
    "#                          colsample_bytree = gsearch3.best_params_['colsample_bytree'],\n",
    "#                          objective = 'binary:logistic',\n",
    "#                          seed = 0,\n",
    "#                          early_stopping_rounds = 5,\n",
    "#                          n_jobs = -1,\n",
    "#                          eval_matrix = 'aucpr',\n",
    "#                          scale_pos_weight=(len(y)-y.sum())/y.sum()) \n",
    "\n",
    "# # modelfit(xgb1, train, train_X)\n",
    "# xgb5.fit(x_train, y_train) #final model\n",
    "\n",
    "# # ==================== Print Results ====================\n",
    "# model = xgb5\n",
    "# train_score = roc_auc_score(y_train, model.predict(x_train))\n",
    "# print('\\nTraining ROC-AUC score is: %.3f' % train_score)\n",
    "# test_score = roc_auc_score(y_test, model.predict(x_test))\n",
    "# print('Test ROC-AUC score is: %.3f' % test_score)\n",
    "# precision, recall, _ = precision_recall_curve(y_test, model.predict(x_test))\n",
    "# print('Test Area Under P-R Curve: %.3f\\n' % auc(recall, precision))\n",
    "# cm = confusion_matrix(y_test, model.predict(x_test))\n",
    "# print('Confusion Matrix:\\n', cm)\n",
    "# print('\\n{0} of {1} [{2}%]loans ROI<-20% were incorrectly labeled as ROI>-20%\\n'.format(cm[0,1], \n",
    "#                                                                                     cm[0,0]+cm[0,1], \n",
    "#                                                                                     round(100*cm[0,1]/(cm[0,0]+cm[0,1]),2)))\n",
    "\n",
    "# # ==================== P-R Curve Plot ====================\n",
    "# average_precision = average_precision_score(y_test, model.predict(x_test))\n",
    "# plt.plot(recall, precision)\n",
    "# plt.xlabel('Recall (True Positive) ')\n",
    "# plt.ylabel('Precision (Proportion Correct)')\n",
    "# plt.ylim([0.0, 1.05])\n",
    "# plt.xlim([0.0, 1.0])\n",
    "# plt.title('Binary Precision-Recall curve: '\n",
    "#                    'AP={0:0.2f}'.format(average_precision))"
   ]
  },
  {
   "cell_type": "code",
   "execution_count": 24,
   "metadata": {},
   "outputs": [
    {
     "name": "stdout",
     "output_type": "stream",
     "text": [
      "Test ROC-AUC score is: 0.659\n",
      "Test Area Under P-R Curve: 0.924\n",
      "\n",
      "Confusion Matrix:\n",
      " [[1487  700]\n",
      " [4312 7062]]\n",
      "\n",
      "700 of 2187 [32.01%]loans ROI<-20% were incorrectly labeled as ROI>-20%\n",
      "\n",
      "\n"
     ]
    },
    {
     "data": {
      "text/plain": [
       "Text(0.5, 1.0, 'Binary Precision-Recall curve: AP=0.88')"
      ]
     },
     "execution_count": 24,
     "metadata": {},
     "output_type": "execute_result"
    },
    {
     "data": {
      "image/png": "[encoded data removed]",
      "text/plain": [
       "<Figure size 432x288 with 1 Axes>"
      ]
     },
     "metadata": {
      "needs_background": "light"
     },
     "output_type": "display_data"
    }
   ],
   "source": [
    "#Final model with entire dataset\n",
    "xgb_final = xgb4\n",
    "\n",
    "#Fit final model with entire dataset\n",
    "x = df_feature_final\n",
    "y = df_cleaned[response_var] #labels\n",
    "\n",
    "\n",
    "# ==================== Print Results ====================\n",
    "model = xgb_final\n",
    "\n",
    "test_score = roc_auc_score(y_test, model.predict(x_test))\n",
    "print('Test ROC-AUC score is: %.3f' % train_score)\n",
    "precision, recall, _ = precision_recall_curve(y_test, model.predict(x_test))\n",
    "print('Test Area Under P-R Curve: %.3f\\n' % auc(recall, precision))\n",
    "cm = confusion_matrix(y_test, model.predict(x_test))\n",
    "print('Confusion Matrix:\\n', cm)\n",
    "print('\\n{0} of {1} [{2}%]loans ROI<-20% were incorrectly labeled as ROI>-20%\\n\\n'.format(cm[0,1], \n",
    "                                                                                    cm[0,0]+cm[0,1], \n",
    "                                                                                    round(100*cm[0,1]/(cm[0,0]+cm[0,1]),2)))\n",
    "\n",
    "# ==================== P-R Curve Plot ====================\n",
    "average_precision = average_precision_score(y_test, model.predict(x_test))\n",
    "plt.plot(recall, precision)\n",
    "plt.xlabel('Recall (True Positive) ')\n",
    "plt.ylabel('Precision (Proportion Correct)')\n",
    "plt.ylim([0.0, 1.05])\n",
    "plt.xlim([0.0, 1.0])\n",
    "plt.title('Binary Precision-Recall curve: '\n",
    "                   'AP={0:0.2f}'.format(average_precision))"
   ]
  },
  {
   "cell_type": "code",
   "execution_count": 25,
   "metadata": {},
   "outputs": [
    {
     "name": "stdout",
     "output_type": "stream",
     "text": [
      "Error rate  :  36.05\n",
      "Accuracy  :  63.95\n",
      "Sensitivity  :  63.02\n",
      "Specificity  :  68.73\n",
      "False positive rate  :  31.27\n"
     ]
    }
   ],
   "source": [
    "#CONFUSION MATRIX\n",
    "from sklearn.metrics import confusion_matrix\n",
    "\n",
    "tn, fp, fn, tp = confusion_matrix(y_train, xgb4.predict(x_train)).ravel()\n",
    "\n",
    "#Calculate metrics\n",
    "\n",
    "#Error Rate = ratio of all incorrect predictions\n",
    "err_rate = (fp + fn) / (tp + tn + fn + fp) #lower better\n",
    "print(\"Error rate  : \", round(err_rate*100,2))\n",
    "\n",
    "#Accuracy = ratio of all correct predictions\n",
    "acc_ = (tp + tn) / (tp + tn + fn + fp)\n",
    "print(\"Accuracy  : \", round(acc_*100,2))\n",
    "\n",
    "#Sensitivity = True positive rate\n",
    "sens_ = tp / (tp + fn) #sensitivity (higher better)\n",
    "print(\"Sensitivity  : \", round(sens_*100, 2))\n",
    "\n",
    "#Specificity = True negative rate\n",
    "sp_ = tn / (tn + fp)\n",
    "print(\"Specificity  : \", round(sp_*100, 2))\n",
    "\n",
    "#Precision = ratio of incorrect positive predictions\n",
    "FPR = fp / (tn + fp) \n",
    "print(\"False positive rate  : \", round(FPR*100,2))\n"
   ]
  },
  {
   "cell_type": "code",
   "execution_count": null,
   "metadata": {},
   "outputs": [],
   "source": []
  },
  {
   "cell_type": "code",
   "execution_count": null,
   "metadata": {},
   "outputs": [],
   "source": []
  }
 ],
 "metadata": {
  "kernelspec": {
   "display_name": "Python 3",
   "language": "python",
   "name": "python3"
  },
  "language_info": {
   "codemirror_mode": {
    "name": "ipython",
    "version": 3
   },
   "file_extension": ".py",
   "mimetype": "text/x-python",
   "name": "python",
   "nbconvert_exporter": "python",
   "pygments_lexer": "ipython3",
   "version": "3.7.4"
  }
 },
 "nbformat": 4,
 "nbformat_minor": 2
}
