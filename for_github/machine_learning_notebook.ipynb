{
 "cells": [
  {
   "cell_type": "markdown",
   "metadata": {},
   "source": [
    "# Loan Club: Machine Learning Capstone Notebook"
   ]
  },
  {
   "cell_type": "code",
   "execution_count": 59,
   "metadata": {},
   "outputs": [
    {
     "data": {
      "application/javascript": [
       "\n",
       "            setTimeout(function() {\n",
       "                var nbb_cell_id = 59;\n",
       "                var nbb_unformatted_code = \"# Load packages\\nimport pandas as pd\\nimport numpy as np\\nimport re\\nfrom time import strptime  # format data columns\\nimport warnings\\nimport math\\n\\nfrom matplotlib import pyplot as plt\\nimport matplotlib.ticker as ticker\\n\\n%matplotlib inline\\nimport seaborn as sns\\n\\nwarnings.filterwarnings(\\\"ignore\\\")  # ignore warnings throughout notebook\\npd.set_option(\\\"display.max_columns\\\", None)  # show all columns\";\n",
       "                var nbb_formatted_code = \"# Load packages\\nimport pandas as pd\\nimport numpy as np\\nimport re\\nfrom time import strptime  # format data columns\\nimport warnings\\nimport math\\n\\nfrom matplotlib import pyplot as plt\\nimport matplotlib.ticker as ticker\\n\\n%matplotlib inline\\nimport seaborn as sns\\n\\nwarnings.filterwarnings(\\\"ignore\\\")  # ignore warnings throughout notebook\\npd.set_option(\\\"display.max_columns\\\", None)  # show all columns\";\n",
       "                var nbb_cells = Jupyter.notebook.get_cells();\n",
       "                for (var i = 0; i < nbb_cells.length; ++i) {\n",
       "                    if (nbb_cells[i].input_prompt_number == nbb_cell_id) {\n",
       "                        if (nbb_cells[i].get_text() == nbb_unformatted_code) {\n",
       "                             nbb_cells[i].set_text(nbb_formatted_code);\n",
       "                        }\n",
       "                        break;\n",
       "                    }\n",
       "                }\n",
       "            }, 500);\n",
       "            "
      ],
      "text/plain": [
       "<IPython.core.display.Javascript object>"
      ]
     },
     "metadata": {},
     "output_type": "display_data"
    }
   ],
   "source": [
    "# Load packages\n",
    "import pandas as pd\n",
    "import numpy as np\n",
    "import re\n",
    "from time import strptime  # format data columns\n",
    "import warnings\n",
    "import math\n",
    "\n",
    "from matplotlib import pyplot as plt\n",
    "import matplotlib.ticker as ticker\n",
    "\n",
    "%matplotlib inline\n",
    "import seaborn as sns\n",
    "\n",
    "warnings.filterwarnings(\"ignore\")  # ignore warnings throughout notebook\n",
    "pd.set_option(\"display.max_columns\", None)  # show all columns"
   ]
  },
  {
   "cell_type": "code",
   "execution_count": 60,
   "metadata": {},
   "outputs": [
    {
     "name": "stdout",
     "output_type": "stream",
     "text": [
      "The nb_black extension is already loaded. To reload it, use:\n",
      "  %reload_ext nb_black\n"
     ]
    },
    {
     "data": {
      "application/javascript": [
       "\n",
       "            setTimeout(function() {\n",
       "                var nbb_cell_id = 60;\n",
       "                var nbb_unformatted_code = \"# Used for auto-formatting code\\n# terminal - pip install nb_black\\n%load_ext nb_black\";\n",
       "                var nbb_formatted_code = \"# Used for auto-formatting code\\n# terminal - pip install nb_black\\n%load_ext nb_black\";\n",
       "                var nbb_cells = Jupyter.notebook.get_cells();\n",
       "                for (var i = 0; i < nbb_cells.length; ++i) {\n",
       "                    if (nbb_cells[i].input_prompt_number == nbb_cell_id) {\n",
       "                        if (nbb_cells[i].get_text() == nbb_unformatted_code) {\n",
       "                             nbb_cells[i].set_text(nbb_formatted_code);\n",
       "                        }\n",
       "                        break;\n",
       "                    }\n",
       "                }\n",
       "            }, 500);\n",
       "            "
      ],
      "text/plain": [
       "<IPython.core.display.Javascript object>"
      ]
     },
     "metadata": {},
     "output_type": "display_data"
    }
   ],
   "source": [
    "# Used for auto-formatting code\n",
    "# terminal - pip install nb_black\n",
    "%load_ext nb_black"
   ]
  },
  {
   "cell_type": "code",
   "execution_count": 61,
   "metadata": {},
   "outputs": [
    {
     "data": {
      "application/javascript": [
       "\n",
       "            setTimeout(function() {\n",
       "                var nbb_cell_id = 61;\n",
       "                var nbb_unformatted_code = \"# Load Data\\nfilepath = \\\"data/accepted_subsampled_5percent.csv\\\"  # will be personalized\\ndf = pd.read_csv(filepath, sep=\\\",\\\")\\n\\ndf_cleaned = df.copy()  # work from second copy\";\n",
       "                var nbb_formatted_code = \"# Load Data\\nfilepath = \\\"data/accepted_subsampled_5percent.csv\\\"  # will be personalized\\ndf = pd.read_csv(filepath, sep=\\\",\\\")\\n\\ndf_cleaned = df.copy()  # work from second copy\";\n",
       "                var nbb_cells = Jupyter.notebook.get_cells();\n",
       "                for (var i = 0; i < nbb_cells.length; ++i) {\n",
       "                    if (nbb_cells[i].input_prompt_number == nbb_cell_id) {\n",
       "                        if (nbb_cells[i].get_text() == nbb_unformatted_code) {\n",
       "                             nbb_cells[i].set_text(nbb_formatted_code);\n",
       "                        }\n",
       "                        break;\n",
       "                    }\n",
       "                }\n",
       "            }, 500);\n",
       "            "
      ],
      "text/plain": [
       "<IPython.core.display.Javascript object>"
      ]
     },
     "metadata": {},
     "output_type": "display_data"
    }
   ],
   "source": [
    "# Load Data\n",
    "filepath = \"data/accepted_subsampled_5percent.csv\"  # will be personalized\n",
    "df = pd.read_csv(filepath, sep=\",\")\n",
    "\n",
    "df_cleaned = df.copy()  # work from second copy"
   ]
  },
  {
   "cell_type": "code",
   "execution_count": 62,
   "metadata": {},
   "outputs": [
    {
     "data": {
      "application/javascript": [
       "\n",
       "            setTimeout(function() {\n",
       "                var nbb_cell_id = 62;\n",
       "                var nbb_unformatted_code = \"# Features known to investors based on LC website\\nknown_vars = ['acc_now_delinq',             # accounts now deliquent\\n              'collections_12_mths_ex_med', # collections excluding medical\\n              'fico_range_high',            # credit score range\\n              'fico_range_low',             # creit score range\\n              'delinq_2yrs',                # delinquencies in last two years\\n              'delinq_amnt',                # delinquency amount\\n              'earliest_cr_line',           # earliest credit line\\n              'home_ownership',             # home ownership\\n              'dti',                        # debt2income ratio\\n              'annual_inc',                 # annual income\\n              'initial_list_status',        # initial listing status\\n              'inq_last_6mths',             # credit inquires in last 6mo\\n              'int_rate',                   # interest rate\\n              'verification_status_joint',  # is this a joint app\\n              'emp_length',                 # length of employment (yr)\\n              'loan_amnt',                  # loan amount\\n              'id',                         # loan id\\n              'purpose',                    # purpose of the loan\\n              'term',                       # loan term (3 or 5yr)\\n              'addr_state',                 # borrower location state\\n              'installment',                # montly payment\\n              'mths_since_last_delinq',     # mo since last delinquency\\n              'mths_since_last_major_derog',# mo since last maj. derogatory\\n              'mths_since_last_record',     # mo since last public record\\n              'open_acc',                   # open credit line\\n              'pub_rec',                    # public records on file\\n              'revol_util',                 # revolving balance utilization (%)\\n              'revol_bal',                  # revolving credit balance ($)\\n              'tot_coll_amt',               # total collection amount ever\\n              'total_acc',                  # total credit lines\\n              'tot_cur_bal',                # total current balance\\n              'verification_status',        # verified income (Y/N I think)\\n              'grade'                       # loan grade\\n             ]\\n\\n# Sanity check, print variable if not found within original dataframe\\n# [ print(var) for var in known_vars if (var not in df.columns)]\";\n",
       "                var nbb_formatted_code = \"# Features known to investors based on LC website\\nknown_vars = [\\n    \\\"acc_now_delinq\\\",  # accounts now deliquent\\n    \\\"collections_12_mths_ex_med\\\",  # collections excluding medical\\n    \\\"fico_range_high\\\",  # credit score range\\n    \\\"fico_range_low\\\",  # creit score range\\n    \\\"delinq_2yrs\\\",  # delinquencies in last two years\\n    \\\"delinq_amnt\\\",  # delinquency amount\\n    \\\"earliest_cr_line\\\",  # earliest credit line\\n    \\\"home_ownership\\\",  # home ownership\\n    \\\"dti\\\",  # debt2income ratio\\n    \\\"annual_inc\\\",  # annual income\\n    \\\"initial_list_status\\\",  # initial listing status\\n    \\\"inq_last_6mths\\\",  # credit inquires in last 6mo\\n    \\\"int_rate\\\",  # interest rate\\n    \\\"verification_status_joint\\\",  # is this a joint app\\n    \\\"emp_length\\\",  # length of employment (yr)\\n    \\\"loan_amnt\\\",  # loan amount\\n    \\\"id\\\",  # loan id\\n    \\\"purpose\\\",  # purpose of the loan\\n    \\\"term\\\",  # loan term (3 or 5yr)\\n    \\\"addr_state\\\",  # borrower location state\\n    \\\"installment\\\",  # montly payment\\n    \\\"mths_since_last_delinq\\\",  # mo since last delinquency\\n    \\\"mths_since_last_major_derog\\\",  # mo since last maj. derogatory\\n    \\\"mths_since_last_record\\\",  # mo since last public record\\n    \\\"open_acc\\\",  # open credit line\\n    \\\"pub_rec\\\",  # public records on file\\n    \\\"revol_util\\\",  # revolving balance utilization (%)\\n    \\\"revol_bal\\\",  # revolving credit balance ($)\\n    \\\"tot_coll_amt\\\",  # total collection amount ever\\n    \\\"total_acc\\\",  # total credit lines\\n    \\\"tot_cur_bal\\\",  # total current balance\\n    \\\"verification_status\\\",  # verified income (Y/N I think)\\n    \\\"grade\\\",  # loan grade\\n]\\n\\n# Sanity check, print variable if not found within original dataframe\\n# [ print(var) for var in known_vars if (var not in df.columns)]\";\n",
       "                var nbb_cells = Jupyter.notebook.get_cells();\n",
       "                for (var i = 0; i < nbb_cells.length; ++i) {\n",
       "                    if (nbb_cells[i].input_prompt_number == nbb_cell_id) {\n",
       "                        if (nbb_cells[i].get_text() == nbb_unformatted_code) {\n",
       "                             nbb_cells[i].set_text(nbb_formatted_code);\n",
       "                        }\n",
       "                        break;\n",
       "                    }\n",
       "                }\n",
       "            }, 500);\n",
       "            "
      ],
      "text/plain": [
       "<IPython.core.display.Javascript object>"
      ]
     },
     "metadata": {},
     "output_type": "display_data"
    }
   ],
   "source": [
    "# Features known to investors based on LC website\n",
    "known_vars = ['acc_now_delinq',             # accounts now deliquent\n",
    "              'collections_12_mths_ex_med', # collections excluding medical\n",
    "              'fico_range_high',            # credit score range\n",
    "              'fico_range_low',             # creit score range\n",
    "              'delinq_2yrs',                # delinquencies in last two years\n",
    "              'delinq_amnt',                # delinquency amount\n",
    "              'earliest_cr_line',           # earliest credit line\n",
    "              'home_ownership',             # home ownership\n",
    "              'dti',                        # debt2income ratio\n",
    "              'annual_inc',                 # annual income\n",
    "              'initial_list_status',        # initial listing status\n",
    "              'inq_last_6mths',             # credit inquires in last 6mo\n",
    "              'int_rate',                   # interest rate\n",
    "              'verification_status_joint',  # is this a joint app\n",
    "              'emp_length',                 # length of employment (yr)\n",
    "              'loan_amnt',                  # loan amount\n",
    "              'id',                         # loan id\n",
    "              'purpose',                    # purpose of the loan\n",
    "              'term',                       # loan term (3 or 5yr)\n",
    "              'addr_state',                 # borrower location state\n",
    "              'installment',                # montly payment\n",
    "              'mths_since_last_delinq',     # mo since last delinquency\n",
    "              'mths_since_last_major_derog',# mo since last maj. derogatory\n",
    "              'mths_since_last_record',     # mo since last public record\n",
    "              'open_acc',                   # open credit line\n",
    "              'pub_rec',                    # public records on file\n",
    "              'revol_util',                 # revolving balance utilization (%)\n",
    "              'revol_bal',                  # revolving credit balance ($)\n",
    "              'tot_coll_amt',               # total collection amount ever\n",
    "              'total_acc',                  # total credit lines\n",
    "              'tot_cur_bal',                # total current balance\n",
    "              'verification_status',        # verified income (Y/N I think)\n",
    "              'grade'                       # loan grade\n",
    "             ]\n",
    "\n",
    "# Sanity check, print variable if not found within original dataframe\n",
    "# [ print(var) for var in known_vars if (var not in df.columns)]\n"
   ]
  },
  {
   "cell_type": "markdown",
   "metadata": {},
   "source": [
    "### Impute Missing Data of Known Variables"
   ]
  },
  {
   "cell_type": "code",
   "execution_count": 63,
   "metadata": {},
   "outputs": [
    {
     "data": {
      "text/plain": [
       "verification_status_joint      0.949313\n",
       "mths_since_last_record         0.838543\n",
       "mths_since_last_major_derog    0.744395\n",
       "mths_since_last_delinq         0.513786\n",
       "emp_length                     0.063868\n",
       "tot_cur_bal                    0.033430\n",
       "tot_coll_amt                   0.033430\n",
       "revol_util                     0.001006\n",
       "dti                            0.000829\n",
       "collections_12_mths_ex_med     0.000476\n",
       "open_acc                       0.000185\n",
       "pub_rec                        0.000185\n",
       "total_acc                      0.000185\n",
       "inq_last_6mths                 0.000185\n",
       "earliest_cr_line               0.000185\n",
       "delinq_amnt                    0.000185\n",
       "delinq_2yrs                    0.000185\n",
       "acc_now_delinq                 0.000185\n",
       "dtype: float64"
      ]
     },
     "execution_count": 63,
     "metadata": {},
     "output_type": "execute_result"
    },
    {
     "data": {
      "application/javascript": [
       "\n",
       "            setTimeout(function() {\n",
       "                var nbb_cell_id = 63;\n",
       "                var nbb_unformatted_code = \"#Assess missingness of known variables\\nmissingness = df_cleaned[known_vars].isnull().mean().T\\nmissingness = missingness.loc[missingness>0].sort_values(ascending=False)\\nmissingness\";\n",
       "                var nbb_formatted_code = \"# Assess missingness of known variables\\nmissingness = df_cleaned[known_vars].isnull().mean().T\\nmissingness = missingness.loc[missingness > 0].sort_values(ascending=False)\\nmissingness\";\n",
       "                var nbb_cells = Jupyter.notebook.get_cells();\n",
       "                for (var i = 0; i < nbb_cells.length; ++i) {\n",
       "                    if (nbb_cells[i].input_prompt_number == nbb_cell_id) {\n",
       "                        if (nbb_cells[i].get_text() == nbb_unformatted_code) {\n",
       "                             nbb_cells[i].set_text(nbb_formatted_code);\n",
       "                        }\n",
       "                        break;\n",
       "                    }\n",
       "                }\n",
       "            }, 500);\n",
       "            "
      ],
      "text/plain": [
       "<IPython.core.display.Javascript object>"
      ]
     },
     "metadata": {},
     "output_type": "display_data"
    }
   ],
   "source": [
    "#Assess missingness of known variables\n",
    "missingness = df_cleaned[known_vars].isnull().mean().T\n",
    "missingness = missingness.loc[missingness>0].sort_values(ascending=False)\n",
    "missingness\n"
   ]
  },
  {
   "cell_type": "code",
   "execution_count": 64,
   "metadata": {},
   "outputs": [
    {
     "name": "stdout",
     "output_type": "stream",
     "text": [
      "Features successfully droppped\n"
     ]
    },
    {
     "data": {
      "application/javascript": [
       "\n",
       "            setTimeout(function() {\n",
       "                var nbb_cell_id = 64;\n",
       "                var nbb_unformatted_code = \"# Drop features missing > 50%\\nfeat_wManyMissing = missingness.index[np.where(missingness > 0.5)].to_list()\\ndf_cleaned[known_vars].drop(df_cleaned[feat_wManyMissing], axis=1, inplace=True)\\n[\\n    known_vars.remove(var) for var in feat_wManyMissing\\n]  # remove features from known_var list\\nprint(\\\"Features successfully droppped\\\")\";\n",
       "                var nbb_formatted_code = \"# Drop features missing > 50%\\nfeat_wManyMissing = missingness.index[np.where(missingness > 0.5)].to_list()\\ndf_cleaned[known_vars].drop(df_cleaned[feat_wManyMissing], axis=1, inplace=True)\\n[\\n    known_vars.remove(var) for var in feat_wManyMissing\\n]  # remove features from known_var list\\nprint(\\\"Features successfully droppped\\\")\";\n",
       "                var nbb_cells = Jupyter.notebook.get_cells();\n",
       "                for (var i = 0; i < nbb_cells.length; ++i) {\n",
       "                    if (nbb_cells[i].input_prompt_number == nbb_cell_id) {\n",
       "                        if (nbb_cells[i].get_text() == nbb_unformatted_code) {\n",
       "                             nbb_cells[i].set_text(nbb_formatted_code);\n",
       "                        }\n",
       "                        break;\n",
       "                    }\n",
       "                }\n",
       "            }, 500);\n",
       "            "
      ],
      "text/plain": [
       "<IPython.core.display.Javascript object>"
      ]
     },
     "metadata": {},
     "output_type": "display_data"
    }
   ],
   "source": [
    "# Drop features missing > 50%\n",
    "feat_wManyMissing = missingness.index[np.where(missingness > 0.5)].to_list()\n",
    "df_cleaned[known_vars].drop(df_cleaned[feat_wManyMissing], axis=1, inplace=True)\n",
    "[\n",
    "    known_vars.remove(var) for var in feat_wManyMissing\n",
    "]  # remove features from known_var list\n",
    "print(\"Features successfully droppped\")"
   ]
  },
  {
   "cell_type": "code",
   "execution_count": 65,
   "metadata": {},
   "outputs": [
    {
     "name": "stdout",
     "output_type": "stream",
     "text": [
      "Continuous Variables: Mean imputation completed\n"
     ]
    },
    {
     "data": {
      "application/javascript": [
       "\n",
       "            setTimeout(function() {\n",
       "                var nbb_cell_id = 65;\n",
       "                var nbb_unformatted_code = \"# Replace NA's of numeric 'known_var' features with mean value\\nnumeric_var = [\\n    \\\"tot_cur_bal\\\",\\n    \\\"tot_coll_amt\\\",\\n    \\\"revol_util\\\",\\n    \\\"collections_12_mths_ex_med\\\",\\n    \\\"open_acc\\\",\\n    \\\"pub_rec\\\",\\n    \\\"total_acc\\\",\\n    \\\"inq_last_6mths\\\",\\n    \\\"delinq_amnt\\\",\\n    \\\"delinq_2yrs\\\",\\n    \\\"dti\\\",\\n]\\n\\n# List comprehension through numerica variables\\n[df_cleaned[var].fillna(df[var].mean(), inplace=True) for var in numeric_var]\\nprint(\\\"Continuous Variables: Mean imputation completed\\\")\";\n",
       "                var nbb_formatted_code = \"# Replace NA's of numeric 'known_var' features with mean value\\nnumeric_var = [\\n    \\\"tot_cur_bal\\\",\\n    \\\"tot_coll_amt\\\",\\n    \\\"revol_util\\\",\\n    \\\"collections_12_mths_ex_med\\\",\\n    \\\"open_acc\\\",\\n    \\\"pub_rec\\\",\\n    \\\"total_acc\\\",\\n    \\\"inq_last_6mths\\\",\\n    \\\"delinq_amnt\\\",\\n    \\\"delinq_2yrs\\\",\\n    \\\"dti\\\",\\n]\\n\\n# List comprehension through numerica variables\\n[df_cleaned[var].fillna(df[var].mean(), inplace=True) for var in numeric_var]\\nprint(\\\"Continuous Variables: Mean imputation completed\\\")\";\n",
       "                var nbb_cells = Jupyter.notebook.get_cells();\n",
       "                for (var i = 0; i < nbb_cells.length; ++i) {\n",
       "                    if (nbb_cells[i].input_prompt_number == nbb_cell_id) {\n",
       "                        if (nbb_cells[i].get_text() == nbb_unformatted_code) {\n",
       "                             nbb_cells[i].set_text(nbb_formatted_code);\n",
       "                        }\n",
       "                        break;\n",
       "                    }\n",
       "                }\n",
       "            }, 500);\n",
       "            "
      ],
      "text/plain": [
       "<IPython.core.display.Javascript object>"
      ]
     },
     "metadata": {},
     "output_type": "display_data"
    }
   ],
   "source": [
    "# Replace NA's of numeric 'known_var' features with mean value\n",
    "numeric_var = [\n",
    "    \"tot_cur_bal\",\n",
    "    \"tot_coll_amt\",\n",
    "    \"revol_util\",\n",
    "    \"collections_12_mths_ex_med\",\n",
    "    \"open_acc\",\n",
    "    \"pub_rec\",\n",
    "    \"total_acc\",\n",
    "    \"inq_last_6mths\",\n",
    "    \"delinq_amnt\",\n",
    "    \"delinq_2yrs\",\n",
    "    \"dti\",\n",
    "]\n",
    "\n",
    "# List comprehension through numerica variables\n",
    "[df_cleaned[var].fillna(df[var].mean(), inplace=True) for var in numeric_var]\n",
    "print(\"Continuous Variables: Mean imputation completed\")"
   ]
  },
  {
   "cell_type": "code",
   "execution_count": 66,
   "metadata": {},
   "outputs": [
    {
     "name": "stdout",
     "output_type": "stream",
     "text": [
      "Categorical Variables: Imputation with random value completed\n"
     ]
    },
    {
     "data": {
      "application/javascript": [
       "\n",
       "            setTimeout(function() {\n",
       "                var nbb_cell_id = 66;\n",
       "                var nbb_unformatted_code = \"# Helper function to replace missing character strings with randomly selected value\\ndef fillna_random(var):\\n    #find index of missing values\\n    miss_idx = df_cleaned.loc[ df_cleaned[var].isnull()].index.tolist()\\n    \\n    #find new values to replace NaN values\\n    new_val = df_cleaned[var].loc[~df_cleaned.index.isin(miss_idx)].sample(len(miss_idx)).values.tolist()\\n\\n    #replace values\\n    df_cleaned[var][miss_idx] = new_val\\n\\n# ==================================================\\n# Replace NA's of character 'known_var' features with random\\nnon_numeric_var = ['emp_length', 'earliest_cr_line', 'acc_now_delinq', 'delinq_2yrs'] #list of non-numeric variables\\n[fillna_random(var) for var in non_numeric_var]\\nprint('Categorical Variables: Imputation with random value completed')\";\n",
       "                var nbb_formatted_code = \"# Helper function to replace missing character strings with randomly selected value\\ndef fillna_random(var):\\n    # find index of missing values\\n    miss_idx = df_cleaned.loc[df_cleaned[var].isnull()].index.tolist()\\n\\n    # find new values to replace NaN values\\n    new_val = (\\n        df_cleaned[var]\\n        .loc[~df_cleaned.index.isin(miss_idx)]\\n        .sample(len(miss_idx))\\n        .values.tolist()\\n    )\\n\\n    # replace values\\n    df_cleaned[var][miss_idx] = new_val\\n\\n\\n# ==================================================\\n# Replace NA's of character 'known_var' features with random\\nnon_numeric_var = [\\n    \\\"emp_length\\\",\\n    \\\"earliest_cr_line\\\",\\n    \\\"acc_now_delinq\\\",\\n    \\\"delinq_2yrs\\\",\\n]  # list of non-numeric variables\\n[fillna_random(var) for var in non_numeric_var]\\nprint(\\\"Categorical Variables: Imputation with random value completed\\\")\";\n",
       "                var nbb_cells = Jupyter.notebook.get_cells();\n",
       "                for (var i = 0; i < nbb_cells.length; ++i) {\n",
       "                    if (nbb_cells[i].input_prompt_number == nbb_cell_id) {\n",
       "                        if (nbb_cells[i].get_text() == nbb_unformatted_code) {\n",
       "                             nbb_cells[i].set_text(nbb_formatted_code);\n",
       "                        }\n",
       "                        break;\n",
       "                    }\n",
       "                }\n",
       "            }, 500);\n",
       "            "
      ],
      "text/plain": [
       "<IPython.core.display.Javascript object>"
      ]
     },
     "metadata": {},
     "output_type": "display_data"
    }
   ],
   "source": [
    "# Helper function to replace missing character strings with randomly selected value\n",
    "def fillna_random(var):\n",
    "    #find index of missing values\n",
    "    miss_idx = df_cleaned.loc[ df_cleaned[var].isnull()].index.tolist()\n",
    "    \n",
    "    #find new values to replace NaN values\n",
    "    new_val = df_cleaned[var].loc[~df_cleaned.index.isin(miss_idx)].sample(len(miss_idx)).values.tolist()\n",
    "\n",
    "    #replace values\n",
    "    df_cleaned[var][miss_idx] = new_val\n",
    "\n",
    "# ==================================================\n",
    "# Replace NA's of character 'known_var' features with random\n",
    "non_numeric_var = ['emp_length', 'earliest_cr_line', 'acc_now_delinq', 'delinq_2yrs'] #list of non-numeric variables\n",
    "[fillna_random(var) for var in non_numeric_var]\n",
    "print('Categorical Variables: Imputation with random value completed')\n"
   ]
  },
  {
   "cell_type": "code",
   "execution_count": 67,
   "metadata": {
    "scrolled": false
   },
   "outputs": [
    {
     "data": {
      "text/plain": [
       "acc_now_delinq                0\n",
       "collections_12_mths_ex_med    0\n",
       "fico_range_high               0\n",
       "fico_range_low                0\n",
       "delinq_2yrs                   0\n",
       "delinq_amnt                   0\n",
       "earliest_cr_line              0\n",
       "home_ownership                0\n",
       "dti                           0\n",
       "annual_inc                    0\n",
       "initial_list_status           0\n",
       "inq_last_6mths                0\n",
       "int_rate                      0\n",
       "emp_length                    0\n",
       "loan_amnt                     0\n",
       "id                            0\n",
       "purpose                       0\n",
       "term                          0\n",
       "addr_state                    0\n",
       "installment                   0\n",
       "open_acc                      0\n",
       "pub_rec                       0\n",
       "revol_util                    0\n",
       "revol_bal                     0\n",
       "tot_coll_amt                  0\n",
       "total_acc                     0\n",
       "tot_cur_bal                   0\n",
       "verification_status           0\n",
       "grade                         0\n",
       "dtype: int64"
      ]
     },
     "execution_count": 67,
     "metadata": {},
     "output_type": "execute_result"
    },
    {
     "data": {
      "application/javascript": [
       "\n",
       "            setTimeout(function() {\n",
       "                var nbb_cell_id = 67;\n",
       "                var nbb_unformatted_code = \"#Sanity check that no more missing values\\ndf_cleaned[known_vars].isnull().sum()\";\n",
       "                var nbb_formatted_code = \"# Sanity check that no more missing values\\ndf_cleaned[known_vars].isnull().sum()\";\n",
       "                var nbb_cells = Jupyter.notebook.get_cells();\n",
       "                for (var i = 0; i < nbb_cells.length; ++i) {\n",
       "                    if (nbb_cells[i].input_prompt_number == nbb_cell_id) {\n",
       "                        if (nbb_cells[i].get_text() == nbb_unformatted_code) {\n",
       "                             nbb_cells[i].set_text(nbb_formatted_code);\n",
       "                        }\n",
       "                        break;\n",
       "                    }\n",
       "                }\n",
       "            }, 500);\n",
       "            "
      ],
      "text/plain": [
       "<IPython.core.display.Javascript object>"
      ]
     },
     "metadata": {},
     "output_type": "display_data"
    }
   ],
   "source": [
    "#Sanity check that no more missing values\n",
    "df_cleaned[known_vars].isnull().sum()\n"
   ]
  },
  {
   "cell_type": "markdown",
   "metadata": {},
   "source": [
    "### Feature Engineering"
   ]
  },
  {
   "cell_type": "code",
   "execution_count": 68,
   "metadata": {},
   "outputs": [
    {
     "data": {
      "application/javascript": [
       "\n",
       "            setTimeout(function() {\n",
       "                var nbb_cell_id = 68;\n",
       "                var nbb_unformatted_code = \"# Simplify loan status (non-FullyPaid or ChargedOff loans will be converted to NAN)\\ndf_cleaned['loan_status'] = df_cleaned['loan_status'].map({'Fully Paid':'Fully Paid',\\n                                                           'Charged Off':'Charged Off',\\n                                                           'Does not meet the credit policy. Status:Fully Paid': 'Fully Paid',\\n                                                           'Does not meet the credit policy. Status:Charged Off': 'Charged Off'})\\n\\n# Remove non-completed loans\\ndf_cleaned.drop(df_cleaned.loc[df_cleaned['loan_status'].isnull()].index.tolist(), axis=0, inplace=True)\\n\\n# Simplify home ownership\\ndf_cleaned['home_ownership'] = df_cleaned['home_ownership'].map({'MORTGAGE':'mortgage',\\n                                                                 'OWN':'own',\\n                                                                 'RENT':'rent'})\\n\\n# Remove 25 observations without houses\\ndf_cleaned.drop(df_cleaned.loc[df_cleaned['home_ownership'].isnull()].index.tolist(), axis=0, inplace=True)\\n\\n\\n# Reformat date features and calculate features related to prepayment  \\ndf_cleaned['term_year'] = np.where(df_cleaned['term']==' 36 months', 3,5)\\ndf_cleaned['earliest_cr_line'] =  pd.to_datetime(df_cleaned['earliest_cr_line'])\\ndf_cleaned['issue_date'] =  pd.to_datetime(df_cleaned['issue_d'])\\ndf_cleaned['last_pymnt_date'] = pd.to_datetime(df_cleaned['last_pymnt_d'])\\ndf_cleaned['exp_last_pymnt_date'] = pd.to_datetime(df_cleaned['issue_d'].str[0:3]\\n                                                   +'-'\\n                                                   + (df_cleaned['issue_d'].str[-4:].astype('int')\\n                                                   + df_cleaned['term_year']).astype('str'))\\n\\n# Calculate credit history ( in months )\\ndate_ofloan = df_cleaned['issue_date'].dt.to_period('M').astype(int)\\ndate_credline = df_cleaned['earliest_cr_line'].dt.to_period('M').astype(int)\\ndf_cleaned['credit_hist_mths'] = date_ofloan - date_credline\\ndf_cleaned['credit_hist_mths'] = np.where(df_cleaned['credit_hist_mths'] < 0, 0, df_cleaned['credit_hist_mths'])\\n\\n# Log-transform skewed continuous features\\ndf_cleaned['delinq_amnt_log'] = df_cleaned['delinq_amnt'].add(1).apply(np.log)\\ndf_cleaned['annual_inc_log'] = df_cleaned['annual_inc'].add(1).apply(np.log)\\ndf_cleaned['dti_log'] = df_cleaned['dti'].add(1).apply(np.log)\\ndf_cleaned['funded_amnt_log'] = df_cleaned['funded_amnt'].add(1).apply(np.log)\\ndf_cleaned['tot_coll_amt_log'] = df_cleaned['tot_coll_amt'].add(1).apply(np.log)\\ndf_cleaned['tot_cur_bal_log'] = df_cleaned['tot_cur_bal'].add(1).apply(np.log)\\ndf_cleaned['total_acc_log'] = df_cleaned['total_acc'].add(1).apply(np.log)\\ndf_cleaned['revol_bal_log'] = df_cleaned['revol_bal'].add(1).apply(np.log)\\ndf_cleaned['installment_log'] = df_cleaned['installment'].add(1).apply(np.log)\\ndf_cleaned['open_acc_log'] = df_cleaned['open_acc'].add(1).apply(np.log)\\n\\n# Simplify loan purpose - debt consolidation, credit card, and other\\ndf_cleaned['purpose'] = df_cleaned['purpose'].map({'debt_consolidation':'debt_consolidation',\\n                                                   'credit_card':'credit_card'})\\ndf_cleaned['purpose'].fillna('other',inplace=True)\\n\\n# Convert loan grade to ordinal feature\\ndf_cleaned['grade'] = df_cleaned['grade'].map({'A':1,\\n                                               'B':2,\\n                                               'C':3,\\n                                               'D':4,\\n                                               'E':5,\\n                                               'F':6,\\n                                               'G':7})\\n\\n# Simplify employment length to four categories\\ndf_cleaned['emp_length'] = df_cleaned['emp_length'].map({'< 1 year':0.5,\\n                                                         '1 year':1,\\n                                                         '2 years':2,\\n                                                         '3 years':3,\\n                                                         '4 years':4,\\n                                                         '5 years':5,\\n                                                         '6 years':6,\\n                                                         '7 years':7,\\n                                                         '8 years':8,\\n                                                         '9 years':9,\\n                                                         '10+ years':10})\\n\\n# Create new binary features\\ndf_cleaned['has_pub_rec'] = np.where(df_cleaned['pub_rec']>0,1,0) #0-=no public record\\ndf_cleaned['has_paid_early'] = np.where((df_cleaned.loan_status=='Fully Paid')&(df_cleaned.last_pymnt_date < df_cleaned.exp_last_pymnt_date), 1, 0)\\ndf_cleaned['has_36mo_loan'] = np.where(df_cleaned['term'].str.contains('36'),1,0) #0=60mo loan\\ndf_cleaned['has_delinq_now'] = np.where(df_cleaned['acc_now_delinq']>0, 1, 0)\\ndf_cleaned['has_delinq_past2yrs'] = np.where(df_cleaned['delinq_2yrs']>0, 1, 0) #0=no delinq within 2yrs\\ndf_cleaned['has_whole_liststatus'] = np.where(df_cleaned['initial_list_status']=='w', 1, 0) #0=f\\ndf_cleaned['has_fullypaid'] = np.where(df_cleaned['loan_status']=='Fully Paid', 1, 0) #0=charged off\";\n",
       "                var nbb_formatted_code = \"# Simplify loan status (non-FullyPaid or ChargedOff loans will be converted to NAN)\\ndf_cleaned[\\\"loan_status\\\"] = df_cleaned[\\\"loan_status\\\"].map(\\n    {\\n        \\\"Fully Paid\\\": \\\"Fully Paid\\\",\\n        \\\"Charged Off\\\": \\\"Charged Off\\\",\\n        \\\"Does not meet the credit policy. Status:Fully Paid\\\": \\\"Fully Paid\\\",\\n        \\\"Does not meet the credit policy. Status:Charged Off\\\": \\\"Charged Off\\\",\\n    }\\n)\\n\\n# Remove non-completed loans\\ndf_cleaned.drop(\\n    df_cleaned.loc[df_cleaned[\\\"loan_status\\\"].isnull()].index.tolist(),\\n    axis=0,\\n    inplace=True,\\n)\\n\\n# Simplify home ownership\\ndf_cleaned[\\\"home_ownership\\\"] = df_cleaned[\\\"home_ownership\\\"].map(\\n    {\\\"MORTGAGE\\\": \\\"mortgage\\\", \\\"OWN\\\": \\\"own\\\", \\\"RENT\\\": \\\"rent\\\"}\\n)\\n\\n# Remove 25 observations without houses\\ndf_cleaned.drop(\\n    df_cleaned.loc[df_cleaned[\\\"home_ownership\\\"].isnull()].index.tolist(),\\n    axis=0,\\n    inplace=True,\\n)\\n\\n\\n# Reformat date features and calculate features related to prepayment\\ndf_cleaned[\\\"term_year\\\"] = np.where(df_cleaned[\\\"term\\\"] == \\\" 36 months\\\", 3, 5)\\ndf_cleaned[\\\"earliest_cr_line\\\"] = pd.to_datetime(df_cleaned[\\\"earliest_cr_line\\\"])\\ndf_cleaned[\\\"issue_date\\\"] = pd.to_datetime(df_cleaned[\\\"issue_d\\\"])\\ndf_cleaned[\\\"last_pymnt_date\\\"] = pd.to_datetime(df_cleaned[\\\"last_pymnt_d\\\"])\\ndf_cleaned[\\\"exp_last_pymnt_date\\\"] = pd.to_datetime(\\n    df_cleaned[\\\"issue_d\\\"].str[0:3]\\n    + \\\"-\\\"\\n    + (df_cleaned[\\\"issue_d\\\"].str[-4:].astype(\\\"int\\\") + df_cleaned[\\\"term_year\\\"]).astype(\\n        \\\"str\\\"\\n    )\\n)\\n\\n# Calculate credit history ( in months )\\ndate_ofloan = df_cleaned[\\\"issue_date\\\"].dt.to_period(\\\"M\\\").astype(int)\\ndate_credline = df_cleaned[\\\"earliest_cr_line\\\"].dt.to_period(\\\"M\\\").astype(int)\\ndf_cleaned[\\\"credit_hist_mths\\\"] = date_ofloan - date_credline\\ndf_cleaned[\\\"credit_hist_mths\\\"] = np.where(\\n    df_cleaned[\\\"credit_hist_mths\\\"] < 0, 0, df_cleaned[\\\"credit_hist_mths\\\"]\\n)\\n\\n# Log-transform skewed continuous features\\ndf_cleaned[\\\"delinq_amnt_log\\\"] = df_cleaned[\\\"delinq_amnt\\\"].add(1).apply(np.log)\\ndf_cleaned[\\\"annual_inc_log\\\"] = df_cleaned[\\\"annual_inc\\\"].add(1).apply(np.log)\\ndf_cleaned[\\\"dti_log\\\"] = df_cleaned[\\\"dti\\\"].add(1).apply(np.log)\\ndf_cleaned[\\\"funded_amnt_log\\\"] = df_cleaned[\\\"funded_amnt\\\"].add(1).apply(np.log)\\ndf_cleaned[\\\"tot_coll_amt_log\\\"] = df_cleaned[\\\"tot_coll_amt\\\"].add(1).apply(np.log)\\ndf_cleaned[\\\"tot_cur_bal_log\\\"] = df_cleaned[\\\"tot_cur_bal\\\"].add(1).apply(np.log)\\ndf_cleaned[\\\"total_acc_log\\\"] = df_cleaned[\\\"total_acc\\\"].add(1).apply(np.log)\\ndf_cleaned[\\\"revol_bal_log\\\"] = df_cleaned[\\\"revol_bal\\\"].add(1).apply(np.log)\\ndf_cleaned[\\\"installment_log\\\"] = df_cleaned[\\\"installment\\\"].add(1).apply(np.log)\\ndf_cleaned[\\\"open_acc_log\\\"] = df_cleaned[\\\"open_acc\\\"].add(1).apply(np.log)\\n\\n# Simplify loan purpose - debt consolidation, credit card, and other\\ndf_cleaned[\\\"purpose\\\"] = df_cleaned[\\\"purpose\\\"].map(\\n    {\\\"debt_consolidation\\\": \\\"debt_consolidation\\\", \\\"credit_card\\\": \\\"credit_card\\\"}\\n)\\ndf_cleaned[\\\"purpose\\\"].fillna(\\\"other\\\", inplace=True)\\n\\n# Convert loan grade to ordinal feature\\ndf_cleaned[\\\"grade\\\"] = df_cleaned[\\\"grade\\\"].map(\\n    {\\\"A\\\": 1, \\\"B\\\": 2, \\\"C\\\": 3, \\\"D\\\": 4, \\\"E\\\": 5, \\\"F\\\": 6, \\\"G\\\": 7}\\n)\\n\\n# Simplify employment length to four categories\\ndf_cleaned[\\\"emp_length\\\"] = df_cleaned[\\\"emp_length\\\"].map(\\n    {\\n        \\\"< 1 year\\\": 0.5,\\n        \\\"1 year\\\": 1,\\n        \\\"2 years\\\": 2,\\n        \\\"3 years\\\": 3,\\n        \\\"4 years\\\": 4,\\n        \\\"5 years\\\": 5,\\n        \\\"6 years\\\": 6,\\n        \\\"7 years\\\": 7,\\n        \\\"8 years\\\": 8,\\n        \\\"9 years\\\": 9,\\n        \\\"10+ years\\\": 10,\\n    }\\n)\\n\\n# Create new binary features\\ndf_cleaned[\\\"has_pub_rec\\\"] = np.where(\\n    df_cleaned[\\\"pub_rec\\\"] > 0, 1, 0\\n)  # 0-=no public record\\ndf_cleaned[\\\"has_paid_early\\\"] = np.where(\\n    (df_cleaned.loan_status == \\\"Fully Paid\\\")\\n    & (df_cleaned.last_pymnt_date < df_cleaned.exp_last_pymnt_date),\\n    1,\\n    0,\\n)\\ndf_cleaned[\\\"has_36mo_loan\\\"] = np.where(\\n    df_cleaned[\\\"term\\\"].str.contains(\\\"36\\\"), 1, 0\\n)  # 0=60mo loan\\ndf_cleaned[\\\"has_delinq_now\\\"] = np.where(df_cleaned[\\\"acc_now_delinq\\\"] > 0, 1, 0)\\ndf_cleaned[\\\"has_delinq_past2yrs\\\"] = np.where(\\n    df_cleaned[\\\"delinq_2yrs\\\"] > 0, 1, 0\\n)  # 0=no delinq within 2yrs\\ndf_cleaned[\\\"has_whole_liststatus\\\"] = np.where(\\n    df_cleaned[\\\"initial_list_status\\\"] == \\\"w\\\", 1, 0\\n)  # 0=f\\ndf_cleaned[\\\"has_fullypaid\\\"] = np.where(\\n    df_cleaned[\\\"loan_status\\\"] == \\\"Fully Paid\\\", 1, 0\\n)  # 0=charged off\";\n",
       "                var nbb_cells = Jupyter.notebook.get_cells();\n",
       "                for (var i = 0; i < nbb_cells.length; ++i) {\n",
       "                    if (nbb_cells[i].input_prompt_number == nbb_cell_id) {\n",
       "                        if (nbb_cells[i].get_text() == nbb_unformatted_code) {\n",
       "                             nbb_cells[i].set_text(nbb_formatted_code);\n",
       "                        }\n",
       "                        break;\n",
       "                    }\n",
       "                }\n",
       "            }, 500);\n",
       "            "
      ],
      "text/plain": [
       "<IPython.core.display.Javascript object>"
      ]
     },
     "metadata": {},
     "output_type": "display_data"
    }
   ],
   "source": [
    "# Simplify loan status (non-FullyPaid or ChargedOff loans will be converted to NAN)\n",
    "df_cleaned['loan_status'] = df_cleaned['loan_status'].map({'Fully Paid':'Fully Paid',\n",
    "                                                           'Charged Off':'Charged Off',\n",
    "                                                           'Does not meet the credit policy. Status:Fully Paid': 'Fully Paid',\n",
    "                                                           'Does not meet the credit policy. Status:Charged Off': 'Charged Off'})\n",
    "\n",
    "# Remove non-completed loans\n",
    "df_cleaned.drop(df_cleaned.loc[df_cleaned['loan_status'].isnull()].index.tolist(), axis=0, inplace=True)\n",
    "\n",
    "# Simplify home ownership\n",
    "df_cleaned['home_ownership'] = df_cleaned['home_ownership'].map({'MORTGAGE':'mortgage',\n",
    "                                                                 'OWN':'own',\n",
    "                                                                 'RENT':'rent'})\n",
    "\n",
    "# Remove 25 observations without houses\n",
    "df_cleaned.drop(df_cleaned.loc[df_cleaned['home_ownership'].isnull()].index.tolist(), axis=0, inplace=True)\n",
    "\n",
    "\n",
    "# Reformat date features and calculate features related to prepayment  \n",
    "df_cleaned['term_year'] = np.where(df_cleaned['term']==' 36 months', 3,5)\n",
    "df_cleaned['earliest_cr_line'] =  pd.to_datetime(df_cleaned['earliest_cr_line'])\n",
    "df_cleaned['issue_date'] =  pd.to_datetime(df_cleaned['issue_d'])\n",
    "df_cleaned['last_pymnt_date'] = pd.to_datetime(df_cleaned['last_pymnt_d'])\n",
    "df_cleaned['exp_last_pymnt_date'] = pd.to_datetime(df_cleaned['issue_d'].str[0:3]\n",
    "                                                   +'-'\n",
    "                                                   + (df_cleaned['issue_d'].str[-4:].astype('int')\n",
    "                                                   + df_cleaned['term_year']).astype('str'))\n",
    "\n",
    "# Calculate credit history ( in months )\n",
    "date_ofloan = df_cleaned['issue_date'].dt.to_period('M').astype(int)\n",
    "date_credline = df_cleaned['earliest_cr_line'].dt.to_period('M').astype(int)\n",
    "df_cleaned['credit_hist_mths'] = date_ofloan - date_credline\n",
    "df_cleaned['credit_hist_mths'] = np.where(df_cleaned['credit_hist_mths'] < 0, 0, df_cleaned['credit_hist_mths'])\n",
    "\n",
    "# Log-transform skewed continuous features\n",
    "df_cleaned['delinq_amnt_log'] = df_cleaned['delinq_amnt'].add(1).apply(np.log)\n",
    "df_cleaned['annual_inc_log'] = df_cleaned['annual_inc'].add(1).apply(np.log)\n",
    "df_cleaned['dti_log'] = df_cleaned['dti'].add(1).apply(np.log)\n",
    "df_cleaned['funded_amnt_log'] = df_cleaned['funded_amnt'].add(1).apply(np.log)\n",
    "df_cleaned['tot_coll_amt_log'] = df_cleaned['tot_coll_amt'].add(1).apply(np.log)\n",
    "df_cleaned['tot_cur_bal_log'] = df_cleaned['tot_cur_bal'].add(1).apply(np.log)\n",
    "df_cleaned['total_acc_log'] = df_cleaned['total_acc'].add(1).apply(np.log)\n",
    "df_cleaned['revol_bal_log'] = df_cleaned['revol_bal'].add(1).apply(np.log)\n",
    "df_cleaned['installment_log'] = df_cleaned['installment'].add(1).apply(np.log)\n",
    "df_cleaned['open_acc_log'] = df_cleaned['open_acc'].add(1).apply(np.log)\n",
    "\n",
    "# Simplify loan purpose - debt consolidation, credit card, and other\n",
    "df_cleaned['purpose'] = df_cleaned['purpose'].map({'debt_consolidation':'debt_consolidation',\n",
    "                                                   'credit_card':'credit_card'})\n",
    "df_cleaned['purpose'].fillna('other',inplace=True)\n",
    "\n",
    "# Convert loan grade to ordinal feature\n",
    "df_cleaned['grade'] = df_cleaned['grade'].map({'A':1,\n",
    "                                               'B':2,\n",
    "                                               'C':3,\n",
    "                                               'D':4,\n",
    "                                               'E':5,\n",
    "                                               'F':6,\n",
    "                                               'G':7})\n",
    "\n",
    "# Simplify employment length to four categories\n",
    "df_cleaned['emp_length'] = df_cleaned['emp_length'].map({'< 1 year':0.5,\n",
    "                                                         '1 year':1,\n",
    "                                                         '2 years':2,\n",
    "                                                         '3 years':3,\n",
    "                                                         '4 years':4,\n",
    "                                                         '5 years':5,\n",
    "                                                         '6 years':6,\n",
    "                                                         '7 years':7,\n",
    "                                                         '8 years':8,\n",
    "                                                         '9 years':9,\n",
    "                                                         '10+ years':10})\n",
    "\n",
    "# Create new binary features\n",
    "df_cleaned['has_pub_rec'] = np.where(df_cleaned['pub_rec']>0,1,0) #0-=no public record\n",
    "df_cleaned['has_paid_early'] = np.where((df_cleaned.loan_status=='Fully Paid')&(df_cleaned.last_pymnt_date < df_cleaned.exp_last_pymnt_date), 1, 0)\n",
    "df_cleaned['has_36mo_loan'] = np.where(df_cleaned['term'].str.contains('36'),1,0) #0=60mo loan\n",
    "df_cleaned['has_delinq_now'] = np.where(df_cleaned['acc_now_delinq']>0, 1, 0)\n",
    "df_cleaned['has_delinq_past2yrs'] = np.where(df_cleaned['delinq_2yrs']>0, 1, 0) #0=no delinq within 2yrs\n",
    "df_cleaned['has_whole_liststatus'] = np.where(df_cleaned['initial_list_status']=='w', 1, 0) #0=f\n",
    "df_cleaned['has_fullypaid'] = np.where(df_cleaned['loan_status']=='Fully Paid', 1, 0) #0=charged off\n"
   ]
  },
  {
   "cell_type": "code",
   "execution_count": 85,
   "metadata": {},
   "outputs": [
    {
     "name": "stdout",
     "output_type": "stream",
     "text": [
      "Fraction of loans above threadhold: 0.838\n"
     ]
    },
    {
     "data": {
      "application/javascript": [
       "\n",
       "            setTimeout(function() {\n",
       "                var nbb_cell_id = 85;\n",
       "                var nbb_unformatted_code = \"# Create response variable based on\\nthreshold = -20  # goal % return\\ndf_cleaned[\\\"roi_perc\\\"] = (\\n    df_cleaned[\\\"total_pymnt\\\"].div(df_cleaned[\\\"funded_amnt\\\"]).sub(1).mul(100)\\n)\\ndf_cleaned[\\\"roi_response\\\"] = np.where(df_cleaned[\\\"roi_perc\\\"] > threshold, 1, 0)\\ndf_cleaned['roi_response_charged_off'] = np.where(df_cleaned['loan_status'] == \\\"Charged Off\\\", 0, 1)\\n\\nprint(\\\"Fraction of loans above threadhold: %.3f\\\" % df_cleaned[\\\"roi_response\\\"].mean())\\n\\n# ==================================================================\\n# Majority class [1] = ROI >-20% (IDEAL)\\n# Minority class [0] = ROI <-20% (BAD)\";\n",
       "                var nbb_formatted_code = \"# Create response variable based on\\nthreshold = -20  # goal % return\\ndf_cleaned[\\\"roi_perc\\\"] = (\\n    df_cleaned[\\\"total_pymnt\\\"].div(df_cleaned[\\\"funded_amnt\\\"]).sub(1).mul(100)\\n)\\ndf_cleaned[\\\"roi_response\\\"] = np.where(df_cleaned[\\\"roi_perc\\\"] > threshold, 1, 0)\\ndf_cleaned[\\\"roi_response_charged_off\\\"] = np.where(\\n    df_cleaned[\\\"loan_status\\\"] == \\\"Charged Off\\\", 0, 1\\n)\\n\\nprint(\\\"Fraction of loans above threadhold: %.3f\\\" % df_cleaned[\\\"roi_response\\\"].mean())\\n\\n# ==================================================================\\n# Majority class [1] = ROI >-20% (IDEAL)\\n# Minority class [0] = ROI <-20% (BAD)\";\n",
       "                var nbb_cells = Jupyter.notebook.get_cells();\n",
       "                for (var i = 0; i < nbb_cells.length; ++i) {\n",
       "                    if (nbb_cells[i].input_prompt_number == nbb_cell_id) {\n",
       "                        if (nbb_cells[i].get_text() == nbb_unformatted_code) {\n",
       "                             nbb_cells[i].set_text(nbb_formatted_code);\n",
       "                        }\n",
       "                        break;\n",
       "                    }\n",
       "                }\n",
       "            }, 500);\n",
       "            "
      ],
      "text/plain": [
       "<IPython.core.display.Javascript object>"
      ]
     },
     "metadata": {},
     "output_type": "display_data"
    }
   ],
   "source": [
    "# Create response variable based on\n",
    "threshold = -20  # goal % return\n",
    "df_cleaned[\"roi_perc\"] = (\n",
    "    df_cleaned[\"total_pymnt\"].div(df_cleaned[\"funded_amnt\"]).sub(1).mul(100)\n",
    ")\n",
    "df_cleaned[\"roi_response\"] = np.where(df_cleaned[\"roi_perc\"] > threshold, 1, 0)\n",
    "df_cleaned[\"roi_response_charged_off\"] = np.where(\n",
    "    df_cleaned[\"loan_status\"] == \"Charged Off\", 0, 1\n",
    ")\n",
    "\n",
    "print(\"Fraction of loans above threadhold: %.3f\" % df_cleaned[\"roi_response\"].mean())\n",
    "\n",
    "# ==================================================================\n",
    "# Majority class [1] = ROI >-20% (IDEAL)\n",
    "# Minority class [0] = ROI <-20% (BAD)"
   ]
  },
  {
   "cell_type": "code",
   "execution_count": 86,
   "metadata": {},
   "outputs": [
    {
     "data": {
      "application/javascript": [
       "\n",
       "            setTimeout(function() {\n",
       "                var nbb_cell_id = 86;\n",
       "                var nbb_unformatted_code = \"# Isolate list of predictor variables to be used for ML\\npredictor_vars = ['annual_inc_log',\\n                  'credit_hist_mths',\\n                  'delinq_amnt_log',\\n                  'dti_log',\\n                  'emp_length',\\n                  'fico_range_high',\\n                  'funded_amnt_log',\\n                  'grade',\\n                  'has_36mo_loan',\\n                  'has_delinq_now',\\n                  'has_delinq_past2yrs',\\n                  'has_pub_rec',\\n                  'has_whole_liststatus',\\n                  'home_ownership',\\n                  'inq_last_6mths',\\n                  'installment_log',\\n                  'int_rate',\\n                  'open_acc_log',\\n                  'purpose',\\n                  'revol_bal_log',\\n                  'revol_util',\\n                  'tot_coll_amt_log',\\n                  'tot_cur_bal_log',\\n                  'total_acc_log',\\n                  'verification_status']\\n\\nresponse_var = 'roi_response'\";\n",
       "                var nbb_formatted_code = \"# Isolate list of predictor variables to be used for ML\\npredictor_vars = [\\n    \\\"annual_inc_log\\\",\\n    \\\"credit_hist_mths\\\",\\n    \\\"delinq_amnt_log\\\",\\n    \\\"dti_log\\\",\\n    \\\"emp_length\\\",\\n    \\\"fico_range_high\\\",\\n    \\\"funded_amnt_log\\\",\\n    \\\"grade\\\",\\n    \\\"has_36mo_loan\\\",\\n    \\\"has_delinq_now\\\",\\n    \\\"has_delinq_past2yrs\\\",\\n    \\\"has_pub_rec\\\",\\n    \\\"has_whole_liststatus\\\",\\n    \\\"home_ownership\\\",\\n    \\\"inq_last_6mths\\\",\\n    \\\"installment_log\\\",\\n    \\\"int_rate\\\",\\n    \\\"open_acc_log\\\",\\n    \\\"purpose\\\",\\n    \\\"revol_bal_log\\\",\\n    \\\"revol_util\\\",\\n    \\\"tot_coll_amt_log\\\",\\n    \\\"tot_cur_bal_log\\\",\\n    \\\"total_acc_log\\\",\\n    \\\"verification_status\\\",\\n]\\n\\nresponse_var = \\\"roi_response\\\"\";\n",
       "                var nbb_cells = Jupyter.notebook.get_cells();\n",
       "                for (var i = 0; i < nbb_cells.length; ++i) {\n",
       "                    if (nbb_cells[i].input_prompt_number == nbb_cell_id) {\n",
       "                        if (nbb_cells[i].get_text() == nbb_unformatted_code) {\n",
       "                             nbb_cells[i].set_text(nbb_formatted_code);\n",
       "                        }\n",
       "                        break;\n",
       "                    }\n",
       "                }\n",
       "            }, 500);\n",
       "            "
      ],
      "text/plain": [
       "<IPython.core.display.Javascript object>"
      ]
     },
     "metadata": {},
     "output_type": "display_data"
    }
   ],
   "source": [
    "# Isolate list of predictor variables to be used for ML\n",
    "predictor_vars = ['annual_inc_log',\n",
    "                  'credit_hist_mths',\n",
    "                  'delinq_amnt_log',\n",
    "                  'dti_log',\n",
    "                  'emp_length',\n",
    "                  'fico_range_high',\n",
    "                  'funded_amnt_log',\n",
    "                  'grade',\n",
    "                  'has_36mo_loan',\n",
    "                  'has_delinq_now',\n",
    "                  'has_delinq_past2yrs',\n",
    "                  'has_pub_rec',\n",
    "                  'has_whole_liststatus',\n",
    "                  'home_ownership',\n",
    "                  'inq_last_6mths',\n",
    "                  'installment_log',\n",
    "                  'int_rate',\n",
    "                  'open_acc_log',\n",
    "                  'purpose',\n",
    "                  'revol_bal_log',\n",
    "                  'revol_util',\n",
    "                  'tot_coll_amt_log',\n",
    "                  'tot_cur_bal_log',\n",
    "                  'total_acc_log',\n",
    "                  'verification_status']\n",
    "\n",
    "response_var = 'roi_response'\n"
   ]
  },
  {
   "cell_type": "markdown",
   "metadata": {},
   "source": [
    "# Machine Learning"
   ]
  },
  {
   "cell_type": "markdown",
   "metadata": {},
   "source": [
    "### Data Preparation"
   ]
  },
  {
   "cell_type": "code",
   "execution_count": 87,
   "metadata": {},
   "outputs": [
    {
     "data": {
      "application/javascript": [
       "\n",
       "            setTimeout(function() {\n",
       "                var nbb_cell_id = 87;\n",
       "                var nbb_unformatted_code = \"# Dummify categorical features\\nhome_ownership_dummy = pd.get_dummies(df_cleaned['home_ownership'],\\n                                      prefix=\\\"home_ownership\\\").drop('home_ownership_mortgage',axis=1)\\n\\npurpose_dummy = pd.get_dummies(df_cleaned['purpose'],\\n                               prefix=\\\"purpose\\\").drop('purpose_debt_consolidation',axis=1)\\n\\nverification_status_dummy = pd.get_dummies(df_cleaned['verification_status'],\\n                               prefix=\\\"verification_status\\\").drop('verification_status_Source Verified',axis=1)\";\n",
       "                var nbb_formatted_code = \"# Dummify categorical features\\nhome_ownership_dummy = pd.get_dummies(\\n    df_cleaned[\\\"home_ownership\\\"], prefix=\\\"home_ownership\\\"\\n).drop(\\\"home_ownership_mortgage\\\", axis=1)\\n\\npurpose_dummy = pd.get_dummies(df_cleaned[\\\"purpose\\\"], prefix=\\\"purpose\\\").drop(\\n    \\\"purpose_debt_consolidation\\\", axis=1\\n)\\n\\nverification_status_dummy = pd.get_dummies(\\n    df_cleaned[\\\"verification_status\\\"], prefix=\\\"verification_status\\\"\\n).drop(\\\"verification_status_Source Verified\\\", axis=1)\";\n",
       "                var nbb_cells = Jupyter.notebook.get_cells();\n",
       "                for (var i = 0; i < nbb_cells.length; ++i) {\n",
       "                    if (nbb_cells[i].input_prompt_number == nbb_cell_id) {\n",
       "                        if (nbb_cells[i].get_text() == nbb_unformatted_code) {\n",
       "                             nbb_cells[i].set_text(nbb_formatted_code);\n",
       "                        }\n",
       "                        break;\n",
       "                    }\n",
       "                }\n",
       "            }, 500);\n",
       "            "
      ],
      "text/plain": [
       "<IPython.core.display.Javascript object>"
      ]
     },
     "metadata": {},
     "output_type": "display_data"
    }
   ],
   "source": [
    "# Dummify categorical features\n",
    "home_ownership_dummy = pd.get_dummies(df_cleaned['home_ownership'],\n",
    "                                      prefix=\"home_ownership\").drop('home_ownership_mortgage',axis=1)\n",
    "\n",
    "purpose_dummy = pd.get_dummies(df_cleaned['purpose'],\n",
    "                               prefix=\"purpose\").drop('purpose_debt_consolidation',axis=1)\n",
    "\n",
    "verification_status_dummy = pd.get_dummies(df_cleaned['verification_status'],\n",
    "                               prefix=\"verification_status\").drop('verification_status_Source Verified',axis=1)\n"
   ]
  },
  {
   "cell_type": "code",
   "execution_count": 94,
   "metadata": {},
   "outputs": [
    {
     "data": {
      "application/javascript": [
       "\n",
       "            setTimeout(function() {\n",
       "                var nbb_cell_id = 94;\n",
       "                var nbb_unformatted_code = \"# List of numeric features in the final dataframe\\nnumeric_vars = [\\n    \\\"annual_inc_log\\\",\\n    \\\"credit_hist_mths\\\",\\n    \\\"delinq_amnt_log\\\",\\n    \\\"dti_log\\\",\\n    \\\"emp_length\\\",\\n    \\\"fico_range_high\\\",\\n    \\\"funded_amnt_log\\\",\\n    \\\"grade\\\",\\n    \\\"has_36mo_loan\\\",\\n    \\\"has_delinq_now\\\",\\n    \\\"has_delinq_past2yrs\\\",\\n    \\\"has_pub_rec\\\",\\n    \\\"has_whole_liststatus\\\",\\n    \\\"inq_last_6mths\\\",\\n    \\\"installment_log\\\",\\n    \\\"int_rate\\\",\\n    \\\"open_acc_log\\\",\\n    \\\"revol_bal_log\\\",\\n    \\\"revol_util\\\",\\n    \\\"tot_coll_amt_log\\\",\\n    \\\"tot_cur_bal_log\\\",\\n    \\\"total_acc_log\\\",\\n]\\n\\nresponse_var_charged_off = 'roi_response_charged_off'\";\n",
       "                var nbb_formatted_code = \"# List of numeric features in the final dataframe\\nnumeric_vars = [\\n    \\\"annual_inc_log\\\",\\n    \\\"credit_hist_mths\\\",\\n    \\\"delinq_amnt_log\\\",\\n    \\\"dti_log\\\",\\n    \\\"emp_length\\\",\\n    \\\"fico_range_high\\\",\\n    \\\"funded_amnt_log\\\",\\n    \\\"grade\\\",\\n    \\\"has_36mo_loan\\\",\\n    \\\"has_delinq_now\\\",\\n    \\\"has_delinq_past2yrs\\\",\\n    \\\"has_pub_rec\\\",\\n    \\\"has_whole_liststatus\\\",\\n    \\\"inq_last_6mths\\\",\\n    \\\"installment_log\\\",\\n    \\\"int_rate\\\",\\n    \\\"open_acc_log\\\",\\n    \\\"revol_bal_log\\\",\\n    \\\"revol_util\\\",\\n    \\\"tot_coll_amt_log\\\",\\n    \\\"tot_cur_bal_log\\\",\\n    \\\"total_acc_log\\\",\\n]\\n\\nresponse_var_charged_off = \\\"roi_response_charged_off\\\"\";\n",
       "                var nbb_cells = Jupyter.notebook.get_cells();\n",
       "                for (var i = 0; i < nbb_cells.length; ++i) {\n",
       "                    if (nbb_cells[i].input_prompt_number == nbb_cell_id) {\n",
       "                        if (nbb_cells[i].get_text() == nbb_unformatted_code) {\n",
       "                             nbb_cells[i].set_text(nbb_formatted_code);\n",
       "                        }\n",
       "                        break;\n",
       "                    }\n",
       "                }\n",
       "            }, 500);\n",
       "            "
      ],
      "text/plain": [
       "<IPython.core.display.Javascript object>"
      ]
     },
     "metadata": {},
     "output_type": "display_data"
    }
   ],
   "source": [
    "# List of numeric features in the final dataframe\n",
    "numeric_vars = [\n",
    "    \"annual_inc_log\",\n",
    "    \"credit_hist_mths\",\n",
    "    \"delinq_amnt_log\",\n",
    "    \"dti_log\",\n",
    "    \"emp_length\",\n",
    "    \"fico_range_high\",\n",
    "    \"funded_amnt_log\",\n",
    "    \"grade\",\n",
    "    \"has_36mo_loan\",\n",
    "    \"has_delinq_now\",\n",
    "    \"has_delinq_past2yrs\",\n",
    "    \"has_pub_rec\",\n",
    "    \"has_whole_liststatus\",\n",
    "    \"inq_last_6mths\",\n",
    "    \"installment_log\",\n",
    "    \"int_rate\",\n",
    "    \"open_acc_log\",\n",
    "    \"revol_bal_log\",\n",
    "    \"revol_util\",\n",
    "    \"tot_coll_amt_log\",\n",
    "    \"tot_cur_bal_log\",\n",
    "    \"total_acc_log\",\n",
    "]\n",
    "\n",
    "response_var_charged_off = \"roi_response_charged_off\""
   ]
  },
  {
   "cell_type": "code",
   "execution_count": 91,
   "metadata": {},
   "outputs": [
    {
     "data": {
      "application/javascript": [
       "\n",
       "            setTimeout(function() {\n",
       "                var nbb_cell_id = 91;\n",
       "                var nbb_unformatted_code = \"# final dataframe for model consumption\\ndf_feature_final = pd.concat(\\n    [\\n        df_cleaned[numeric_vars],\\n        home_ownership_dummy,\\n        purpose_dummy,\\n        verification_status_dummy,\\n    ],\\n    axis=1,\\n)\";\n",
       "                var nbb_formatted_code = \"# final dataframe for model consumption\\ndf_feature_final = pd.concat(\\n    [\\n        df_cleaned[numeric_vars],\\n        home_ownership_dummy,\\n        purpose_dummy,\\n        verification_status_dummy,\\n    ],\\n    axis=1,\\n)\";\n",
       "                var nbb_cells = Jupyter.notebook.get_cells();\n",
       "                for (var i = 0; i < nbb_cells.length; ++i) {\n",
       "                    if (nbb_cells[i].input_prompt_number == nbb_cell_id) {\n",
       "                        if (nbb_cells[i].get_text() == nbb_unformatted_code) {\n",
       "                             nbb_cells[i].set_text(nbb_formatted_code);\n",
       "                        }\n",
       "                        break;\n",
       "                    }\n",
       "                }\n",
       "            }, 500);\n",
       "            "
      ],
      "text/plain": [
       "<IPython.core.display.Javascript object>"
      ]
     },
     "metadata": {},
     "output_type": "display_data"
    }
   ],
   "source": [
    "# final dataframe for model consumption\n",
    "df_feature_final = pd.concat(\n",
    "    [\n",
    "        df_cleaned[numeric_vars],\n",
    "        home_ownership_dummy,\n",
    "        purpose_dummy,\n",
    "        verification_status_dummy,\n",
    "    ],\n",
    "    axis=1,\n",
    ")"
   ]
  },
  {
   "cell_type": "markdown",
   "metadata": {},
   "source": [
    "### Logistic Regression\n",
    "- Goal is to build classifier that predicts if loan results in desirable outcome\n",
    "- Should also report feature importance"
   ]
  },
  {
   "cell_type": "markdown",
   "metadata": {},
   "source": [
    "#### Standardize data"
   ]
  },
  {
   "cell_type": "code",
   "execution_count": 98,
   "metadata": {},
   "outputs": [
    {
     "data": {
      "text/html": [
       "<div>\n",
       "<style scoped>\n",
       "    .dataframe tbody tr th:only-of-type {\n",
       "        vertical-align: middle;\n",
       "    }\n",
       "\n",
       "    .dataframe tbody tr th {\n",
       "        vertical-align: top;\n",
       "    }\n",
       "\n",
       "    .dataframe thead th {\n",
       "        text-align: right;\n",
       "    }\n",
       "</style>\n",
       "<table border=\"1\" class=\"dataframe\">\n",
       "  <thead>\n",
       "    <tr style=\"text-align: right;\">\n",
       "      <th></th>\n",
       "      <th>annual_inc_log</th>\n",
       "      <th>credit_hist_mths</th>\n",
       "      <th>delinq_amnt_log</th>\n",
       "      <th>dti_log</th>\n",
       "      <th>emp_length</th>\n",
       "      <th>fico_range_high</th>\n",
       "      <th>funded_amnt_log</th>\n",
       "      <th>grade</th>\n",
       "      <th>has_36mo_loan</th>\n",
       "      <th>has_delinq_now</th>\n",
       "      <th>has_delinq_past2yrs</th>\n",
       "      <th>has_pub_rec</th>\n",
       "      <th>has_whole_liststatus</th>\n",
       "      <th>inq_last_6mths</th>\n",
       "      <th>installment_log</th>\n",
       "      <th>int_rate</th>\n",
       "      <th>open_acc_log</th>\n",
       "      <th>revol_bal_log</th>\n",
       "      <th>revol_util</th>\n",
       "      <th>tot_coll_amt_log</th>\n",
       "      <th>tot_cur_bal_log</th>\n",
       "      <th>total_acc_log</th>\n",
       "      <th>home_ownership_own</th>\n",
       "      <th>home_ownership_rent</th>\n",
       "      <th>purpose_credit_card</th>\n",
       "      <th>purpose_other</th>\n",
       "      <th>verification_status_Not Verified</th>\n",
       "      <th>verification_status_Verified</th>\n",
       "    </tr>\n",
       "  </thead>\n",
       "  <tbody>\n",
       "    <tr>\n",
       "      <td>1026</td>\n",
       "      <td>0.297428</td>\n",
       "      <td>-0.213882</td>\n",
       "      <td>-0.058612</td>\n",
       "      <td>0.257304</td>\n",
       "      <td>-0.285603</td>\n",
       "      <td>0.271983</td>\n",
       "      <td>0.455636</td>\n",
       "      <td>0.968740</td>\n",
       "      <td>-1.791407</td>\n",
       "      <td>-0.068969</td>\n",
       "      <td>-0.490903</td>\n",
       "      <td>-0.454488</td>\n",
       "      <td>-1.177565</td>\n",
       "      <td>-0.680439</td>\n",
       "      <td>0.091758</td>\n",
       "      <td>0.421426</td>\n",
       "      <td>-0.577489</td>\n",
       "      <td>0.256872</td>\n",
       "      <td>1.031305</td>\n",
       "      <td>1.734238</td>\n",
       "      <td>0.496076</td>\n",
       "      <td>-0.896931</td>\n",
       "      <td>-0.348734</td>\n",
       "      <td>1.226440</td>\n",
       "      <td>-0.52912</td>\n",
       "      <td>-0.506651</td>\n",
       "      <td>-0.664842</td>\n",
       "      <td>1.498914</td>\n",
       "    </tr>\n",
       "    <tr>\n",
       "      <td>23055</td>\n",
       "      <td>-0.135760</td>\n",
       "      <td>-0.291164</td>\n",
       "      <td>-0.058612</td>\n",
       "      <td>0.948313</td>\n",
       "      <td>1.093390</td>\n",
       "      <td>0.428571</td>\n",
       "      <td>-0.212143</td>\n",
       "      <td>0.198164</td>\n",
       "      <td>0.558221</td>\n",
       "      <td>-0.068969</td>\n",
       "      <td>-0.490903</td>\n",
       "      <td>-0.454488</td>\n",
       "      <td>-1.177565</td>\n",
       "      <td>2.386638</td>\n",
       "      <td>-0.098748</td>\n",
       "      <td>-0.045777</td>\n",
       "      <td>0.100205</td>\n",
       "      <td>-0.010310</td>\n",
       "      <td>-0.120528</td>\n",
       "      <td>-0.487797</td>\n",
       "      <td>-0.383281</td>\n",
       "      <td>0.657942</td>\n",
       "      <td>2.867518</td>\n",
       "      <td>-0.815368</td>\n",
       "      <td>-0.52912</td>\n",
       "      <td>-0.506651</td>\n",
       "      <td>-0.664842</td>\n",
       "      <td>-0.667150</td>\n",
       "    </tr>\n",
       "    <tr>\n",
       "      <td>4146</td>\n",
       "      <td>0.091770</td>\n",
       "      <td>-0.026196</td>\n",
       "      <td>-0.058612</td>\n",
       "      <td>0.298249</td>\n",
       "      <td>1.093390</td>\n",
       "      <td>-0.197780</td>\n",
       "      <td>-1.196901</td>\n",
       "      <td>-0.572411</td>\n",
       "      <td>0.558221</td>\n",
       "      <td>-0.068969</td>\n",
       "      <td>-0.490903</td>\n",
       "      <td>-0.454488</td>\n",
       "      <td>-1.177565</td>\n",
       "      <td>0.341920</td>\n",
       "      <td>-1.158063</td>\n",
       "      <td>-0.228870</td>\n",
       "      <td>1.418494</td>\n",
       "      <td>0.546144</td>\n",
       "      <td>0.787100</td>\n",
       "      <td>-0.487797</td>\n",
       "      <td>-0.461570</td>\n",
       "      <td>0.309287</td>\n",
       "      <td>-0.348734</td>\n",
       "      <td>1.226440</td>\n",
       "      <td>-0.52912</td>\n",
       "      <td>1.973745</td>\n",
       "      <td>1.504116</td>\n",
       "      <td>-0.667150</td>\n",
       "    </tr>\n",
       "    <tr>\n",
       "      <td>29768</td>\n",
       "      <td>0.363800</td>\n",
       "      <td>-0.500931</td>\n",
       "      <td>-0.058612</td>\n",
       "      <td>-0.272029</td>\n",
       "      <td>1.093390</td>\n",
       "      <td>-0.667544</td>\n",
       "      <td>0.772686</td>\n",
       "      <td>0.198164</td>\n",
       "      <td>-1.791407</td>\n",
       "      <td>-0.068969</td>\n",
       "      <td>-0.490903</td>\n",
       "      <td>2.200280</td>\n",
       "      <td>-1.177565</td>\n",
       "      <td>-0.680439</td>\n",
       "      <td>0.364539</td>\n",
       "      <td>0.025777</td>\n",
       "      <td>1.055360</td>\n",
       "      <td>-0.015433</td>\n",
       "      <td>-0.303682</td>\n",
       "      <td>-0.487797</td>\n",
       "      <td>0.670237</td>\n",
       "      <td>1.010602</td>\n",
       "      <td>-0.348734</td>\n",
       "      <td>-0.815368</td>\n",
       "      <td>-0.52912</td>\n",
       "      <td>-0.506651</td>\n",
       "      <td>-0.664842</td>\n",
       "      <td>-0.667150</td>\n",
       "    </tr>\n",
       "    <tr>\n",
       "      <td>51158</td>\n",
       "      <td>-0.351177</td>\n",
       "      <td>-1.030869</td>\n",
       "      <td>-0.058612</td>\n",
       "      <td>0.523658</td>\n",
       "      <td>-1.112999</td>\n",
       "      <td>0.115395</td>\n",
       "      <td>0.305939</td>\n",
       "      <td>0.198164</td>\n",
       "      <td>-1.791407</td>\n",
       "      <td>-0.068969</td>\n",
       "      <td>2.037061</td>\n",
       "      <td>-0.454488</td>\n",
       "      <td>0.849210</td>\n",
       "      <td>0.341920</td>\n",
       "      <td>-0.054082</td>\n",
       "      <td>0.501398</td>\n",
       "      <td>0.463338</td>\n",
       "      <td>-0.926764</td>\n",
       "      <td>-1.536916</td>\n",
       "      <td>-0.487797</td>\n",
       "      <td>-0.616211</td>\n",
       "      <td>-0.522782</td>\n",
       "      <td>-0.348734</td>\n",
       "      <td>1.226440</td>\n",
       "      <td>-0.52912</td>\n",
       "      <td>-0.506651</td>\n",
       "      <td>1.504116</td>\n",
       "      <td>-0.667150</td>\n",
       "    </tr>\n",
       "    <tr>\n",
       "      <td>37732</td>\n",
       "      <td>0.751290</td>\n",
       "      <td>0.801832</td>\n",
       "      <td>-0.058612</td>\n",
       "      <td>0.490026</td>\n",
       "      <td>1.093390</td>\n",
       "      <td>0.585159</td>\n",
       "      <td>1.348791</td>\n",
       "      <td>-1.342987</td>\n",
       "      <td>0.558221</td>\n",
       "      <td>-0.068969</td>\n",
       "      <td>-0.490903</td>\n",
       "      <td>-0.454488</td>\n",
       "      <td>0.849210</td>\n",
       "      <td>-0.680439</td>\n",
       "      <td>1.429144</td>\n",
       "      <td>-1.251666</td>\n",
       "      <td>-0.329291</td>\n",
       "      <td>0.784008</td>\n",
       "      <td>1.393542</td>\n",
       "      <td>-0.487797</td>\n",
       "      <td>-0.323310</td>\n",
       "      <td>0.067580</td>\n",
       "      <td>-0.348734</td>\n",
       "      <td>-0.815368</td>\n",
       "      <td>-0.52912</td>\n",
       "      <td>-0.506651</td>\n",
       "      <td>-0.664842</td>\n",
       "      <td>-0.667150</td>\n",
       "    </tr>\n",
       "    <tr>\n",
       "      <td>9478</td>\n",
       "      <td>-0.135760</td>\n",
       "      <td>-1.130232</td>\n",
       "      <td>-0.058612</td>\n",
       "      <td>0.319711</td>\n",
       "      <td>-1.526697</td>\n",
       "      <td>-1.137308</td>\n",
       "      <td>-0.529175</td>\n",
       "      <td>0.968740</td>\n",
       "      <td>0.558221</td>\n",
       "      <td>-0.068969</td>\n",
       "      <td>2.037061</td>\n",
       "      <td>-0.454488</td>\n",
       "      <td>0.849210</td>\n",
       "      <td>-0.680439</td>\n",
       "      <td>-0.322847</td>\n",
       "      <td>1.061199</td>\n",
       "      <td>0.920712</td>\n",
       "      <td>-0.845611</td>\n",
       "      <td>1.365052</td>\n",
       "      <td>-0.487797</td>\n",
       "      <td>0.003446</td>\n",
       "      <td>0.067580</td>\n",
       "      <td>-0.348734</td>\n",
       "      <td>1.226440</td>\n",
       "      <td>-0.52912</td>\n",
       "      <td>-0.506651</td>\n",
       "      <td>1.504116</td>\n",
       "      <td>-0.667150</td>\n",
       "    </tr>\n",
       "    <tr>\n",
       "      <td>49936</td>\n",
       "      <td>0.251728</td>\n",
       "      <td>2.347483</td>\n",
       "      <td>-0.058612</td>\n",
       "      <td>0.846570</td>\n",
       "      <td>1.093390</td>\n",
       "      <td>-0.197780</td>\n",
       "      <td>1.089738</td>\n",
       "      <td>0.198164</td>\n",
       "      <td>-1.791407</td>\n",
       "      <td>-0.068969</td>\n",
       "      <td>2.037061</td>\n",
       "      <td>2.200280</td>\n",
       "      <td>0.849210</td>\n",
       "      <td>-0.680439</td>\n",
       "      <td>0.738253</td>\n",
       "      <td>0.263587</td>\n",
       "      <td>0.100205</td>\n",
       "      <td>1.891160</td>\n",
       "      <td>0.319041</td>\n",
       "      <td>-0.487797</td>\n",
       "      <td>0.989981</td>\n",
       "      <td>-0.764489</td>\n",
       "      <td>-0.348734</td>\n",
       "      <td>-0.815368</td>\n",
       "      <td>-0.52912</td>\n",
       "      <td>-0.506651</td>\n",
       "      <td>-0.664842</td>\n",
       "      <td>-0.667150</td>\n",
       "    </tr>\n",
       "    <tr>\n",
       "      <td>19638</td>\n",
       "      <td>1.138781</td>\n",
       "      <td>-0.787981</td>\n",
       "      <td>-0.058612</td>\n",
       "      <td>-0.315836</td>\n",
       "      <td>0.817591</td>\n",
       "      <td>-0.197780</td>\n",
       "      <td>-0.212143</td>\n",
       "      <td>0.198164</td>\n",
       "      <td>0.558221</td>\n",
       "      <td>-0.068969</td>\n",
       "      <td>-0.490903</td>\n",
       "      <td>-0.454488</td>\n",
       "      <td>0.849210</td>\n",
       "      <td>0.341920</td>\n",
       "      <td>-0.098748</td>\n",
       "      <td>-0.045777</td>\n",
       "      <td>-0.329291</td>\n",
       "      <td>0.757329</td>\n",
       "      <td>0.396372</td>\n",
       "      <td>-0.487797</td>\n",
       "      <td>0.812584</td>\n",
       "      <td>0.309287</td>\n",
       "      <td>-0.348734</td>\n",
       "      <td>1.226440</td>\n",
       "      <td>-0.52912</td>\n",
       "      <td>1.973745</td>\n",
       "      <td>-0.664842</td>\n",
       "      <td>1.498914</td>\n",
       "    </tr>\n",
       "    <tr>\n",
       "      <td>67312</td>\n",
       "      <td>0.568330</td>\n",
       "      <td>1.243447</td>\n",
       "      <td>-0.058612</td>\n",
       "      <td>-0.028453</td>\n",
       "      <td>1.093390</td>\n",
       "      <td>1.681275</td>\n",
       "      <td>1.692127</td>\n",
       "      <td>-0.572411</td>\n",
       "      <td>0.558221</td>\n",
       "      <td>-0.068969</td>\n",
       "      <td>-0.490903</td>\n",
       "      <td>-0.454488</td>\n",
       "      <td>-1.177565</td>\n",
       "      <td>1.364279</td>\n",
       "      <td>1.887477</td>\n",
       "      <td>-0.348828</td>\n",
       "      <td>0.920712</td>\n",
       "      <td>1.523812</td>\n",
       "      <td>-0.604867</td>\n",
       "      <td>-0.487797</td>\n",
       "      <td>1.410866</td>\n",
       "      <td>0.455930</td>\n",
       "      <td>-0.348734</td>\n",
       "      <td>-0.815368</td>\n",
       "      <td>-0.52912</td>\n",
       "      <td>-0.506651</td>\n",
       "      <td>-0.664842</td>\n",
       "      <td>1.498914</td>\n",
       "    </tr>\n",
       "  </tbody>\n",
       "</table>\n",
       "</div>"
      ],
      "text/plain": [
       "       annual_inc_log  credit_hist_mths  delinq_amnt_log   dti_log  \\\n",
       "1026         0.297428         -0.213882        -0.058612  0.257304   \n",
       "23055       -0.135760         -0.291164        -0.058612  0.948313   \n",
       "4146         0.091770         -0.026196        -0.058612  0.298249   \n",
       "29768        0.363800         -0.500931        -0.058612 -0.272029   \n",
       "51158       -0.351177         -1.030869        -0.058612  0.523658   \n",
       "37732        0.751290          0.801832        -0.058612  0.490026   \n",
       "9478        -0.135760         -1.130232        -0.058612  0.319711   \n",
       "49936        0.251728          2.347483        -0.058612  0.846570   \n",
       "19638        1.138781         -0.787981        -0.058612 -0.315836   \n",
       "67312        0.568330          1.243447        -0.058612 -0.028453   \n",
       "\n",
       "       emp_length  fico_range_high  funded_amnt_log     grade  has_36mo_loan  \\\n",
       "1026    -0.285603         0.271983         0.455636  0.968740      -1.791407   \n",
       "23055    1.093390         0.428571        -0.212143  0.198164       0.558221   \n",
       "4146     1.093390        -0.197780        -1.196901 -0.572411       0.558221   \n",
       "29768    1.093390        -0.667544         0.772686  0.198164      -1.791407   \n",
       "51158   -1.112999         0.115395         0.305939  0.198164      -1.791407   \n",
       "37732    1.093390         0.585159         1.348791 -1.342987       0.558221   \n",
       "9478    -1.526697        -1.137308        -0.529175  0.968740       0.558221   \n",
       "49936    1.093390        -0.197780         1.089738  0.198164      -1.791407   \n",
       "19638    0.817591        -0.197780        -0.212143  0.198164       0.558221   \n",
       "67312    1.093390         1.681275         1.692127 -0.572411       0.558221   \n",
       "\n",
       "       has_delinq_now  has_delinq_past2yrs  has_pub_rec  has_whole_liststatus  \\\n",
       "1026        -0.068969            -0.490903    -0.454488             -1.177565   \n",
       "23055       -0.068969            -0.490903    -0.454488             -1.177565   \n",
       "4146        -0.068969            -0.490903    -0.454488             -1.177565   \n",
       "29768       -0.068969            -0.490903     2.200280             -1.177565   \n",
       "51158       -0.068969             2.037061    -0.454488              0.849210   \n",
       "37732       -0.068969            -0.490903    -0.454488              0.849210   \n",
       "9478        -0.068969             2.037061    -0.454488              0.849210   \n",
       "49936       -0.068969             2.037061     2.200280              0.849210   \n",
       "19638       -0.068969            -0.490903    -0.454488              0.849210   \n",
       "67312       -0.068969            -0.490903    -0.454488             -1.177565   \n",
       "\n",
       "       inq_last_6mths  installment_log  int_rate  open_acc_log  revol_bal_log  \\\n",
       "1026        -0.680439         0.091758  0.421426     -0.577489       0.256872   \n",
       "23055        2.386638        -0.098748 -0.045777      0.100205      -0.010310   \n",
       "4146         0.341920        -1.158063 -0.228870      1.418494       0.546144   \n",
       "29768       -0.680439         0.364539  0.025777      1.055360      -0.015433   \n",
       "51158        0.341920        -0.054082  0.501398      0.463338      -0.926764   \n",
       "37732       -0.680439         1.429144 -1.251666     -0.329291       0.784008   \n",
       "9478        -0.680439        -0.322847  1.061199      0.920712      -0.845611   \n",
       "49936       -0.680439         0.738253  0.263587      0.100205       1.891160   \n",
       "19638        0.341920        -0.098748 -0.045777     -0.329291       0.757329   \n",
       "67312        1.364279         1.887477 -0.348828      0.920712       1.523812   \n",
       "\n",
       "       revol_util  tot_coll_amt_log  tot_cur_bal_log  total_acc_log  \\\n",
       "1026     1.031305          1.734238         0.496076      -0.896931   \n",
       "23055   -0.120528         -0.487797        -0.383281       0.657942   \n",
       "4146     0.787100         -0.487797        -0.461570       0.309287   \n",
       "29768   -0.303682         -0.487797         0.670237       1.010602   \n",
       "51158   -1.536916         -0.487797        -0.616211      -0.522782   \n",
       "37732    1.393542         -0.487797        -0.323310       0.067580   \n",
       "9478     1.365052         -0.487797         0.003446       0.067580   \n",
       "49936    0.319041         -0.487797         0.989981      -0.764489   \n",
       "19638    0.396372         -0.487797         0.812584       0.309287   \n",
       "67312   -0.604867         -0.487797         1.410866       0.455930   \n",
       "\n",
       "       home_ownership_own  home_ownership_rent  purpose_credit_card  \\\n",
       "1026            -0.348734             1.226440             -0.52912   \n",
       "23055            2.867518            -0.815368             -0.52912   \n",
       "4146            -0.348734             1.226440             -0.52912   \n",
       "29768           -0.348734            -0.815368             -0.52912   \n",
       "51158           -0.348734             1.226440             -0.52912   \n",
       "37732           -0.348734            -0.815368             -0.52912   \n",
       "9478            -0.348734             1.226440             -0.52912   \n",
       "49936           -0.348734            -0.815368             -0.52912   \n",
       "19638           -0.348734             1.226440             -0.52912   \n",
       "67312           -0.348734            -0.815368             -0.52912   \n",
       "\n",
       "       purpose_other  verification_status_Not Verified  \\\n",
       "1026       -0.506651                         -0.664842   \n",
       "23055      -0.506651                         -0.664842   \n",
       "4146        1.973745                          1.504116   \n",
       "29768      -0.506651                         -0.664842   \n",
       "51158      -0.506651                          1.504116   \n",
       "37732      -0.506651                         -0.664842   \n",
       "9478       -0.506651                          1.504116   \n",
       "49936      -0.506651                         -0.664842   \n",
       "19638       1.973745                         -0.664842   \n",
       "67312      -0.506651                         -0.664842   \n",
       "\n",
       "       verification_status_Verified  \n",
       "1026                       1.498914  \n",
       "23055                     -0.667150  \n",
       "4146                      -0.667150  \n",
       "29768                     -0.667150  \n",
       "51158                     -0.667150  \n",
       "37732                     -0.667150  \n",
       "9478                      -0.667150  \n",
       "49936                     -0.667150  \n",
       "19638                      1.498914  \n",
       "67312                      1.498914  "
      ]
     },
     "execution_count": 98,
     "metadata": {},
     "output_type": "execute_result"
    },
    {
     "data": {
      "application/javascript": [
       "\n",
       "            setTimeout(function() {\n",
       "                var nbb_cell_id = 98;\n",
       "                var nbb_unformatted_code = \"# standardize final dataframe\\nfrom sklearn.preprocessing import StandardScaler\\n\\nscaler = StandardScaler()\\nscaler.fit(df_feature_final)\\ndf_feature_final_scaled = pd.DataFrame(scaler.transform(df_feature_final))\\ndf_feature_final_scaled.columns = df_feature_final.columns\\ndf_feature_final_scaled.sample(10)\";\n",
       "                var nbb_formatted_code = \"# standardize final dataframe\\nfrom sklearn.preprocessing import StandardScaler\\n\\nscaler = StandardScaler()\\nscaler.fit(df_feature_final)\\ndf_feature_final_scaled = pd.DataFrame(scaler.transform(df_feature_final))\\ndf_feature_final_scaled.columns = df_feature_final.columns\\ndf_feature_final_scaled.sample(10)\";\n",
       "                var nbb_cells = Jupyter.notebook.get_cells();\n",
       "                for (var i = 0; i < nbb_cells.length; ++i) {\n",
       "                    if (nbb_cells[i].input_prompt_number == nbb_cell_id) {\n",
       "                        if (nbb_cells[i].get_text() == nbb_unformatted_code) {\n",
       "                             nbb_cells[i].set_text(nbb_formatted_code);\n",
       "                        }\n",
       "                        break;\n",
       "                    }\n",
       "                }\n",
       "            }, 500);\n",
       "            "
      ],
      "text/plain": [
       "<IPython.core.display.Javascript object>"
      ]
     },
     "metadata": {},
     "output_type": "display_data"
    }
   ],
   "source": [
    "# standardize final dataframe\n",
    "from sklearn.preprocessing import StandardScaler\n",
    "\n",
    "scaler = StandardScaler()\n",
    "scaler.fit(df_feature_final)\n",
    "df_feature_final_scaled = pd.DataFrame(scaler.transform(df_feature_final))\n",
    "df_feature_final_scaled.columns = df_feature_final.columns\n",
    "df_feature_final_scaled.sample(10)"
   ]
  },
  {
   "cell_type": "code",
   "execution_count": 99,
   "metadata": {},
   "outputs": [
    {
     "data": {
      "application/javascript": [
       "\n",
       "            setTimeout(function() {\n",
       "                var nbb_cell_id = 99;\n",
       "                var nbb_unformatted_code = \"# Need to reset index because feature index changed\\nclass_response_neg_20 = df_cleaned[response_var].reset_index().drop(\\\"index\\\", axis=1)\\n\\nclass_response_charged_off = (\\n    df_cleaned[response_var_charged_off].reset_index().drop(\\\"index\\\", axis=1)\\n)\";\n",
       "                var nbb_formatted_code = \"# Need to reset index because feature index changed\\nclass_response_neg_20 = df_cleaned[response_var].reset_index().drop(\\\"index\\\", axis=1)\\n\\nclass_response_charged_off = (\\n    df_cleaned[response_var_charged_off].reset_index().drop(\\\"index\\\", axis=1)\\n)\";\n",
       "                var nbb_cells = Jupyter.notebook.get_cells();\n",
       "                for (var i = 0; i < nbb_cells.length; ++i) {\n",
       "                    if (nbb_cells[i].input_prompt_number == nbb_cell_id) {\n",
       "                        if (nbb_cells[i].get_text() == nbb_unformatted_code) {\n",
       "                             nbb_cells[i].set_text(nbb_formatted_code);\n",
       "                        }\n",
       "                        break;\n",
       "                    }\n",
       "                }\n",
       "            }, 500);\n",
       "            "
      ],
      "text/plain": [
       "<IPython.core.display.Javascript object>"
      ]
     },
     "metadata": {},
     "output_type": "display_data"
    }
   ],
   "source": [
    "# Need to reset index because feature index changed\n",
    "class_response_neg_20 = df_cleaned[response_var].reset_index().drop(\"index\", axis=1)\n",
    "\n",
    "class_response_charged_off = (\n",
    "    df_cleaned[response_var_charged_off].reset_index().drop(\"index\", axis=1)\n",
    ")"
   ]
  },
  {
   "cell_type": "markdown",
   "metadata": {},
   "source": [
    "#### Create Initial Logistic Regression Model"
   ]
  },
  {
   "cell_type": "code",
   "execution_count": 100,
   "metadata": {},
   "outputs": [
    {
     "data": {
      "application/javascript": [
       "\n",
       "            setTimeout(function() {\n",
       "                var nbb_cell_id = 100;\n",
       "                var nbb_unformatted_code = \"from sklearn.linear_model import LogisticRegression\\nfrom sklearn.model_selection import GridSearchCV\\nfrom sklearn.metrics import confusion_matrix\\nfrom sklearn.feature_selection import SelectFromModel\\nimport statsmodels.api as sm\";\n",
       "                var nbb_formatted_code = \"from sklearn.linear_model import LogisticRegression\\nfrom sklearn.model_selection import GridSearchCV\\nfrom sklearn.metrics import confusion_matrix\\nfrom sklearn.feature_selection import SelectFromModel\\nimport statsmodels.api as sm\";\n",
       "                var nbb_cells = Jupyter.notebook.get_cells();\n",
       "                for (var i = 0; i < nbb_cells.length; ++i) {\n",
       "                    if (nbb_cells[i].input_prompt_number == nbb_cell_id) {\n",
       "                        if (nbb_cells[i].get_text() == nbb_unformatted_code) {\n",
       "                             nbb_cells[i].set_text(nbb_formatted_code);\n",
       "                        }\n",
       "                        break;\n",
       "                    }\n",
       "                }\n",
       "            }, 500);\n",
       "            "
      ],
      "text/plain": [
       "<IPython.core.display.Javascript object>"
      ]
     },
     "metadata": {},
     "output_type": "display_data"
    }
   ],
   "source": [
    "from sklearn.linear_model import LogisticRegression\n",
    "from sklearn.model_selection import GridSearchCV\n",
    "from sklearn.metrics import confusion_matrix\n",
    "from sklearn.feature_selection import SelectFromModel\n",
    "import statsmodels.api as sm"
   ]
  },
  {
   "cell_type": "code",
   "execution_count": 101,
   "metadata": {},
   "outputs": [
    {
     "data": {
      "application/javascript": [
       "\n",
       "            setTimeout(function() {\n",
       "                var nbb_cell_id = 101;\n",
       "                var nbb_unformatted_code = \"def con_mtx(con_matrix):\\n    tn, fp, fn, tp = con_matrix.ravel()\\n\\n    # Calculate metrics\\n    acc_ = (tp + tn) / (tp + tn + fn + fp)  # accuracy\\n    err_rate = (fp + fn) / (tp + tn + fn + fp)  # error rate\\n    sens_ = tp / (tp + fn)  # sensitivity\\n    sp_ = tn / (tn + fp)  # specificity\\n    pcs = tp / (tp + fp)  # false positive rate\\n    rcl = tp / (tp + fn)\\n    # Print results\\n    print(\\\"Accuracy  : \\\", acc_)\\n    print(\\\"Error rate  : \\\", err_rate)\\n    print(\\\"Sensitivity  : \\\", sens_)\\n    print(\\\"Specificity  : \\\", sp_)\\n    print(\\\"precision  : \\\", pcs)\\n    print(\\\"recall  : \\\", rcl)\";\n",
       "                var nbb_formatted_code = \"def con_mtx(con_matrix):\\n    tn, fp, fn, tp = con_matrix.ravel()\\n\\n    # Calculate metrics\\n    acc_ = (tp + tn) / (tp + tn + fn + fp)  # accuracy\\n    err_rate = (fp + fn) / (tp + tn + fn + fp)  # error rate\\n    sens_ = tp / (tp + fn)  # sensitivity\\n    sp_ = tn / (tn + fp)  # specificity\\n    pcs = tp / (tp + fp)  # false positive rate\\n    rcl = tp / (tp + fn)\\n    # Print results\\n    print(\\\"Accuracy  : \\\", acc_)\\n    print(\\\"Error rate  : \\\", err_rate)\\n    print(\\\"Sensitivity  : \\\", sens_)\\n    print(\\\"Specificity  : \\\", sp_)\\n    print(\\\"precision  : \\\", pcs)\\n    print(\\\"recall  : \\\", rcl)\";\n",
       "                var nbb_cells = Jupyter.notebook.get_cells();\n",
       "                for (var i = 0; i < nbb_cells.length; ++i) {\n",
       "                    if (nbb_cells[i].input_prompt_number == nbb_cell_id) {\n",
       "                        if (nbb_cells[i].get_text() == nbb_unformatted_code) {\n",
       "                             nbb_cells[i].set_text(nbb_formatted_code);\n",
       "                        }\n",
       "                        break;\n",
       "                    }\n",
       "                }\n",
       "            }, 500);\n",
       "            "
      ],
      "text/plain": [
       "<IPython.core.display.Javascript object>"
      ]
     },
     "metadata": {},
     "output_type": "display_data"
    }
   ],
   "source": [
    "def con_mtx(con_matrix):\n",
    "    tn, fp, fn, tp = con_matrix.ravel()\n",
    "\n",
    "    # Calculate metrics\n",
    "    acc_ = (tp + tn) / (tp + tn + fn + fp)  # accuracy\n",
    "    err_rate = (fp + fn) / (tp + tn + fn + fp)  # error rate\n",
    "    sens_ = tp / (tp + fn)  # sensitivity\n",
    "    sp_ = tn / (tn + fp)  # specificity\n",
    "    pcs = tp / (tp + fp)  # false positive rate\n",
    "    rcl = tp / (tp + fn)\n",
    "    # Print results\n",
    "    print(\"Accuracy  : \", acc_)\n",
    "    print(\"Error rate  : \", err_rate)\n",
    "    print(\"Sensitivity  : \", sens_)\n",
    "    print(\"Specificity  : \", sp_)\n",
    "    print(\"precision  : \", pcs)\n",
    "    print(\"recall  : \", rcl)"
   ]
  },
  {
   "cell_type": "code",
   "execution_count": 102,
   "metadata": {
    "scrolled": true
   },
   "outputs": [
    {
     "name": "stdout",
     "output_type": "stream",
     "text": [
      "Optimization terminated successfully.\n",
      "         Current function value: 0.671440\n",
      "         Iterations 5\n",
      "                           Logit Regression Results                           \n",
      "==============================================================================\n",
      "Dep. Variable:           roi_response   No. Observations:                67805\n",
      "Model:                          Logit   Df Residuals:                    67777\n",
      "Method:                           MLE   Df Model:                           27\n",
      "Date:                Mon, 06 Apr 2020   Pseudo R-squ.:                 -0.5175\n",
      "Time:                        16:51:21   Log-Likelihood:                -45527.\n",
      "converged:                       True   LL-Null:                       -30002.\n",
      "Covariance Type:            nonrobust   LLR p-value:                     1.000\n",
      "====================================================================================================\n",
      "                                       coef    std err          z      P>|z|      [0.025      0.975]\n",
      "----------------------------------------------------------------------------------------------------\n",
      "annual_inc_log                       0.0400      0.011      3.653      0.000       0.019       0.061\n",
      "credit_hist_mths                    -0.0122      0.009     -1.390      0.164      -0.029       0.005\n",
      "delinq_amnt_log                      0.0078      0.010      0.760      0.448      -0.012       0.028\n",
      "dti_log                             -0.0872      0.010     -8.800      0.000      -0.107      -0.068\n",
      "emp_length                           0.0144      0.008      1.763      0.078      -0.002       0.030\n",
      "fico_range_high                      0.0633      0.011      5.582      0.000       0.041       0.086\n",
      "funded_amnt_log                      0.5566      0.366      1.522      0.128      -0.160       1.274\n",
      "grade                               -0.0421      0.026     -1.622      0.105      -0.093       0.009\n",
      "has_36mo_loan                        0.2898      0.084      3.449      0.001       0.125       0.454\n",
      "has_delinq_now                       0.0002      0.010      0.023      0.981      -0.020       0.020\n",
      "has_delinq_past2yrs                 -0.0073      0.008     -0.863      0.388      -0.024       0.009\n",
      "has_pub_rec                         -0.0126      0.009     -1.466      0.143      -0.029       0.004\n",
      "has_whole_liststatus                -0.0566      0.008     -6.898      0.000      -0.073      -0.040\n",
      "inq_last_6mths                      -0.0392      0.008     -4.679      0.000      -0.056      -0.023\n",
      "installment_log                     -0.6088      0.346     -1.759      0.079      -1.287       0.069\n",
      "int_rate                            -0.1292      0.048     -2.685      0.007      -0.223      -0.035\n",
      "open_acc_log                        -0.0603      0.013     -4.738      0.000      -0.085      -0.035\n",
      "revol_bal_log                        0.0265      0.011      2.400      0.016       0.005       0.048\n",
      "revol_util                           0.0223      0.012      1.897      0.058      -0.001       0.045\n",
      "tot_coll_amt_log                     0.0002      0.008      0.026      0.980      -0.016       0.016\n",
      "tot_cur_bal_log                      0.0483      0.012      4.136      0.000       0.025       0.071\n",
      "total_acc_log                        0.0723      0.012      5.821      0.000       0.048       0.097\n",
      "home_ownership_own                  -0.0118      0.009     -1.377      0.169      -0.029       0.005\n",
      "home_ownership_rent                 -0.0615      0.010     -6.027      0.000      -0.081      -0.041\n",
      "purpose_credit_card                  0.0067      0.008      0.810      0.418      -0.010       0.023\n",
      "purpose_other                       -0.0289      0.009     -3.306      0.001      -0.046      -0.012\n",
      "verification_status_Not Verified     0.0293      0.009      3.264      0.001       0.012       0.047\n",
      "verification_status_Verified         0.0009      0.009      0.105      0.916      -0.017       0.018\n",
      "====================================================================================================\n"
     ]
    },
    {
     "data": {
      "application/javascript": [
       "\n",
       "            setTimeout(function() {\n",
       "                var nbb_cell_id = 102;\n",
       "                var nbb_unformatted_code = \"# Quick Glance of the Data\\nresult_neg_20 = sm.Logit(class_response_neg_20, df_feature_final_scaled).fit()\\n\\nprint(result_neg_20.summary())\";\n",
       "                var nbb_formatted_code = \"# Quick Glance of the Data\\nresult_neg_20 = sm.Logit(class_response_neg_20, df_feature_final_scaled).fit()\\n\\nprint(result_neg_20.summary())\";\n",
       "                var nbb_cells = Jupyter.notebook.get_cells();\n",
       "                for (var i = 0; i < nbb_cells.length; ++i) {\n",
       "                    if (nbb_cells[i].input_prompt_number == nbb_cell_id) {\n",
       "                        if (nbb_cells[i].get_text() == nbb_unformatted_code) {\n",
       "                             nbb_cells[i].set_text(nbb_formatted_code);\n",
       "                        }\n",
       "                        break;\n",
       "                    }\n",
       "                }\n",
       "            }, 500);\n",
       "            "
      ],
      "text/plain": [
       "<IPython.core.display.Javascript object>"
      ]
     },
     "metadata": {},
     "output_type": "display_data"
    }
   ],
   "source": [
    "# Quick Glance of the Data\n",
    "result_neg_20 = sm.Logit(class_response_neg_20, df_feature_final_scaled).fit()\n",
    "\n",
    "print(result_neg_20.summary())"
   ]
  },
  {
   "cell_type": "code",
   "execution_count": 106,
   "metadata": {},
   "outputs": [
    {
     "data": {
      "text/plain": [
       "<matplotlib.legend.Legend at 0x1a26a464d0>"
      ]
     },
     "execution_count": 106,
     "metadata": {},
     "output_type": "execute_result"
    },
    {
     "data": {
      "image/png": "[encoded data removed]",
      "text/plain": [
       "<Figure size 720x360 with 1 Axes>"
      ]
     },
     "metadata": {
      "needs_background": "light"
     },
     "output_type": "display_data"
    },
    {
     "data": {
      "application/javascript": [
       "\n",
       "            setTimeout(function() {\n",
       "                var nbb_cell_id = 106;\n",
       "                var nbb_unformatted_code = \"plt.rcParams[\\\"figure.figsize\\\"] = (10, 5)\\ny_min, y_max = -1.5, 1.5\\n\\ntable_neg_20 = pd.DataFrame(result_neg_20.summary().tables[1].data[1:])\\ntable_neg_20.columns = [\\n    \\\"name\\\",\\n    \\\"coef\\\",\\n    \\\"std err\\\",\\n    \\\"t value\\\",\\n    \\\"p value\\\",\\n    \\\"2.5% confidence\\\",\\n    \\\"97.5% confidence\\\",\\n]\\ntable_neg_20 = table_neg_20.astype(\\n    {\\n        \\\"name\\\": str,\\n        \\\"coef\\\": float,\\n        \\\"std err\\\": float,\\n        \\\"t value\\\": float,\\n        \\\"p value\\\": float,\\n        \\\"2.5% confidence\\\": float,\\n        \\\"97.5% confidence\\\": float,\\n    }\\n)\\nslope_table_neg_20 = table_neg_20[\\n    [\\\"name\\\", \\\"coef\\\", \\\"2.5% confidence\\\", \\\"97.5% confidence\\\"]\\n].iloc[1:]\\n\\nslope_table_neg_20[\\\"y_min\\\"] = slope_table_neg_20[\\\"2.5% confidence\\\"].map(\\n    lambda t: (t - y_min) / (y_max - y_min)\\n)\\nslope_table_neg_20[\\\"y_max\\\"] = slope_table_neg_20[\\\"97.5% confidence\\\"].map(\\n    lambda t: (t - y_min) / (y_max - y_min)\\n)\\nx = range(1, 28)\\nplt.scatter(x, slope_table_neg_20[\\\"coef\\\"], label=\\\"slope\\\", c=\\\"b\\\")\\nplt.axhline(0, linestyle=\\\"--\\\", c=\\\"r\\\")\\n\\nfor i in x:\\n    plt.axvline(\\n        i,\\n        ymin=slope_table_neg_20[\\\"y_min\\\"][i],\\n        ymax=slope_table_neg_20[\\\"y_max\\\"][i],\\n        marker=\\\"+\\\",\\n        alpha=0.3,\\n    )\\nplt.xticks(x, slope_table_neg_20.name, rotation=\\\"vertical\\\")\\nplt.ylim((y_min, y_max))\\nplt.title(\\\"slopes and their CIs\\\")\\nplt.legend(loc=4)\";\n",
       "                var nbb_formatted_code = \"plt.rcParams[\\\"figure.figsize\\\"] = (10, 5)\\ny_min, y_max = -1.5, 1.5\\n\\ntable_neg_20 = pd.DataFrame(result_neg_20.summary().tables[1].data[1:])\\ntable_neg_20.columns = [\\n    \\\"name\\\",\\n    \\\"coef\\\",\\n    \\\"std err\\\",\\n    \\\"t value\\\",\\n    \\\"p value\\\",\\n    \\\"2.5% confidence\\\",\\n    \\\"97.5% confidence\\\",\\n]\\ntable_neg_20 = table_neg_20.astype(\\n    {\\n        \\\"name\\\": str,\\n        \\\"coef\\\": float,\\n        \\\"std err\\\": float,\\n        \\\"t value\\\": float,\\n        \\\"p value\\\": float,\\n        \\\"2.5% confidence\\\": float,\\n        \\\"97.5% confidence\\\": float,\\n    }\\n)\\nslope_table_neg_20 = table_neg_20[\\n    [\\\"name\\\", \\\"coef\\\", \\\"2.5% confidence\\\", \\\"97.5% confidence\\\"]\\n].iloc[1:]\\n\\nslope_table_neg_20[\\\"y_min\\\"] = slope_table_neg_20[\\\"2.5% confidence\\\"].map(\\n    lambda t: (t - y_min) / (y_max - y_min)\\n)\\nslope_table_neg_20[\\\"y_max\\\"] = slope_table_neg_20[\\\"97.5% confidence\\\"].map(\\n    lambda t: (t - y_min) / (y_max - y_min)\\n)\\nx = range(1, 28)\\nplt.scatter(x, slope_table_neg_20[\\\"coef\\\"], label=\\\"slope\\\", c=\\\"b\\\")\\nplt.axhline(0, linestyle=\\\"--\\\", c=\\\"r\\\")\\n\\nfor i in x:\\n    plt.axvline(\\n        i,\\n        ymin=slope_table_neg_20[\\\"y_min\\\"][i],\\n        ymax=slope_table_neg_20[\\\"y_max\\\"][i],\\n        marker=\\\"+\\\",\\n        alpha=0.3,\\n    )\\nplt.xticks(x, slope_table_neg_20.name, rotation=\\\"vertical\\\")\\nplt.ylim((y_min, y_max))\\nplt.title(\\\"slopes and their CIs\\\")\\nplt.legend(loc=4)\";\n",
       "                var nbb_cells = Jupyter.notebook.get_cells();\n",
       "                for (var i = 0; i < nbb_cells.length; ++i) {\n",
       "                    if (nbb_cells[i].input_prompt_number == nbb_cell_id) {\n",
       "                        if (nbb_cells[i].get_text() == nbb_unformatted_code) {\n",
       "                             nbb_cells[i].set_text(nbb_formatted_code);\n",
       "                        }\n",
       "                        break;\n",
       "                    }\n",
       "                }\n",
       "            }, 500);\n",
       "            "
      ],
      "text/plain": [
       "<IPython.core.display.Javascript object>"
      ]
     },
     "metadata": {},
     "output_type": "display_data"
    }
   ],
   "source": [
    "plt.rcParams[\"figure.figsize\"] = (10, 5)\n",
    "y_min, y_max = -1.5, 1.5\n",
    "\n",
    "table_neg_20 = pd.DataFrame(result_neg_20.summary().tables[1].data[1:])\n",
    "table_neg_20.columns = [\n",
    "    \"name\",\n",
    "    \"coef\",\n",
    "    \"std err\",\n",
    "    \"t value\",\n",
    "    \"p value\",\n",
    "    \"2.5% confidence\",\n",
    "    \"97.5% confidence\",\n",
    "]\n",
    "table_neg_20 = table_neg_20.astype(\n",
    "    {\n",
    "        \"name\": str,\n",
    "        \"coef\": float,\n",
    "        \"std err\": float,\n",
    "        \"t value\": float,\n",
    "        \"p value\": float,\n",
    "        \"2.5% confidence\": float,\n",
    "        \"97.5% confidence\": float,\n",
    "    }\n",
    ")\n",
    "slope_table_neg_20 = table_neg_20[\n",
    "    [\"name\", \"coef\", \"2.5% confidence\", \"97.5% confidence\"]\n",
    "].iloc[1:]\n",
    "\n",
    "slope_table_neg_20[\"y_min\"] = slope_table_neg_20[\"2.5% confidence\"].map(\n",
    "    lambda t: (t - y_min) / (y_max - y_min)\n",
    ")\n",
    "slope_table_neg_20[\"y_max\"] = slope_table_neg_20[\"97.5% confidence\"].map(\n",
    "    lambda t: (t - y_min) / (y_max - y_min)\n",
    ")\n",
    "x = range(1, 28)\n",
    "plt.scatter(x, slope_table_neg_20[\"coef\"], label=\"slope\", c=\"b\")\n",
    "plt.axhline(0, linestyle=\"--\", c=\"r\")\n",
    "\n",
    "for i in x:\n",
    "    plt.axvline(\n",
    "        i,\n",
    "        ymin=slope_table_neg_20[\"y_min\"][i],\n",
    "        ymax=slope_table_neg_20[\"y_max\"][i],\n",
    "        marker=\"+\",\n",
    "        alpha=0.3,\n",
    "    )\n",
    "plt.xticks(x, slope_table_neg_20.name, rotation=\"vertical\")\n",
    "plt.ylim((y_min, y_max))\n",
    "plt.title(\"slopes and their CIs\")\n",
    "plt.legend(loc=4)"
   ]
  },
  {
   "cell_type": "code",
   "execution_count": 107,
   "metadata": {},
   "outputs": [
    {
     "name": "stdout",
     "output_type": "stream",
     "text": [
      "CPU times: user 2 µs, sys: 1 µs, total: 3 µs\n",
      "Wall time: 19.1 µs\n"
     ]
    },
    {
     "data": {
      "application/javascript": [
       "\n",
       "            setTimeout(function() {\n",
       "                var nbb_cell_id = 107;\n",
       "                var nbb_unformatted_code = \"# Train logistic model using class_weight balanced and f1 score (maximizing precision)\\nlr_neg_20 = LogisticRegression(n_jobs=-1, \\n                               solver='liblinear', \\n                               class_weight=\\\"balanced\\\", \\n                               #penalty='l2'\\n                              )\\n\\nc_param_neg_20 = {'C':np.logspace(-4,4,10),'penalty':['l1','l2']} #,\\ngs_lr_neg_20 = GridSearchCV(lr_neg_20, c_param_neg_20, cv=3, scoring='f1')\\ngs_lr_neg_20.fit(df_feature_final_scaled, class_response_neg_20)\\n\\n%time\";\n",
       "                var nbb_formatted_code = \"# Train logistic model using class_weight balanced and f1 score (maximizing precision)\\nlr_neg_20 = LogisticRegression(\\n    n_jobs=-1,\\n    solver=\\\"liblinear\\\",\\n    class_weight=\\\"balanced\\\",\\n    # penalty='l2'\\n)\\n\\nc_param_neg_20 = {\\\"C\\\": np.logspace(-4, 4, 10), \\\"penalty\\\": [\\\"l1\\\", \\\"l2\\\"]}  # ,\\ngs_lr_neg_20 = GridSearchCV(lr_neg_20, c_param_neg_20, cv=3, scoring=\\\"f1\\\")\\ngs_lr_neg_20.fit(df_feature_final_scaled, class_response_neg_20)\\n\\n%time\";\n",
       "                var nbb_cells = Jupyter.notebook.get_cells();\n",
       "                for (var i = 0; i < nbb_cells.length; ++i) {\n",
       "                    if (nbb_cells[i].input_prompt_number == nbb_cell_id) {\n",
       "                        if (nbb_cells[i].get_text() == nbb_unformatted_code) {\n",
       "                             nbb_cells[i].set_text(nbb_formatted_code);\n",
       "                        }\n",
       "                        break;\n",
       "                    }\n",
       "                }\n",
       "            }, 500);\n",
       "            "
      ],
      "text/plain": [
       "<IPython.core.display.Javascript object>"
      ]
     },
     "metadata": {},
     "output_type": "display_data"
    }
   ],
   "source": [
    "# Train logistic model using class_weight balanced and f1 score (maximizing precision)\n",
    "lr_neg_20 = LogisticRegression(\n",
    "    n_jobs=-1,\n",
    "    solver=\"liblinear\",\n",
    "    class_weight=\"balanced\",\n",
    "    # penalty='l2'\n",
    ")\n",
    "\n",
    "c_param_neg_20 = {\"C\": np.logspace(-4, 4, 10), \"penalty\": [\"l1\", \"l2\"]}  # ,\n",
    "gs_lr_neg_20 = GridSearchCV(lr_neg_20, c_param_neg_20, cv=3, scoring=\"f1\")\n",
    "gs_lr_neg_20.fit(df_feature_final_scaled, class_response_neg_20)\n",
    "\n"
   ]
  },
  {
   "cell_type": "code",
   "execution_count": 108,
   "metadata": {},
   "outputs": [
    {
     "name": "stdout",
     "output_type": "stream",
     "text": [
      "{'C': 0.005994842503189409, 'penalty': 'l2'}\n",
      "con_mtx:\n",
      "[[ 7102  3862]\n",
      " [19103 37738]]\n",
      "Accuracy  :  0.6613081631148146\n",
      "Error rate  :  0.33869183688518545\n",
      "Sensitivity  :  0.6639221688569871\n",
      "Specificity  :  0.6477562933236045\n",
      "precision  :  0.9071634615384615\n",
      "recall  :  0.6639221688569871\n"
     ]
    },
    {
     "data": {
      "application/javascript": [
       "\n",
       "            setTimeout(function() {\n",
       "                var nbb_cell_id = 108;\n",
       "                var nbb_unformatted_code = \"# # CV results\\nprint(gs_lr_neg_20.best_params_)\\n\\ncon_matrix_neg_20 = confusion_matrix(class_response_neg_20, \\n                                     gs_lr_neg_20.best_estimator_.predict(df_feature_final_scaled))\\n\\nprint(\\\"con_mtx:\\\")\\n\\nprint(con_matrix_neg_20)\\n\\ncon_mtx(con_matrix_neg_20)\";\n",
       "                var nbb_formatted_code = \"# # CV results\\nprint(gs_lr_neg_20.best_params_)\\n\\ncon_matrix_neg_20 = confusion_matrix(\\n    class_response_neg_20, gs_lr_neg_20.best_estimator_.predict(df_feature_final_scaled)\\n)\\n\\nprint(\\\"con_mtx:\\\")\\n\\nprint(con_matrix_neg_20)\\n\\ncon_mtx(con_matrix_neg_20)\";\n",
       "                var nbb_cells = Jupyter.notebook.get_cells();\n",
       "                for (var i = 0; i < nbb_cells.length; ++i) {\n",
       "                    if (nbb_cells[i].input_prompt_number == nbb_cell_id) {\n",
       "                        if (nbb_cells[i].get_text() == nbb_unformatted_code) {\n",
       "                             nbb_cells[i].set_text(nbb_formatted_code);\n",
       "                        }\n",
       "                        break;\n",
       "                    }\n",
       "                }\n",
       "            }, 500);\n",
       "            "
      ],
      "text/plain": [
       "<IPython.core.display.Javascript object>"
      ]
     },
     "metadata": {},
     "output_type": "display_data"
    }
   ],
   "source": [
    "# # CV results\n",
    "print(gs_lr_neg_20.best_params_)\n",
    "\n",
    "con_matrix_neg_20 = confusion_matrix(\n",
    "    class_response_neg_20, gs_lr_neg_20.best_estimator_.predict(df_feature_final_scaled)\n",
    ")\n",
    "\n",
    "print(\"con_mtx:\")\n",
    "\n",
    "print(con_matrix_neg_20)\n",
    "\n",
    "con_mtx(con_matrix_neg_20)"
   ]
  },
  {
   "cell_type": "markdown",
   "metadata": {},
   "source": [
    "#### Feature Selection"
   ]
  },
  {
   "cell_type": "code",
   "execution_count": 109,
   "metadata": {},
   "outputs": [
    {
     "data": {
      "text/plain": [
       "{'dti_log',\n",
       " 'fico_range_high',\n",
       " 'funded_amnt_log',\n",
       " 'grade',\n",
       " 'has_36mo_loan',\n",
       " 'has_whole_liststatus',\n",
       " 'home_ownership_rent',\n",
       " 'int_rate',\n",
       " 'open_acc_log',\n",
       " 'tot_cur_bal_log',\n",
       " 'total_acc_log'}"
      ]
     },
     "execution_count": 109,
     "metadata": {},
     "output_type": "execute_result"
    },
    {
     "data": {
      "application/javascript": [
       "\n",
       "            setTimeout(function() {\n",
       "                var nbb_cell_id = 109;\n",
       "                var nbb_unformatted_code = \"sel_neg_20 = SelectFromModel(LogisticRegression(C=gs_lr_neg_20.best_params_[\\\"C\\\"], \\n                                                penalty= gs_lr_neg_20.best_params_[\\\"penalty\\\"],\\n                                                solver='liblinear'))\\n\\nsel_neg_20.fit(df_feature_final_scaled, \\n               class_response_neg_20)\\n\\n# 11 Features selected\\nselected_feat_neg_20 = df_feature_final_scaled.columns[(sel_neg_20.get_support())]\\nset(np.array(selected_feat_neg_20))\";\n",
       "                var nbb_formatted_code = \"sel_neg_20 = SelectFromModel(\\n    LogisticRegression(\\n        C=gs_lr_neg_20.best_params_[\\\"C\\\"],\\n        penalty=gs_lr_neg_20.best_params_[\\\"penalty\\\"],\\n        solver=\\\"liblinear\\\",\\n    )\\n)\\n\\nsel_neg_20.fit(df_feature_final_scaled, class_response_neg_20)\\n\\n# 11 Features selected\\nselected_feat_neg_20 = df_feature_final_scaled.columns[(sel_neg_20.get_support())]\\nset(np.array(selected_feat_neg_20))\";\n",
       "                var nbb_cells = Jupyter.notebook.get_cells();\n",
       "                for (var i = 0; i < nbb_cells.length; ++i) {\n",
       "                    if (nbb_cells[i].input_prompt_number == nbb_cell_id) {\n",
       "                        if (nbb_cells[i].get_text() == nbb_unformatted_code) {\n",
       "                             nbb_cells[i].set_text(nbb_formatted_code);\n",
       "                        }\n",
       "                        break;\n",
       "                    }\n",
       "                }\n",
       "            }, 500);\n",
       "            "
      ],
      "text/plain": [
       "<IPython.core.display.Javascript object>"
      ]
     },
     "metadata": {},
     "output_type": "display_data"
    }
   ],
   "source": [
    "sel_neg_20 = SelectFromModel(\n",
    "    LogisticRegression(\n",
    "        C=gs_lr_neg_20.best_params_[\"C\"],\n",
    "        penalty=gs_lr_neg_20.best_params_[\"penalty\"],\n",
    "        solver=\"liblinear\",\n",
    "    )\n",
    ")\n",
    "\n",
    "sel_neg_20.fit(df_feature_final_scaled, class_response_neg_20)\n",
    "\n",
    "# 11 Features selected\n",
    "selected_feat_neg_20 = df_feature_final_scaled.columns[(sel_neg_20.get_support())]\n",
    "set(np.array(selected_feat_neg_20))"
   ]
  },
  {
   "cell_type": "code",
   "execution_count": 110,
   "metadata": {},
   "outputs": [
    {
     "data": {
      "text/plain": [
       "{'annual_inc_log',\n",
       " 'credit_hist_mths',\n",
       " 'delinq_amnt_log',\n",
       " 'emp_length',\n",
       " 'has_delinq_now',\n",
       " 'has_delinq_past2yrs',\n",
       " 'has_pub_rec',\n",
       " 'home_ownership_own',\n",
       " 'inq_last_6mths',\n",
       " 'installment_log',\n",
       " 'purpose_credit_card',\n",
       " 'purpose_other',\n",
       " 'revol_bal_log',\n",
       " 'revol_util',\n",
       " 'tot_coll_amt_log',\n",
       " 'verification_status_Not Verified',\n",
       " 'verification_status_Verified'}"
      ]
     },
     "execution_count": 110,
     "metadata": {},
     "output_type": "execute_result"
    },
    {
     "data": {
      "application/javascript": [
       "\n",
       "            setTimeout(function() {\n",
       "                var nbb_cell_id = 110;\n",
       "                var nbb_unformatted_code = \"# Features dropped\\nset(df_feature_final_scaled.columns)-set(selected_feat_neg_20)\";\n",
       "                var nbb_formatted_code = \"# Features dropped\\nset(df_feature_final_scaled.columns) - set(selected_feat_neg_20)\";\n",
       "                var nbb_cells = Jupyter.notebook.get_cells();\n",
       "                for (var i = 0; i < nbb_cells.length; ++i) {\n",
       "                    if (nbb_cells[i].input_prompt_number == nbb_cell_id) {\n",
       "                        if (nbb_cells[i].get_text() == nbb_unformatted_code) {\n",
       "                             nbb_cells[i].set_text(nbb_formatted_code);\n",
       "                        }\n",
       "                        break;\n",
       "                    }\n",
       "                }\n",
       "            }, 500);\n",
       "            "
      ],
      "text/plain": [
       "<IPython.core.display.Javascript object>"
      ]
     },
     "metadata": {},
     "output_type": "display_data"
    }
   ],
   "source": [
    "# Features dropped\n",
    "set(df_feature_final_scaled.columns) - set(selected_feat_neg_20)"
   ]
  },
  {
   "cell_type": "markdown",
   "metadata": {},
   "source": [
    "#### Train-Test Using Only 11 features - generates similar results"
   ]
  },
  {
   "cell_type": "code",
   "execution_count": 111,
   "metadata": {},
   "outputs": [
    {
     "data": {
      "text/plain": [
       "LogisticRegression(C=0.005994842503189409, class_weight='balanced', dual=False,\n",
       "                   fit_intercept=True, intercept_scaling=1, l1_ratio=None,\n",
       "                   max_iter=100, multi_class='auto', n_jobs=-1, penalty='l2',\n",
       "                   random_state=None, solver='liblinear', tol=0.0001, verbose=0,\n",
       "                   warm_start=False)"
      ]
     },
     "execution_count": 111,
     "metadata": {},
     "output_type": "execute_result"
    },
    {
     "data": {
      "application/javascript": [
       "\n",
       "            setTimeout(function() {\n",
       "                var nbb_cell_id = 111;\n",
       "                var nbb_unformatted_code = \"from sklearn.model_selection import train_test_split\\nX_train_neg_20, X_test_neg_20, y_train_neg_20, y_test_neg_20 = train_test_split(\\n                                                    df_feature_final_scaled[selected_feat_neg_20], \\n                                                    class_response_neg_20, \\n                                                    test_size=0.2)\\n\\nlr_train_neg_20 = LogisticRegression(C=gs_lr_neg_20.best_params_[\\\"C\\\"],\\n                                     penalty= gs_lr_neg_20.best_params_[\\\"penalty\\\"],\\n                                     n_jobs=-1, \\n                                     class_weight=\\\"balanced\\\", \\n                                     solver='liblinear')\\n\\nlr_train_neg_20.fit(X_train_neg_20,y_train_neg_20)\";\n",
       "                var nbb_formatted_code = \"from sklearn.model_selection import train_test_split\\n\\nX_train_neg_20, X_test_neg_20, y_train_neg_20, y_test_neg_20 = train_test_split(\\n    df_feature_final_scaled[selected_feat_neg_20], class_response_neg_20, test_size=0.2\\n)\\n\\nlr_train_neg_20 = LogisticRegression(\\n    C=gs_lr_neg_20.best_params_[\\\"C\\\"],\\n    penalty=gs_lr_neg_20.best_params_[\\\"penalty\\\"],\\n    n_jobs=-1,\\n    class_weight=\\\"balanced\\\",\\n    solver=\\\"liblinear\\\",\\n)\\n\\nlr_train_neg_20.fit(X_train_neg_20, y_train_neg_20)\";\n",
       "                var nbb_cells = Jupyter.notebook.get_cells();\n",
       "                for (var i = 0; i < nbb_cells.length; ++i) {\n",
       "                    if (nbb_cells[i].input_prompt_number == nbb_cell_id) {\n",
       "                        if (nbb_cells[i].get_text() == nbb_unformatted_code) {\n",
       "                             nbb_cells[i].set_text(nbb_formatted_code);\n",
       "                        }\n",
       "                        break;\n",
       "                    }\n",
       "                }\n",
       "            }, 500);\n",
       "            "
      ],
      "text/plain": [
       "<IPython.core.display.Javascript object>"
      ]
     },
     "metadata": {},
     "output_type": "display_data"
    }
   ],
   "source": [
    "from sklearn.model_selection import train_test_split\n",
    "\n",
    "X_train_neg_20, X_test_neg_20, y_train_neg_20, y_test_neg_20 = train_test_split(\n",
    "    df_feature_final_scaled[selected_feat_neg_20], class_response_neg_20, test_size=0.2\n",
    ")\n",
    "\n",
    "lr_train_neg_20 = LogisticRegression(\n",
    "    C=gs_lr_neg_20.best_params_[\"C\"],\n",
    "    penalty=gs_lr_neg_20.best_params_[\"penalty\"],\n",
    "    n_jobs=-1,\n",
    "    class_weight=\"balanced\",\n",
    "    solver=\"liblinear\",\n",
    ")\n",
    "\n",
    "lr_train_neg_20.fit(X_train_neg_20, y_train_neg_20)"
   ]
  },
  {
   "cell_type": "code",
   "execution_count": 112,
   "metadata": {},
   "outputs": [
    {
     "name": "stdout",
     "output_type": "stream",
     "text": [
      "Accuracy  :  0.6599070864980459\n",
      "Error rate  :  0.34009291350195414\n",
      "Sensitivity  :  0.6647149460708782\n",
      "Specificity  :  0.6351259360108917\n",
      "precision  :  0.9037529179385886\n",
      "recall  :  0.6647149460708782\n"
     ]
    },
    {
     "data": {
      "application/javascript": [
       "\n",
       "            setTimeout(function() {\n",
       "                var nbb_cell_id = 112;\n",
       "                var nbb_unformatted_code = \"# Train Scores\\ncon_mtx(confusion_matrix(y_train_neg_20, \\n                 lr_train_neg_20.predict(X_train_neg_20)))\";\n",
       "                var nbb_formatted_code = \"# Train Scores\\ncon_mtx(confusion_matrix(y_train_neg_20, lr_train_neg_20.predict(X_train_neg_20)))\";\n",
       "                var nbb_cells = Jupyter.notebook.get_cells();\n",
       "                for (var i = 0; i < nbb_cells.length; ++i) {\n",
       "                    if (nbb_cells[i].input_prompt_number == nbb_cell_id) {\n",
       "                        if (nbb_cells[i].get_text() == nbb_unformatted_code) {\n",
       "                             nbb_cells[i].set_text(nbb_formatted_code);\n",
       "                        }\n",
       "                        break;\n",
       "                    }\n",
       "                }\n",
       "            }, 500);\n",
       "            "
      ],
      "text/plain": [
       "<IPython.core.display.Javascript object>"
      ]
     },
     "metadata": {},
     "output_type": "display_data"
    }
   ],
   "source": [
    "# Train Scores\n",
    "con_mtx(confusion_matrix(y_train_neg_20, lr_train_neg_20.predict(X_train_neg_20)))"
   ]
  },
  {
   "cell_type": "code",
   "execution_count": 113,
   "metadata": {},
   "outputs": [
    {
     "name": "stdout",
     "output_type": "stream",
     "text": [
      "Accuracy  :  0.6593171595015117\n",
      "Error rate  :  0.3406828404984883\n",
      "Sensitivity  :  0.661028831828937\n",
      "Specificity  :  0.6502325581395348\n",
      "precision  :  0.9093429776974081\n",
      "recall  :  0.661028831828937\n"
     ]
    },
    {
     "data": {
      "application/javascript": [
       "\n",
       "            setTimeout(function() {\n",
       "                var nbb_cell_id = 113;\n",
       "                var nbb_unformatted_code = \"# Test Scores\\ncon_mtx(confusion_matrix(y_test_neg_20, \\n                 lr_train_neg_20.predict(X_test_neg_20)))\";\n",
       "                var nbb_formatted_code = \"# Test Scores\\ncon_mtx(confusion_matrix(y_test_neg_20, lr_train_neg_20.predict(X_test_neg_20)))\";\n",
       "                var nbb_cells = Jupyter.notebook.get_cells();\n",
       "                for (var i = 0; i < nbb_cells.length; ++i) {\n",
       "                    if (nbb_cells[i].input_prompt_number == nbb_cell_id) {\n",
       "                        if (nbb_cells[i].get_text() == nbb_unformatted_code) {\n",
       "                             nbb_cells[i].set_text(nbb_formatted_code);\n",
       "                        }\n",
       "                        break;\n",
       "                    }\n",
       "                }\n",
       "            }, 500);\n",
       "            "
      ],
      "text/plain": [
       "<IPython.core.display.Javascript object>"
      ]
     },
     "metadata": {},
     "output_type": "display_data"
    }
   ],
   "source": [
    "# Test Scores\n",
    "con_mtx(confusion_matrix(y_test_neg_20, lr_train_neg_20.predict(X_test_neg_20)))"
   ]
  },
  {
   "cell_type": "code",
   "execution_count": 114,
   "metadata": {},
   "outputs": [
    {
     "name": "stdout",
     "output_type": "stream",
     "text": [
      "Accuracy  :  0.659789101098739\n",
      "Error rate  :  0.340210898901261\n",
      "Sensitivity  :  0.6639749476610194\n",
      "Specificity  :  0.6380882889456403\n",
      "precision  :  0.9048646575079718\n",
      "recall  :  0.6639749476610194\n"
     ]
    },
    {
     "data": {
      "application/javascript": [
       "\n",
       "            setTimeout(function() {\n",
       "                var nbb_cell_id = 114;\n",
       "                var nbb_unformatted_code = \"# All Sample Scores\\ncon_mtx(confusion_matrix(class_response_neg_20, \\n                         lr_train_neg_20.predict(df_feature_final_scaled[selected_feat_neg_20]))\\n)\";\n",
       "                var nbb_formatted_code = \"# All Sample Scores\\ncon_mtx(\\n    confusion_matrix(\\n        class_response_neg_20,\\n        lr_train_neg_20.predict(df_feature_final_scaled[selected_feat_neg_20]),\\n    )\\n)\";\n",
       "                var nbb_cells = Jupyter.notebook.get_cells();\n",
       "                for (var i = 0; i < nbb_cells.length; ++i) {\n",
       "                    if (nbb_cells[i].input_prompt_number == nbb_cell_id) {\n",
       "                        if (nbb_cells[i].get_text() == nbb_unformatted_code) {\n",
       "                             nbb_cells[i].set_text(nbb_formatted_code);\n",
       "                        }\n",
       "                        break;\n",
       "                    }\n",
       "                }\n",
       "            }, 500);\n",
       "            "
      ],
      "text/plain": [
       "<IPython.core.display.Javascript object>"
      ]
     },
     "metadata": {},
     "output_type": "display_data"
    }
   ],
   "source": [
    "# All Sample Scores\n",
    "con_mtx(confusion_matrix(class_response_neg_20, \n",
    "                         lr_train_neg_20.predict(df_feature_final_scaled[selected_feat_neg_20]))\n",
    ")\n"
   ]
  },
  {
   "cell_type": "code",
   "execution_count": 115,
   "metadata": {},
   "outputs": [
    {
     "data": {
      "text/plain": [
       "array([[ 6996,  3968],\n",
       "       [19100, 37741]])"
      ]
     },
     "execution_count": 115,
     "metadata": {},
     "output_type": "execute_result"
    },
    {
     "data": {
      "application/javascript": [
       "\n",
       "            setTimeout(function() {\n",
       "                var nbb_cell_id = 115;\n",
       "                var nbb_unformatted_code = \"confusion_matrix(class_response_neg_20, \\n                         lr_train_neg_20.predict(df_feature_final_scaled[selected_feat_neg_20]))\";\n",
       "                var nbb_formatted_code = \"confusion_matrix(\\n    class_response_neg_20,\\n    lr_train_neg_20.predict(df_feature_final_scaled[selected_feat_neg_20]),\\n)\";\n",
       "                var nbb_cells = Jupyter.notebook.get_cells();\n",
       "                for (var i = 0; i < nbb_cells.length; ++i) {\n",
       "                    if (nbb_cells[i].input_prompt_number == nbb_cell_id) {\n",
       "                        if (nbb_cells[i].get_text() == nbb_unformatted_code) {\n",
       "                             nbb_cells[i].set_text(nbb_formatted_code);\n",
       "                        }\n",
       "                        break;\n",
       "                    }\n",
       "                }\n",
       "            }, 500);\n",
       "            "
      ],
      "text/plain": [
       "<IPython.core.display.Javascript object>"
      ]
     },
     "metadata": {},
     "output_type": "display_data"
    }
   ],
   "source": [
    "confusion_matrix(\n",
    "    class_response_neg_20,\n",
    "    lr_train_neg_20.predict(df_feature_final_scaled[selected_feat_neg_20]),\n",
    ")"
   ]
  },
  {
   "cell_type": "markdown",
   "metadata": {},
   "source": [
    "### Tree-Based Model\n",
    "- Goal is to build classifier that predicts if loan results in desirable outcome\n",
    "- Should also report feature importance\n",
    "\n",
    "- Initially explored Random Forest algorithm but switched to XGboost due to time constraint\n"
   ]
  },
  {
   "cell_type": "code",
   "execution_count": 116,
   "metadata": {},
   "outputs": [
    {
     "data": {
      "application/javascript": [
       "\n",
       "            setTimeout(function() {\n",
       "                var nbb_cell_id = 116;\n",
       "                var nbb_unformatted_code = \"import xgboost as xgb\\nfrom sklearn.model_selection import train_test_split\\nfrom sklearn.model_selection import GridSearchCV\\nfrom sklearn.metrics import (\\n    precision_recall_curve,\\n    average_precision_score,\\n    precision_score,\\n    auc,\\n    recall_score,\\n    roc_auc_score,\\n)\\nfrom sklearn.metrics import confusion_matrix, plot_confusion_matrix\";\n",
       "                var nbb_formatted_code = \"import xgboost as xgb\\nfrom sklearn.model_selection import train_test_split\\nfrom sklearn.model_selection import GridSearchCV\\nfrom sklearn.metrics import (\\n    precision_recall_curve,\\n    average_precision_score,\\n    precision_score,\\n    auc,\\n    recall_score,\\n    roc_auc_score,\\n)\\nfrom sklearn.metrics import confusion_matrix, plot_confusion_matrix\";\n",
       "                var nbb_cells = Jupyter.notebook.get_cells();\n",
       "                for (var i = 0; i < nbb_cells.length; ++i) {\n",
       "                    if (nbb_cells[i].input_prompt_number == nbb_cell_id) {\n",
       "                        if (nbb_cells[i].get_text() == nbb_unformatted_code) {\n",
       "                             nbb_cells[i].set_text(nbb_formatted_code);\n",
       "                        }\n",
       "                        break;\n",
       "                    }\n",
       "                }\n",
       "            }, 500);\n",
       "            "
      ],
      "text/plain": [
       "<IPython.core.display.Javascript object>"
      ]
     },
     "metadata": {},
     "output_type": "display_data"
    }
   ],
   "source": [
    "import xgboost as xgb\n",
    "from sklearn.model_selection import train_test_split\n",
    "from sklearn.model_selection import GridSearchCV\n",
    "from sklearn.metrics import (\n",
    "    precision_recall_curve,\n",
    "    average_precision_score,\n",
    "    precision_score,\n",
    "    auc,\n",
    "    recall_score,\n",
    "    roc_auc_score,\n",
    ")\n",
    "from sklearn.metrics import confusion_matrix, plot_confusion_matrix"
   ]
  },
  {
   "cell_type": "markdown",
   "metadata": {},
   "source": [
    "#### Naive XGBoost Model - Imbalanced Data (83.8% ROI>-20%)\n",
    "\n",
    "*Goal is to minimize false positives* - Maximixe precision\n",
    "- Majority class [1] = ROI >-20% (IDEAL)\n",
    "- Minority class [0] = ROI <-20% (BAD)\n"
   ]
  },
  {
   "cell_type": "code",
   "execution_count": 117,
   "metadata": {},
   "outputs": [
    {
     "data": {
      "application/javascript": [
       "\n",
       "            setTimeout(function() {\n",
       "                var nbb_cell_id = 117;\n",
       "                var nbb_unformatted_code = \"# Create test-train split of data\\nx = df_feature_final\\ny = df_cleaned[response_var]  # labels\\nx_train, x_test, y_train, y_test = train_test_split(x, y, test_size=0.2, random_state=0)\";\n",
       "                var nbb_formatted_code = \"# Create test-train split of data\\nx = df_feature_final\\ny = df_cleaned[response_var]  # labels\\nx_train, x_test, y_train, y_test = train_test_split(x, y, test_size=0.2, random_state=0)\";\n",
       "                var nbb_cells = Jupyter.notebook.get_cells();\n",
       "                for (var i = 0; i < nbb_cells.length; ++i) {\n",
       "                    if (nbb_cells[i].input_prompt_number == nbb_cell_id) {\n",
       "                        if (nbb_cells[i].get_text() == nbb_unformatted_code) {\n",
       "                             nbb_cells[i].set_text(nbb_formatted_code);\n",
       "                        }\n",
       "                        break;\n",
       "                    }\n",
       "                }\n",
       "            }, 500);\n",
       "            "
      ],
      "text/plain": [
       "<IPython.core.display.Javascript object>"
      ]
     },
     "metadata": {},
     "output_type": "display_data"
    }
   ],
   "source": [
    "# Create test-train split of data\n",
    "x = df_feature_final\n",
    "y = df_cleaned[response_var]  # labels\n",
    "x_train, x_test, y_train, y_test = train_test_split(x, y, test_size=0.2, random_state=0)"
   ]
  },
  {
   "cell_type": "code",
   "execution_count": 118,
   "metadata": {},
   "outputs": [
    {
     "data": {
      "text/plain": [
       "{'auc_PR': 0.8406,\n",
       " 'accuracy': 0.8381,\n",
       " 'recall': 0.9958,\n",
       " 'precision': 0.8406,\n",
       " 'false_discovery_rate': 0.1594,\n",
       " 'false_pos_rate': 0.9817,\n",
       " 'error_rate': 0.1619,\n",
       " 'n_true_pos': 11326,\n",
       " 'n_false_pos': 2147}"
      ]
     },
     "execution_count": 118,
     "metadata": {},
     "output_type": "execute_result"
    },
    {
     "data": {
      "application/javascript": [
       "\n",
       "            setTimeout(function() {\n",
       "                var nbb_cell_id = 118;\n",
       "                var nbb_unformatted_code = \"# Create random forest object\\nnaive_model = xgb.XGBClassifier(objective=\\\"binary:logistic\\\", seed=0)\\n\\n# Fit model with data\\nnaive_model.fit(x_train, y_train)\\n\\n# Analyze\\nmodel = naive_model\\ntn, fp, fn, tp = confusion_matrix(y_test, model.predict(x_test)).ravel()\\nresults = {\\n    \\\"auc_PR\\\": round(average_precision_score(y_test, model.predict(x_test)), 4),\\n    \\\"accuracy\\\": round((tp + tn) / (tp + tn + fn + fp), 4),\\n    \\\"recall\\\": round(tp / (tp + fn), 4),\\n    \\\"precision\\\": round(tp / (tp + fp), 4),\\n    \\\"false_discovery_rate\\\": round(fp / (fp + tp), 4),\\n    \\\"false_pos_rate\\\": round(fp / (tn + fp), 4),\\n    \\\"error_rate\\\": round((fp + fn) / (tp + tn + fn + fp), 4),\\n    \\\"n_true_pos\\\": tp,\\n    \\\"n_false_pos\\\": fp,\\n}\\nresults\\n\\n# # ==================== Print Results ====================\\n# model = naive_model\\n# y_pred = model.predict(x_test)\\n# auc_PR = average_precision_score(y_test, y_pred)\\n# precision, recall, _ = precision_recall_curve(y_test, y_pred)\\n# plt.plot(recall, precision)\\n# plt.xlabel('Recall (True Positive) ')\\n# plt.ylabel('Precision (Proportion Correct)')\\n# plt.ylim([0.0, 1.05])\\n# plt.xlim([0.0, 1.0])\\n# plt.title('Binary Precision-Recall curve: '\\n#                    'auc_PR={0:0.2f}'.format(auc_PR))\";\n",
       "                var nbb_formatted_code = \"# Create random forest object\\nnaive_model = xgb.XGBClassifier(objective=\\\"binary:logistic\\\", seed=0)\\n\\n# Fit model with data\\nnaive_model.fit(x_train, y_train)\\n\\n# Analyze\\nmodel = naive_model\\ntn, fp, fn, tp = confusion_matrix(y_test, model.predict(x_test)).ravel()\\nresults = {\\n    \\\"auc_PR\\\": round(average_precision_score(y_test, model.predict(x_test)), 4),\\n    \\\"accuracy\\\": round((tp + tn) / (tp + tn + fn + fp), 4),\\n    \\\"recall\\\": round(tp / (tp + fn), 4),\\n    \\\"precision\\\": round(tp / (tp + fp), 4),\\n    \\\"false_discovery_rate\\\": round(fp / (fp + tp), 4),\\n    \\\"false_pos_rate\\\": round(fp / (tn + fp), 4),\\n    \\\"error_rate\\\": round((fp + fn) / (tp + tn + fn + fp), 4),\\n    \\\"n_true_pos\\\": tp,\\n    \\\"n_false_pos\\\": fp,\\n}\\nresults\\n\\n# # ==================== Print Results ====================\\n# model = naive_model\\n# y_pred = model.predict(x_test)\\n# auc_PR = average_precision_score(y_test, y_pred)\\n# precision, recall, _ = precision_recall_curve(y_test, y_pred)\\n# plt.plot(recall, precision)\\n# plt.xlabel('Recall (True Positive) ')\\n# plt.ylabel('Precision (Proportion Correct)')\\n# plt.ylim([0.0, 1.05])\\n# plt.xlim([0.0, 1.0])\\n# plt.title('Binary Precision-Recall curve: '\\n#                    'auc_PR={0:0.2f}'.format(auc_PR))\";\n",
       "                var nbb_cells = Jupyter.notebook.get_cells();\n",
       "                for (var i = 0; i < nbb_cells.length; ++i) {\n",
       "                    if (nbb_cells[i].input_prompt_number == nbb_cell_id) {\n",
       "                        if (nbb_cells[i].get_text() == nbb_unformatted_code) {\n",
       "                             nbb_cells[i].set_text(nbb_formatted_code);\n",
       "                        }\n",
       "                        break;\n",
       "                    }\n",
       "                }\n",
       "            }, 500);\n",
       "            "
      ],
      "text/plain": [
       "<IPython.core.display.Javascript object>"
      ]
     },
     "metadata": {},
     "output_type": "display_data"
    }
   ],
   "source": [
    "# Create random forest object\n",
    "naive_model = xgb.XGBClassifier(objective=\"binary:logistic\", seed=0)\n",
    "\n",
    "# Fit model with data\n",
    "naive_model.fit(x_train, y_train)\n",
    "\n",
    "# Analyze\n",
    "model = naive_model\n",
    "tn, fp, fn, tp = confusion_matrix(y_test, model.predict(x_test)).ravel()\n",
    "results = {\n",
    "    \"auc_PR\": round(average_precision_score(y_test, model.predict(x_test)), 4),\n",
    "    \"accuracy\": round((tp + tn) / (tp + tn + fn + fp), 4),\n",
    "    \"recall\": round(tp / (tp + fn), 4),\n",
    "    \"precision\": round(tp / (tp + fp), 4),\n",
    "    \"false_discovery_rate\": round(fp / (fp + tp), 4),\n",
    "    \"false_pos_rate\": round(fp / (tn + fp), 4),\n",
    "    \"error_rate\": round((fp + fn) / (tp + tn + fn + fp), 4),\n",
    "    \"n_true_pos\": tp,\n",
    "    \"n_false_pos\": fp,\n",
    "}\n",
    "results\n",
    "\n",
    "# # ==================== Print Results ====================\n",
    "# model = naive_model\n",
    "# y_pred = model.predict(x_test)\n",
    "# auc_PR = average_precision_score(y_test, y_pred)\n",
    "# precision, recall, _ = precision_recall_curve(y_test, y_pred)\n",
    "# plt.plot(recall, precision)\n",
    "# plt.xlabel('Recall (True Positive) ')\n",
    "# plt.ylabel('Precision (Proportion Correct)')\n",
    "# plt.ylim([0.0, 1.05])\n",
    "# plt.xlim([0.0, 1.0])\n",
    "# plt.title('Binary Precision-Recall curve: '\n",
    "#                    'auc_PR={0:0.2f}'.format(auc_PR))"
   ]
  },
  {
   "cell_type": "markdown",
   "metadata": {},
   "source": [
    "#### Naive XGBoost Model - using scale_pos_weight parameter"
   ]
  },
  {
   "cell_type": "code",
   "execution_count": 119,
   "metadata": {},
   "outputs": [
    {
     "data": {
      "text/plain": [
       "{'weight': 0.1929,\n",
       " 'auc_PR': 0.8832,\n",
       " 'accuracy': 0.6404,\n",
       " 'recall': 0.635,\n",
       " 'precision': 0.9088,\n",
       " 'false_discovery_rate': 0.0912,\n",
       " 'false_pos_rate': 0.3315,\n",
       " 'error_rate': 0.3596,\n",
       " 'n_true_pos': 7223,\n",
       " 'n_false_pos': 725}"
      ]
     },
     "execution_count": 119,
     "metadata": {},
     "output_type": "execute_result"
    },
    {
     "data": {
      "application/javascript": [
       "\n",
       "            setTimeout(function() {\n",
       "                var nbb_cell_id = 119;\n",
       "                var nbb_unformatted_code = \"# Create random forest object\\n# scale_pos_weight = sum(negative) / sum(positive)\\nnaive_spw_model = xgb.XGBClassifier(\\n    objective=\\\"binary:logistic\\\",\\n    scale_pos_weight=(len(y) - y.sum()) / y.sum(),  # 0.1929\\n    seed=0,\\n)\\n\\n# Fit model with data\\nnaive_spw_model.fit(x_train, y_train)\\n\\n# Analyze\\nmodel = naive_spw_model\\ntn, fp, fn, tp = confusion_matrix(y_test, model.predict(x_test)).ravel()\\nnaive_spw_results = {\\n    \\\"weight\\\": round((len(y) - y.sum()) / y.sum(), 4),\\n    \\\"auc_PR\\\": round(average_precision_score(y_test, model.predict(x_test)), 4),\\n    \\\"accuracy\\\": round((tp + tn) / (tp + tn + fn + fp), 4),\\n    \\\"recall\\\": round(tp / (tp + fn), 4),\\n    \\\"precision\\\": round(tp / (tp + fp), 4),\\n    \\\"false_discovery_rate\\\": round(fp / (fp + tp), 4),\\n    \\\"false_pos_rate\\\": round(fp / (tn + fp), 4),\\n    \\\"error_rate\\\": round((fp + fn) / (tp + tn + fn + fp), 4),\\n    \\\"n_true_pos\\\": tp,\\n    \\\"n_false_pos\\\": fp,\\n}\\nnaive_spw_results\\n\\n# # ==================== Print Results ====================\\n# model = naive_model\\n# y_pred = model.predict(x_test)\\n# auc_PR = average_precision_score(y_test, y_pred)\\n# precision, recall, _ = precision_recall_curve(y_test, y_pred)\\n# plt.plot(recall, precision)\\n# plt.xlabel('Recall (True Positive) ')\\n# plt.ylabel('Precision (Proportion Correct)')\\n# plt.ylim([0.0, 1.05])\\n# plt.xlim([0.0, 1.0])\\n# plt.title('Binary Precision-Recall curve: '\\n#                    'auc_PR={0:0.2f}'.format(auc_PR))\";\n",
       "                var nbb_formatted_code = \"# Create random forest object\\n# scale_pos_weight = sum(negative) / sum(positive)\\nnaive_spw_model = xgb.XGBClassifier(\\n    objective=\\\"binary:logistic\\\",\\n    scale_pos_weight=(len(y) - y.sum()) / y.sum(),  # 0.1929\\n    seed=0,\\n)\\n\\n# Fit model with data\\nnaive_spw_model.fit(x_train, y_train)\\n\\n# Analyze\\nmodel = naive_spw_model\\ntn, fp, fn, tp = confusion_matrix(y_test, model.predict(x_test)).ravel()\\nnaive_spw_results = {\\n    \\\"weight\\\": round((len(y) - y.sum()) / y.sum(), 4),\\n    \\\"auc_PR\\\": round(average_precision_score(y_test, model.predict(x_test)), 4),\\n    \\\"accuracy\\\": round((tp + tn) / (tp + tn + fn + fp), 4),\\n    \\\"recall\\\": round(tp / (tp + fn), 4),\\n    \\\"precision\\\": round(tp / (tp + fp), 4),\\n    \\\"false_discovery_rate\\\": round(fp / (fp + tp), 4),\\n    \\\"false_pos_rate\\\": round(fp / (tn + fp), 4),\\n    \\\"error_rate\\\": round((fp + fn) / (tp + tn + fn + fp), 4),\\n    \\\"n_true_pos\\\": tp,\\n    \\\"n_false_pos\\\": fp,\\n}\\nnaive_spw_results\\n\\n# # ==================== Print Results ====================\\n# model = naive_model\\n# y_pred = model.predict(x_test)\\n# auc_PR = average_precision_score(y_test, y_pred)\\n# precision, recall, _ = precision_recall_curve(y_test, y_pred)\\n# plt.plot(recall, precision)\\n# plt.xlabel('Recall (True Positive) ')\\n# plt.ylabel('Precision (Proportion Correct)')\\n# plt.ylim([0.0, 1.05])\\n# plt.xlim([0.0, 1.0])\\n# plt.title('Binary Precision-Recall curve: '\\n#                    'auc_PR={0:0.2f}'.format(auc_PR))\";\n",
       "                var nbb_cells = Jupyter.notebook.get_cells();\n",
       "                for (var i = 0; i < nbb_cells.length; ++i) {\n",
       "                    if (nbb_cells[i].input_prompt_number == nbb_cell_id) {\n",
       "                        if (nbb_cells[i].get_text() == nbb_unformatted_code) {\n",
       "                             nbb_cells[i].set_text(nbb_formatted_code);\n",
       "                        }\n",
       "                        break;\n",
       "                    }\n",
       "                }\n",
       "            }, 500);\n",
       "            "
      ],
      "text/plain": [
       "<IPython.core.display.Javascript object>"
      ]
     },
     "metadata": {},
     "output_type": "display_data"
    }
   ],
   "source": [
    "# Create random forest object\n",
    "# scale_pos_weight = sum(negative) / sum(positive)\n",
    "naive_spw_model = xgb.XGBClassifier(\n",
    "    objective=\"binary:logistic\",\n",
    "    scale_pos_weight=(len(y) - y.sum()) / y.sum(),  # 0.1929\n",
    "    seed=0,\n",
    ")\n",
    "\n",
    "# Fit model with data\n",
    "naive_spw_model.fit(x_train, y_train)\n",
    "\n",
    "# Analyze\n",
    "model = naive_spw_model\n",
    "tn, fp, fn, tp = confusion_matrix(y_test, model.predict(x_test)).ravel()\n",
    "naive_spw_results = {\n",
    "    \"weight\": round((len(y) - y.sum()) / y.sum(), 4),\n",
    "    \"auc_PR\": round(average_precision_score(y_test, model.predict(x_test)), 4),\n",
    "    \"accuracy\": round((tp + tn) / (tp + tn + fn + fp), 4),\n",
    "    \"recall\": round(tp / (tp + fn), 4),\n",
    "    \"precision\": round(tp / (tp + fp), 4),\n",
    "    \"false_discovery_rate\": round(fp / (fp + tp), 4),\n",
    "    \"false_pos_rate\": round(fp / (tn + fp), 4),\n",
    "    \"error_rate\": round((fp + fn) / (tp + tn + fn + fp), 4),\n",
    "    \"n_true_pos\": tp,\n",
    "    \"n_false_pos\": fp,\n",
    "}\n",
    "naive_spw_results\n",
    "\n",
    "# # ==================== Print Results ====================\n",
    "# model = naive_model\n",
    "# y_pred = model.predict(x_test)\n",
    "# auc_PR = average_precision_score(y_test, y_pred)\n",
    "# precision, recall, _ = precision_recall_curve(y_test, y_pred)\n",
    "# plt.plot(recall, precision)\n",
    "# plt.xlabel('Recall (True Positive) ')\n",
    "# plt.ylabel('Precision (Proportion Correct)')\n",
    "# plt.ylim([0.0, 1.05])\n",
    "# plt.xlim([0.0, 1.0])\n",
    "# plt.title('Binary Precision-Recall curve: '\n",
    "#                    'auc_PR={0:0.2f}'.format(auc_PR))"
   ]
  },
  {
   "cell_type": "markdown",
   "metadata": {},
   "source": [
    "**Tuning Hyperparameters**\n",
    "- max_depth = depth of trees (3-10)\n",
    "- min_child_weight = similar to min_child_leaf for RandomForest\n",
    "- gamma = min. loss reduction required for split\n",
    "- subsample = frac of observations randomly sampled for tree (0.5-1)\n",
    "- colsample_bytree = number of features sampled for each tree\n",
    "- learning rate = typically between 0.01-0.2"
   ]
  },
  {
   "cell_type": "code",
   "execution_count": 120,
   "metadata": {},
   "outputs": [
    {
     "data": {
      "application/javascript": [
       "\n",
       "            setTimeout(function() {\n",
       "                var nbb_cell_id = 120;\n",
       "                var nbb_unformatted_code = \"# from sklearn.model_selection import train_test_split, GridSearchCV, RandomizedSearchCV, StratifiedKFold\\n# from sklearn.metrics import roc_curve, precision_recall_curve, auc, make_scorer, recall_score, accuracy_score, precision_score, confusion_matrix\";\n",
       "                var nbb_formatted_code = \"# from sklearn.model_selection import train_test_split, GridSearchCV, RandomizedSearchCV, StratifiedKFold\\n# from sklearn.metrics import roc_curve, precision_recall_curve, auc, make_scorer, recall_score, accuracy_score, precision_score, confusion_matrix\";\n",
       "                var nbb_cells = Jupyter.notebook.get_cells();\n",
       "                for (var i = 0; i < nbb_cells.length; ++i) {\n",
       "                    if (nbb_cells[i].input_prompt_number == nbb_cell_id) {\n",
       "                        if (nbb_cells[i].get_text() == nbb_unformatted_code) {\n",
       "                             nbb_cells[i].set_text(nbb_formatted_code);\n",
       "                        }\n",
       "                        break;\n",
       "                    }\n",
       "                }\n",
       "            }, 500);\n",
       "            "
      ],
      "text/plain": [
       "<IPython.core.display.Javascript object>"
      ]
     },
     "metadata": {},
     "output_type": "display_data"
    }
   ],
   "source": [
    "# from sklearn.model_selection import train_test_split, GridSearchCV, RandomizedSearchCV, StratifiedKFold\n",
    "# from sklearn.metrics import roc_curve, precision_recall_curve, auc, make_scorer, recall_score, accuracy_score, precision_score, confusion_matrix\n"
   ]
  },
  {
   "cell_type": "code",
   "execution_count": 121,
   "metadata": {},
   "outputs": [
    {
     "data": {
      "application/javascript": [
       "\n",
       "            setTimeout(function() {\n",
       "                var nbb_cell_id = 121;\n",
       "                var nbb_unformatted_code = \"# def grid_search_wrapper(refit_score='precision_score'):\\n#     \\\"\\\"\\\"\\n#     fits a GridSearchCV classifier using refit_score for optimization\\n#     prints classifier performance metrics\\n#     \\\"\\\"\\\"\\n\\n#     skf = StratifiedKFold(n_splits=5)\\n#     grid_search = GridSearchCV(model,\\n#                                      param_grid,\\n#                                      scoring=scorers,\\n#                                      refit=refit_score,\\n#                                      cv=skf,\\n#                                      verbose=1,\\n#                                      return_train_score=True,\\n#                                      n_jobs = -1)\\n\\n#     grid_search.fit(x_train, y_train)\\n\\n#     # make the predictions\\n#     y_pred = grid_search.predict(x_test)\\n\\n#     print('Best params for {}'.format(refit_score))\\n#     print(grid_search.best_params_)\\n\\n#     # confusion matrix on the test data.\\n#     print('\\\\nConfusion matrix of XGBoost optimized for {} on the test data:'.format(refit_score))\\n#     print(pd.DataFrame(confusion_matrix(y_test, y_pred),\\n#                  columns=['pred_neg', 'pred_pos'], index=['neg', 'pos']))\\n\\n#     tn, fp, fn, tp = confusion_matrix(y_test, y_pred).ravel()\\n#     precision = round(tp/(tp+fp),4) * 100\\n#     print(\\\"\\\\nPrecision: {0}% of loans identified as a good loan (ROI>-20%) were correct\\\\n\\\".format(precision))\\n\\n#     false_discovery_rate = round(fp/(fp+tp),4) * 100\\n#     print(\\\"False discovery rate: {0}% of loans identified as good [ROI>-20%] were actually bad loans [ROI<-20%]\\\\n\\\\n\\\".format(false_discovery_rate))\\n\\n#     return grid_search\";\n",
       "                var nbb_formatted_code = \"# def grid_search_wrapper(refit_score='precision_score'):\\n#     \\\"\\\"\\\"\\n#     fits a GridSearchCV classifier using refit_score for optimization\\n#     prints classifier performance metrics\\n#     \\\"\\\"\\\"\\n\\n#     skf = StratifiedKFold(n_splits=5)\\n#     grid_search = GridSearchCV(model,\\n#                                      param_grid,\\n#                                      scoring=scorers,\\n#                                      refit=refit_score,\\n#                                      cv=skf,\\n#                                      verbose=1,\\n#                                      return_train_score=True,\\n#                                      n_jobs = -1)\\n\\n#     grid_search.fit(x_train, y_train)\\n\\n#     # make the predictions\\n#     y_pred = grid_search.predict(x_test)\\n\\n#     print('Best params for {}'.format(refit_score))\\n#     print(grid_search.best_params_)\\n\\n#     # confusion matrix on the test data.\\n#     print('\\\\nConfusion matrix of XGBoost optimized for {} on the test data:'.format(refit_score))\\n#     print(pd.DataFrame(confusion_matrix(y_test, y_pred),\\n#                  columns=['pred_neg', 'pred_pos'], index=['neg', 'pos']))\\n\\n#     tn, fp, fn, tp = confusion_matrix(y_test, y_pred).ravel()\\n#     precision = round(tp/(tp+fp),4) * 100\\n#     print(\\\"\\\\nPrecision: {0}% of loans identified as a good loan (ROI>-20%) were correct\\\\n\\\".format(precision))\\n\\n#     false_discovery_rate = round(fp/(fp+tp),4) * 100\\n#     print(\\\"False discovery rate: {0}% of loans identified as good [ROI>-20%] were actually bad loans [ROI<-20%]\\\\n\\\\n\\\".format(false_discovery_rate))\\n\\n#     return grid_search\";\n",
       "                var nbb_cells = Jupyter.notebook.get_cells();\n",
       "                for (var i = 0; i < nbb_cells.length; ++i) {\n",
       "                    if (nbb_cells[i].input_prompt_number == nbb_cell_id) {\n",
       "                        if (nbb_cells[i].get_text() == nbb_unformatted_code) {\n",
       "                             nbb_cells[i].set_text(nbb_formatted_code);\n",
       "                        }\n",
       "                        break;\n",
       "                    }\n",
       "                }\n",
       "            }, 500);\n",
       "            "
      ],
      "text/plain": [
       "<IPython.core.display.Javascript object>"
      ]
     },
     "metadata": {},
     "output_type": "display_data"
    }
   ],
   "source": [
    "# def grid_search_wrapper(refit_score='precision_score'):\n",
    "#     \"\"\"\n",
    "#     fits a GridSearchCV classifier using refit_score for optimization\n",
    "#     prints classifier performance metrics\n",
    "#     \"\"\"\n",
    "\n",
    "#     skf = StratifiedKFold(n_splits=5)\n",
    "#     grid_search = GridSearchCV(model,\n",
    "#                                      param_grid,\n",
    "#                                      scoring=scorers,\n",
    "#                                      refit=refit_score,\n",
    "#                                      cv=skf,\n",
    "#                                      verbose=1,\n",
    "#                                      return_train_score=True,\n",
    "#                                      n_jobs = -1)\n",
    "\n",
    "#     grid_search.fit(x_train, y_train)\n",
    "\n",
    "#     # make the predictions\n",
    "#     y_pred = grid_search.predict(x_test)\n",
    "\n",
    "#     print('Best params for {}'.format(refit_score))\n",
    "#     print(grid_search.best_params_)\n",
    "\n",
    "#     # confusion matrix on the test data.\n",
    "#     print('\\nConfusion matrix of XGBoost optimized for {} on the test data:'.format(refit_score))\n",
    "#     print(pd.DataFrame(confusion_matrix(y_test, y_pred),\n",
    "#                  columns=['pred_neg', 'pred_pos'], index=['neg', 'pos']))\n",
    "\n",
    "#     tn, fp, fn, tp = confusion_matrix(y_test, y_pred).ravel()\n",
    "#     precision = round(tp/(tp+fp),4) * 100\n",
    "#     print(\"\\nPrecision: {0}% of loans identified as a good loan (ROI>-20%) were correct\\n\".format(precision))\n",
    "\n",
    "#     false_discovery_rate = round(fp/(fp+tp),4) * 100\n",
    "#     print(\"False discovery rate: {0}% of loans identified as good [ROI>-20%] were actually bad loans [ROI<-20%]\\n\\n\".format(false_discovery_rate))\n",
    "\n",
    "#     return grid_search"
   ]
  },
  {
   "cell_type": "code",
   "execution_count": 122,
   "metadata": {},
   "outputs": [
    {
     "data": {
      "application/javascript": [
       "\n",
       "            setTimeout(function() {\n",
       "                var nbb_cell_id = 122;\n",
       "                var nbb_unformatted_code = \"# %%time\\n# #Based on link: https://towardsdatascience.com/fine-tuning-a-classifier-in-scikit-learn-66e048c21e65\\n\\n# xgb_model = xgb.XGBClassifier(objective = 'binary:logistic',\\n#                               early_stopping_rounds = 5,\\n#                               scale_pos_weight = (len(y)-y.sum())/y.sum())\\n\\n\\n# c\\n\\n# scorers = {\\n#     'precision_score': make_scorer(precision_score),\\n# }\\n\\n# grid_search_model = grid_search_wrapper(refit_score='precision_score')\";\n",
       "                var nbb_formatted_code = \"# %%time\\n# #Based on link: https://towardsdatascience.com/fine-tuning-a-classifier-in-scikit-learn-66e048c21e65\\n\\n# xgb_model = xgb.XGBClassifier(objective = 'binary:logistic',\\n#                               early_stopping_rounds = 5,\\n#                               scale_pos_weight = (len(y)-y.sum())/y.sum())\\n\\n\\n# c\\n\\n# scorers = {\\n#     'precision_score': make_scorer(precision_score),\\n# }\\n\\n# grid_search_model = grid_search_wrapper(refit_score='precision_score')\";\n",
       "                var nbb_cells = Jupyter.notebook.get_cells();\n",
       "                for (var i = 0; i < nbb_cells.length; ++i) {\n",
       "                    if (nbb_cells[i].input_prompt_number == nbb_cell_id) {\n",
       "                        if (nbb_cells[i].get_text() == nbb_unformatted_code) {\n",
       "                             nbb_cells[i].set_text(nbb_formatted_code);\n",
       "                        }\n",
       "                        break;\n",
       "                    }\n",
       "                }\n",
       "            }, 500);\n",
       "            "
      ],
      "text/plain": [
       "<IPython.core.display.Javascript object>"
      ]
     },
     "metadata": {},
     "output_type": "display_data"
    }
   ],
   "source": [
    "# %%time\n",
    "# #Based on link: https://towardsdatascience.com/fine-tuning-a-classifier-in-scikit-learn-66e048c21e65\n",
    "\n",
    "# xgb_model = xgb.XGBClassifier(objective = 'binary:logistic',\n",
    "#                               early_stopping_rounds = 5,\n",
    "#                               scale_pos_weight = (len(y)-y.sum())/y.sum())\n",
    "\n",
    "\n",
    "# c\n",
    "\n",
    "# scorers = {\n",
    "#     'precision_score': make_scorer(precision_score),\n",
    "# }\n",
    "\n",
    "# grid_search_model = grid_search_wrapper(refit_score='precision_score')\n",
    "\n"
   ]
  },
  {
   "cell_type": "markdown",
   "metadata": {},
   "source": [
    "## Results"
   ]
  },
  {
   "cell_type": "markdown",
   "metadata": {},
   "source": [
    "### Naive Model"
   ]
  },
  {
   "cell_type": "code",
   "execution_count": 123,
   "metadata": {},
   "outputs": [
    {
     "name": "stdout",
     "output_type": "stream",
     "text": [
      "     pred_neg  pred_pos\n",
      "neg      1462       725\n",
      "pos      4151      7223\n",
      "\n",
      "Accuracy: 64.04% of loans were correctly identified\n",
      "\n",
      "Specificity: 66.85% of loans with ROI<-20% were identified as a bad loan loan\n",
      "\n",
      "Recall/Sensitivity: 63.5% of loans with ROI>-20% were identified as a good loan\n",
      "\n",
      "Precision: 90.88000000000001% of loans identified as a good loan (ROI>-20%) were correct\n",
      "\n",
      "False discovery rate: 9.120000000000001% of loans identified as good [ROI>-20%] were actually bad loans [ROI<-20%]\n",
      "\n",
      "False Positive Rate: 33.15% of bad loans [ROI<-20%] were identified as a good loan [ROI>-20%]\n",
      "\n"
     ]
    },
    {
     "data": {
      "application/javascript": [
       "\n",
       "            setTimeout(function() {\n",
       "                var nbb_cell_id = 123;\n",
       "                var nbb_unformatted_code = \"#Confusion Matrix\\ny_pred = naive_spw_model.predict(x_test)\\nprint(pd.DataFrame(confusion_matrix(y_test, y_pred),\\n             columns=['pred_neg', 'pred_pos'], index=['neg', 'pos']))\\n\\n#CM Calculations\\ntn, fp, fn, tp = confusion_matrix(y_test, y_pred).ravel()\\n\\naccuracy = round( 100*(tp + tn) / (tp + tn + fn + fp) ,2)\\nprint(\\\"\\\\nAccuracy: {0}% of loans were correctly identified\\\\n\\\".format(accuracy))\\n\\nspecificity = round(tn / (tn + fp),4) * 100 #true negative rate\\nprint(\\\"Specificity: {0}% of loans with ROI<-20% were identified as a bad loan loan\\\\n\\\".format(specificity))\\n\\nrecall = round(tp / (tp + fn), 4) * 100 #true positive rate\\nprint(\\\"Recall/Sensitivity: {0}% of loans with ROI>-20% were identified as a good loan\\\\n\\\".format(recall))\\n\\nprecision = round(tp/(tp+fp),4) * 100\\nprint(\\\"Precision: {0}% of loans identified as a good loan (ROI>-20%) were correct\\\\n\\\".format(precision))\\n\\nfalse_discovery_rate = round(fp/(fp+tp),4) * 100\\nprint(\\\"False discovery rate: {0}% of loans identified as good [ROI>-20%] were actually bad loans [ROI<-20%]\\\\n\\\".format(false_discovery_rate))\\n\\nfalse_pos_rate = round(fp / (tn + fp),4) * 100\\nprint(\\\"False Positive Rate: {0}% of bad loans [ROI<-20%] were identified as a good loan [ROI>-20%]\\\\n\\\".format(false_pos_rate))\";\n",
       "                var nbb_formatted_code = \"# Confusion Matrix\\ny_pred = naive_spw_model.predict(x_test)\\nprint(\\n    pd.DataFrame(\\n        confusion_matrix(y_test, y_pred),\\n        columns=[\\\"pred_neg\\\", \\\"pred_pos\\\"],\\n        index=[\\\"neg\\\", \\\"pos\\\"],\\n    )\\n)\\n\\n# CM Calculations\\ntn, fp, fn, tp = confusion_matrix(y_test, y_pred).ravel()\\n\\naccuracy = round(100 * (tp + tn) / (tp + tn + fn + fp), 2)\\nprint(\\\"\\\\nAccuracy: {0}% of loans were correctly identified\\\\n\\\".format(accuracy))\\n\\nspecificity = round(tn / (tn + fp), 4) * 100  # true negative rate\\nprint(\\n    \\\"Specificity: {0}% of loans with ROI<-20% were identified as a bad loan loan\\\\n\\\".format(\\n        specificity\\n    )\\n)\\n\\nrecall = round(tp / (tp + fn), 4) * 100  # true positive rate\\nprint(\\n    \\\"Recall/Sensitivity: {0}% of loans with ROI>-20% were identified as a good loan\\\\n\\\".format(\\n        recall\\n    )\\n)\\n\\nprecision = round(tp / (tp + fp), 4) * 100\\nprint(\\n    \\\"Precision: {0}% of loans identified as a good loan (ROI>-20%) were correct\\\\n\\\".format(\\n        precision\\n    )\\n)\\n\\nfalse_discovery_rate = round(fp / (fp + tp), 4) * 100\\nprint(\\n    \\\"False discovery rate: {0}% of loans identified as good [ROI>-20%] were actually bad loans [ROI<-20%]\\\\n\\\".format(\\n        false_discovery_rate\\n    )\\n)\\n\\nfalse_pos_rate = round(fp / (tn + fp), 4) * 100\\nprint(\\n    \\\"False Positive Rate: {0}% of bad loans [ROI<-20%] were identified as a good loan [ROI>-20%]\\\\n\\\".format(\\n        false_pos_rate\\n    )\\n)\";\n",
       "                var nbb_cells = Jupyter.notebook.get_cells();\n",
       "                for (var i = 0; i < nbb_cells.length; ++i) {\n",
       "                    if (nbb_cells[i].input_prompt_number == nbb_cell_id) {\n",
       "                        if (nbb_cells[i].get_text() == nbb_unformatted_code) {\n",
       "                             nbb_cells[i].set_text(nbb_formatted_code);\n",
       "                        }\n",
       "                        break;\n",
       "                    }\n",
       "                }\n",
       "            }, 500);\n",
       "            "
      ],
      "text/plain": [
       "<IPython.core.display.Javascript object>"
      ]
     },
     "metadata": {},
     "output_type": "display_data"
    }
   ],
   "source": [
    "#Confusion Matrix\n",
    "y_pred = naive_spw_model.predict(x_test)\n",
    "print(pd.DataFrame(confusion_matrix(y_test, y_pred),\n",
    "             columns=['pred_neg', 'pred_pos'], index=['neg', 'pos']))\n",
    "\n",
    "#CM Calculations\n",
    "tn, fp, fn, tp = confusion_matrix(y_test, y_pred).ravel()\n",
    "\n",
    "accuracy = round( 100*(tp + tn) / (tp + tn + fn + fp) ,2)\n",
    "print(\"\\nAccuracy: {0}% of loans were correctly identified\\n\".format(accuracy))\n",
    "\n",
    "specificity = round(tn / (tn + fp),4) * 100 #true negative rate\n",
    "print(\"Specificity: {0}% of loans with ROI<-20% were identified as a bad loan loan\\n\".format(specificity))\n",
    "\n",
    "recall = round(tp / (tp + fn), 4) * 100 #true positive rate\n",
    "print(\"Recall/Sensitivity: {0}% of loans with ROI>-20% were identified as a good loan\\n\".format(recall))\n",
    "\n",
    "precision = round(tp/(tp+fp),4) * 100\n",
    "print(\"Precision: {0}% of loans identified as a good loan (ROI>-20%) were correct\\n\".format(precision))\n",
    "\n",
    "false_discovery_rate = round(fp/(fp+tp),4) * 100\n",
    "print(\"False discovery rate: {0}% of loans identified as good [ROI>-20%] were actually bad loans [ROI<-20%]\\n\".format(false_discovery_rate))\n",
    "\n",
    "false_pos_rate = round(fp / (tn + fp),4) * 100\n",
    "print(\"False Positive Rate: {0}% of bad loans [ROI<-20%] were identified as a good loan [ROI>-20%]\\n\".format(false_pos_rate))\n"
   ]
  },
  {
   "cell_type": "markdown",
   "metadata": {},
   "source": [
    "### Balanced Model"
   ]
  },
  {
   "cell_type": "code",
   "execution_count": 124,
   "metadata": {},
   "outputs": [
    {
     "name": "stdout",
     "output_type": "stream",
     "text": [
      "     pred_neg  pred_pos\n",
      "neg      1477       710\n",
      "pos      4225      7149\n",
      "\n",
      "Accuracy: 64.04% of loans were correctly identified\n",
      "\n",
      "Specificity: 66.85% of loans with ROI<-20% were identified as a bad loan loan\n",
      "\n",
      "Recall/Sensitivity: 63.5% of loans with ROI>-20% were identified as a good loan\n",
      "\n",
      "Precision: 90.88000000000001% of loans identified as a good loan (ROI>-20%) were correct\n",
      "\n",
      "False discovery rate: 9.120000000000001% of loans identified as good [ROI>-20%] were actually bad loans [ROI<-20%]\n",
      "\n",
      "False Positive Rate: 33.15% of bad loans [ROI<-20%] were identified as a good loan [ROI>-20%]\n",
      "\n"
     ]
    },
    {
     "data": {
      "application/javascript": [
       "\n",
       "            setTimeout(function() {\n",
       "                var nbb_cell_id = 124;\n",
       "                var nbb_unformatted_code = \"xgb_balanced = xgb.XGBClassifier(objective = 'binary:logistic',\\n                              early_stopping_rounds = 5,\\n                              scale_pos_weight = (len(y)-y.sum())/y.sum(),\\n                              seed = 0,\\n                              colsample_bytree = 0.9, \\n                              max_depth = 1, \\n                              n_estimators = 500,\\n                              subsample = 0.5,\\n                              n_jobs = -1)\\n\\nxgb_balanced.fit(x_train, y_train)\\n\\n#Confusion Matrix\\ny_pred = xgb_balanced.predict(x_test)\\nprint(pd.DataFrame(confusion_matrix(y_test, y_pred),\\n             columns=['pred_neg', 'pred_pos'], index=['neg', 'pos']))\\n\\n# #CM Calculations\\ntn, fp, fn, tp = confusion_matrix(y_test, model.predict(x_test)).ravel()\\n\\naccuracy = round( 100*(tp + tn) / (tp + tn + fn + fp) ,2)\\nprint(\\\"\\\\nAccuracy: {0}% of loans were correctly identified\\\\n\\\".format(accuracy))\\n\\nspecificity = round(tn / (tn + fp),4) * 100 #true negative rate\\nprint(\\\"Specificity: {0}% of loans with ROI<-20% were identified as a bad loan loan\\\\n\\\".format(specificity))\\n\\nrecall = round(tp / (tp + fn), 4) * 100 #true positive rate\\nprint(\\\"Recall/Sensitivity: {0}% of loans with ROI>-20% were identified as a good loan\\\\n\\\".format(recall))\\n\\nprecision = round(tp/(tp+fp),4) * 100\\nprint(\\\"Precision: {0}% of loans identified as a good loan (ROI>-20%) were correct\\\\n\\\".format(precision))\\n\\nfalse_discovery_rate = round(fp/(fp+tp),4) * 100\\nprint(\\\"False discovery rate: {0}% of loans identified as good [ROI>-20%] were actually bad loans [ROI<-20%]\\\\n\\\".format(false_discovery_rate))\\n\\nfalse_pos_rate = round(fp / (tn + fp),4) * 100\\nprint(\\\"False Positive Rate: {0}% of bad loans [ROI<-20%] were identified as a good loan [ROI>-20%]\\\\n\\\".format(false_pos_rate))\";\n",
       "                var nbb_formatted_code = \"xgb_balanced = xgb.XGBClassifier(\\n    objective=\\\"binary:logistic\\\",\\n    early_stopping_rounds=5,\\n    scale_pos_weight=(len(y) - y.sum()) / y.sum(),\\n    seed=0,\\n    colsample_bytree=0.9,\\n    max_depth=1,\\n    n_estimators=500,\\n    subsample=0.5,\\n    n_jobs=-1,\\n)\\n\\nxgb_balanced.fit(x_train, y_train)\\n\\n# Confusion Matrix\\ny_pred = xgb_balanced.predict(x_test)\\nprint(\\n    pd.DataFrame(\\n        confusion_matrix(y_test, y_pred),\\n        columns=[\\\"pred_neg\\\", \\\"pred_pos\\\"],\\n        index=[\\\"neg\\\", \\\"pos\\\"],\\n    )\\n)\\n\\n# #CM Calculations\\ntn, fp, fn, tp = confusion_matrix(y_test, model.predict(x_test)).ravel()\\n\\naccuracy = round(100 * (tp + tn) / (tp + tn + fn + fp), 2)\\nprint(\\\"\\\\nAccuracy: {0}% of loans were correctly identified\\\\n\\\".format(accuracy))\\n\\nspecificity = round(tn / (tn + fp), 4) * 100  # true negative rate\\nprint(\\n    \\\"Specificity: {0}% of loans with ROI<-20% were identified as a bad loan loan\\\\n\\\".format(\\n        specificity\\n    )\\n)\\n\\nrecall = round(tp / (tp + fn), 4) * 100  # true positive rate\\nprint(\\n    \\\"Recall/Sensitivity: {0}% of loans with ROI>-20% were identified as a good loan\\\\n\\\".format(\\n        recall\\n    )\\n)\\n\\nprecision = round(tp / (tp + fp), 4) * 100\\nprint(\\n    \\\"Precision: {0}% of loans identified as a good loan (ROI>-20%) were correct\\\\n\\\".format(\\n        precision\\n    )\\n)\\n\\nfalse_discovery_rate = round(fp / (fp + tp), 4) * 100\\nprint(\\n    \\\"False discovery rate: {0}% of loans identified as good [ROI>-20%] were actually bad loans [ROI<-20%]\\\\n\\\".format(\\n        false_discovery_rate\\n    )\\n)\\n\\nfalse_pos_rate = round(fp / (tn + fp), 4) * 100\\nprint(\\n    \\\"False Positive Rate: {0}% of bad loans [ROI<-20%] were identified as a good loan [ROI>-20%]\\\\n\\\".format(\\n        false_pos_rate\\n    )\\n)\";\n",
       "                var nbb_cells = Jupyter.notebook.get_cells();\n",
       "                for (var i = 0; i < nbb_cells.length; ++i) {\n",
       "                    if (nbb_cells[i].input_prompt_number == nbb_cell_id) {\n",
       "                        if (nbb_cells[i].get_text() == nbb_unformatted_code) {\n",
       "                             nbb_cells[i].set_text(nbb_formatted_code);\n",
       "                        }\n",
       "                        break;\n",
       "                    }\n",
       "                }\n",
       "            }, 500);\n",
       "            "
      ],
      "text/plain": [
       "<IPython.core.display.Javascript object>"
      ]
     },
     "metadata": {},
     "output_type": "display_data"
    }
   ],
   "source": [
    "xgb_balanced = xgb.XGBClassifier(objective = 'binary:logistic',\n",
    "                              early_stopping_rounds = 5,\n",
    "                              scale_pos_weight = (len(y)-y.sum())/y.sum(),\n",
    "                              seed = 0,\n",
    "                              colsample_bytree = 0.9, \n",
    "                              max_depth = 1, \n",
    "                              n_estimators = 500,\n",
    "                              subsample = 0.5,\n",
    "                              n_jobs = -1)\n",
    "\n",
    "xgb_balanced.fit(x_train, y_train)\n",
    "\n",
    "#Confusion Matrix\n",
    "y_pred = xgb_balanced.predict(x_test)\n",
    "print(pd.DataFrame(confusion_matrix(y_test, y_pred),\n",
    "             columns=['pred_neg', 'pred_pos'], index=['neg', 'pos']))\n",
    "\n",
    "# #CM Calculations\n",
    "tn, fp, fn, tp = confusion_matrix(y_test, model.predict(x_test)).ravel()\n",
    "\n",
    "accuracy = round( 100*(tp + tn) / (tp + tn + fn + fp) ,2)\n",
    "print(\"\\nAccuracy: {0}% of loans were correctly identified\\n\".format(accuracy))\n",
    "\n",
    "specificity = round(tn / (tn + fp),4) * 100 #true negative rate\n",
    "print(\"Specificity: {0}% of loans with ROI<-20% were identified as a bad loan loan\\n\".format(specificity))\n",
    "\n",
    "recall = round(tp / (tp + fn), 4) * 100 #true positive rate\n",
    "print(\"Recall/Sensitivity: {0}% of loans with ROI>-20% were identified as a good loan\\n\".format(recall))\n",
    "\n",
    "precision = round(tp/(tp+fp),4) * 100\n",
    "print(\"Precision: {0}% of loans identified as a good loan (ROI>-20%) were correct\\n\".format(precision))\n",
    "\n",
    "false_discovery_rate = round(fp/(fp+tp),4) * 100\n",
    "print(\"False discovery rate: {0}% of loans identified as good [ROI>-20%] were actually bad loans [ROI<-20%]\\n\".format(false_discovery_rate))\n",
    "\n",
    "false_pos_rate = round(fp / (tn + fp),4) * 100\n",
    "print(\"False Positive Rate: {0}% of bad loans [ROI<-20%] were identified as a good loan [ROI>-20%]\\n\".format(false_pos_rate))\n",
    "\n"
   ]
  },
  {
   "cell_type": "markdown",
   "metadata": {},
   "source": [
    "#### Feature Importance"
   ]
  },
  {
   "cell_type": "code",
   "execution_count": 125,
   "metadata": {},
   "outputs": [
    {
     "data": {
      "image/png": "[encoded data removed]",
      "text/plain": [
       "<Figure size 720x432 with 1 Axes>"
      ]
     },
     "metadata": {
      "needs_background": "light"
     },
     "output_type": "display_data"
    },
    {
     "data": {
      "application/javascript": [
       "\n",
       "            setTimeout(function() {\n",
       "                var nbb_cell_id = 125;\n",
       "                var nbb_unformatted_code = \"plt.rcParams[\\\"figure.figsize\\\"] = (10, 6)\\nax = xgb.plot_importance(\\n    xgb_balanced,\\n    ax=None,\\n    title=\\\"XGBoost: Feature Importance by Model 'Gain'\\\",\\n    xlabel=\\\"F-Score\\\",\\n    ylabel=\\\"Model Features\\\",\\n    importance_type=\\\"gain\\\",\\n    max_num_features=10,\\n    grid=True,\\n    show_values=False,\\n    xlim=(0, 500),\\n)\\n\\ntick_labels = [\\n    \\\"Installment Amnt\\\",\\n    \\\"FICO Score\\\",\\n    \\\"Total Current Balance\\\",\\n    \\\"List Status\\\",\\n    \\\"DTI\\\",\\n    \\\"Non-Verified Income\\\",\\n    \\\"Home Renter\\\",\\n    \\\"Interest Rate\\\",\\n    \\\"60mo Loan\\\",\\n    \\\"Grade\\\",\\n]\\nax.set_yticklabels(tick_labels)\\n\\nplt.savefig(\\\"xgboost_feature_importance.pdf\\\", bbox_inches=\\\"tight\\\")\";\n",
       "                var nbb_formatted_code = \"plt.rcParams[\\\"figure.figsize\\\"] = (10, 6)\\nax = xgb.plot_importance(\\n    xgb_balanced,\\n    ax=None,\\n    title=\\\"XGBoost: Feature Importance by Model 'Gain'\\\",\\n    xlabel=\\\"F-Score\\\",\\n    ylabel=\\\"Model Features\\\",\\n    importance_type=\\\"gain\\\",\\n    max_num_features=10,\\n    grid=True,\\n    show_values=False,\\n    xlim=(0, 500),\\n)\\n\\ntick_labels = [\\n    \\\"Installment Amnt\\\",\\n    \\\"FICO Score\\\",\\n    \\\"Total Current Balance\\\",\\n    \\\"List Status\\\",\\n    \\\"DTI\\\",\\n    \\\"Non-Verified Income\\\",\\n    \\\"Home Renter\\\",\\n    \\\"Interest Rate\\\",\\n    \\\"60mo Loan\\\",\\n    \\\"Grade\\\",\\n]\\nax.set_yticklabels(tick_labels)\\n\\nplt.savefig(\\\"xgboost_feature_importance.pdf\\\", bbox_inches=\\\"tight\\\")\";\n",
       "                var nbb_cells = Jupyter.notebook.get_cells();\n",
       "                for (var i = 0; i < nbb_cells.length; ++i) {\n",
       "                    if (nbb_cells[i].input_prompt_number == nbb_cell_id) {\n",
       "                        if (nbb_cells[i].get_text() == nbb_unformatted_code) {\n",
       "                             nbb_cells[i].set_text(nbb_formatted_code);\n",
       "                        }\n",
       "                        break;\n",
       "                    }\n",
       "                }\n",
       "            }, 500);\n",
       "            "
      ],
      "text/plain": [
       "<IPython.core.display.Javascript object>"
      ]
     },
     "metadata": {},
     "output_type": "display_data"
    }
   ],
   "source": [
    "plt.rcParams[\"figure.figsize\"] = (10, 6)\n",
    "ax = xgb.plot_importance(\n",
    "    xgb_balanced,\n",
    "    ax=None,\n",
    "    title=\"XGBoost: Feature Importance by Model 'Gain'\",\n",
    "    xlabel=\"F-Score\",\n",
    "    ylabel=\"Model Features\",\n",
    "    importance_type=\"gain\",\n",
    "    max_num_features=10,\n",
    "    grid=True,\n",
    "    show_values=False,\n",
    "    xlim=(0, 500),\n",
    ")\n",
    "\n",
    "tick_labels = [\n",
    "    \"Installment Amnt\",\n",
    "    \"FICO Score\",\n",
    "    \"Total Current Balance\",\n",
    "    \"List Status\",\n",
    "    \"DTI\",\n",
    "    \"Non-Verified Income\",\n",
    "    \"Home Renter\",\n",
    "    \"Interest Rate\",\n",
    "    \"60mo Loan\",\n",
    "    \"Grade\",\n",
    "]\n",
    "ax.set_yticklabels(tick_labels)\n",
    "\n",
    "plt.savefig(\"xgboost_feature_importance.pdf\", bbox_inches=\"tight\")\n"
   ]
  },
  {
   "cell_type": "code",
   "execution_count": 127,
   "metadata": {
    "scrolled": false
   },
   "outputs": [
    {
     "data": {
      "application/javascript": [
       "\n",
       "            setTimeout(function() {\n",
       "                var nbb_cell_id = 127;\n",
       "                var nbb_unformatted_code = \"# Export Results\\n\\nxgboost_output = pd.concat([x_test, y_test], axis=1)\\nxgboost_output[\\\"y_predict\\\"] = y_pred\\n\\nxgboost_output = pd.merge(\\n    xgboost_output,\\n    df_cleaned[\\\"roi_perc\\\"],\\n    left_on=xgboost_output.index,\\n    right_on=df_cleaned[\\\"roi_perc\\\"].index,\\n)\\n\\nxgboost_output.to_csv(path_or_buf=\\\"data/xgboost_output.csv\\\", sep=\\\",\\\")\";\n",
       "                var nbb_formatted_code = \"# Export Results\\n\\nxgboost_output = pd.concat([x_test, y_test], axis=1)\\nxgboost_output[\\\"y_predict\\\"] = y_pred\\n\\nxgboost_output = pd.merge(\\n    xgboost_output,\\n    df_cleaned[\\\"roi_perc\\\"],\\n    left_on=xgboost_output.index,\\n    right_on=df_cleaned[\\\"roi_perc\\\"].index,\\n)\\n\\nxgboost_output.to_csv(path_or_buf=\\\"data/xgboost_output.csv\\\", sep=\\\",\\\")\";\n",
       "                var nbb_cells = Jupyter.notebook.get_cells();\n",
       "                for (var i = 0; i < nbb_cells.length; ++i) {\n",
       "                    if (nbb_cells[i].input_prompt_number == nbb_cell_id) {\n",
       "                        if (nbb_cells[i].get_text() == nbb_unformatted_code) {\n",
       "                             nbb_cells[i].set_text(nbb_formatted_code);\n",
       "                        }\n",
       "                        break;\n",
       "                    }\n",
       "                }\n",
       "            }, 500);\n",
       "            "
      ],
      "text/plain": [
       "<IPython.core.display.Javascript object>"
      ]
     },
     "metadata": {},
     "output_type": "display_data"
    }
   ],
   "source": [
    "# Export Results\n",
    "\n",
    "xgboost_output = pd.concat([x_test, y_test], axis=1)\n",
    "xgboost_output[\"y_predict\"] = y_pred\n",
    "\n",
    "xgboost_output = pd.merge(\n",
    "    xgboost_output,\n",
    "    df_cleaned[\"roi_perc\"],\n",
    "    left_on=xgboost_output.index,\n",
    "    right_on=df_cleaned[\"roi_perc\"].index,\n",
    ")\n",
    "\n",
    "xgboost_output.to_csv(path_or_buf=\"data/xgboost_output.csv\", sep=\",\")"
   ]
  },
  {
   "cell_type": "code",
   "execution_count": null,
   "metadata": {},
   "outputs": [],
   "source": []
  }
 ],
 "metadata": {
  "kernelspec": {
   "display_name": "Python 3",
   "language": "python",
   "name": "python3"
  },
  "language_info": {
   "codemirror_mode": {
    "name": "ipython",
    "version": 3
   },
   "file_extension": ".py",
   "mimetype": "text/x-python",
   "name": "python",
   "nbconvert_exporter": "python",
   "pygments_lexer": "ipython3",
   "version": "3.7.4"
  }
 },
 "nbformat": 4,
 "nbformat_minor": 2
}
