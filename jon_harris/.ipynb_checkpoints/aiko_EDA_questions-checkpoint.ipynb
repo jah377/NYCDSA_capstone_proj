{
 "cells": [
  {
   "cell_type": "code",
   "execution_count": null,
   "metadata": {},
   "outputs": [],
   "source": [
    "# Load packages\n",
    "import pandas as pd\n",
    "import numpy as np\n",
    "import re\n",
    "import math\n",
    "from time import strptime  # format data columns\n",
    "import random  # used in subsampling\n",
    "import warnings\n",
    "\n",
    "warnings.filterwarnings(\"ignore\")  # ignore warnings throughout notebook\n",
    "pd.set_option(\"display.max_columns\", None)  # show all columns"
   ]
  },
  {
   "cell_type": "code",
   "execution_count": null,
   "metadata": {},
   "outputs": [],
   "source": [
    "# Load Data\n",
    "file_path = \"../data/accepted_subsampled_5percent.csv\" #will be personalized\n",
    "df = pd.read_csv(filepath, sep=\",\")"
   ]
  },
  {
   "cell_type": "markdown",
   "metadata": {},
   "source": [
    "# Question Group: Warmup Questions\n",
    "- The dataset contains $2.2M+$ of approved loans and $20M+$ rejected \n",
    "loan applications"
   ]
  },
  {
   "cell_type": "markdown",
   "metadata": {},
   "source": [
    "### Question 1:\n",
    "\n",
    "Among all the  151 columns of the loan data set, which information is known at the time of loan issuance?"
   ]
  },
  {
   "cell_type": "code",
   "execution_count": 2,
   "metadata": {},
   "outputs": [],
   "source": [
    "# We should create two variables containing a list of all varaibles known\n",
    "# and unknown at the time of the loan. Will need to separate for future\n",
    "# analyses or ML"
   ]
  },
  {
   "cell_type": "markdown",
   "metadata": {},
   "source": [
    "### Question 2:\n",
    "\n",
    "Which columns are related to borrowers's credit history and demographic information?"
   ]
  },
  {
   "cell_type": "markdown",
   "metadata": {},
   "source": [
    "### Question 3:\n",
    "\n",
    "Which columns store loan-specific information?"
   ]
  },
  {
   "cell_type": "markdown",
   "metadata": {},
   "source": [
    "### Question 4:\n",
    "\n",
    "How does the issued loans vary year after year?"
   ]
  },
  {
   "cell_type": "markdown",
   "metadata": {},
   "source": [
    "### Question 5:\n",
    "\n",
    "What are the purposes of applying Lending Club loans?"
   ]
  },
  {
   "cell_type": "markdown",
   "metadata": {},
   "source": [
    "### Question 6:\n",
    "\n",
    "Do you observe different loan grade patterns for different loan purposes?"
   ]
  },
  {
   "cell_type": "markdown",
   "metadata": {},
   "source": [
    "### Question 7:\n",
    "\n",
    "Do you observe different loan grade patterns in different years?"
   ]
  },
  {
   "cell_type": "markdown",
   "metadata": {},
   "source": [
    "### Question 8:\n",
    "\n",
    "How about loan counts stratified into years and loan purposes/loan grades?"
   ]
  },
  {
   "cell_type": "markdown",
   "metadata": {},
   "source": [
    "### Question 9:\n",
    "\n",
    "How are the loan amounts/funded amounts distributed?"
   ]
  },
  {
   "cell_type": "markdown",
   "metadata": {},
   "source": [
    "### Question 10:\n",
    "\n",
    "Are there variations across different loan purposes, loan grades, etc?"
   ]
  },
  {
   "cell_type": "markdown",
   "metadata": {},
   "source": [
    "### Question 11:\n",
    "\n",
    "Are loans with higher funded amounts harder to be paid-in-full?"
   ]
  },
  {
   "cell_type": "markdown",
   "metadata": {},
   "source": [
    "# Question Group: Interest Rates\n",
    "- For borrowers, the most important factor is interest rate charged."
   ]
  },
  {
   "cell_type": "markdown",
   "metadata": {},
   "source": [
    "### Question 12:\n",
    "\n",
    "Provide insights on the interest rates dependence on loan grade/subgrade and term (36 or 60 months)."
   ]
  },
  {
   "cell_type": "markdown",
   "metadata": {},
   "source": [
    "### Question 13:\n",
    "\n",
    "If the analysis is refined by separating loans with different start months (the year-month loan issuance date), report your finding."
   ]
  },
  {
   "cell_type": "markdown",
   "metadata": {},
   "source": [
    "### Question 14:\n",
    "\n",
    "Any rational explanation on why the interest rate should be grade/sub-grade dependent?"
   ]
  },
  {
   "cell_type": "markdown",
   "metadata": {},
   "source": [
    "### Question 15:\n",
    "\n",
    "Any rational explanation on the time series variations of interest rates?"
   ]
  },
  {
   "cell_type": "markdown",
   "metadata": {},
   "source": [
    "### Question 16:\n",
    "\n",
    "Any rational explanation why the interest rate rise w.r.t. loan term?"
   ]
  },
  {
   "cell_type": "markdown",
   "metadata": {},
   "source": [
    "# Question Group: Loan Status\n",
    " - For investors, it is crucial to know whether a loan is served to completion (loan_status 'Fully Paid')."
   ]
  },
  {
   "cell_type": "markdown",
   "metadata": {},
   "source": [
    "### Question 17:\n",
    "\n",
    "Please analyze the percentages of non-completed loans in each loan grade/subgrade (i.e. default, charged off) which go beyond delinquency."
   ]
  },
  {
   "cell_type": "markdown",
   "metadata": {},
   "source": [
    "### Question 18:\n",
    "\n",
    "Provide justification the introduction of loan grade/subgrade."
   ]
  },
  {
   "cell_type": "markdown",
   "metadata": {},
   "source": [
    "### Question 19:\n",
    "\n",
    "Provide justification on the rate hike on riskier loan grade/subgrade."
   ]
  },
  {
   "cell_type": "markdown",
   "metadata": {},
   "source": [
    "### Question 20:\n",
    "\n",
    "What happens to percentage rates of loans involving settlement?"
   ]
  },
  {
   "cell_type": "markdown",
   "metadata": {},
   "source": [
    "### Question 21:\n",
    "\n",
    "Make sure that your analysis takes into account of loan-term."
   ]
  },
  {
   "cell_type": "markdown",
   "metadata": {},
   "source": [
    "# Question Group: Amortization Process\n",
    " - For investors, the amortization process returns the partial principal and monthly interest in a single montly installment payment."
   ]
  },
  {
   "cell_type": "markdown",
   "metadata": {},
   "source": [
    "### Question 22:\n",
    "\n",
    "Because the borrower can pre-pay the principal at-will or go belly-up (delinquent or default) at any moment within the loan term, it may shorten the loan duration un-expectedly or cause losses to the investors."
   ]
  },
  {
   "cell_type": "markdown",
   "metadata": {},
   "source": [
    "### Question 23:\n",
    "\n",
    "Thus it is vital for the investors to know the general pattern of loan-prepayment or delinquency (early stage leading to default or eventual charged off)."
   ]
  },
  {
   "cell_type": "markdown",
   "metadata": {},
   "source": [
    "### Question 24:\n",
    "\n",
    "Please compute the actual durations of loans (last_payment_date - issuance_date):\n",
    " - analyze the pattern debtors terminate the loans before loan maturity (either 'fully paid', or stop paying henceforth).\n",
    " - Please include 'term', 'loan-grade/sub-grade' in your analysis."
   ]
  },
  {
   "cell_type": "markdown",
   "metadata": {},
   "source": [
    "### Question 25:\n",
    "\n",
    "Do you see major differences on the patterns with different loan-terms? What is the rational explanation for this difference?\n",
    " - Report the major characteristics of the patterns."
   ]
  },
  {
   "cell_type": "markdown",
   "metadata": {},
   "source": [
    "### Question 26:\n",
    "\n",
    "Do '60 months' (5 years) loans often get terminated at the end of the 5 years loan term? Why not?"
   ]
  },
  {
   "cell_type": "markdown",
   "metadata": {},
   "source": [
    "# Question Group: Profitability\n",
    "\n",
    "- For investors, the profitability of the loans is of their central \n",
    "concern."
   ]
  },
  {
   "cell_type": "markdown",
   "metadata": {},
   "source": [
    "### Question 27:\n",
    "\n",
    "For a given loan, the profit-and-loss (in percentages) can be computed as the (total_payment - principal)/principal."
   ]
  },
  {
   "cell_type": "markdown",
   "metadata": {},
   "source": [
    "### Question 28:\n",
    "\n",
    "For those loans which are eventually 'Fully Paid', what are the average returns (or the distributions of returns) of different loan grades/terms?"
   ]
  },
  {
   "cell_type": "markdown",
   "metadata": {},
   "source": [
    "### Question 29:\n",
    "\n",
    "For those loans wich are default or beyond, what are the average returns or return distributions?"
   ]
  },
  {
   "cell_type": "markdown",
   "metadata": {},
   "source": [
    "### Question 30:\n",
    "\n",
    "What about all the loans which have been terminated ('fully paid', 'default', 'charged off')?"
   ]
  },
  {
   "cell_type": "markdown",
   "metadata": {},
   "source": [
    "### Question 31:\n",
    "\n",
    "What about the loans which end up in loan settlement negotiations?"
   ]
  },
  {
   "cell_type": "markdown",
   "metadata": {},
   "source": [
    "### Question 32:\n",
    "\n",
    "Any variation of patterns for different loan purposes?"
   ]
  },
  {
   "cell_type": "markdown",
   "metadata": {},
   "source": [
    "### Question 33:\n",
    "\n",
    "What happens if the issuance years are included in your analysis?"
   ]
  },
  {
   "cell_type": "markdown",
   "metadata": {},
   "source": [
    "### Question 34:\n",
    "\n",
    "Is there any pattern between loan duration vs return rate?"
   ]
  },
  {
   "cell_type": "markdown",
   "metadata": {},
   "source": [
    "# Question Group: Survival Analysis on Survival Probabilities\n",
    "\n",
    "- In the context of Lending Club Loans, a loan starts to default  121\n",
    "121 days after it fails to make the payment on time."
   ]
  },
  {
   "cell_type": "markdown",
   "metadata": {},
   "source": [
    "### Question 35:\n",
    "\n",
    "For loans which are eventually paid in full, analyze the probabilities of survival at different time durations (known as survival plot). How are these probabilities of 'survival' related to the loan grade/subgrade or the FICO scores of the borrowers? To visualize, you want to plot the so-called survival curve."
   ]
  },
  {
   "cell_type": "markdown",
   "metadata": {},
   "source": [
    "### Question 36:\n",
    "\n",
    "For loans which are eventually defaulted, analyze the probabilities of survival at different time durations and find out its relationship with loan grade/subgrade, FICO scores or the other credit related attributes."
   ]
  },
  {
   "cell_type": "markdown",
   "metadata": {},
   "source": [
    "### Question 37:\n",
    "\n",
    "Lumping defaulted loans and completed loans together, a loan either pre-pays early , defaults or completes at maturity. Perform survival analysis and study what features affect the patterns."
   ]
  },
  {
   "cell_type": "markdown",
   "metadata": {},
   "source": [
    "### Question 38:\n",
    "\n",
    "You can either compute from the raw data from scratch, or use R-package like survminer to assist your analysis."
   ]
  },
  {
   "cell_type": "markdown",
   "metadata": {},
   "source": [
    "### Question 39:\n",
    "\n",
    "In survival analysis jargon, the dual cause of the early termination of the loan (either early prepayment or default) is usually known as competing events/competing risks, or mixture cure model."
   ]
  },
  {
   "cell_type": "markdown",
   "metadata": {},
   "source": [
    "# Question Group: Data Analytics\n",
    "- A good investor may want to avoid these types of loans\n",
    "- The insights might be used in ML task to single out these bad loans"
   ]
  },
  {
   "cell_type": "markdown",
   "metadata": {},
   "source": [
    "### Question 40: \n",
    "\n",
    "What types of loans tend to prepay and terminate within 3 months of the loan issuance?"
   ]
  },
  {
   "cell_type": "markdown",
   "metadata": {},
   "source": [
    "### Question 41:\n",
    "\n",
    "What types of loans tend to default (or go into charged off) within a short duration after issuance?"
   ]
  },
  {
   "cell_type": "markdown",
   "metadata": {},
   "source": [
    "### Question 42:\n",
    "\n",
    "Does default rate (including those get charged off or into settlement) holds constant across different time (year-months)?"
   ]
  },
  {
   "cell_type": "markdown",
   "metadata": {},
   "source": [
    "### Question 43:\n",
    "\n",
    "If not, what are the external driving forces which cause the default rate to rise or fall?"
   ]
  },
  {
   "cell_type": "markdown",
   "metadata": {},
   "source": [
    "### Question 44:\n",
    "\n",
    "Can you provide data and statistical evidence for your analysis?"
   ]
  },
  {
   "cell_type": "markdown",
   "metadata": {},
   "source": [
    "# Question Group: Mini-Project\n",
    "\n",
    "As a data scientist at **Lending Club**, provide strong evidence to educate the lenders why diversification is important.\n",
    "\n",
    "- For simplicity, compare the investment returns of three types of loan portfolios\n",
    "    - 20 equal-dollar investments in 20 grade A loans. \n",
    "    - 100 equal-dollar investments in 100 grade A loans.\n",
    "    - 20 equal-dollar investments in $5+5+5+5$ loans in grade $A, B, C, D$, respectively, $5$\n",
    "in each grade\n",
    "    - 100 equal-dollar investments in $25+25+25+25$ loans in grade $A, B, C, D$, respectively,\n",
    " $25$ loans in each grade.\n",
    "    - Or you can invest 1% (of the loan amount) and diversify into many loans\n",
    "\n",
    "- Simulate uncertainty by randomly drawing from grade A, B, C, D loan buckets\n",
    "    - Because loans often terminate prematurely, in order for the comparison to\n",
    "be objective, you will need to annualize the returns by first computing the average\n",
    "duration of your loan portfolios.\n",
    "    - To be more accurate, you can take 'issuance date' into account and offer\n",
    "simulation during different years (or year-months).\n",
    "    - Due to the stochastic nature of the problem at hand, you should analyze\n",
    "the mean annualized returns, risks of each type of portfolios, probability of loss, etc.\n",
    "\n",
    "- Alternatively, as a data scientist at a start-up investing firm, provide a business report\n",
    "whether loan-investing buying **Lending Club** loans is an attractive option, \n",
    "compared to short-term treasury/corporate funds?\n",
    "\n"
   ]
  }
 ],
 "metadata": {
  "kernelspec": {
   "display_name": "Python 3",
   "language": "python",
   "name": "python3"
  },
  "language_info": {
   "codemirror_mode": {
    "name": "ipython",
    "version": 3
   },
   "file_extension": ".py",
   "mimetype": "text/x-python",
   "name": "python",
   "nbconvert_exporter": "python",
   "pygments_lexer": "ipython3",
   "version": "3.7.4"
  }
 },
 "nbformat": 4,
 "nbformat_minor": 2
}
