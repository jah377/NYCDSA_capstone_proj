{
 "cells": [
  {
   "cell_type": "markdown",
   "metadata": {},
   "source": [
    "# Project Setting: \n"
   ]
  },
  {
   "cell_type": "markdown",
   "metadata": {},
   "source": [
    "- We are an investment advisory firm, powered by data science.  We use data science to:\n",
    "    1. Help investors gain better understanding into opportunities and trends within the peer-to-peer lending landscape, and more specifically,\n",
    "    2. Choose loans in a more nuanced and systematic manner, using data visualizations and machine learning models that we developed"
   ]
  },
  {
   "cell_type": "markdown",
   "metadata": {},
   "source": [
    "## Stage 0: Background\n",
    "\n",
    "### Goal: \n",
    "- Set stage for audience\n",
    "- Introduce Lending Club P2P business and existing data\n",
    "- Important background on how lending changed since the 2008 financial crisis, and some opportunities that exist in this new and growing space...\"\n",
    "\n",
    "**Jon:** Kind of against mentioning 2008 crisis since we aren't specifically investigating it"
   ]
  },
  {
   "cell_type": "markdown",
   "metadata": {},
   "source": [
    "Bank lending declined dramatically during the crisis, and despite the period of very low interest rates since, lending has failed to recover.  The evidence shows that the reductions in bank lending are closely associated with changes in regulation and monetary policy\n",
    "- Regulations: Basel 3 and Dodd/Frank regulations\n",
    "- Monetary policy: interest on excess reserves (IOER) effectively \"paying banks not to lend\"\n",
    "- Source: https://www.bakerinstitute.org/media/files/files/97fc7f24/bi-brief-011019-cpf-banklending.pdf"
   ]
  },
  {
   "cell_type": "markdown",
   "metadata": {},
   "source": [
    "A combination of increasingly powerful technology and this gap in lending by banks lead to the rise of P2P lending within the FinTech industry: P2P lending experienced rapid growth as borrwers looked for alternatives to banks:\n",
    "- Growth from 2009 to 2014: 26 million USD to 1.7 billion USD.  Source: https://www.pmifunds.com/prime-meridian-featured-lendits-blog/\n",
    "- Growth from 2015 to 2019: The study found that digital lenders more than doubled their market share in the past four years, with consumers across the credit spectrum increasingly turning to fintechs like LendingClub and Social Finance.  Fintechs now provide 49.4% of unsecured personal loans as of March, compared with 22.4% in 2015, according to Experian.  Source: https://www.americanbanker.com/news/fintechs-continue-to-take-market-share-from-banks-new-survey-finds\n",
    "- LendingClub, despite having challenges in 2016 is now the leading personal loan provider in the US. Other players fill the gaps, targeting almost every credit profile imaginable. We have companies like Avant and LendingPoint which focus on near prime consumers. LendingClub, Prosper and Upgrade have focused increasingly on prime and super-prime consumers. Mixed in we have companies like Upstart and SoFi who have catered to millennials and those who may have a thin credit profile but would otherwise be considered prime consumers. Source: https://www.lendacademy.com/a-look-back-at-the-five-years-since-the-lendingclub-ipo/"
   ]
  },
  {
   "cell_type": "markdown",
   "metadata": {},
   "source": [
    "What makes P2P lending different?  What are these advantages?\n",
    "- Peer-to-peer lending is the practice of matching borrowers and lenders through online platforms. Borrowers are often able to gain access to funds quickly, and typically at lower interest rates than banks, making it an attractive loan alternative comparative to banks. The loans issued are often comprised of many different investors ranging from individuals to institutional investors.\n",
    "- Individual and professional investors benefit by being able to lend money at a range of interest rates based on proprietary credit scores assigned by each platform. Since investors typically fund only a portion of a loan and spread the amount they loan across many buyers, investors can potentially receive steady, attractive returns while spreading risk across multiple borrowers.\n",
    "- Source: https://www.pmifunds.com/prime-meridian-featured-lendits-blog/"
   ]
  },
  {
   "cell_type": "markdown",
   "metadata": {},
   "source": [
    "Where does LendingClub fit into this growing landscape?\n",
    "- On the basis of the borrower’s credit score, credit history, desired loan amount and the borrower’s debt-to-income ratio, LendingClub determines whether the borrower is creditworthy and assigns to its approved loans a credit grade that determines the payable interest rate and fees.  Source: https://en.wikipedia.org/wiki/LendingClub\n",
    "- To reduce default risk, LendingClub focuses on high-credit-worthy borrowers, declining approximately 90% of the loan applications it received as of 2012 and assigning higher interest rates to riskier borrowers within its credit criteria. Only borrowers with FICO score of 660 or higher can be approved for loans.  Source: https://en.wikipedia.org/wiki/LendingClub\n",
    "- LendingClub was really well-respected back in 2013.  \"Google Inc. is making the bulk of a 125 million dollar investment into San Francisco-based Lending Club.  Google is investing in Lending Club by buying shares of the startup from its existing investors, with those investors selling 15% to 20% of their stakes in the company, in what is known as a secondary transaction.  In recent months, Lending Club has also added some heavyweight financial names to its board, including Kleiner partner Mary Meeker, former Morgan Stanley CEO John Mack, as well as former Treasury Secretary Larry Summers.\" Source: https://blogs.wsj.com/digits/2013/05/02/google-makes-strategic-investment-in-lending-club/\n",
    "- \"As of 2016, LendingClub's unsecured consumer lending exhibited inherent credit risk and lending efficiency that resembled the risk and efficiency of the largest traditional lenders,\" the researchers wrote. They included Joseph Hughes, an economics professor at Rutgers University, along with Julapa Jagtiani of the Philadelphia Fed and Choon-Geol Moon of Hanyang University. Source: https://www.thestreet.com/markets/lendingclub-computers-no-worse-at-lending-than-humans-study-finds-14914936"
   ]
  },
  {
   "cell_type": "markdown",
   "metadata": {},
   "source": [
    "# Stage 1: Introduce Lending Club\n",
    "\n",
    "## Goal: \n",
    "- PPT: Screenshots of investor website\n",
    "- EDA that describes Lending Club\n"
   ]
  },
  {
   "cell_type": "markdown",
   "metadata": {},
   "source": [
    "### Question 1.1: \n",
    "How many loans were issued each year? (from Jon)"
   ]
  },
  {
   "cell_type": "code",
   "execution_count": null,
   "metadata": {},
   "outputs": [],
   "source": []
  },
  {
   "cell_type": "markdown",
   "metadata": {},
   "source": [
    "### Question 1.2: \n",
    "What are the reasons (purpose) for the loans? (from Jon)"
   ]
  },
  {
   "cell_type": "code",
   "execution_count": null,
   "metadata": {},
   "outputs": [],
   "source": []
  },
  {
   "cell_type": "markdown",
   "metadata": {},
   "source": [
    "### Question 1.3: \n",
    "What is the distribution of loan grades (evaluation of borrower)? (from Jon)"
   ]
  },
  {
   "cell_type": "code",
   "execution_count": null,
   "metadata": {},
   "outputs": [],
   "source": []
  },
  {
   "cell_type": "markdown",
   "metadata": {},
   "source": [
    "### Question 1.4: \n",
    "How have loan grades varied throughout the years? (from Jon)"
   ]
  },
  {
   "cell_type": "code",
   "execution_count": null,
   "metadata": {},
   "outputs": [],
   "source": []
  },
  {
   "cell_type": "markdown",
   "metadata": {},
   "source": [
    "### Question 1.5: \n",
    "What is the distribution of loan amounts?  Per purpose?  Per loan grade? (from Jon)"
   ]
  },
  {
   "cell_type": "code",
   "execution_count": null,
   "metadata": {},
   "outputs": [],
   "source": []
  },
  {
   "cell_type": "markdown",
   "metadata": {},
   "source": [
    "### Question 1.6: \n",
    "How many 3 and 5 yr loans were issued?  Per purpose?  Per loan grade? (from Jon)"
   ]
  },
  {
   "cell_type": "code",
   "execution_count": null,
   "metadata": {},
   "outputs": [],
   "source": []
  },
  {
   "cell_type": "markdown",
   "metadata": {},
   "source": [
    "## ASIDE:\n",
    "**Thought**\n",
    "- What are other appropriate questions? \n",
    "- Ex: how grade impacts interest rates?\n",
    "- Ex: questions that address prepayment and default risks\n",
    "\n",
    "**Vincent, Name, Jon**\n",
    "- Do you guys have anything else to add from original Aiko EDA?\n",
    "- How about Tier 2 Questions from Jon, such as interest stratification, ROI, payment patterns?\n",
    "    - Ex 1: Vincent has analysis on how loans with different purposes have different interest rates.  Vincent also has some info on how credit card loans take up for instance 10% of the market, but they make up 5% of prepayments and 5% of defaults, so relatively speaking, credit card loans are less likely to deviate from payment schedule, etc etc.\n",
    "    - Ex 2: Jon had a nice matrix going there, with \"grades: A, B, C, etc\" on one axis and \"purpose\" on another axis.  Another matrix was \"grades: A, B, C, etc\" vs. \"year issued: 2007, 2008, etc\""
   ]
  },
  {
   "cell_type": "markdown",
   "metadata": {},
   "source": [
    "# Stage 2: Great, that's what these loans are like.  Now, how do I as an investor make more intelligent decisions about which to pick? (Data Visualization)"
   ]
  },
  {
   "cell_type": "markdown",
   "metadata": {},
   "source": [
    "### Question 2.1 (Mini-Project / Case Study): \n",
    "What are some other things that we can do to reduce our risk, without sacrifice return?  \n",
    "- Answer is likely diversification.  \n",
    "- The probability of getting screwed on 1 loan that goes bad is pretty high, but the probability that you lose a ton of money over 100 different loans is lower (it’s like if you toss a coin twice, the chance of you getting all tails is kind of high at 25%, but if you toss that coin 100 times the chance of you getting all tails is basically zero!)  Let's do the mini-project here, to show the benefits of diversification\n",
    "    \n",
    "**Jon Comment:** This question is a bit broad, must brainstorm more specific questions for whoever is working on this"
   ]
  },
  {
   "cell_type": "code",
   "execution_count": null,
   "metadata": {},
   "outputs": [],
   "source": []
  },
  {
   "cell_type": "markdown",
   "metadata": {},
   "source": [
    "### Question 2.2: \n",
    "**Part 1:** What are the differences in loss (or charge off rate) between the 11 features available to investors?\n",
    " - Question may require Group-by + aggregate exercise => present results as graphs / charts)"
   ]
  },
  {
   "cell_type": "markdown",
   "metadata": {},
   "source": [
    "**Part 2:** What is the % charged off in each of the grades (grade A, grade B, etc)? (from Joe)"
   ]
  },
  {
   "cell_type": "code",
   "execution_count": null,
   "metadata": {},
   "outputs": [],
   "source": []
  },
  {
   "cell_type": "markdown",
   "metadata": {},
   "source": [
    "**Part 3:** What is the % charged off for each of the different purpose loans, i.e. - debt conslidation, education, etc? (from Joe)"
   ]
  },
  {
   "cell_type": "code",
   "execution_count": null,
   "metadata": {},
   "outputs": [],
   "source": []
  },
  {
   "cell_type": "markdown",
   "metadata": {},
   "source": [
    "**Part 4:** (Insert the analysis for the other 9 characteristics that we can filter for on LendingClub's site)... (from Joe)"
   ]
  },
  {
   "cell_type": "code",
   "execution_count": null,
   "metadata": {},
   "outputs": [],
   "source": []
  },
  {
   "cell_type": "markdown",
   "metadata": {},
   "source": [
    "### Question 2.3: \n",
    "Are there enough loans that I can invest? \n",
    "- Ex: educational loans have good payout but what if there are not many of them for me to deploy my money. This would be a secondary concern (from Vincent)\n",
    "\n",
    "**Jon comments:** This is addressed in Question 1.2, correct? "
   ]
  },
  {
   "cell_type": "code",
   "execution_count": null,
   "metadata": {},
   "outputs": [],
   "source": []
  },
  {
   "cell_type": "markdown",
   "metadata": {},
   "source": [
    "### Question 2.3: (Related to above question) \n",
    "What the directionality of these listed 11 factors, i.e. – higher FICO score correlates to lower risk of default / higher trustworthiness, but what about less clear things like purpose of the loan?  Which factors positively correlate to trustworthiness, and which negatively correlate?  It’s basically like asking: does turning this dial clockwise / counterclockwise increase my potential loss or decrease?  Let’s talk about directionality first (from Joe)\n",
    "\n",
    "**Jon's Comments:**\n",
    "- Verbose, should discuss more specific questions\n",
    "- Not clear what 'trustworthiness' refers to\n",
    "- Would try to avoid implying causality between 'dial' and ROI\n",
    "    - Ex: Borrows with higher FICO scores tended to produce higher ROI"
   ]
  },
  {
   "cell_type": "code",
   "execution_count": null,
   "metadata": {},
   "outputs": [],
   "source": []
  },
  {
   "cell_type": "markdown",
   "metadata": {},
   "source": [
    "# Stage 3: Machine learning\n",
    "### Project Idea 3:\n",
    "- Build a random forest classifier that predicts if a loan will experience a loss of 20% or worse over its investment horizon or not"
   ]
  },
  {
   "cell_type": "markdown",
   "metadata": {},
   "source": [
    "### Application 1:  Use ML to identify 'diamonds in the rough'? \n",
    "- Among risky loans, how can I identify the ones that will give higher returns in the long run? (from Vincent)"
   ]
  },
  {
   "cell_type": "code",
   "execution_count": null,
   "metadata": {},
   "outputs": [],
   "source": []
  },
  {
   "cell_type": "markdown",
   "metadata": {},
   "source": [
    "### Application 2: Use ML to predict loans that default\n",
    "- How do I get rid of them? (from Vincent)\n",
    "\n",
    "**Jon comment:** Not sure what this question means"
   ]
  },
  {
   "cell_type": "code",
   "execution_count": null,
   "metadata": {},
   "outputs": [],
   "source": []
  },
  {
   "cell_type": "markdown",
   "metadata": {},
   "source": [
    "### Application 3: Use ML to determine investor feature importance\n",
    "- Of the 11 features available to investors, what are the most important? (from Joe)"
   ]
  },
  {
   "cell_type": "code",
   "execution_count": null,
   "metadata": {},
   "outputs": [],
   "source": []
  },
  {
   "cell_type": "markdown",
   "metadata": {},
   "source": [
    "# Stage 4: Survival Analysis (Optional):\n"
   ]
  },
  {
   "cell_type": "markdown",
   "metadata": {},
   "source": [
    "### 1. Build the KM curve"
   ]
  },
  {
   "cell_type": "markdown",
   "metadata": {},
   "source": [
    "### 2. Build the Cox model, using the same predictors / features as the random forest classifier from earlier\n",
    "- Note: this should take literally 1-2 days for one person to do.  Faster if 2 people work jointly"
   ]
  },
  {
   "cell_type": "code",
   "execution_count": null,
   "metadata": {},
   "outputs": [],
   "source": []
  }
 ],
 "metadata": {
  "kernelspec": {
   "display_name": "Python 3",
   "language": "python",
   "name": "python3"
  },
  "language_info": {
   "codemirror_mode": {
    "name": "ipython",
    "version": 3
   },
   "file_extension": ".py",
   "mimetype": "text/x-python",
   "name": "python",
   "nbconvert_exporter": "python",
   "pygments_lexer": "ipython3",
   "version": "3.7.4"
  }
 },
 "nbformat": 4,
 "nbformat_minor": 2
}
