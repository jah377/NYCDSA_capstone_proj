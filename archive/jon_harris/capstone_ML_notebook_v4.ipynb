{
 "cells": [
  {
   "cell_type": "markdown",
   "metadata": {},
   "source": [
    "# Loan Club: Machine Learning Capstone Notebook"
   ]
  },
  {
   "cell_type": "code",
   "execution_count": 77,
   "metadata": {},
   "outputs": [],
   "source": [
    "# Load packages\n",
    "import pandas as pd\n",
    "import numpy as np\n",
    "import re\n",
    "from time import strptime  # format data columns\n",
    "import warnings\n",
    "import math\n",
    "\n",
    "from matplotlib import pyplot as plt\n",
    "import matplotlib.ticker as ticker\n",
    "%matplotlib inline\n",
    "import seaborn as sns\n",
    "\n",
    "warnings.filterwarnings(\"ignore\")  # ignore warnings throughout notebook\n",
    "pd.set_option(\"display.max_columns\", None)  # show all columns"
   ]
  },
  {
   "cell_type": "code",
   "execution_count": 78,
   "metadata": {},
   "outputs": [
    {
     "data": {
      "application/javascript": [
       "\n",
       "            setTimeout(function() {\n",
       "                var nbb_cell_id = 78;\n",
       "                var nbb_unformatted_code = \"# Used for auto-formatting code\\n# terminal - pip install nb_black\\n%load_ext nb_black\";\n",
       "                var nbb_formatted_code = \"# Used for auto-formatting code\\n# terminal - pip install nb_black\\n%load_ext nb_black\";\n",
       "                var nbb_cells = Jupyter.notebook.get_cells();\n",
       "                for (var i = 0; i < nbb_cells.length; ++i) {\n",
       "                    if (nbb_cells[i].input_prompt_number == nbb_cell_id) {\n",
       "                        if (nbb_cells[i].get_text() == nbb_unformatted_code) {\n",
       "                             nbb_cells[i].set_text(nbb_formatted_code);\n",
       "                        }\n",
       "                        break;\n",
       "                    }\n",
       "                }\n",
       "            }, 500);\n",
       "            "
      ],
      "text/plain": [
       "<IPython.core.display.Javascript object>"
      ]
     },
     "metadata": {},
     "output_type": "display_data"
    }
   ],
   "source": [
    "# Used for auto-formatting code\n",
    "# terminal - pip install nb_black\n",
    "%load_ext nb_black"
   ]
  },
  {
   "cell_type": "code",
   "execution_count": 25,
   "metadata": {},
   "outputs": [],
   "source": [
    "# Load Data\n",
    "filepath = \"../data/accepted_subsampled_5percent.csv\" #will be personalized\n",
    "df = pd.read_csv(filepath, sep=\",\")\n",
    "\n",
    "df_cleaned = df.copy() #work from second copy"
   ]
  },
  {
   "cell_type": "code",
   "execution_count": 26,
   "metadata": {},
   "outputs": [],
   "source": [
    "# Features known to investors based on LC website\n",
    "known_vars = ['acc_now_delinq',             # accounts now deliquent\n",
    "              'collections_12_mths_ex_med', # collections excluding medical\n",
    "              'fico_range_high',            # credit score range\n",
    "              'fico_range_low',             # creit score range\n",
    "              'delinq_2yrs',                # delinquencies in last two years\n",
    "              'delinq_amnt',                # delinquency amount\n",
    "              'earliest_cr_line',           # earliest credit line\n",
    "              'home_ownership',             # home ownership\n",
    "              'dti',                        # debt2income ratio\n",
    "              'annual_inc',                 # annual income\n",
    "              'initial_list_status',        # initial listing status\n",
    "              'inq_last_6mths',             # credit inquires in last 6mo\n",
    "              'int_rate',                   # interest rate\n",
    "              'verification_status_joint',  # is this a joint app\n",
    "              'emp_length',                 # length of employment (yr)\n",
    "              'loan_amnt',                  # loan amount\n",
    "              'id',                         # loan id\n",
    "              'purpose',                    # purpose of the loan\n",
    "              'term',                       # loan term (3 or 5yr)\n",
    "              'addr_state',                 # borrower location state\n",
    "              'installment',                # montly payment\n",
    "              'mths_since_last_delinq',     # mo since last delinquency\n",
    "              'mths_since_last_major_derog',# mo since last maj. derogatory\n",
    "              'mths_since_last_record',     # mo since last public record\n",
    "              'open_acc',                   # open credit line\n",
    "              'pub_rec',                    # public records on file\n",
    "              'revol_util',                 # revolving balance utilization (%)\n",
    "              'revol_bal',                  # revolving credit balance ($)\n",
    "              'tot_coll_amt',               # total collection amount ever\n",
    "              'total_acc',                  # total credit lines\n",
    "              'tot_cur_bal',                # total current balance\n",
    "              'verification_status',        # verified income (Y/N I think)\n",
    "              'grade'                       # loan grade\n",
    "             ]\n",
    "\n",
    "# Sanity check, print variable if not found within original dataframe\n",
    "# [ print(var) for var in known_vars if (var not in df.columns)]\n"
   ]
  },
  {
   "cell_type": "markdown",
   "metadata": {},
   "source": [
    "### Impute Missing Data of Known Variables"
   ]
  },
  {
   "cell_type": "code",
   "execution_count": 27,
   "metadata": {},
   "outputs": [
    {
     "data": {
      "text/plain": [
       "verification_status_joint      0.949313\n",
       "mths_since_last_record         0.838543\n",
       "mths_since_last_major_derog    0.744395\n",
       "mths_since_last_delinq         0.513786\n",
       "emp_length                     0.063868\n",
       "tot_cur_bal                    0.033430\n",
       "tot_coll_amt                   0.033430\n",
       "revol_util                     0.001006\n",
       "dti                            0.000829\n",
       "collections_12_mths_ex_med     0.000476\n",
       "open_acc                       0.000185\n",
       "pub_rec                        0.000185\n",
       "total_acc                      0.000185\n",
       "inq_last_6mths                 0.000185\n",
       "earliest_cr_line               0.000185\n",
       "delinq_amnt                    0.000185\n",
       "delinq_2yrs                    0.000185\n",
       "acc_now_delinq                 0.000185\n",
       "dtype: float64"
      ]
     },
     "execution_count": 27,
     "metadata": {},
     "output_type": "execute_result"
    }
   ],
   "source": [
    "#Assess missingness of known variables\n",
    "missingness = df_cleaned[known_vars].isnull().mean().T\n",
    "missingness = missingness.loc[missingness>0].sort_values(ascending=False)\n",
    "missingness\n"
   ]
  },
  {
   "cell_type": "code",
   "execution_count": 28,
   "metadata": {},
   "outputs": [
    {
     "name": "stdout",
     "output_type": "stream",
     "text": [
      "Features successfully droppped\n"
     ]
    }
   ],
   "source": [
    "# Drop features missing > 50% \n",
    "feat_wManyMissing = missingness.index[np.where(missingness > .5)].to_list()\n",
    "df_cleaned[known_vars].drop(df_cleaned[feat_wManyMissing], axis=1, inplace=True)\n",
    "[known_vars.remove(var) for var in feat_wManyMissing] #remove features from known_var list\n",
    "print('Features successfully droppped')"
   ]
  },
  {
   "cell_type": "code",
   "execution_count": 29,
   "metadata": {},
   "outputs": [
    {
     "name": "stdout",
     "output_type": "stream",
     "text": [
      "Mean imputation completed\n"
     ]
    }
   ],
   "source": [
    "# Replace NA's of numeric 'known_var' features with mean value\n",
    "numeric_var = ['tot_cur_bal',\n",
    "               'tot_coll_amt',\n",
    "               'revol_util',\n",
    "               'collections_12_mths_ex_med',\n",
    "               'open_acc',\n",
    "               'pub_rec',\n",
    "               'total_acc',\n",
    "               'inq_last_6mths',\n",
    "               'delinq_amnt',\n",
    "               'delinq_2yrs',\n",
    "               'dti' ]\n",
    "\n",
    "# List comprehension through numerica variables\n",
    "[df_cleaned[var].fillna(df[var].mean(), inplace=True) for var in numeric_var]\n",
    "print('Continuous Variables: Mean imputation completed')"
   ]
  },
  {
   "cell_type": "code",
   "execution_count": 30,
   "metadata": {},
   "outputs": [
    {
     "name": "stdout",
     "output_type": "stream",
     "text": [
      "Categorical Variables: Imputation with random value completed\n"
     ]
    }
   ],
   "source": [
    "# Helper function to replace missing character strings with randomly selected value\n",
    "def fillna_random(var):\n",
    "    #find index of missing values\n",
    "    miss_idx = df_cleaned.loc[ df_cleaned[var].isnull()].index.tolist()\n",
    "    \n",
    "    #find new values to replace NaN values\n",
    "    new_val = df_cleaned[var].loc[~df_cleaned.index.isin(miss_idx)].sample(len(miss_idx)).values.tolist()\n",
    "\n",
    "    #replace values\n",
    "    df_cleaned[var][miss_idx] = new_val\n",
    "\n",
    "# ==================================================\n",
    "# Replace NA's of character 'known_var' features with random\n",
    "non_numeric_var = ['emp_length', 'earliest_cr_line', 'acc_now_delinq', 'delinq_2yrs'] #list of non-numeric variables\n",
    "[fillna_random(var) for var in non_numeric_var]\n",
    "print('Categorical Variables: Imputation with random value completed')\n"
   ]
  },
  {
   "cell_type": "code",
   "execution_count": 31,
   "metadata": {
    "scrolled": false
   },
   "outputs": [
    {
     "data": {
      "text/plain": [
       "acc_now_delinq                0\n",
       "collections_12_mths_ex_med    0\n",
       "fico_range_high               0\n",
       "fico_range_low                0\n",
       "delinq_2yrs                   0\n",
       "delinq_amnt                   0\n",
       "earliest_cr_line              0\n",
       "home_ownership                0\n",
       "dti                           0\n",
       "annual_inc                    0\n",
       "initial_list_status           0\n",
       "inq_last_6mths                0\n",
       "int_rate                      0\n",
       "emp_length                    0\n",
       "loan_amnt                     0\n",
       "id                            0\n",
       "purpose                       0\n",
       "term                          0\n",
       "addr_state                    0\n",
       "installment                   0\n",
       "open_acc                      0\n",
       "pub_rec                       0\n",
       "revol_util                    0\n",
       "revol_bal                     0\n",
       "tot_coll_amt                  0\n",
       "total_acc                     0\n",
       "tot_cur_bal                   0\n",
       "verification_status           0\n",
       "grade                         0\n",
       "dtype: int64"
      ]
     },
     "execution_count": 31,
     "metadata": {},
     "output_type": "execute_result"
    }
   ],
   "source": [
    "#Sanity check that no more missing values\n",
    "df_cleaned[known_vars].isnull().sum()\n"
   ]
  },
  {
   "cell_type": "markdown",
   "metadata": {},
   "source": [
    "### Feature Engineering"
   ]
  },
  {
   "cell_type": "code",
   "execution_count": 32,
   "metadata": {},
   "outputs": [],
   "source": [
    "# Simplify loan status (non-FullyPaid or ChargedOff loans will be converted to NAN)\n",
    "df_cleaned['loan_status'] = df_cleaned['loan_status'].map({'Fully Paid':'Fully Paid',\n",
    "                                                           'Charged Off':'Charged Off',\n",
    "                                                           'Does not meet the credit policy. Status:Fully Paid': 'Fully Paid',\n",
    "                                                           'Does not meet the credit policy. Status:Charged Off': 'Charged Off'})\n",
    "\n",
    "# Remove non-completed loans\n",
    "df_cleaned.drop(df_cleaned.loc[df_cleaned['loan_status'].isnull()].index.tolist(), axis=0, inplace=True)\n",
    "\n",
    "# Simplify home ownership\n",
    "df_cleaned['home_ownership'] = df_cleaned['home_ownership'].map({'MORTGAGE':'mortgage',\n",
    "                                                                 'OWN':'own',\n",
    "                                                                 'RENT':'rent'})\n",
    "\n",
    "# Remove 25 observations without houses\n",
    "df_cleaned.drop(df_cleaned.loc[df_cleaned['home_ownership'].isnull()].index.tolist(), axis=0, inplace=True)\n",
    "\n",
    "\n",
    "# Reformat date features and calculate features related to prepayment  \n",
    "df_cleaned['term_year'] = np.where(df_cleaned['term']==' 36 months', 3,5)\n",
    "df_cleaned['earliest_cr_line'] =  pd.to_datetime(df_cleaned['earliest_cr_line'])\n",
    "df_cleaned['issue_date'] =  pd.to_datetime(df_cleaned['issue_d'])\n",
    "df_cleaned['last_pymnt_date'] = pd.to_datetime(df_cleaned['last_pymnt_d'])\n",
    "df_cleaned['exp_last_pymnt_date'] = pd.to_datetime(df_cleaned['issue_d'].str[0:3]\n",
    "                                                   +'-'\n",
    "                                                   + (df_cleaned['issue_d'].str[-4:].astype('int')\n",
    "                                                   + df_cleaned['term_year']).astype('str'))\n",
    "\n",
    "# Calculate credit history ( in months )\n",
    "date_ofloan = df_cleaned['issue_date'].dt.to_period('M').astype(int)\n",
    "date_credline = df_cleaned['earliest_cr_line'].dt.to_period('M').astype(int)\n",
    "df_cleaned['credit_hist_mths'] = date_ofloan - date_credline\n",
    "df_cleaned['credit_hist_mths'] = np.where(df_cleaned['credit_hist_mths'] < 0, 0, df_cleaned['credit_hist_mths'])\n",
    "\n",
    "# Log-transform skewed continuous features\n",
    "df_cleaned['delinq_amnt_log'] = df_cleaned['delinq_amnt'].add(1).apply(np.log)\n",
    "df_cleaned['annual_inc_log'] = df_cleaned['annual_inc'].add(1).apply(np.log)\n",
    "df_cleaned['dti_log'] = df_cleaned['dti'].add(1).apply(np.log)\n",
    "df_cleaned['funded_amnt_log'] = df_cleaned['funded_amnt'].add(1).apply(np.log)\n",
    "df_cleaned['tot_coll_amt_log'] = df_cleaned['tot_coll_amt'].add(1).apply(np.log)\n",
    "df_cleaned['tot_cur_bal_log'] = df_cleaned['tot_cur_bal'].add(1).apply(np.log)\n",
    "df_cleaned['total_acc_log'] = df_cleaned['total_acc'].add(1).apply(np.log)\n",
    "df_cleaned['revol_bal_log'] = df_cleaned['revol_bal'].add(1).apply(np.log)\n",
    "df_cleaned['installment_log'] = df_cleaned['installment'].add(1).apply(np.log)\n",
    "df_cleaned['open_acc_log'] = df_cleaned['open_acc'].add(1).apply(np.log)\n",
    "\n",
    "# Simplify loan purpose - debt consolidation, credit card, and other\n",
    "df_cleaned['purpose'] = df_cleaned['purpose'].map({'debt_consolidation':'debt_consolidation',\n",
    "                                                   'credit_card':'credit_card'})\n",
    "df_cleaned['purpose'].fillna('other',inplace=True)\n",
    "\n",
    "# Convert loan grade to ordinal feature\n",
    "df_cleaned['grade'] = df_cleaned['grade'].map({'A':1,\n",
    "                                               'B':2,\n",
    "                                               'C':3,\n",
    "                                               'D':4,\n",
    "                                               'E':5,\n",
    "                                               'F':6,\n",
    "                                               'G':7})\n",
    "\n",
    "# Simplify employment length to four categories\n",
    "df_cleaned['emp_length'] = df_cleaned['emp_length'].map({'< 1 year':0.5,\n",
    "                                                         '1 year':1,\n",
    "                                                         '2 years':2,\n",
    "                                                         '3 years':3,\n",
    "                                                         '4 years':4,\n",
    "                                                         '5 years':5,\n",
    "                                                         '6 years':6,\n",
    "                                                         '7 years':7,\n",
    "                                                         '8 years':8,\n",
    "                                                         '9 years':9,\n",
    "                                                         '10+ years':10})\n",
    "\n",
    "# Create new binary features\n",
    "df_cleaned['has_pub_rec'] = np.where(df_cleaned['pub_rec']>0,1,0) #0-=no public record\n",
    "df_cleaned['has_paid_early'] = np.where((df_cleaned.loan_status=='Fully Paid')&(df_cleaned.last_pymnt_date < df_cleaned.exp_last_pymnt_date), 1, 0)\n",
    "df_cleaned['has_36mo_loan'] = np.where(df_cleaned['term'].str.contains('36'),1,0) #0=60mo loan\n",
    "df_cleaned['has_delinq_now'] = np.where(df_cleaned['acc_now_delinq']>0, 1, 0)\n",
    "df_cleaned['has_delinq_past2yrs'] = np.where(df_cleaned['delinq_2yrs']>0, 1, 0) #0=no delinq within 2yrs\n",
    "df_cleaned['has_whole_liststatus'] = np.where(df_cleaned['initial_list_status']=='w', 1, 0) #0=f\n",
    "df_cleaned['has_fullypaid'] = np.where(df_cleaned['loan_status']=='Fully Paid', 1, 0) #0=charged off\n"
   ]
  },
  {
   "cell_type": "code",
   "execution_count": 33,
   "metadata": {},
   "outputs": [
    {
     "name": "stdout",
     "output_type": "stream",
     "text": [
      "Fraction of loans above threadhold: 0.838\n"
     ]
    }
   ],
   "source": [
    "# Create response variable based on \n",
    "threshold = -20 #goal % return\n",
    "df_cleaned[\"roi_perc\"] = df_cleaned[\"total_pymnt\"].div(df_cleaned[\"funded_amnt\"]).sub(1).mul(100)\n",
    "df_cleaned['roi_response'] = np.where(df_cleaned['roi_perc'] > threshold, 1, 0)\n",
    "\n",
    "print('Fraction of loans above threadhold: %.3f' % df_cleaned['roi_response'].mean())\n",
    "\n",
    "# ==================================================================\n",
    "# Majority class [1] = ROI >-20% (IDEAL)\n",
    "# Minority class [0] = ROI <-20% (BAD)"
   ]
  },
  {
   "cell_type": "code",
   "execution_count": 34,
   "metadata": {},
   "outputs": [],
   "source": [
    "# Isolate list of predictor variables to be used for ML\n",
    "predictor_vars = ['annual_inc_log',\n",
    "                  'credit_hist_mths',\n",
    "                  'delinq_amnt_log',\n",
    "                  'dti_log',\n",
    "                  'emp_length',\n",
    "                  'fico_range_high',\n",
    "                  'funded_amnt_log',\n",
    "                  'grade',\n",
    "                  'has_36mo_loan',\n",
    "                  'has_delinq_now',\n",
    "                  'has_delinq_past2yrs',\n",
    "                  'has_pub_rec',\n",
    "                  'has_whole_liststatus',\n",
    "                  'home_ownership',\n",
    "                  'inq_last_6mths',\n",
    "                  'installment_log',\n",
    "                  'int_rate',\n",
    "                  'open_acc_log',\n",
    "                  'purpose',\n",
    "                  'revol_bal_log',\n",
    "                  'revol_util',\n",
    "                  'tot_coll_amt_log',\n",
    "                  'tot_cur_bal_log',\n",
    "                  'total_acc_log',\n",
    "                  'verification_status']\n",
    "\n",
    "response_var = 'roi_response'\n"
   ]
  },
  {
   "cell_type": "markdown",
   "metadata": {},
   "source": [
    "# Machine Learning"
   ]
  },
  {
   "cell_type": "markdown",
   "metadata": {},
   "source": [
    "### Data Preparation"
   ]
  },
  {
   "cell_type": "code",
   "execution_count": 35,
   "metadata": {},
   "outputs": [],
   "source": [
    "# Dummify categorical features\n",
    "home_ownership_dummy = pd.get_dummies(df_cleaned['home_ownership'],\n",
    "                                      prefix=\"home_ownership\").drop('home_ownership_mortgage',axis=1)\n",
    "\n",
    "purpose_dummy = pd.get_dummies(df_cleaned['purpose'],\n",
    "                               prefix=\"purpose\").drop('purpose_debt_consolidation',axis=1)\n",
    "\n",
    "verification_status_dummy = pd.get_dummies(df_cleaned['verification_status'],\n",
    "                               prefix=\"verification_status\").drop('verification_status_Source Verified',axis=1)\n"
   ]
  },
  {
   "cell_type": "code",
   "execution_count": 36,
   "metadata": {},
   "outputs": [],
   "source": [
    "# List of numeric features in the final dataframe\n",
    "numeric_vars = ['annual_inc_log',\n",
    "                'credit_hist_mths',\n",
    "                'delinq_amnt_log',\n",
    "                'dti_log',\n",
    "                'emp_length',\n",
    "                'fico_range_high',\n",
    "                'funded_amnt_log',\n",
    "                'grade',\n",
    "                'has_36mo_loan',\n",
    "                'has_delinq_now',\n",
    "                'has_delinq_past2yrs',\n",
    "                'has_pub_rec',\n",
    "                'has_whole_liststatus',\n",
    "                'inq_last_6mths',\n",
    "                'installment_log',\n",
    "                'int_rate',\n",
    "                'open_acc_log',\n",
    "                'revol_bal_log',\n",
    "                'revol_util',\n",
    "                'tot_coll_amt_log',\n",
    "                'tot_cur_bal_log',\n",
    "                'total_acc_log']\n"
   ]
  },
  {
   "cell_type": "code",
   "execution_count": 37,
   "metadata": {},
   "outputs": [],
   "source": [
    "# final dataframe for model consumption\n",
    "df_feature_final = pd.concat([df_cleaned[numeric_vars],\n",
    "                      home_ownership_dummy,\n",
    "                      purpose_dummy,\n",
    "                      verification_status_dummy],axis=1)"
   ]
  },
  {
   "cell_type": "markdown",
   "metadata": {},
   "source": [
    "### Logistic Regression\n",
    "- Goal is to build classifier that predicts if loan results in desirable outcome\n",
    "- Should also report feature importance"
   ]
  },
  {
   "cell_type": "code",
   "execution_count": null,
   "metadata": {},
   "outputs": [],
   "source": []
  },
  {
   "cell_type": "code",
   "execution_count": null,
   "metadata": {},
   "outputs": [],
   "source": []
  },
  {
   "cell_type": "code",
   "execution_count": null,
   "metadata": {},
   "outputs": [],
   "source": []
  },
  {
   "cell_type": "markdown",
   "metadata": {},
   "source": [
    "### Tree-Based Model\n",
    "- Goal is to build classifier that predicts if loan results in desirable outcome\n",
    "- Should also report feature importance\n",
    "\n",
    "- Initially explored Random Forest algorithm but switched to XGboost due to time constraint\n"
   ]
  },
  {
   "cell_type": "code",
   "execution_count": 39,
   "metadata": {},
   "outputs": [],
   "source": [
    "import xgboost as xgb\n",
    "from sklearn.model_selection import train_test_split\n",
    "from sklearn.model_selection import GridSearchCV\n",
    "from sklearn.metrics import precision_recall_curve, average_precision_score, precision_score, auc, recall_score, roc_auc_score\n",
    "from sklearn.metrics import confusion_matrix, plot_confusion_matrix"
   ]
  },
  {
   "cell_type": "markdown",
   "metadata": {},
   "source": [
    "#### Naive XGBoost Model - Imbalanced Data (83.8% ROI>-20%)\n",
    "\n",
    "*Goal is to minimize false positives* - Maximixe precision\n",
    "- Majority class [1] = ROI >-20% (IDEAL)\n",
    "- Minority class [0] = ROI <-20% (BAD)\n"
   ]
  },
  {
   "cell_type": "code",
   "execution_count": 40,
   "metadata": {},
   "outputs": [],
   "source": [
    "#Create test-train split of data\n",
    "x = df_feature_final\n",
    "y = df_cleaned[response_var] #labels\n",
    "x_train, x_test, y_train, y_test = train_test_split(x, y, test_size=0.2, random_state=0)"
   ]
  },
  {
   "cell_type": "code",
   "execution_count": 42,
   "metadata": {},
   "outputs": [
    {
     "data": {
      "text/plain": [
       "{'auc_PR': 0.841,\n",
       " 'accuracy': 0.8384,\n",
       " 'recall': 0.9955,\n",
       " 'precision': 0.841,\n",
       " 'false_discovery_rate': 0.159,\n",
       " 'false_pos_rate': 0.9785,\n",
       " 'error_rate': 0.1616,\n",
       " 'n_true_pos': 11323,\n",
       " 'n_false_pos': 2140}"
      ]
     },
     "execution_count": 42,
     "metadata": {},
     "output_type": "execute_result"
    }
   ],
   "source": [
    "#Create random forest object\n",
    "naive_model = xgb.XGBClassifier(objective = 'binary:logistic', \n",
    "                                seed = 0)\n",
    "\n",
    "#Fit model with data\n",
    "naive_model.fit(x_train, y_train)\n",
    "\n",
    "#Analyze\n",
    "model = naive_model\n",
    "tn, fp, fn, tp = confusion_matrix(y_test, model.predict(x_test)).ravel()\n",
    "results = {'auc_PR': round(average_precision_score(y_test, model.predict(x_test)),4),\n",
    "           'accuracy': round((tp + tn) / (tp + tn + fn + fp),4),\n",
    "           'recall': round(tp / (tp + fn),4),\n",
    "           'precision': round(tp/(tp+fp),4),\n",
    "           'false_discovery_rate': round(fp/(fp+tp),4),\n",
    "           'false_pos_rate': round(fp / (tn + fp),4),\n",
    "           'error_rate': round((fp + fn) / (tp + tn + fn + fp),4),\n",
    "           'n_true_pos':tp,\n",
    "           'n_false_pos':fp}\n",
    "results\n",
    "\n",
    "# # ==================== Print Results ====================\n",
    "# model = naive_model\n",
    "# y_pred = model.predict(x_test)\n",
    "# auc_PR = average_precision_score(y_test, y_pred)\n",
    "# precision, recall, _ = precision_recall_curve(y_test, y_pred)\n",
    "# plt.plot(recall, precision)\n",
    "# plt.xlabel('Recall (True Positive) ')\n",
    "# plt.ylabel('Precision (Proportion Correct)')\n",
    "# plt.ylim([0.0, 1.05])\n",
    "# plt.xlim([0.0, 1.0])\n",
    "# plt.title('Binary Precision-Recall curve: '\n",
    "#                    'auc_PR={0:0.2f}'.format(auc_PR))"
   ]
  },
  {
   "cell_type": "markdown",
   "metadata": {},
   "source": [
    "#### Naive XGBoost Model - using scale_pos_weight parameter"
   ]
  },
  {
   "cell_type": "code",
   "execution_count": 44,
   "metadata": {},
   "outputs": [
    {
     "data": {
      "text/plain": [
       "{'weight': 0.1929,\n",
       " 'auc_PR': 0.8833,\n",
       " 'accuracy': 0.6413,\n",
       " 'recall': 0.6363,\n",
       " 'precision': 0.9087,\n",
       " 'false_discovery_rate': 0.0913,\n",
       " 'false_pos_rate': 0.3324,\n",
       " 'error_rate': 0.3587,\n",
       " 'n_true_pos': 7237,\n",
       " 'n_false_pos': 727}"
      ]
     },
     "execution_count": 44,
     "metadata": {},
     "output_type": "execute_result"
    }
   ],
   "source": [
    "#Create random forest object\n",
    "#scale_pos_weight = sum(negative) / sum(positive)\n",
    "naive_spw_model = xgb.XGBClassifier(objective = 'binary:logistic',\n",
    "                                    scale_pos_weight=(len(y)-y.sum())/y.sum(), #0.1929\n",
    "                                    seed = 0)\n",
    "\n",
    "#Fit model with data\n",
    "naive_spw_model.fit(x_train, y_train)\n",
    "\n",
    "#Analyze\n",
    "model = naive_spw_model\n",
    "tn, fp, fn, tp = confusion_matrix(y_test, model.predict(x_test)).ravel()\n",
    "naive_spw_results = {'weight': round((len(y)-y.sum())/y.sum(),4),\n",
    "                     'auc_PR': round(average_precision_score(y_test, model.predict(x_test)),4),\n",
    "                     'accuracy': round((tp + tn) / (tp + tn + fn + fp),4),\n",
    "                     'recall': round(tp / (tp + fn),4),\n",
    "                     'precision': round(tp/(tp+fp),4),\n",
    "                     'false_discovery_rate': round(fp/(fp+tp),4),\n",
    "                     'false_pos_rate': round(fp / (tn + fp),4),\n",
    "                     'error_rate': round((fp + fn) / (tp + tn + fn + fp),4),\n",
    "                     'n_true_pos':tp,\n",
    "                     'n_false_pos':fp}\n",
    "naive_spw_results\n",
    "\n",
    "# # ==================== Print Results ====================\n",
    "# model = naive_model\n",
    "# y_pred = model.predict(x_test)\n",
    "# auc_PR = average_precision_score(y_test, y_pred)\n",
    "# precision, recall, _ = precision_recall_curve(y_test, y_pred)\n",
    "# plt.plot(recall, precision)\n",
    "# plt.xlabel('Recall (True Positive) ')\n",
    "# plt.ylabel('Precision (Proportion Correct)')\n",
    "# plt.ylim([0.0, 1.05])\n",
    "# plt.xlim([0.0, 1.0])\n",
    "# plt.title('Binary Precision-Recall curve: '\n",
    "#                    'auc_PR={0:0.2f}'.format(auc_PR))"
   ]
  },
  {
   "cell_type": "markdown",
   "metadata": {},
   "source": [
    "**Tuning Hyperparameters**\n",
    "- max_depth = depth of trees (3-10)\n",
    "- min_child_weight = similar to min_child_leaf for RandomForest\n",
    "- gamma = min. loss reduction required for split\n",
    "- subsample = frac of observations randomly sampled for tree (0.5-1)\n",
    "- colsample_bytree = number of features sampled for each tree\n",
    "- learning rate = typically between 0.01-0.2"
   ]
  },
  {
   "cell_type": "code",
   "execution_count": 45,
   "metadata": {},
   "outputs": [],
   "source": [
    "# from sklearn.model_selection import train_test_split, GridSearchCV, RandomizedSearchCV, StratifiedKFold\n",
    "# from sklearn.metrics import roc_curve, precision_recall_curve, auc, make_scorer, recall_score, accuracy_score, precision_score, confusion_matrix\n"
   ]
  },
  {
   "cell_type": "code",
   "execution_count": 46,
   "metadata": {},
   "outputs": [],
   "source": [
    "# def grid_search_wrapper(refit_score='precision_score'):\n",
    "#     \"\"\"\n",
    "#     fits a GridSearchCV classifier using refit_score for optimization\n",
    "#     prints classifier performance metrics\n",
    "#     \"\"\"\n",
    "    \n",
    "#     skf = StratifiedKFold(n_splits=5)\n",
    "#     grid_search = GridSearchCV(model,\n",
    "#                                      param_grid,\n",
    "#                                      scoring=scorers,\n",
    "#                                      refit=refit_score,\n",
    "#                                      cv=skf,\n",
    "#                                      verbose=1,\n",
    "#                                      return_train_score=True,\n",
    "#                                      n_jobs = -1)\n",
    "    \n",
    "#     grid_search.fit(x_train, y_train)\n",
    "\n",
    "#     # make the predictions\n",
    "#     y_pred = grid_search.predict(x_test)\n",
    "\n",
    "#     print('Best params for {}'.format(refit_score))\n",
    "#     print(grid_search.best_params_)\n",
    "\n",
    "#     # confusion matrix on the test data.\n",
    "#     print('\\nConfusion matrix of XGBoost optimized for {} on the test data:'.format(refit_score))\n",
    "#     print(pd.DataFrame(confusion_matrix(y_test, y_pred),\n",
    "#                  columns=['pred_neg', 'pred_pos'], index=['neg', 'pos']))\n",
    "    \n",
    "#     tn, fp, fn, tp = confusion_matrix(y_test, y_pred).ravel()\n",
    "#     precision = round(tp/(tp+fp),4) * 100\n",
    "#     print(\"\\nPrecision: {0}% of loans identified as a good loan (ROI>-20%) were correct\\n\".format(precision))\n",
    "\n",
    "#     false_discovery_rate = round(fp/(fp+tp),4) * 100\n",
    "#     print(\"False discovery rate: {0}% of loans identified as good [ROI>-20%] were actually bad loans [ROI<-20%]\\n\\n\".format(false_discovery_rate))\n",
    "\n",
    "#     return grid_search"
   ]
  },
  {
   "cell_type": "code",
   "execution_count": 47,
   "metadata": {},
   "outputs": [],
   "source": [
    "# %%time\n",
    "# #Based on link: https://towardsdatascience.com/fine-tuning-a-classifier-in-scikit-learn-66e048c21e65\n",
    "\n",
    "# xgb_model = xgb.XGBClassifier(objective = 'binary:logistic',\n",
    "#                               early_stopping_rounds = 5,\n",
    "#                               scale_pos_weight = (len(y)-y.sum())/y.sum())\n",
    "\n",
    "\n",
    "# c\n",
    "\n",
    "# scorers = {\n",
    "#     'precision_score': make_scorer(precision_score),\n",
    "# }\n",
    "\n",
    "# grid_search_model = grid_search_wrapper(refit_score='precision_score')\n",
    "\n"
   ]
  },
  {
   "cell_type": "markdown",
   "metadata": {},
   "source": [
    "## Results"
   ]
  },
  {
   "cell_type": "markdown",
   "metadata": {},
   "source": [
    "### Naive Model"
   ]
  },
  {
   "cell_type": "code",
   "execution_count": 48,
   "metadata": {},
   "outputs": [
    {
     "name": "stdout",
     "output_type": "stream",
     "text": [
      "     pred_neg  pred_pos\n",
      "neg      1460       727\n",
      "pos      4137      7237\n",
      "\n",
      "Accuracy: 64.13% of loans were correctly identified\n",
      "\n",
      "Specificity: 66.75999999999999% of loans with ROI<-20% were identified as a bad loan loan\n",
      "\n",
      "Recall/Sensitivity: 63.629999999999995% of loans with ROI>-20% were identified as a good loan\n",
      "\n",
      "Precision: 90.86999999999999% of loans identified as a good loan (ROI>-20%) were correct\n",
      "\n",
      "False discovery rate: 9.13% of loans identified as good [ROI>-20%] were actually bad loans [ROI<-20%]\n",
      "\n",
      "False Positive Rate: 33.239999999999995% of bad loans [ROI<-20%] were identified as a good loan [ROI>-20%]\n",
      "\n"
     ]
    }
   ],
   "source": [
    "#Confusion Matrix\n",
    "y_pred = naive_spw_model.predict(x_test)\n",
    "print(pd.DataFrame(confusion_matrix(y_test, y_pred),\n",
    "             columns=['pred_neg', 'pred_pos'], index=['neg', 'pos']))\n",
    "\n",
    "#CM Calculations\n",
    "tn, fp, fn, tp = confusion_matrix(y_test, y_pred).ravel()\n",
    "\n",
    "accuracy = round( 100*(tp + tn) / (tp + tn + fn + fp) ,2)\n",
    "print(\"\\nAccuracy: {0}% of loans were correctly identified\\n\".format(accuracy))\n",
    "\n",
    "specificity = round(tn / (tn + fp),4) * 100 #true negative rate\n",
    "print(\"Specificity: {0}% of loans with ROI<-20% were identified as a bad loan loan\\n\".format(specificity))\n",
    "\n",
    "recall = round(tp / (tp + fn), 4) * 100 #true positive rate\n",
    "print(\"Recall/Sensitivity: {0}% of loans with ROI>-20% were identified as a good loan\\n\".format(recall))\n",
    "\n",
    "precision = round(tp/(tp+fp),4) * 100\n",
    "print(\"Precision: {0}% of loans identified as a good loan (ROI>-20%) were correct\\n\".format(precision))\n",
    "\n",
    "false_discovery_rate = round(fp/(fp+tp),4) * 100\n",
    "print(\"False discovery rate: {0}% of loans identified as good [ROI>-20%] were actually bad loans [ROI<-20%]\\n\".format(false_discovery_rate))\n",
    "\n",
    "false_pos_rate = round(fp / (tn + fp),4) * 100\n",
    "print(\"False Positive Rate: {0}% of bad loans [ROI<-20%] were identified as a good loan [ROI>-20%]\\n\".format(false_pos_rate))\n"
   ]
  },
  {
   "cell_type": "markdown",
   "metadata": {},
   "source": [
    "### Balanced Model"
   ]
  },
  {
   "cell_type": "code",
   "execution_count": 50,
   "metadata": {},
   "outputs": [
    {
     "name": "stdout",
     "output_type": "stream",
     "text": [
      "     pred_neg  pred_pos\n",
      "neg      1471       716\n",
      "pos      4229      7145\n",
      "\n",
      "Accuracy: 64.13% of loans were correctly identified\n",
      "\n",
      "Specificity: 66.75999999999999% of loans with ROI<-20% were identified as a bad loan loan\n",
      "\n",
      "Recall/Sensitivity: 63.629999999999995% of loans with ROI>-20% were identified as a good loan\n",
      "\n",
      "Precision: 90.86999999999999% of loans identified as a good loan (ROI>-20%) were correct\n",
      "\n",
      "False discovery rate: 9.13% of loans identified as good [ROI>-20%] were actually bad loans [ROI<-20%]\n",
      "\n",
      "False Positive Rate: 33.239999999999995% of bad loans [ROI<-20%] were identified as a good loan [ROI>-20%]\n",
      "\n"
     ]
    }
   ],
   "source": [
    "xgb_balanced = xgb.XGBClassifier(objective = 'binary:logistic',\n",
    "                              early_stopping_rounds = 5,\n",
    "                              scale_pos_weight = (len(y)-y.sum())/y.sum(),\n",
    "                              seed = 0,\n",
    "                              colsample_bytree = 0.9, \n",
    "                              max_depth = 1, \n",
    "                              n_estimators = 500,\n",
    "                              subsample = 0.5,\n",
    "                              n_jobs = -1)\n",
    "\n",
    "xgb_balanced.fit(x_train, y_train)\n",
    "\n",
    "#Confusion Matrix\n",
    "y_pred = xgb_balanced.predict(x_test)\n",
    "print(pd.DataFrame(confusion_matrix(y_test, y_pred),\n",
    "             columns=['pred_neg', 'pred_pos'], index=['neg', 'pos']))\n",
    "\n",
    "# #CM Calculations\n",
    "tn, fp, fn, tp = confusion_matrix(y_test, model.predict(x_test)).ravel()\n",
    "\n",
    "accuracy = round( 100*(tp + tn) / (tp + tn + fn + fp) ,2)\n",
    "print(\"\\nAccuracy: {0}% of loans were correctly identified\\n\".format(accuracy))\n",
    "\n",
    "specificity = round(tn / (tn + fp),4) * 100 #true negative rate\n",
    "print(\"Specificity: {0}% of loans with ROI<-20% were identified as a bad loan loan\\n\".format(specificity))\n",
    "\n",
    "recall = round(tp / (tp + fn), 4) * 100 #true positive rate\n",
    "print(\"Recall/Sensitivity: {0}% of loans with ROI>-20% were identified as a good loan\\n\".format(recall))\n",
    "\n",
    "precision = round(tp/(tp+fp),4) * 100\n",
    "print(\"Precision: {0}% of loans identified as a good loan (ROI>-20%) were correct\\n\".format(precision))\n",
    "\n",
    "false_discovery_rate = round(fp/(fp+tp),4) * 100\n",
    "print(\"False discovery rate: {0}% of loans identified as good [ROI>-20%] were actually bad loans [ROI<-20%]\\n\".format(false_discovery_rate))\n",
    "\n",
    "false_pos_rate = round(fp / (tn + fp),4) * 100\n",
    "print(\"False Positive Rate: {0}% of bad loans [ROI<-20%] were identified as a good loan [ROI>-20%]\\n\".format(false_pos_rate))\n",
    "\n"
   ]
  },
  {
   "cell_type": "markdown",
   "metadata": {},
   "source": [
    "#### Feature Importance"
   ]
  },
  {
   "cell_type": "code",
   "execution_count": 84,
   "metadata": {},
   "outputs": [
    {
     "data": {
      "image/png": "[encoded data removed]",
      "text/plain": [
       "<Figure size 720x432 with 1 Axes>"
      ]
     },
     "metadata": {
      "needs_background": "light"
     },
     "output_type": "display_data"
    },
    {
     "data": {
      "application/javascript": [
       "\n",
       "            setTimeout(function() {\n",
       "                var nbb_cell_id = 84;\n",
       "                var nbb_unformatted_code = \"plt.rcParams[\\\"figure.figsize\\\"] = (10, 6)\\nax = xgb.plot_importance(\\n    xgb_balanced,\\n    ax=None,\\n    title=\\\"XGBoost: Feature Importance by Model 'Gain'\\\",\\n    xlabel=\\\"F-Score\\\",\\n    ylabel=\\\"Model Features\\\",\\n    importance_type=\\\"gain\\\",\\n    max_num_features=10,\\n    grid=True,\\n    show_values=False,\\n    xlim=(0, 500),\\n)\\n\\ntick_labels = [\\n    \\\"Installment Amnt\\\",\\n    \\\"FICO Score\\\",\\n    \\\"Total Current Balance\\\",\\n    \\\"List Status\\\",\\n    \\\"DTI\\\",\\n    \\\"Non-Verified Income\\\",\\n    \\\"Home Renter\\\",\\n    \\\"Interest Rate\\\",\\n    \\\"60mo Loan\\\",\\n    \\\"Grade\\\",\\n]\\nax.set_yticklabels(tick_labels)\\n\\nplt.savefig(\\\"xgboost_feature_importance.pdf\\\", bbox_inches=\\\"tight\\\")\";\n",
       "                var nbb_formatted_code = \"plt.rcParams[\\\"figure.figsize\\\"] = (10, 6)\\nax = xgb.plot_importance(\\n    xgb_balanced,\\n    ax=None,\\n    title=\\\"XGBoost: Feature Importance by Model 'Gain'\\\",\\n    xlabel=\\\"F-Score\\\",\\n    ylabel=\\\"Model Features\\\",\\n    importance_type=\\\"gain\\\",\\n    max_num_features=10,\\n    grid=True,\\n    show_values=False,\\n    xlim=(0, 500),\\n)\\n\\ntick_labels = [\\n    \\\"Installment Amnt\\\",\\n    \\\"FICO Score\\\",\\n    \\\"Total Current Balance\\\",\\n    \\\"List Status\\\",\\n    \\\"DTI\\\",\\n    \\\"Non-Verified Income\\\",\\n    \\\"Home Renter\\\",\\n    \\\"Interest Rate\\\",\\n    \\\"60mo Loan\\\",\\n    \\\"Grade\\\",\\n]\\nax.set_yticklabels(tick_labels)\\n\\nplt.savefig(\\\"xgboost_feature_importance.pdf\\\", bbox_inches=\\\"tight\\\")\";\n",
       "                var nbb_cells = Jupyter.notebook.get_cells();\n",
       "                for (var i = 0; i < nbb_cells.length; ++i) {\n",
       "                    if (nbb_cells[i].input_prompt_number == nbb_cell_id) {\n",
       "                        if (nbb_cells[i].get_text() == nbb_unformatted_code) {\n",
       "                             nbb_cells[i].set_text(nbb_formatted_code);\n",
       "                        }\n",
       "                        break;\n",
       "                    }\n",
       "                }\n",
       "            }, 500);\n",
       "            "
      ],
      "text/plain": [
       "<IPython.core.display.Javascript object>"
      ]
     },
     "metadata": {},
     "output_type": "display_data"
    }
   ],
   "source": [
    "plt.rcParams[\"figure.figsize\"] = (10, 6)\n",
    "ax = xgb.plot_importance(\n",
    "    xgb_balanced,\n",
    "    ax=None,\n",
    "    title=\"XGBoost: Feature Importance by Model 'Gain'\",\n",
    "    xlabel=\"F-Score\",\n",
    "    ylabel=\"Model Features\",\n",
    "    importance_type=\"gain\",\n",
    "    max_num_features=10,\n",
    "    grid=True,\n",
    "    show_values=False,\n",
    "    xlim=(0, 500),\n",
    ")\n",
    "\n",
    "tick_labels = [\n",
    "    \"Installment Amnt\",\n",
    "    \"FICO Score\",\n",
    "    \"Total Current Balance\",\n",
    "    \"List Status\",\n",
    "    \"DTI\",\n",
    "    \"Non-Verified Income\",\n",
    "    \"Home Renter\",\n",
    "    \"Interest Rate\",\n",
    "    \"60mo Loan\",\n",
    "    \"Grade\",\n",
    "]\n",
    "ax.set_yticklabels(tick_labels)\n",
    "\n",
    "plt.savefig(\"xgboost_feature_importance.pdf\", bbox_inches=\"tight\")\n"
   ]
  },
  {
   "cell_type": "code",
   "execution_count": 150,
   "metadata": {
    "scrolled": false
   },
   "outputs": [],
   "source": [
    "# Export Results\n",
    "\n",
    "xgboost_output = pd.concat([x_test, y_test], axis=1)\n",
    "xgboost_output['y_predict'] = y_pred\n",
    "\n",
    "xgboost_output = pd.merge(xgboost_output, df_cleaned[\"roi_perc\"], left_on = xgboost_output.index, right_on = df_cleaned[\"roi_perc\"].index)\n",
    "\n",
    "xgboost_output.to_csv(path_or_buf = 'xgboost_output.csv',sep=',')"
   ]
  }
 ],
 "metadata": {
  "kernelspec": {
   "display_name": "Python 3",
   "language": "python",
   "name": "python3"
  },
  "language_info": {
   "codemirror_mode": {
    "name": "ipython",
    "version": 3
   },
   "file_extension": ".py",
   "mimetype": "text/x-python",
   "name": "python",
   "nbconvert_exporter": "python",
   "pygments_lexer": "ipython3",
   "version": "3.7.4"
  }
 },
 "nbformat": 4,
 "nbformat_minor": 2
}
