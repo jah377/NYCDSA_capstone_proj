{
 "cells": [
  {
   "cell_type": "markdown",
   "metadata": {},
   "source": [
    "# Loan Club: Machine Learning Capstone Notebook"
   ]
  },
  {
   "cell_type": "code",
   "execution_count": 1,
   "metadata": {},
   "outputs": [],
   "source": [
    "# Load packages\n",
    "import pandas as pd\n",
    "import numpy as np\n",
    "import re\n",
    "from time import strptime  # format data columns\n",
    "import warnings\n",
    "import math\n",
    "\n",
    "from matplotlib import pyplot as plt\n",
    "import matplotlib.ticker as ticker\n",
    "%matplotlib inline\n",
    "import seaborn as sns\n",
    "import plotly.express as px\n",
    "\n",
    "warnings.filterwarnings(\"ignore\")  # ignore warnings throughout notebook\n",
    "pd.set_option(\"display.max_columns\", None)  # show all columns"
   ]
  },
  {
   "cell_type": "code",
   "execution_count": 2,
   "metadata": {},
   "outputs": [],
   "source": [
    "# Load Data\n",
    "filepath = \"../data/accepted_subsampled_5percent.csv\" #will be personalized\n",
    "df = pd.read_csv(filepath, sep=\",\")\n",
    "\n",
    "df_cleaned = df.copy() #work from second copy"
   ]
  },
  {
   "cell_type": "code",
   "execution_count": 3,
   "metadata": {},
   "outputs": [],
   "source": [
    "# Features known to investors based on LC website\n",
    "known_vars = ['acc_now_delinq',             # accounts now deliquent\n",
    "              'collections_12_mths_ex_med', # collections excluding medical\n",
    "              'fico_range_high',            # credit score range\n",
    "              'fico_range_low',             # creit score range\n",
    "              'delinq_2yrs',                # delinquencies in last two years\n",
    "              'delinq_amnt',                # delinquency amount\n",
    "              'earliest_cr_line',           # earliest credit line\n",
    "              'home_ownership',             # home ownership\n",
    "              'dti',                        # debt2income ratio\n",
    "              'annual_inc',                 # annual income\n",
    "              'initial_list_status',        # initial listing status\n",
    "              'inq_last_6mths',             # credit inquires in last 6mo\n",
    "              'int_rate',                   # interest rate\n",
    "              'verification_status_joint',  # is this a joint app\n",
    "              'emp_length',                 # length of employment (yr)\n",
    "              'loan_amnt',                  # loan amount\n",
    "              'id',                         # loan id\n",
    "              'purpose',                    # purpose of the loan\n",
    "              'term',                       # loan term (3 or 5yr)\n",
    "              'addr_state',                 # borrower location state\n",
    "              'installment',                # montly payment\n",
    "              'mths_since_last_delinq',     # mo since last delinquency\n",
    "              'mths_since_last_major_derog',# mo since last maj. derogatory\n",
    "              'mths_since_last_record',     # mo since last public record\n",
    "              'open_acc',                   # open credit line\n",
    "              'pub_rec',                    # public records on file\n",
    "              'revol_util',                 # revolving balance utilization (%)\n",
    "              'revol_bal',                  # revolving credit balance ($)\n",
    "              'tot_coll_amt',               # total collection amount ever\n",
    "              'total_acc',                  # total credit lines\n",
    "              'tot_cur_bal',                # total current balance\n",
    "              'verification_status',        # verified income (Y/N I think)\n",
    "              'grade'                       # loan grade\n",
    "             ]\n",
    "\n",
    "# Sanity check, print variable if not found within original dataframe\n",
    "# [ print(var) for var in known_vars if (var not in df.columns)]\n"
   ]
  },
  {
   "cell_type": "markdown",
   "metadata": {},
   "source": [
    "### Impute Missing Data of Known Variables"
   ]
  },
  {
   "cell_type": "code",
   "execution_count": 4,
   "metadata": {},
   "outputs": [
    {
     "data": {
      "text/plain": [
       "verification_status_joint      0.949313\n",
       "mths_since_last_record         0.838543\n",
       "mths_since_last_major_derog    0.744395\n",
       "mths_since_last_delinq         0.513786\n",
       "emp_length                     0.063868\n",
       "tot_cur_bal                    0.033430\n",
       "tot_coll_amt                   0.033430\n",
       "revol_util                     0.001006\n",
       "dti                            0.000829\n",
       "collections_12_mths_ex_med     0.000476\n",
       "open_acc                       0.000185\n",
       "pub_rec                        0.000185\n",
       "total_acc                      0.000185\n",
       "inq_last_6mths                 0.000185\n",
       "earliest_cr_line               0.000185\n",
       "delinq_amnt                    0.000185\n",
       "delinq_2yrs                    0.000185\n",
       "acc_now_delinq                 0.000185\n",
       "dtype: float64"
      ]
     },
     "execution_count": 4,
     "metadata": {},
     "output_type": "execute_result"
    }
   ],
   "source": [
    "#Assess missingness of known variables\n",
    "missingness = df_cleaned[known_vars].isnull().mean().T\n",
    "missingness = missingness.loc[missingness>0].sort_values(ascending=False)\n",
    "missingness\n"
   ]
  },
  {
   "cell_type": "code",
   "execution_count": 5,
   "metadata": {},
   "outputs": [
    {
     "data": {
      "text/plain": [
       "[None, None, None, None]"
      ]
     },
     "execution_count": 5,
     "metadata": {},
     "output_type": "execute_result"
    }
   ],
   "source": [
    "# Drop features missing > 50% \n",
    "feat_wManyMissing = missingness.index[np.where(missingness > .5)].to_list()\n",
    "df_cleaned[known_vars].drop(df_cleaned[feat_wManyMissing], axis=1, inplace=True)\n",
    "[known_vars.remove(var) for var in feat_wManyMissing] #remove features from known_var list\n"
   ]
  },
  {
   "cell_type": "code",
   "execution_count": 6,
   "metadata": {},
   "outputs": [
    {
     "data": {
      "text/plain": [
       "[None, None, None, None, None, None, None, None, None, None, None]"
      ]
     },
     "execution_count": 6,
     "metadata": {},
     "output_type": "execute_result"
    }
   ],
   "source": [
    "# Replace NA's of numeric 'known_var' features with mean value\n",
    "numeric_var = ['tot_cur_bal',\n",
    "               'tot_coll_amt',\n",
    "               'revol_util',\n",
    "               'collections_12_mths_ex_med',\n",
    "               'open_acc',\n",
    "               'pub_rec',\n",
    "               'total_acc',\n",
    "               'inq_last_6mths',\n",
    "               'delinq_amnt',\n",
    "               'delinq_2yrs',\n",
    "               'dti' ]\n",
    "\n",
    "# List comprehension through numerica variables\n",
    "[df_cleaned[var].fillna(df[var].mean(), inplace=True) for var in numeric_var]\n"
   ]
  },
  {
   "cell_type": "code",
   "execution_count": 7,
   "metadata": {},
   "outputs": [
    {
     "data": {
      "text/plain": [
       "[None, None, None, None]"
      ]
     },
     "execution_count": 7,
     "metadata": {},
     "output_type": "execute_result"
    }
   ],
   "source": [
    "# Helper function to replace missing character strings with randomly selected value\n",
    "def fillna_random(var):\n",
    "    #find index of missing values\n",
    "    miss_idx = df_cleaned.loc[ df_cleaned[var].isnull()].index.tolist()\n",
    "    \n",
    "    #find new values to replace NaN values\n",
    "    new_val = df_cleaned[var].loc[~df_cleaned.index.isin(miss_idx)].sample(len(miss_idx)).values.tolist()\n",
    "\n",
    "    #replace values\n",
    "    df_cleaned[var][miss_idx] = new_val\n",
    "\n",
    "# ==================================================\n",
    "# Replace NA's of character 'known_var' features with random\n",
    "non_numeric_var = ['emp_length', 'earliest_cr_line', 'acc_now_delinq', 'delinq_2yrs'] #list of non-numeric variables\n",
    "[fillna_random(var) for var in non_numeric_var]\n"
   ]
  },
  {
   "cell_type": "code",
   "execution_count": 8,
   "metadata": {
    "scrolled": false
   },
   "outputs": [
    {
     "data": {
      "text/plain": [
       "acc_now_delinq                0\n",
       "collections_12_mths_ex_med    0\n",
       "fico_range_high               0\n",
       "fico_range_low                0\n",
       "delinq_2yrs                   0\n",
       "delinq_amnt                   0\n",
       "earliest_cr_line              0\n",
       "home_ownership                0\n",
       "dti                           0\n",
       "annual_inc                    0\n",
       "initial_list_status           0\n",
       "inq_last_6mths                0\n",
       "int_rate                      0\n",
       "emp_length                    0\n",
       "loan_amnt                     0\n",
       "id                            0\n",
       "purpose                       0\n",
       "term                          0\n",
       "addr_state                    0\n",
       "installment                   0\n",
       "open_acc                      0\n",
       "pub_rec                       0\n",
       "revol_util                    0\n",
       "revol_bal                     0\n",
       "tot_coll_amt                  0\n",
       "total_acc                     0\n",
       "tot_cur_bal                   0\n",
       "verification_status           0\n",
       "grade                         0\n",
       "dtype: int64"
      ]
     },
     "execution_count": 8,
     "metadata": {},
     "output_type": "execute_result"
    }
   ],
   "source": [
    "#Sanity check that no more missing values\n",
    "df_cleaned[known_vars].isnull().sum()\n"
   ]
  },
  {
   "cell_type": "code",
   "execution_count": 9,
   "metadata": {},
   "outputs": [
    {
     "data": {
      "text/plain": [
       "array(['B', 'C', 'A', 'E', 'D', 'F', 'G'], dtype=object)"
      ]
     },
     "execution_count": 9,
     "metadata": {},
     "output_type": "execute_result"
    }
   ],
   "source": [
    "df_cleaned['grade'].unique()"
   ]
  },
  {
   "cell_type": "markdown",
   "metadata": {},
   "source": [
    "### Feature Engineering"
   ]
  },
  {
   "cell_type": "code",
   "execution_count": 10,
   "metadata": {},
   "outputs": [],
   "source": [
    "# Simplify loan status (non-FullyPaid or ChargedOff loans will be converted to NAN)\n",
    "df_cleaned['loan_status'] = df_cleaned['loan_status'].map({'Fully Paid':'Fully Paid',\n",
    "                                                           'Charged Off':'Charged Off',\n",
    "                                                           'Does not meet the credit policy. Status:Fully Paid': 'Fully Paid',\n",
    "                                                           'Does not meet the credit policy. Status:Charged Off': 'Charged Off'})\n",
    "\n",
    "# Remove non-completed loans\n",
    "df_cleaned.drop(df_cleaned.loc[df_cleaned['loan_status'].isnull()].index.tolist(), axis=0, inplace=True)\n",
    "\n",
    "# Simplify home ownership\n",
    "df_cleaned['home_ownership'] = df_cleaned['home_ownership'].map({'MORTGAGE':'mortgage',\n",
    "                                                                 'OWN':'own',\n",
    "                                                                 'RENT':'rent'})\n",
    "\n",
    "# Remove 25 observations without houses\n",
    "df_cleaned.drop(df_cleaned.loc[df_cleaned['home_ownership'].isnull()].index.tolist(), axis=0, inplace=True)\n",
    "\n",
    "\n",
    "# Reformat date features and calculate features related to prepayment  \n",
    "df_cleaned['term_year'] = np.where(df_cleaned['term']==' 36 months', 3,5)\n",
    "df_cleaned['earliest_cr_line'] =  pd.to_datetime(df_cleaned['earliest_cr_line'])\n",
    "df_cleaned['issue_date'] =  pd.to_datetime(df_cleaned['issue_d'])\n",
    "df_cleaned['last_pymnt_date'] = pd.to_datetime(df_cleaned['last_pymnt_d'])\n",
    "df_cleaned['exp_last_pymnt_date'] = pd.to_datetime(df_cleaned['issue_d'].str[0:3]\n",
    "                                                   +'-'\n",
    "                                                   + (df_cleaned['issue_d'].str[-4:].astype('int')\n",
    "                                                   + df_cleaned['term_year']).astype('str'))\n",
    "\n",
    "# Calculate credit history ( in months )\n",
    "date_ofloan = df_cleaned['issue_date'].dt.to_period('M').astype(int)\n",
    "date_credline = df_cleaned['earliest_cr_line'].dt.to_period('M').astype(int)\n",
    "df_cleaned['credit_hist_mths'] = date_ofloan - date_credline\n",
    "\n",
    "# Log-transform skewed continuous features\n",
    "df_cleaned['delinq_amnt_log'] = df_cleaned['delinq_amnt'].add(1).apply(np.log)\n",
    "df_cleaned['annual_inc_log'] = df_cleaned['annual_inc'].add(1).apply(np.log)\n",
    "df_cleaned['dti_log'] = df_cleaned['dti'].add(1).apply(np.log)\n",
    "df_cleaned['funded_amnt_log'] = df_cleaned['funded_amnt'].add(1).apply(np.log)\n",
    "df_cleaned['tot_coll_amt_log'] = df_cleaned['tot_coll_amt'].add(1).apply(np.log)\n",
    "df_cleaned['tot_cur_bal_log'] = df_cleaned['tot_cur_bal'].add(1).apply(np.log)\n",
    "df_cleaned['total_acc_log'] = df_cleaned['total_acc'].add(1).apply(np.log)\n",
    "df_cleaned['revol_bal_log'] = df_cleaned['revol_bal'].add(1).apply(np.log)\n",
    "df_cleaned['installment_log'] = df_cleaned['installment'].add(1).apply(np.log)\n",
    "df_cleaned['open_acc_log'] = df_cleaned['open_acc'].add(1).apply(np.log)\n",
    "\n",
    "# Simplify loan purpose - debt consolidation, credit card, and other\n",
    "df_cleaned['purpose'] = df_cleaned['purpose'].map({'debt_consolidation':'debt_consolidation',\n",
    "                                                   'credit_card':'credit_card'})\n",
    "df_cleaned['purpose'].fillna('other',inplace=True)\n",
    "\n",
    "# Convert loan grade to ordinal feature\n",
    "df_cleaned['grade'] = df_cleaned['grade'].map({'A':1,\n",
    "                                               'B':2,\n",
    "                                               'C':3,\n",
    "                                               'D':4,\n",
    "                                               'E':5,\n",
    "                                               'F':6,\n",
    "                                               'G':7})\n",
    "\n",
    "# Simplify employment length to four categories\n",
    "df_cleaned['emp_length'] = df_cleaned['emp_length'].map({'< 1 year':0.5,\n",
    "                                                         '1 year':1,\n",
    "                                                         '2 years':2,\n",
    "                                                         '3 years':3,\n",
    "                                                         '4 years':4,\n",
    "                                                         '5 years':5,\n",
    "                                                         '6 years':6,\n",
    "                                                         '7 years':7,\n",
    "                                                         '8 years':8,\n",
    "                                                         '9 years':9,\n",
    "                                                         '10+ years':10})\n",
    "\n",
    "# Create new binary features\n",
    "df_cleaned['has_pub_rec'] = np.where(df_cleaned['pub_rec']>0,1,0) #0-=no public record\n",
    "df_cleaned['has_36mo_loan'] = np.where(df_cleaned['term'].str.contains('36'),1,0) #0=60mo loan\n",
    "df_cleaned['has_delinq_now'] = np.where(df_cleaned['acc_now_delinq']>0, 1, 0)\n",
    "df_cleaned['has_delinq_past2yrs'] = np.where(df_cleaned['delinq_2yrs']>0, 1, 0) #0=no delinq within 2yrs\n",
    "df_cleaned['has_whole_liststatus'] = np.where(df_cleaned['initial_list_status']=='w', 1, 0) #0=f\n"
   ]
  },
  {
   "cell_type": "code",
   "execution_count": 11,
   "metadata": {},
   "outputs": [
    {
     "name": "stdout",
     "output_type": "stream",
     "text": [
      "Fraction of loans above threadhold: 0.715\n"
     ]
    }
   ],
   "source": [
    "# Create response variable based on \n",
    "threshold = 5 #goal % return\n",
    "df_cleaned[\"roi_perc\"] = df_cleaned[\"total_pymnt\"].div(df_cleaned[\"funded_amnt\"]).sub(1).mul(100)\n",
    "df_cleaned['roi_response'] = np.where(df_cleaned['roi_perc'] > threshold, 1, 0)\n",
    "\n",
    "print('Fraction of loans above threadhold: %.3f' % df_cleaned['roi_response'].mean())\n",
    "\n"
   ]
  },
  {
   "cell_type": "code",
   "execution_count": 12,
   "metadata": {},
   "outputs": [],
   "source": [
    "# Isolate list of predictor variables to be used for ML\n",
    "predictor_vars = ['annual_inc_log',\n",
    "                  'credit_hist_mths',\n",
    "                  'delinq_amnt_log',\n",
    "                  'dti_log',\n",
    "                  'emp_length',\n",
    "                  'fico_range_high',\n",
    "                  'funded_amnt_log',\n",
    "                  'grade',\n",
    "                  'has_36mo_loan',\n",
    "                  'has_delinq_now',\n",
    "                  'has_delinq_past2yrs',\n",
    "                  'has_pub_rec',\n",
    "                  'has_whole_liststatus',\n",
    "                  'home_ownership',\n",
    "                  'inq_last_6mths',\n",
    "                  'installment_log',\n",
    "                  'int_rate',\n",
    "                  'open_acc_log',\n",
    "                  'purpose',\n",
    "                  'revol_bal_log',\n",
    "                  'revol_util',\n",
    "                  'tot_coll_amt_log',\n",
    "                  'tot_cur_bal_log',\n",
    "                  'total_acc_log',\n",
    "                  'verification_status']\n",
    "\n",
    "response_var = 'roi_response'\n"
   ]
  },
  {
   "cell_type": "markdown",
   "metadata": {},
   "source": [
    "# Machine Learning"
   ]
  },
  {
   "cell_type": "markdown",
   "metadata": {},
   "source": [
    "### Logistic Regression\n",
    "- Goal is to build classifier that predicts if loan results in desirable outcome\n",
    "- Should also report feature importance"
   ]
  },
  {
   "cell_type": "code",
   "execution_count": 13,
   "metadata": {},
   "outputs": [],
   "source": [
    "# Dummify categorical features\n",
    "home_ownership_dummy = pd.get_dummies(df_cleaned['home_ownership'],\n",
    "                                      prefix=\"home_ownership\").drop('home_ownership_mortgage',axis=1)\n",
    "\n",
    "purpose_dummy = pd.get_dummies(df_cleaned['purpose'],\n",
    "                               prefix=\"purpose\").drop('purpose_debt_consolidation',axis=1)\n",
    "\n",
    "verification_status_dummy = pd.get_dummies(df_cleaned['verification_status'],\n",
    "                               prefix=\"verification_status\").drop('verification_status_Source Verified',axis=1)\n"
   ]
  },
  {
   "cell_type": "code",
   "execution_count": 14,
   "metadata": {},
   "outputs": [],
   "source": [
    "# List of numeric features in the final dataframe\n",
    "numeric_vars = ['annual_inc_log',\n",
    "                'credit_hist_mths',\n",
    "                'delinq_amnt_log',\n",
    "                'dti_log',\n",
    "                'emp_length',\n",
    "                'fico_range_high',\n",
    "                'funded_amnt_log',\n",
    "                'grade',\n",
    "                'has_36mo_loan',\n",
    "                'has_delinq_now',\n",
    "                'has_delinq_past2yrs',\n",
    "                'has_pub_rec',\n",
    "                'has_whole_liststatus',\n",
    "                'inq_last_6mths',\n",
    "                'installment_log',\n",
    "                'int_rate',\n",
    "                'open_acc_log',\n",
    "                'revol_bal_log',\n",
    "                'revol_util',\n",
    "                'tot_coll_amt_log',\n",
    "                'tot_cur_bal_log',\n",
    "                'total_acc_log']\n"
   ]
  },
  {
   "cell_type": "code",
   "execution_count": 15,
   "metadata": {},
   "outputs": [],
   "source": [
    "# final dataframe for model consumption\n",
    "df_final = pd.concat([df_cleaned[numeric_vars],\n",
    "                      home_ownership_dummy,\n",
    "                      purpose_dummy,\n",
    "                      verification_status_dummy],axis=1)\n"
   ]
  },
  {
   "cell_type": "markdown",
   "metadata": {},
   "source": [
    "### Random Forest\n",
    "- Goal is to build classifier that predicts if loan results in desirable outcome\n",
    "- Should also report feature importance"
   ]
  },
  {
   "cell_type": "code",
   "execution_count": 16,
   "metadata": {},
   "outputs": [],
   "source": [
    "from sklearn.model_selection import train_test_split\n",
    "from sklearn.model_selection import validation_curve\n",
    "import sklearn.model_selection as ms\n",
    "from sklearn import ensemble\n",
    "\n",
    "from matplotlib import pyplot as plt\n",
    "import matplotlib.ticker as ticker\n",
    "%matplotlib inline\n",
    "\n",
    "#Create test-train split of data\n",
    "x = df_final\n",
    "y = df_cleaned[response_var] #labels\n",
    "x_train, x_test, y_train, y_test = train_test_split(x, y, test_size=0.2, random_state=0)"
   ]
  },
  {
   "cell_type": "markdown",
   "metadata": {},
   "source": [
    "#### Initial Random Forest Model"
   ]
  },
  {
   "cell_type": "code",
   "execution_count": 17,
   "metadata": {},
   "outputs": [
    {
     "name": "stdout",
     "output_type": "stream",
     "text": [
      "The training accuracy is: 0.99019\n",
      "The test accuracy is: 0.67112\n"
     ]
    }
   ],
   "source": [
    "#Create random forest object\n",
    "randomForest = ensemble.RandomForestClassifier()\n",
    "\n",
    "#Set random forest parameters\n",
    "randomForest.set_params()\n",
    "\n",
    "#Fit model with data\n",
    "randomForest.fit(x_train, y_train)\n",
    "\n",
    "#Calculate the train and test accuracy\n",
    "train_acc = randomForest.score(x_train, y_train)\n",
    "test_acc = randomForest.score(x_test, y_test)\n",
    "\n",
    "print('The training accuracy is: %.5f' % train_acc)\n",
    "print('The test accuracy is: %.5f' % test_acc)\n",
    "\n",
    "# =====================================================================\n",
    "# Train error (98.9%) is much greater than test error (58.3%)\n",
    "# Due to overfit"
   ]
  },
  {
   "cell_type": "markdown",
   "metadata": {},
   "source": [
    "#### Grid Search CV\n",
    "\n",
    "Several hyperparameters to tune:\n",
    "- criterion = gini impurity or information entropy\n",
    "- n_estimators = number of trees in forest model\n",
    "- max_depth = depth of each tree\n",
    "- min_samples_split = # samples required to split a leaf node\n",
    "- min_samples_leaf = # samples required to be at leaf node\n"
   ]
  },
  {
   "cell_type": "code",
   "execution_count": 18,
   "metadata": {},
   "outputs": [
    {
     "data": {
      "image/png": "[encoded data removed]",
      "text/plain": [
       "<Figure size 720x432 with 1 Axes>"
      ]
     },
     "metadata": {
      "needs_background": "light"
     },
     "output_type": "display_data"
    },
    {
     "name": "stdout",
     "output_type": "stream",
     "text": [
      "Max accuracy: 0.72111\n",
      "Best parameter value: 700.00000\n",
      "\n",
      "CPU times: user 535 ms, sys: 350 ms, total: 885 ms\n",
      "Wall time: 13min 54s\n"
     ]
    }
   ],
   "source": [
    "%%time\n",
    "\n",
    "# Tuning n_estimator hyperparameter\n",
    "num_est = range(100,1700,200)\n",
    "train_scoreNum, test_scoreNum = validation_curve(randomForest,\n",
    "                                                 X = x_train,\n",
    "                                                 y = y_train,\n",
    "                                                 param_name = 'n_estimators',\n",
    "                                                 param_range = num_est, \n",
    "                                                 cv = 5,\n",
    "                                                 n_jobs=-1)\n",
    "#Plot\n",
    "plt.figure(figsize=(10,6))\n",
    "n_est_plot = plt.plot(num_est, test_scoreNum.mean(axis=1), 'bo--', linewidth=2, markersize=12)\n",
    "plt.title('n_estimator Validation Curve for RF')\n",
    "plt.xlabel('n_estimator value')\n",
    "plt.ylabel('Accuracy Score')\n",
    "plt.show(n_est_plot)\n",
    "\n",
    "#Print best results\n",
    "acc = test_scoreNum.mean(axis=1).tolist()\n",
    "idx = max(range(len(acc)), key = lambda i: acc[i])\n",
    "print('Max accuracy: %.5f' % acc[idx])\n",
    "print('Best parameter value: %.5f\\n' % num_est[idx])\n"
   ]
  },
  {
   "cell_type": "code",
   "execution_count": 19,
   "metadata": {},
   "outputs": [
    {
     "data": {
      "image/png": "[encoded data removed]",
      "text/plain": [
       "<Figure size 720x432 with 1 Axes>"
      ]
     },
     "metadata": {
      "needs_background": "light"
     },
     "output_type": "display_data"
    },
    {
     "name": "stdout",
     "output_type": "stream",
     "text": [
      "Max accuracy: 0.71754\n",
      "Best parameter value: 10.00000\n",
      "\n",
      "CPU times: user 631 ms, sys: 199 ms, total: 830 ms\n",
      "Wall time: 12.9 s\n"
     ]
    }
   ],
   "source": [
    "%%time \n",
    "\n",
    "# Tuning max_depth hyperparameter\n",
    "maxdepth_est = range(2,31,2)\n",
    "train_scoreNum, test_scoreNum = validation_curve(randomForest,\n",
    "                                                 X = x_train,\n",
    "                                                 y = y_train,\n",
    "                                                 param_name = 'max_depth',\n",
    "                                                 param_range = maxdepth_est, \n",
    "                                                 cv = 5,\n",
    "                                                 n_jobs=-1)\n",
    "#Plot\n",
    "plt.figure(figsize=(10,6))\n",
    "maxdepth_plot = plt.plot(maxdepth_est, test_scoreNum.mean(axis=1), 'bo--', linewidth=2, markersize=12)\n",
    "plt.title('Max_Depth Validation Curve for RF')\n",
    "plt.xlabel('max_depth value')\n",
    "plt.ylabel('Accuracy Score')\n",
    "plt.show(maxdepth_plot)\n",
    "\n",
    "#Print best results\n",
    "acc = test_scoreNum.mean(axis=1).tolist()\n",
    "idx = max(range(len(acc)), key = lambda i: acc[i])\n",
    "print('Max accuracy: %.5f' % acc[idx])\n",
    "print('Best parameter value: %.5f\\n' % maxdepth_est[idx])\n"
   ]
  },
  {
   "cell_type": "code",
   "execution_count": 20,
   "metadata": {},
   "outputs": [
    {
     "data": {
      "image/png": "[encoded data removed]",
      "text/plain": [
       "<Figure size 720x432 with 1 Axes>"
      ]
     },
     "metadata": {
      "needs_background": "light"
     },
     "output_type": "display_data"
    },
    {
     "name": "stdout",
     "output_type": "stream",
     "text": [
      "Max accuracy: 0.71735\n",
      "Best parameter value: 64.00000\n",
      "\n",
      "CPU times: user 1.21 s, sys: 301 ms, total: 1.51 s\n",
      "Wall time: 37.9 s\n"
     ]
    }
   ],
   "source": [
    "%%time \n",
    "\n",
    "# Tuning min_samples_split hyperparameter\n",
    "min_samples_split_est = range(2,71,2)\n",
    "train_scoreNum, test_scoreNum = validation_curve(randomForest,\n",
    "                                                 X = x_train,\n",
    "                                                 y = y_train,\n",
    "                                                 param_name = 'min_samples_split',\n",
    "                                                 param_range = min_samples_split_est, \n",
    "                                                 cv = 5,\n",
    "                                                 n_jobs=-1)\n",
    "#Plot\n",
    "plt.figure(figsize=(10,6))\n",
    "min_samples_split_plot = plt.plot(min_samples_split_est, test_scoreNum.mean(axis=1), 'bo--', linewidth=2, markersize=12)\n",
    "plt.title('min_samples_split Validation Curve for RF')\n",
    "plt.xlabel('min_samples_split value')\n",
    "plt.ylabel('Accuracy Score')\n",
    "plt.show(min_samples_split_plot)\n",
    "\n",
    "#Print best results\n",
    "acc = test_scoreNum.mean(axis=1).tolist()\n",
    "idx = max(range(len(acc)), key = lambda i: acc[i])\n",
    "print('Max accuracy: %.5f' % acc[idx])\n",
    "print('Best parameter value: %.5f\\n' % min_samples_split_est[idx])\n"
   ]
  },
  {
   "cell_type": "code",
   "execution_count": 21,
   "metadata": {},
   "outputs": [
    {
     "data": {
      "image/png": "[encoded data removed]",
      "text/plain": [
       "<Figure size 720x432 with 1 Axes>"
      ]
     },
     "metadata": {
      "needs_background": "light"
     },
     "output_type": "display_data"
    },
    {
     "name": "stdout",
     "output_type": "stream",
     "text": [
      "Max accuracy: 0.71919\n",
      "Best parameter value: 36.00000\n",
      "\n",
      "CPU times: user 728 ms, sys: 96 ms, total: 824 ms\n",
      "Wall time: 17.5 s\n"
     ]
    }
   ],
   "source": [
    "%%time \n",
    "\n",
    "# Tuning min_samples_leaf hyperparameter\n",
    "min_samples_leaf_est = range(2,40,2)\n",
    "train_scoreNum, test_scoreNum = validation_curve(randomForest,\n",
    "                                                 X = x_train,\n",
    "                                                 y = y_train,\n",
    "                                                 param_name = 'min_samples_leaf',\n",
    "                                                 param_range = min_samples_leaf_est, \n",
    "                                                 cv = 5,\n",
    "                                                 n_jobs=-1)\n",
    "#Plot\n",
    "plt.figure(figsize=(10,6))\n",
    "min_samples_leaf_plot = plt.plot(min_samples_leaf_est, test_scoreNum.mean(axis=1), 'bo--', linewidth=2, markersize=12)\n",
    "plt.title('min_samples_split Validation Curve for RF')\n",
    "plt.xlabel('min_samples_split value')\n",
    "plt.ylabel('Accuracy Score')\n",
    "plt.show(min_samples_leaf_plot)\n",
    "\n",
    "\n",
    "#Print best results\n",
    "acc = test_scoreNum.mean(axis=1).tolist()\n",
    "idx = max(range(len(acc)), key = lambda i: acc[i])\n",
    "print('Max accuracy: %.5f' % acc[idx])\n",
    "print('Best parameter value: %.5f\\n' % min_samples_leaf_est[idx])\n"
   ]
  },
  {
   "cell_type": "code",
   "execution_count": 25,
   "metadata": {
    "scrolled": false
   },
   "outputs": [
    {
     "name": "stdout",
     "output_type": "stream",
     "text": [
      "Fitting 5 folds for each of 172980 candidates, totalling 864900 fits\n"
     ]
    },
    {
     "name": "stderr",
     "output_type": "stream",
     "text": [
      "[Parallel(n_jobs=-1)]: Using backend LokyBackend with 8 concurrent workers.\n"
     ]
    },
    {
     "ename": "KeyboardInterrupt",
     "evalue": "",
     "output_type": "error",
     "traceback": [
      "\u001b[0;31m---------------------------------------------------------------------------\u001b[0m",
      "\u001b[0;31mKeyboardInterrupt\u001b[0m                         Traceback (most recent call last)",
      "\u001b[0;32m<timed eval>\u001b[0m in \u001b[0;36m<module>\u001b[0;34m\u001b[0m\n",
      "\u001b[0;32m~/opt/anaconda3/lib/python3.7/site-packages/sklearn/model_selection/_search.py\u001b[0m in \u001b[0;36mfit\u001b[0;34m(self, X, y, groups, **fit_params)\u001b[0m\n\u001b[1;32m    686\u001b[0m                 \u001b[0;32mreturn\u001b[0m \u001b[0mresults\u001b[0m\u001b[0;34m\u001b[0m\u001b[0;34m\u001b[0m\u001b[0m\n\u001b[1;32m    687\u001b[0m \u001b[0;34m\u001b[0m\u001b[0m\n\u001b[0;32m--> 688\u001b[0;31m             \u001b[0mself\u001b[0m\u001b[0;34m.\u001b[0m\u001b[0m_run_search\u001b[0m\u001b[0;34m(\u001b[0m\u001b[0mevaluate_candidates\u001b[0m\u001b[0;34m)\u001b[0m\u001b[0;34m\u001b[0m\u001b[0;34m\u001b[0m\u001b[0m\n\u001b[0m\u001b[1;32m    689\u001b[0m \u001b[0;34m\u001b[0m\u001b[0m\n\u001b[1;32m    690\u001b[0m         \u001b[0;31m# For multi-metric evaluation, store the best_index_, best_params_ and\u001b[0m\u001b[0;34m\u001b[0m\u001b[0;34m\u001b[0m\u001b[0;34m\u001b[0m\u001b[0m\n",
      "\u001b[0;32m~/opt/anaconda3/lib/python3.7/site-packages/sklearn/model_selection/_search.py\u001b[0m in \u001b[0;36m_run_search\u001b[0;34m(self, evaluate_candidates)\u001b[0m\n\u001b[1;32m   1147\u001b[0m     \u001b[0;32mdef\u001b[0m \u001b[0m_run_search\u001b[0m\u001b[0;34m(\u001b[0m\u001b[0mself\u001b[0m\u001b[0;34m,\u001b[0m \u001b[0mevaluate_candidates\u001b[0m\u001b[0;34m)\u001b[0m\u001b[0;34m:\u001b[0m\u001b[0;34m\u001b[0m\u001b[0;34m\u001b[0m\u001b[0m\n\u001b[1;32m   1148\u001b[0m         \u001b[0;34m\"\"\"Search all candidates in param_grid\"\"\"\u001b[0m\u001b[0;34m\u001b[0m\u001b[0;34m\u001b[0m\u001b[0m\n\u001b[0;32m-> 1149\u001b[0;31m         \u001b[0mevaluate_candidates\u001b[0m\u001b[0;34m(\u001b[0m\u001b[0mParameterGrid\u001b[0m\u001b[0;34m(\u001b[0m\u001b[0mself\u001b[0m\u001b[0;34m.\u001b[0m\u001b[0mparam_grid\u001b[0m\u001b[0;34m)\u001b[0m\u001b[0;34m)\u001b[0m\u001b[0;34m\u001b[0m\u001b[0;34m\u001b[0m\u001b[0m\n\u001b[0m\u001b[1;32m   1150\u001b[0m \u001b[0;34m\u001b[0m\u001b[0m\n\u001b[1;32m   1151\u001b[0m \u001b[0;34m\u001b[0m\u001b[0m\n",
      "\u001b[0;32m~/opt/anaconda3/lib/python3.7/site-packages/sklearn/model_selection/_search.py\u001b[0m in \u001b[0;36mevaluate_candidates\u001b[0;34m(candidate_params)\u001b[0m\n\u001b[1;32m    665\u001b[0m                                \u001b[0;32mfor\u001b[0m \u001b[0mparameters\u001b[0m\u001b[0;34m,\u001b[0m \u001b[0;34m(\u001b[0m\u001b[0mtrain\u001b[0m\u001b[0;34m,\u001b[0m \u001b[0mtest\u001b[0m\u001b[0;34m)\u001b[0m\u001b[0;34m\u001b[0m\u001b[0;34m\u001b[0m\u001b[0m\n\u001b[1;32m    666\u001b[0m                                in product(candidate_params,\n\u001b[0;32m--> 667\u001b[0;31m                                           cv.split(X, y, groups)))\n\u001b[0m\u001b[1;32m    668\u001b[0m \u001b[0;34m\u001b[0m\u001b[0m\n\u001b[1;32m    669\u001b[0m                 \u001b[0;32mif\u001b[0m \u001b[0mlen\u001b[0m\u001b[0;34m(\u001b[0m\u001b[0mout\u001b[0m\u001b[0;34m)\u001b[0m \u001b[0;34m<\u001b[0m \u001b[0;36m1\u001b[0m\u001b[0;34m:\u001b[0m\u001b[0;34m\u001b[0m\u001b[0;34m\u001b[0m\u001b[0m\n",
      "\u001b[0;32m~/opt/anaconda3/lib/python3.7/site-packages/joblib/parallel.py\u001b[0m in \u001b[0;36m__call__\u001b[0;34m(self, iterable)\u001b[0m\n\u001b[1;32m    932\u001b[0m \u001b[0;34m\u001b[0m\u001b[0m\n\u001b[1;32m    933\u001b[0m             \u001b[0;32mwith\u001b[0m \u001b[0mself\u001b[0m\u001b[0;34m.\u001b[0m\u001b[0m_backend\u001b[0m\u001b[0;34m.\u001b[0m\u001b[0mretrieval_context\u001b[0m\u001b[0;34m(\u001b[0m\u001b[0;34m)\u001b[0m\u001b[0;34m:\u001b[0m\u001b[0;34m\u001b[0m\u001b[0;34m\u001b[0m\u001b[0m\n\u001b[0;32m--> 934\u001b[0;31m                 \u001b[0mself\u001b[0m\u001b[0;34m.\u001b[0m\u001b[0mretrieve\u001b[0m\u001b[0;34m(\u001b[0m\u001b[0;34m)\u001b[0m\u001b[0;34m\u001b[0m\u001b[0;34m\u001b[0m\u001b[0m\n\u001b[0m\u001b[1;32m    935\u001b[0m             \u001b[0;31m# Make sure that we get a last message telling us we are done\u001b[0m\u001b[0;34m\u001b[0m\u001b[0;34m\u001b[0m\u001b[0;34m\u001b[0m\u001b[0m\n\u001b[1;32m    936\u001b[0m             \u001b[0melapsed_time\u001b[0m \u001b[0;34m=\u001b[0m \u001b[0mtime\u001b[0m\u001b[0;34m.\u001b[0m\u001b[0mtime\u001b[0m\u001b[0;34m(\u001b[0m\u001b[0;34m)\u001b[0m \u001b[0;34m-\u001b[0m \u001b[0mself\u001b[0m\u001b[0;34m.\u001b[0m\u001b[0m_start_time\u001b[0m\u001b[0;34m\u001b[0m\u001b[0;34m\u001b[0m\u001b[0m\n",
      "\u001b[0;32m~/opt/anaconda3/lib/python3.7/site-packages/joblib/parallel.py\u001b[0m in \u001b[0;36mretrieve\u001b[0;34m(self)\u001b[0m\n\u001b[1;32m    831\u001b[0m             \u001b[0;32mtry\u001b[0m\u001b[0;34m:\u001b[0m\u001b[0;34m\u001b[0m\u001b[0;34m\u001b[0m\u001b[0m\n\u001b[1;32m    832\u001b[0m                 \u001b[0;32mif\u001b[0m \u001b[0mgetattr\u001b[0m\u001b[0;34m(\u001b[0m\u001b[0mself\u001b[0m\u001b[0;34m.\u001b[0m\u001b[0m_backend\u001b[0m\u001b[0;34m,\u001b[0m \u001b[0;34m'supports_timeout'\u001b[0m\u001b[0;34m,\u001b[0m \u001b[0;32mFalse\u001b[0m\u001b[0;34m)\u001b[0m\u001b[0;34m:\u001b[0m\u001b[0;34m\u001b[0m\u001b[0;34m\u001b[0m\u001b[0m\n\u001b[0;32m--> 833\u001b[0;31m                     \u001b[0mself\u001b[0m\u001b[0;34m.\u001b[0m\u001b[0m_output\u001b[0m\u001b[0;34m.\u001b[0m\u001b[0mextend\u001b[0m\u001b[0;34m(\u001b[0m\u001b[0mjob\u001b[0m\u001b[0;34m.\u001b[0m\u001b[0mget\u001b[0m\u001b[0;34m(\u001b[0m\u001b[0mtimeout\u001b[0m\u001b[0;34m=\u001b[0m\u001b[0mself\u001b[0m\u001b[0;34m.\u001b[0m\u001b[0mtimeout\u001b[0m\u001b[0;34m)\u001b[0m\u001b[0;34m)\u001b[0m\u001b[0;34m\u001b[0m\u001b[0;34m\u001b[0m\u001b[0m\n\u001b[0m\u001b[1;32m    834\u001b[0m                 \u001b[0;32melse\u001b[0m\u001b[0;34m:\u001b[0m\u001b[0;34m\u001b[0m\u001b[0;34m\u001b[0m\u001b[0m\n\u001b[1;32m    835\u001b[0m                     \u001b[0mself\u001b[0m\u001b[0;34m.\u001b[0m\u001b[0m_output\u001b[0m\u001b[0;34m.\u001b[0m\u001b[0mextend\u001b[0m\u001b[0;34m(\u001b[0m\u001b[0mjob\u001b[0m\u001b[0;34m.\u001b[0m\u001b[0mget\u001b[0m\u001b[0;34m(\u001b[0m\u001b[0;34m)\u001b[0m\u001b[0;34m)\u001b[0m\u001b[0;34m\u001b[0m\u001b[0;34m\u001b[0m\u001b[0m\n",
      "\u001b[0;32m~/opt/anaconda3/lib/python3.7/site-packages/joblib/_parallel_backends.py\u001b[0m in \u001b[0;36mwrap_future_result\u001b[0;34m(future, timeout)\u001b[0m\n\u001b[1;32m    519\u001b[0m         AsyncResults.get from multiprocessing.\"\"\"\n\u001b[1;32m    520\u001b[0m         \u001b[0;32mtry\u001b[0m\u001b[0;34m:\u001b[0m\u001b[0;34m\u001b[0m\u001b[0;34m\u001b[0m\u001b[0m\n\u001b[0;32m--> 521\u001b[0;31m             \u001b[0;32mreturn\u001b[0m \u001b[0mfuture\u001b[0m\u001b[0;34m.\u001b[0m\u001b[0mresult\u001b[0m\u001b[0;34m(\u001b[0m\u001b[0mtimeout\u001b[0m\u001b[0;34m=\u001b[0m\u001b[0mtimeout\u001b[0m\u001b[0;34m)\u001b[0m\u001b[0;34m\u001b[0m\u001b[0;34m\u001b[0m\u001b[0m\n\u001b[0m\u001b[1;32m    522\u001b[0m         \u001b[0;32mexcept\u001b[0m \u001b[0mLokyTimeoutError\u001b[0m\u001b[0;34m:\u001b[0m\u001b[0;34m\u001b[0m\u001b[0;34m\u001b[0m\u001b[0m\n\u001b[1;32m    523\u001b[0m             \u001b[0;32mraise\u001b[0m \u001b[0mTimeoutError\u001b[0m\u001b[0;34m(\u001b[0m\u001b[0;34m)\u001b[0m\u001b[0;34m\u001b[0m\u001b[0;34m\u001b[0m\u001b[0m\n",
      "\u001b[0;32m~/opt/anaconda3/lib/python3.7/concurrent/futures/_base.py\u001b[0m in \u001b[0;36mresult\u001b[0;34m(self, timeout)\u001b[0m\n\u001b[1;32m    428\u001b[0m                 \u001b[0;32mreturn\u001b[0m \u001b[0mself\u001b[0m\u001b[0;34m.\u001b[0m\u001b[0m__get_result\u001b[0m\u001b[0;34m(\u001b[0m\u001b[0;34m)\u001b[0m\u001b[0;34m\u001b[0m\u001b[0;34m\u001b[0m\u001b[0m\n\u001b[1;32m    429\u001b[0m \u001b[0;34m\u001b[0m\u001b[0m\n\u001b[0;32m--> 430\u001b[0;31m             \u001b[0mself\u001b[0m\u001b[0;34m.\u001b[0m\u001b[0m_condition\u001b[0m\u001b[0;34m.\u001b[0m\u001b[0mwait\u001b[0m\u001b[0;34m(\u001b[0m\u001b[0mtimeout\u001b[0m\u001b[0;34m)\u001b[0m\u001b[0;34m\u001b[0m\u001b[0;34m\u001b[0m\u001b[0m\n\u001b[0m\u001b[1;32m    431\u001b[0m \u001b[0;34m\u001b[0m\u001b[0m\n\u001b[1;32m    432\u001b[0m             \u001b[0;32mif\u001b[0m \u001b[0mself\u001b[0m\u001b[0;34m.\u001b[0m\u001b[0m_state\u001b[0m \u001b[0;32min\u001b[0m \u001b[0;34m[\u001b[0m\u001b[0mCANCELLED\u001b[0m\u001b[0;34m,\u001b[0m \u001b[0mCANCELLED_AND_NOTIFIED\u001b[0m\u001b[0;34m]\u001b[0m\u001b[0;34m:\u001b[0m\u001b[0;34m\u001b[0m\u001b[0;34m\u001b[0m\u001b[0m\n",
      "\u001b[0;32m~/opt/anaconda3/lib/python3.7/threading.py\u001b[0m in \u001b[0;36mwait\u001b[0;34m(self, timeout)\u001b[0m\n\u001b[1;32m    294\u001b[0m         \u001b[0;32mtry\u001b[0m\u001b[0;34m:\u001b[0m    \u001b[0;31m# restore state no matter what (e.g., KeyboardInterrupt)\u001b[0m\u001b[0;34m\u001b[0m\u001b[0;34m\u001b[0m\u001b[0m\n\u001b[1;32m    295\u001b[0m             \u001b[0;32mif\u001b[0m \u001b[0mtimeout\u001b[0m \u001b[0;32mis\u001b[0m \u001b[0;32mNone\u001b[0m\u001b[0;34m:\u001b[0m\u001b[0;34m\u001b[0m\u001b[0;34m\u001b[0m\u001b[0m\n\u001b[0;32m--> 296\u001b[0;31m                 \u001b[0mwaiter\u001b[0m\u001b[0;34m.\u001b[0m\u001b[0macquire\u001b[0m\u001b[0;34m(\u001b[0m\u001b[0;34m)\u001b[0m\u001b[0;34m\u001b[0m\u001b[0;34m\u001b[0m\u001b[0m\n\u001b[0m\u001b[1;32m    297\u001b[0m                 \u001b[0mgotit\u001b[0m \u001b[0;34m=\u001b[0m \u001b[0;32mTrue\u001b[0m\u001b[0;34m\u001b[0m\u001b[0;34m\u001b[0m\u001b[0m\n\u001b[1;32m    298\u001b[0m             \u001b[0;32melse\u001b[0m\u001b[0;34m:\u001b[0m\u001b[0;34m\u001b[0m\u001b[0;34m\u001b[0m\u001b[0m\n",
      "\u001b[0;31mKeyboardInterrupt\u001b[0m: "
     ]
    }
   ],
   "source": [
    "#Use grid search CV to find best parameters to prevent overfitting\n",
    "grid_para_forest = {\n",
    "    'criterion': ['gini', 'entropy'],\n",
    "    'n_estimators': range(600,900,100),\n",
    "    'max_depth': range(2,17,2), \n",
    "    'min_samples_split': range(30, 61, 2),\n",
    "    'min_samples_leaf':range(20,  51, 2)\n",
    "    \n",
    "}\n",
    "\n",
    "#Run RandomForest classifier through grid search\n",
    "grid_search_forest = ms.GridSearchCV(randomForest, grid_para_forest, scoring='accuracy', cv=5, n_jobs=-1, verbose=True)\n",
    "\n",
    "#Fit data to classifier\n",
    "%time grid_search_forest.fit(x_train, y_train)"
   ]
  },
  {
   "cell_type": "markdown",
   "metadata": {},
   "source": [
    "#### New model with results from gridsearch"
   ]
  },
  {
   "cell_type": "code",
   "execution_count": 23,
   "metadata": {},
   "outputs": [],
   "source": [
    "# #View results from grid search\n",
    "# grid_search_forest.best_params_\n",
    "\n",
    "# #What is the best score?\n",
    "# grid_search_forest.best_score_ #best score\n",
    "# grid_search_forest.best_estimator_ #best model\n",
    "\n",
    "# #Determine training/testing accuracies\n",
    "# train_acc = grid_search_forest.best_estimator_.score(x_train, y_train)\n",
    "# test_acc = grid_search_forest.best_estimator_.score(x_test, y_test)\n",
    "\n",
    "# print('The training accuracy is: %.5f' % train_acc)\n",
    "# print('The test accuracy is: %.5f' % test_acc)\n"
   ]
  },
  {
   "cell_type": "markdown",
   "metadata": {},
   "source": [
    "#### Feature Importance"
   ]
  },
  {
   "cell_type": "code",
   "execution_count": 24,
   "metadata": {},
   "outputs": [],
   "source": [
    "# #What are the 5 most important features? \n",
    "# feature_importance = list(zip(x.columns, grid_search_forest.best_estimator_.feature_importances_))\n",
    "# dtype = [('feature', 'S10'), ('importance', 'float')]\n",
    "# feature_importance = np.array(feature_importance, dtype=dtype)\n",
    "# feature_sort = np.sort(feature_importance, order='importance')[::-1]\n",
    "# plt.barh(range(len(featureScores)), featureScores, tick_label=featureNames)\n",
    "# plt.title('feature importance')\n"
   ]
  },
  {
   "cell_type": "code",
   "execution_count": null,
   "metadata": {},
   "outputs": [],
   "source": []
  },
  {
   "cell_type": "code",
   "execution_count": null,
   "metadata": {},
   "outputs": [],
   "source": []
  },
  {
   "cell_type": "markdown",
   "metadata": {},
   "source": [
    "### Create Partial Dependence Plot\n",
    "- Link https://towardsdatascience.com/introducing-pdpbox-2aa820afd312"
   ]
  },
  {
   "cell_type": "code",
   "execution_count": null,
   "metadata": {},
   "outputs": [],
   "source": []
  },
  {
   "cell_type": "markdown",
   "metadata": {},
   "source": [
    "### Survival Analysis"
   ]
  },
  {
   "cell_type": "markdown",
   "metadata": {},
   "source": [
    "**KM Curve**"
   ]
  },
  {
   "cell_type": "code",
   "execution_count": null,
   "metadata": {},
   "outputs": [],
   "source": []
  },
  {
   "cell_type": "markdown",
   "metadata": {},
   "source": [
    "**Cox model**\n",
    "- Use same predictors as random forest"
   ]
  },
  {
   "cell_type": "code",
   "execution_count": null,
   "metadata": {},
   "outputs": [],
   "source": []
  }
 ],
 "metadata": {
  "kernelspec": {
   "display_name": "Python 3",
   "language": "python",
   "name": "python3"
  },
  "language_info": {
   "codemirror_mode": {
    "name": "ipython",
    "version": 3
   },
   "file_extension": ".py",
   "mimetype": "text/x-python",
   "name": "python",
   "nbconvert_exporter": "python",
   "pygments_lexer": "ipython3",
   "version": "3.7.4"
  }
 },
 "nbformat": 4,
 "nbformat_minor": 2
}
